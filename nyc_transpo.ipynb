{
  "nbformat": 4,
  "nbformat_minor": 0,
  "metadata": {
    "colab": {
      "name": "NYC LOCAL",
      "version": "0.3.2",
      "provenance": [],
      "collapsed_sections": [
        "sgWxCTIIkg1N"
      ],
      "toc_visible": true,
      "include_colab_link": true
    },
    "language_info": {
      "codemirror_mode": {
        "name": "ipython",
        "version": 3
      },
      "file_extension": ".py",
      "mimetype": "text/x-python",
      "name": "python",
      "nbconvert_exporter": "python",
      "pygments_lexer": "ipython3",
      "version": "3.7.3"
    },
    "kernelspec": {
      "display_name": "Python 3",
      "language": "python",
      "name": "python3"
    },
    "accelerator": "GPU"
  },
  "cells": [
    {
      "cell_type": "markdown",
      "metadata": {
        "id": "view-in-github",
        "colab_type": "text"
      },
      "source": [
        "<a href=\"https://colab.research.google.com/github/dvignoles/nyc-transpo/blob/master/nyc-transpo.ipynb\" target=\"_parent\"><img src=\"https://colab.research.google.com/assets/colab-badge.svg\" alt=\"Open In Colab\"/></a>"
      ]
    },
    {
      "cell_type": "code",
      "metadata": {
        "colab_type": "code",
        "id": "mcFKx7BCp9he",
        "colab": {}
      },
      "source": [
        "import pandas as pd\n",
        "from datetime import datetime, time\n",
        "import numpy as np\n",
        "import requests, zipfile, io, os, re, csv, warnings\n",
        "import matplotlib.pyplot as plt\n",
        "import preprocessing.constants as constants\n",
        "import features.common.zones as zones\n",
        "from IPython.display import clear_output\n",
        "from preprocessing.taxi import get_parsed_df as get_parsed_taxi_df\n",
        "from preprocessing.bike import get_parsed_df as get_parsed_bike_df\n",
        "from preprocessing.common import clean_column_names\n",
        "\n",
        "from sklearn.model_selection import train_test_split\n",
        "from sklearn import linear_model\n",
        "import statsmodels.api as sm\n",
        "\n",
        "\n",
        "# Ignore the warnings about storing incompatible data types HDFStore\n",
        "warnings.filterwarnings('ignore',category=pd.io.pytables.PerformanceWarning)"
      ],
      "execution_count": 0,
      "outputs": []
    },
    {
      "cell_type": "markdown",
      "metadata": {
        "colab_type": "text",
        "id": "B4ttmHZI_vQj"
      },
      "source": [
        "# Dataframe Loading/Cleaning/Features"
      ]
    },
    {
      "cell_type": "markdown",
      "metadata": {
        "colab_type": "text",
        "id": "h51LOsJZzCaB"
      },
      "source": [
        "## Taxi Data\n",
        "Since these downloads take a long time, do NOT reset all run times if you are not on localhost when it asks you to! It will wipe all downloaded files, and you'll have to download them again!\n",
        "\n",
        "Note that the features are added in here as well for efficiency."
      ]
    },
    {
      "cell_type": "code",
      "metadata": {
        "colab_type": "code",
        "id": "mySR4u3Ua6S-",
        "colab": {}
      },
      "source": [
        "taxi_store = pd.HDFStore(constants.TAXI_DATA_PATH + '/dataframes.h5')"
      ],
      "execution_count": 0,
      "outputs": []
    },
    {
      "cell_type": "code",
      "metadata": {
        "colab_type": "code",
        "id": "kVWTH7MhapUn",
        "colab": {}
      },
      "source": [
        "# IGNORE MEMORY LIMIT WARNINGS! The data is garbage collected every time the function exits for each year.\n",
        "\n",
        "df_taxi_2013 = get_parsed_taxi_df(\"2013\", taxi_store).sort_values(by='pickup_datetime', kind='mergesort')\n",
        "df_taxi_2014 = get_parsed_taxi_df(\"2014\", taxi_store).sort_values(by='pickup_datetime', kind='mergesort')\n",
        "df_taxi_2015 = get_parsed_taxi_df(\"2015\", taxi_store).sort_values(by='pickup_datetime', kind='mergesort')\n",
        "df_taxi_2016 = get_parsed_taxi_df(\"2016\", taxi_store).sort_values(by='pickup_datetime', kind='mergesort')\n",
        "df_taxi_2017 = get_parsed_taxi_df(\"2017\", taxi_store).sort_values(by='pickup_datetime', kind='mergesort')\n",
        "df_taxi_2018 = get_parsed_taxi_df(\"2018\", taxi_store).sort_values(by='pickup_datetime', kind='mergesort')\n",
        "df_taxi_all = [df_taxi_2013, df_taxi_2014, df_taxi_2015, df_taxi_2016, df_taxi_2017, df_taxi_2018]\n",
        "\n",
        "clear_output()"
      ],
      "execution_count": 0,
      "outputs": []
    },
    {
      "cell_type": "code",
      "metadata": {
        "colab_type": "code",
        "id": "HwX57hpHkZ4k",
        "colab": {}
      },
      "source": [
        "# Just like an open file, it must be closed to release the file lock.\n",
        "taxi_store.close()"
      ],
      "execution_count": 0,
      "outputs": []
    },
    {
      "cell_type": "markdown",
      "metadata": {
        "colab_type": "text",
        "id": "G8tvoelD_zZ6"
      },
      "source": [
        "## Citi Bike Data\n",
        "Note that the features are added in here as well for efficiency."
      ]
    },
    {
      "cell_type": "code",
      "metadata": {
        "id": "X1AB1t_n6ACC",
        "colab_type": "code",
        "colab": {}
      },
      "source": [
        "bike_store = pd.HDFStore(constants.BIKE_DATA_PATH + '/dataframes.h5')"
      ],
      "execution_count": 0,
      "outputs": []
    },
    {
      "cell_type": "code",
      "metadata": {
        "colab_type": "code",
        "id": "vCP7pOzX-ghZ",
        "colab": {}
      },
      "source": [
        "df_bike_2013 = get_parsed_bike_df('2013', bike_store)\n",
        "df_bike_2014 = get_parsed_bike_df('2014', bike_store)\n",
        "df_bike_2015 = get_parsed_bike_df('2015', bike_store)\n",
        "df_bike_2016 = get_parsed_bike_df('2016', bike_store)\n",
        "df_bike_2017 = get_parsed_bike_df('2017', bike_store)\n",
        "df_bike_2018 = get_parsed_bike_df('2018', bike_store)\n",
        "df_bike_all = [df_bike_2013, df_bike_2014, df_bike_2015, df_bike_2016, df_bike_2017, df_bike_2018]\n",
        "\n",
        "clear_output()"
      ],
      "execution_count": 0,
      "outputs": []
    },
    {
      "cell_type": "code",
      "metadata": {
        "colab_type": "code",
        "id": "47xzd3zikVfn",
        "colab": {}
      },
      "source": [
        "bike_store.close()"
      ],
      "execution_count": 0,
      "outputs": []
    },
    {
      "cell_type": "markdown",
      "metadata": {
        "colab_type": "text",
        "id": "DXIWTCDOVGa2"
      },
      "source": [
        "## Features Not Yet Migrated\n",
        "This still needs to be moved to the external py files of `features/bike.py` and `features/taxi.py` file - optimizations can be done first before moving it, perhaps?"
      ]
    },
    {
      "cell_type": "markdown",
      "metadata": {
        "colab_type": "text",
        "id": "zDeKqW09yw7j"
      },
      "source": [
        "### Zones / Neighborhoods\n",
        "Define NYC taxi zone as a feature for all df"
      ]
    },
    {
      "cell_type": "code",
      "metadata": {
        "id": "D7Z17CM48HEb",
        "colab_type": "code",
        "colab": {}
      },
      "source": [
        "#attempt at adding zone_from_to to 2017 and 2018 taxi dataframes.  Results in a high # of nan vals?\n",
        "\n",
        "def from_to_zid(from_id, to_id):\n",
        "    try:\n",
        "        return zones.ZONES_DIC[str(float(from_id))].name + ' to ' + zones.ZONES_DIC[str(float(to_id))].name\n",
        "    except:\n",
        "        return np.nan\n",
        "\n",
        "def add_zones(df):\n",
        "    df['zone_from'] = df['PULocationID']\n",
        "    df['zone_to'] = df['DOLocationID']\n",
        "    # df['zone_from_to'] = np.vectorize(from_to_zid)(df.zone_from, df.zone_to)\n",
        "\n",
        "for df in [df_taxi_2017, df_taxi_2018]:\n",
        "    add_zones(df)\n",
        "    df.dropna(subset=['zone_from', 'zone_to'], inplace=True)\n"
      ],
      "execution_count": 0,
      "outputs": []
    },
    {
      "cell_type": "markdown",
      "metadata": {
        "colab_type": "text",
        "id": "PeEbff7BkUD8"
      },
      "source": [
        "# Analysis"
      ]
    },
    {
      "cell_type": "markdown",
      "metadata": {
        "colab_type": "text",
        "id": "sgWxCTIIkg1N"
      },
      "source": [
        "## Exploratory Data Analysis"
      ]
    },
    {
      "cell_type": "markdown",
      "metadata": {
        "colab_type": "text",
        "id": "Qub8pm4iU99p"
      },
      "source": [
        "### Trip Distance"
      ]
    },
    {
      "cell_type": "code",
      "metadata": {
        "colab_type": "code",
        "id": "KnrQQUV8U99x",
        "outputId": "c2d0a1f5-999c-405c-f566-7d151266a78a",
        "colab": {
          "base_uri": "https://localhost:8080/",
          "height": 0
        }
      },
      "source": [
        "# df_taxi_2015 contains some weirdly high trip distance outliers.\n",
        "\n",
        "df_taxi_2015[df_taxi_2015.trip_distance > 500].count()"
      ],
      "execution_count": 10,
      "outputs": [
        {
          "output_type": "execute_result",
          "data": {
            "text/plain": [
              "VendorID                 21\n",
              "pickup_datetime          21\n",
              "dropoff_datetime         21\n",
              "passenger_count          21\n",
              "trip_distance            21\n",
              "pickup_longitude         21\n",
              "pickup_latitude          21\n",
              "RateCodeID               21\n",
              "store_and_fwd_flag       21\n",
              "dropoff_longitude        21\n",
              "dropoff_latitude         21\n",
              "payment_type             21\n",
              "fare_amount              21\n",
              "extra                    21\n",
              "mta_tax                  21\n",
              "tip_amount               21\n",
              "tolls_amount             21\n",
              "improvement_surcharge    21\n",
              "total_amount             21\n",
              "tripduration             21\n",
              "zone_from                21\n",
              "zone_to                  21\n",
              "zone_from_to             21\n",
              "day                      21\n",
              "dtype: int64"
            ]
          },
          "metadata": {
            "tags": []
          },
          "execution_count": 10
        }
      ]
    },
    {
      "cell_type": "code",
      "metadata": {
        "colab_type": "code",
        "id": "nTcNSgmzU997",
        "outputId": "3cafde04-cbec-4d1a-8e3d-6e241cde6fcd",
        "colab": {
          "base_uri": "https://localhost:8080/",
          "height": 0
        }
      },
      "source": [
        "avg_trip_distance_bike = pd.DataFrame(\n",
        "    {'Year': constants.YEARS,\n",
        "     'Average Distance': [\n",
        "         df_bike_2013.trip_distance.mean(),\n",
        "         df_bike_2014.trip_distance.mean(),\n",
        "         df_bike_2015.trip_distance.mean(),\n",
        "         df_bike_2016.trip_distance.mean(),\n",
        "         df_bike_2017.trip_distance.mean(),\n",
        "         df_bike_2018.trip_distance.mean()\n",
        "     ]})\n",
        "\n",
        "print('bike mean: ',np.mean([df_bike_2013.trip_distance.mean(),\n",
        "         df_bike_2014.trip_distance.mean(),\n",
        "         df_bike_2015.trip_distance.mean(),\n",
        "         df_bike_2016.trip_distance.mean(),\n",
        "         df_bike_2017.trip_distance.mean(),\n",
        "         df_bike_2018.trip_distance.mean()]))\n",
        "\n",
        "avg_trip_distance_taxi = pd.DataFrame(\n",
        "    {'Year': constants.YEARS,\n",
        "     'Average Distance': [\n",
        "         df_taxi_2013.trip_distance.mean(),\n",
        "         df_taxi_2014.trip_distance.mean(),\n",
        "         df_taxi_2015[df_taxi_2015.trip_distance < 500].trip_distance.mean(), # remove weirdly high trip distances...\n",
        "         df_taxi_2016.trip_distance.mean(),\n",
        "         df_taxi_2017.trip_distance.mean(),\n",
        "         df_taxi_2018.trip_distance.mean()\n",
        "     ]})\n",
        "\n",
        "print('taxi mean: ',np.mean([df_taxi_2013.trip_distance.mean(),\n",
        "         df_taxi_2014.trip_distance.mean(),\n",
        "         df_taxi_2015[df_taxi_2015.trip_distance < 500].trip_distance.mean(), # remove weirdly high trip distances...\n",
        "         df_taxi_2016.trip_distance.mean(),\n",
        "         df_taxi_2017.trip_distance.mean(),\n",
        "         df_taxi_2018.trip_distance.mean()]))\n",
        "\n",
        "avg_trip_distance_taxi.plot(\n",
        "    kind='line', x='Year', y='Average Distance', title='First Week of June Average Taxi Trip Distance (miles)', color='orange')\n",
        "avg_trip_distance_bike.plot(\n",
        "    kind='line', x='Year', y='Average Distance', title='First Week of June Average Bike Trip Distance (miles)', color='lightblue')\n",
        "\n",
        "_ = avg_trip_distance_taxi.plot(\n",
        "    kind='line', x='Year', y='Average Distance', title='First Week of June Average Trip Distance (miles)', color='orange')\n",
        "avg_trip_distance_bike.plot(\n",
        "    kind='line', x='Year', y='Average Distance', title='First Week of June Average Trip Distance (miles)', ax=_, color='lightblue')\n",
        "_.legend(['Taxi trip distance', 'Bike trip distance'])"
      ],
      "execution_count": 11,
      "outputs": [
        {
          "output_type": "stream",
          "text": [
            "bike mean:  1.1761152183959844\n",
            "taxi mean:  2.9688122\n"
          ],
          "name": "stdout"
        },
        {
          "output_type": "execute_result",
          "data": {
            "text/plain": [
              "<matplotlib.legend.Legend at 0x7f1824211828>"
            ]
          },
          "metadata": {
            "tags": []
          },
          "execution_count": 11
        },
        {
          "output_type": "display_data",
          "data": {
            "text/plain": [
              "<Figure size 432x288 with 1 Axes>"
            ],
            "image/png": "[encoded data removed]"
          },
          "metadata": {
            "tags": [],
            "needs_background": "light"
          }
        },
        {
          "output_type": "display_data",
          "data": {
            "text/plain": [
              "<Figure size 432x288 with 1 Axes>"
            ],
            "image/png": "[encoded data removed]"
          },
          "metadata": {
            "tags": [],
            "needs_background": "light"
          }
        },
        {
          "output_type": "display_data",
          "data": {
            "text/plain": [
              "<Figure size 432x288 with 1 Axes>"
            ],
            "image/png": "[encoded data removed]"
          },
          "metadata": {
            "tags": [],
            "needs_background": "light"
          }
        }
      ]
    },
    {
      "cell_type": "code",
      "metadata": {
        "colab_type": "code",
        "id": "ZR_w6xm-ea2D",
        "colab": {}
      },
      "source": [
        "# Using .loc everywhere here to try to remove the SettingsWithCopyWarning, but still happens unfortunately. No idea how to fix\n",
        "day_func = lambda date: int(date.strftime('%d'))\n",
        "df_taxi_2013.loc[:,'day'] = df_taxi_2013.loc[:,'pickup_datetime'].map(day_func)\n",
        "df_taxi_2014.loc[:,'day'] = df_taxi_2014.loc[:,'pickup_datetime'].map(day_func)\n",
        "df_taxi_2015.loc[:,'day'] = df_taxi_2015.loc[:,'pickup_datetime'].map(day_func)\n",
        "df_taxi_2016.loc[:,'day'] = df_taxi_2016.loc[:,'pickup_datetime'].map(day_func)\n",
        "df_taxi_2017.loc[:,'day'] = df_taxi_2017.loc[:,'pickup_datetime'].map(day_func)\n",
        "df_taxi_2018.loc[:,'day'] = df_taxi_2018.loc[:,'pickup_datetime'].map(day_func)\n",
        "\n",
        "df_bike_2013.loc[:,'day'] = df_bike_2013.loc[:,'starttime'].map(day_func)\n",
        "df_bike_2014.loc[:,'day'] = df_bike_2014.loc[:,'starttime'].map(day_func)\n",
        "df_bike_2015.loc[:,'day'] = df_bike_2015.loc[:,'starttime'].map(day_func)\n",
        "df_bike_2016.loc[:,'day'] = df_bike_2016.loc[:,'starttime'].map(day_func)\n",
        "df_bike_2017.loc[:,'day'] = df_bike_2017.loc[:,'starttime'].map(day_func)\n",
        "df_bike_2018.loc[:,'day'] = df_bike_2018.loc[:,'starttime'].map(day_func)\n"
      ],
      "execution_count": 0,
      "outputs": []
    },
    {
      "cell_type": "markdown",
      "metadata": {
        "colab_type": "text",
        "id": "5rJI-LOCU9-X"
      },
      "source": [
        "### Trip Duration"
      ]
    },
    {
      "cell_type": "code",
      "metadata": {
        "colab_type": "code",
        "id": "xFZw3J33bTb0",
        "outputId": "4a6b7a04-b963-4ea2-a532-a10e1ad75e10",
        "colab": {
          "base_uri": "https://localhost:8080/",
          "height": 0
        }
      },
      "source": [
        "# Create average trip duration dataframes and plot\n",
        "\n",
        "avg_trip_duration_bike = pd.DataFrame(\n",
        "    {'Year': constants.YEARS, \n",
        "     'Average': [\n",
        "        df_bike_2013.tripduration.mean(),\n",
        "        df_bike_2014.tripduration.mean(),\n",
        "        df_bike_2015.tripduration.mean(),\n",
        "        df_bike_2016.tripduration.mean(),\n",
        "        df_bike_2017.tripduration.mean(),\n",
        "        df_bike_2018.tripduration.mean()] \n",
        "    })\n",
        "print('bike trip duration mean: ',np.mean([\n",
        "        df_bike_2013.tripduration.mean(),\n",
        "        df_bike_2014.tripduration.mean(),\n",
        "        df_bike_2015.tripduration.mean(),\n",
        "        df_bike_2016.tripduration.mean(),\n",
        "        df_bike_2017.tripduration.mean(),\n",
        "        df_bike_2018.tripduration.mean()] ))\n",
        "\n",
        "avg_trip_duration_taxi = pd.DataFrame(\n",
        "    {'Year': constants.YEARS,\n",
        "     'Average': [\n",
        "         df_taxi_2013.tripduration.mean(),\n",
        "         df_taxi_2014.tripduration.mean(),\n",
        "         df_taxi_2015.tripduration.mean(),\n",
        "         df_taxi_2016.tripduration.mean(),\n",
        "         df_taxi_2017.tripduration.mean(),\n",
        "         df_taxi_2018.tripduration.mean()]\n",
        "    })\n",
        "\n",
        "print('taxi trip duration mean:', np.mean([\n",
        "         df_taxi_2013.tripduration.mean(),\n",
        "         df_taxi_2014.tripduration.mean(),\n",
        "         df_taxi_2015.tripduration.mean(),\n",
        "         df_taxi_2016.tripduration.mean(),\n",
        "         df_taxi_2017.tripduration.mean(),\n",
        "         df_taxi_2018.tripduration.mean()]))\n",
        "\n",
        "avg_trip_duration_taxi.plot(\n",
        "    kind='line', x='Year', y='Average', title='First Week of June Average Taxi Trip Duration (seconds)', color='orange')\n",
        "\n",
        "avg_trip_duration_bike.plot(\n",
        "    kind='line', x='Year', y='Average', title='First Week of June Average Bike Trip Duration (seconds)', color='lightblue')\n",
        "\n",
        "_ = avg_trip_duration_taxi.plot(\n",
        "    kind='line', x='Year', y='Average', title='First Week of June Average Trip Duration (seconds)', color='orange')\n",
        "avg_trip_duration_bike.plot(\n",
        "    kind='line', x='Year', y='Average', title='First Week of June Average Trip Duration (seconds)', ax=_, color='lightblue')\n",
        "_.legend(['Taxi trip duration', 'Bike trip duration'])\n",
        "\n",
        "\n",
        "#fig.savefig('trip_duration.jpg')"
      ],
      "execution_count": 13,
      "outputs": [
        {
          "output_type": "stream",
          "text": [
            "bike trip duration mean:  1213.1575192188793\n",
            "taxi trip duration mean: 930.5617465112632\n"
          ],
          "name": "stdout"
        },
        {
          "output_type": "execute_result",
          "data": {
            "text/plain": [
              "<matplotlib.legend.Legend at 0x7f181c78e438>"
            ]
          },
          "metadata": {
            "tags": []
          },
          "execution_count": 13
        },
        {
          "output_type": "display_data",
          "data": {
            "text/plain": [
              "<Figure size 432x288 with 1 Axes>"
            ],
            "image/png": "[encoded data removed]"
          },
          "metadata": {
            "tags": [],
            "needs_background": "light"
          }
        },
        {
          "output_type": "display_data",
          "data": {
            "text/plain": [
              "<Figure size 432x288 with 1 Axes>"
            ],
            "image/png": "[encoded data removed]"
          },
          "metadata": {
            "tags": [],
            "needs_background": "light"
          }
        },
        {
          "output_type": "display_data",
          "data": {
            "text/plain": [
              "<Figure size 432x288 with 1 Axes>"
            ],
            "image/png": "[encoded data removed]"
          },
          "metadata": {
            "tags": [],
            "needs_background": "light"
          }
        }
      ]
    },
    {
      "cell_type": "code",
      "metadata": {
        "colab_type": "code",
        "id": "IzONPNM3U9-u",
        "outputId": "97031e0a-dea7-4e15-fc5d-278ecda4d0ba",
        "colab": {
          "base_uri": "https://localhost:8080/",
          "height": 0
        }
      },
      "source": [
        "# quick scatter plot--exposes some weird outliers.  \n",
        "# CitiBike has some >1000 hour trips\n",
        "# Cabs have some negative time durations\n",
        "\n",
        "df_bike_2013.reset_index().plot(kind='scatter', x='index', y='tripduration')\n",
        "\n",
        "df_taxi_2013.reset_index().plot(kind='scatter', x='index', y='tripduration')"
      ],
      "execution_count": 14,
      "outputs": [
        {
          "output_type": "execute_result",
          "data": {
            "text/plain": [
              "<matplotlib.axes._subplots.AxesSubplot at 0x7f1819d8d908>"
            ]
          },
          "metadata": {
            "tags": []
          },
          "execution_count": 14
        },
        {
          "output_type": "display_data",
          "data": {
            "text/plain": [
              "<Figure size 432x288 with 1 Axes>"
            ],
            "image/png": "[encoded data removed]"
          },
          "metadata": {
            "tags": [],
            "needs_background": "light"
          }
        },
        {
          "output_type": "display_data",
          "data": {
            "text/plain": [
              "<Figure size 432x288 with 1 Axes>"
            ],
            "image/png": "[encoded data removed]"
          },
          "metadata": {
            "tags": [],
            "needs_background": "light"
          }
        }
      ]
    },
    {
      "cell_type": "markdown",
      "metadata": {
        "colab_type": "text",
        "id": "X-YU1sHYU9-6"
      },
      "source": [
        "### CitiBike rider age"
      ]
    },
    {
      "cell_type": "code",
      "metadata": {
        "colab_type": "code",
        "id": "YL_3HdLtbTb6",
        "outputId": "a75375ac-678d-4f47-b129-4a35b652617c",
        "colab": {
          "base_uri": "https://localhost:8080/",
          "height": 0
        }
      },
      "source": [
        "# had to avoid 2014 here, as there are some issues with the birthdate field in that dataframe. Will clean.\n",
        "# yo people in their 40s love citibikes\n",
        "\n",
        "citi_avg_age = []\n",
        "\n",
        "citi_avg_age.append(df_bike_2013[\"birth_year\"].mean())\n",
        "citi_avg_age.append(\"NaN\")\n",
        "citi_avg_age.append(df_bike_2015[\"birth_year\"].mean())\n",
        "citi_avg_age.append(df_bike_2016[\"birth_year\"].mean())\n",
        "citi_avg_age.append(df_bike_2017[\"birth_year\"].mean())\n",
        "citi_avg_age.append(df_bike_2018[\"birth_year\"].mean())\n",
        "\n",
        "print(citi_avg_age)"
      ],
      "execution_count": 15,
      "outputs": [
        {
          "output_type": "stream",
          "text": [
            "[1973.7346403885192, 'NaN', 1976.2964147385587, 1977.4734698585012, 1978.7017023726657, 1978.711190433857]\n"
          ],
          "name": "stdout"
        }
      ]
    },
    {
      "cell_type": "markdown",
      "metadata": {
        "colab_type": "text",
        "id": "KlPWbRdhkdMP"
      },
      "source": [
        "### Number of Trips"
      ]
    },
    {
      "cell_type": "code",
      "metadata": {
        "colab_type": "code",
        "id": "b6yCa97IocgN",
        "outputId": "56c0485b-30b3-4299-fc02-84ba7874724b",
        "colab": {
          "base_uri": "https://localhost:8080/",
          "height": 0
        }
      },
      "source": [
        "df_bike_2013.tail(5)"
      ],
      "execution_count": 16,
      "outputs": [
        {
          "output_type": "execute_result",
          "data": {
            "text/plain": [
              "       tripduration           starttime            stoptime  start_station_id  \\\n",
              "74788           176 2013-06-05 08:41:29 2013-06-05 08:44:25             376.0   \n",
              "74789          2258 2013-06-05 16:33:41 2013-06-05 17:11:19             376.0   \n",
              "74790           802 2013-06-05 18:13:02 2013-06-05 18:26:24             376.0   \n",
              "74791          9104 2013-06-05 18:30:34 2013-06-05 21:02:18             376.0   \n",
              "74792          3999 2013-06-06 06:43:00 2013-06-06 07:49:39             376.0   \n",
              "\n",
              "         start_station_name  start_station_latitude  start_station_longitude  \\\n",
              "74788  John St & William St               40.708622               -74.007225   \n",
              "74789  John St & William St               40.708622               -74.007225   \n",
              "74790  John St & William St               40.708622               -74.007225   \n",
              "74791  John St & William St               40.708622               -74.007225   \n",
              "74792  John St & William St               40.708622               -74.007225   \n",
              "\n",
              "       end_station_id      end_station_name  end_station_latitude  \\\n",
              "74788           376.0  John St & William St             40.708622   \n",
              "74789           376.0  John St & William St             40.708622   \n",
              "74790           376.0  John St & William St             40.708622   \n",
              "74791           376.0  John St & William St             40.708622   \n",
              "74792           376.0  John St & William St             40.708622   \n",
              "\n",
              "       end_station_longitude  bikeid    usertype  birth_year  gender  \\\n",
              "74788             -74.007225   17000  Subscriber      1985.0       2   \n",
              "74789             -74.007225   18283  Subscriber      1976.0       1   \n",
              "74790             -74.007225   16131  Subscriber      1980.0       1   \n",
              "74791             -74.007225   20052  Subscriber      1975.0       1   \n",
              "74792             -74.007225   20005  Subscriber      1961.0       1   \n",
              "\n",
              "       trip_distance  zone_from  zone_to  \\\n",
              "74788            0.0       87.0     87.0   \n",
              "74789            0.0       87.0     87.0   \n",
              "74790            0.0       87.0     87.0   \n",
              "74791            0.0       87.0     87.0   \n",
              "74792            0.0       87.0     87.0   \n",
              "\n",
              "                                            zone_from_to  day  \n",
              "74788  Financial District North to Financial District...    5  \n",
              "74789  Financial District North to Financial District...    5  \n",
              "74790  Financial District North to Financial District...    5  \n",
              "74791  Financial District North to Financial District...    5  \n",
              "74792  Financial District North to Financial District...    6  "
            ],
            "text/html": [
              "<div>\n",
              "<style scoped>\n",
              "    .dataframe tbody tr th:only-of-type {\n",
              "        vertical-align: middle;\n",
              "    }\n",
              "\n",
              "    .dataframe tbody tr th {\n",
              "        vertical-align: top;\n",
              "    }\n",
              "\n",
              "    .dataframe thead th {\n",
              "        text-align: right;\n",
              "    }\n",
              "</style>\n",
              "<table border=\"1\" class=\"dataframe\">\n",
              "  <thead>\n",
              "    <tr style=\"text-align: right;\">\n",
              "      <th></th>\n",
              "      <th>tripduration</th>\n",
              "      <th>starttime</th>\n",
              "      <th>stoptime</th>\n",
              "      <th>start_station_id</th>\n",
              "      <th>start_station_name</th>\n",
              "      <th>start_station_latitude</th>\n",
              "      <th>start_station_longitude</th>\n",
              "      <th>end_station_id</th>\n",
              "      <th>end_station_name</th>\n",
              "      <th>end_station_latitude</th>\n",
              "      <th>end_station_longitude</th>\n",
              "      <th>bikeid</th>\n",
              "      <th>usertype</th>\n",
              "      <th>birth_year</th>\n",
              "      <th>gender</th>\n",
              "      <th>trip_distance</th>\n",
              "      <th>zone_from</th>\n",
              "      <th>zone_to</th>\n",
              "      <th>zone_from_to</th>\n",
              "      <th>day</th>\n",
              "    </tr>\n",
              "  </thead>\n",
              "  <tbody>\n",
              "    <tr>\n",
              "      <th>74788</th>\n",
              "      <td>176</td>\n",
              "      <td>2013-06-05 08:41:29</td>\n",
              "      <td>2013-06-05 08:44:25</td>\n",
              "      <td>376.0</td>\n",
              "      <td>John St &amp; William St</td>\n",
              "      <td>40.708622</td>\n",
              "      <td>-74.007225</td>\n",
              "      <td>376.0</td>\n",
              "      <td>John St &amp; William St</td>\n",
              "      <td>40.708622</td>\n",
              "      <td>-74.007225</td>\n",
              "      <td>17000</td>\n",
              "      <td>Subscriber</td>\n",
              "      <td>1985.0</td>\n",
              "      <td>2</td>\n",
              "      <td>0.0</td>\n",
              "      <td>87.0</td>\n",
              "      <td>87.0</td>\n",
              "      <td>Financial District North to Financial District...</td>\n",
              "      <td>5</td>\n",
              "    </tr>\n",
              "    <tr>\n",
              "      <th>74789</th>\n",
              "      <td>2258</td>\n",
              "      <td>2013-06-05 16:33:41</td>\n",
              "      <td>2013-06-05 17:11:19</td>\n",
              "      <td>376.0</td>\n",
              "      <td>John St &amp; William St</td>\n",
              "      <td>40.708622</td>\n",
              "      <td>-74.007225</td>\n",
              "      <td>376.0</td>\n",
              "      <td>John St &amp; William St</td>\n",
              "      <td>40.708622</td>\n",
              "      <td>-74.007225</td>\n",
              "      <td>18283</td>\n",
              "      <td>Subscriber</td>\n",
              "      <td>1976.0</td>\n",
              "      <td>1</td>\n",
              "      <td>0.0</td>\n",
              "      <td>87.0</td>\n",
              "      <td>87.0</td>\n",
              "      <td>Financial District North to Financial District...</td>\n",
              "      <td>5</td>\n",
              "    </tr>\n",
              "    <tr>\n",
              "      <th>74790</th>\n",
              "      <td>802</td>\n",
              "      <td>2013-06-05 18:13:02</td>\n",
              "      <td>2013-06-05 18:26:24</td>\n",
              "      <td>376.0</td>\n",
              "      <td>John St &amp; William St</td>\n",
              "      <td>40.708622</td>\n",
              "      <td>-74.007225</td>\n",
              "      <td>376.0</td>\n",
              "      <td>John St &amp; William St</td>\n",
              "      <td>40.708622</td>\n",
              "      <td>-74.007225</td>\n",
              "      <td>16131</td>\n",
              "      <td>Subscriber</td>\n",
              "      <td>1980.0</td>\n",
              "      <td>1</td>\n",
              "      <td>0.0</td>\n",
              "      <td>87.0</td>\n",
              "      <td>87.0</td>\n",
              "      <td>Financial District North to Financial District...</td>\n",
              "      <td>5</td>\n",
              "    </tr>\n",
              "    <tr>\n",
              "      <th>74791</th>\n",
              "      <td>9104</td>\n",
              "      <td>2013-06-05 18:30:34</td>\n",
              "      <td>2013-06-05 21:02:18</td>\n",
              "      <td>376.0</td>\n",
              "      <td>John St &amp; William St</td>\n",
              "      <td>40.708622</td>\n",
              "      <td>-74.007225</td>\n",
              "      <td>376.0</td>\n",
              "      <td>John St &amp; William St</td>\n",
              "      <td>40.708622</td>\n",
              "      <td>-74.007225</td>\n",
              "      <td>20052</td>\n",
              "      <td>Subscriber</td>\n",
              "      <td>1975.0</td>\n",
              "      <td>1</td>\n",
              "      <td>0.0</td>\n",
              "      <td>87.0</td>\n",
              "      <td>87.0</td>\n",
              "      <td>Financial District North to Financial District...</td>\n",
              "      <td>5</td>\n",
              "    </tr>\n",
              "    <tr>\n",
              "      <th>74792</th>\n",
              "      <td>3999</td>\n",
              "      <td>2013-06-06 06:43:00</td>\n",
              "      <td>2013-06-06 07:49:39</td>\n",
              "      <td>376.0</td>\n",
              "      <td>John St &amp; William St</td>\n",
              "      <td>40.708622</td>\n",
              "      <td>-74.007225</td>\n",
              "      <td>376.0</td>\n",
              "      <td>John St &amp; William St</td>\n",
              "      <td>40.708622</td>\n",
              "      <td>-74.007225</td>\n",
              "      <td>20005</td>\n",
              "      <td>Subscriber</td>\n",
              "      <td>1961.0</td>\n",
              "      <td>1</td>\n",
              "      <td>0.0</td>\n",
              "      <td>87.0</td>\n",
              "      <td>87.0</td>\n",
              "      <td>Financial District North to Financial District...</td>\n",
              "      <td>6</td>\n",
              "    </tr>\n",
              "  </tbody>\n",
              "</table>\n",
              "</div>"
            ]
          },
          "metadata": {
            "tags": []
          },
          "execution_count": 16
        }
      ]
    },
    {
      "cell_type": "code",
      "metadata": {
        "colab_type": "code",
        "id": "RO6J8C_jkcfX",
        "outputId": "2b9f9029-4593-4d9f-d3e1-2b23715a0517",
        "colab": {
          "base_uri": "https://localhost:8080/",
          "height": 0
        }
      },
      "source": [
        "first_plot = df_taxi_2013.groupby(by='day').size().reset_index(name='counts').plot(kind='line', x='day', y='counts', title='2013 First Week of June Taxi Trip Counts', color='orange')\n",
        "df_bike_2013.groupby(by='day').size().reset_index(name='counts').plot(kind='line', x='day', y='counts', title='2013 First Week of June Citi Bike Trip Counts', ax=first_plot, color='lightblue')\n",
        "first_plot.legend(['Taxi trip count', 'Citi Bike trip counts'])\n",
        "\n",
        "first_plot = df_taxi_2015.groupby(by='day').size().reset_index(name='counts').plot(kind='line', x='day', y='counts', title='2015 First Week of June Taxi Trip Counts', color='orange')\n",
        "df_bike_2015.groupby(by='day').size().reset_index(name='counts').plot(kind='line', x='day', y='counts', title='2015 First Week of June Citi Bike Trip Counts', ax=first_plot, color='lightblue')\n",
        "first_plot.legend(['Taxi trip count', 'Citi Bike trip counts'])\n",
        "\n",
        "first_plot = df_taxi_2018.groupby(by='day').size().reset_index(name='counts').plot(kind='line', x='day', y='counts', title='2018 First Week of June Taxi Trip Counts', color='orange')\n",
        "df_bike_2018.groupby(by='day').size().reset_index(name='counts').plot(kind='line', x='day', y='counts', title='2018 First Week of June Citi Bike Trip Counts', ax=first_plot, color='lightblue')\n",
        "first_plot.legend(['Taxi trip count', 'Citi Bike trip counts'])"
      ],
      "execution_count": 17,
      "outputs": [
        {
          "output_type": "execute_result",
          "data": {
            "text/plain": [
              "<matplotlib.legend.Legend at 0x7f1819c8eb00>"
            ]
          },
          "metadata": {
            "tags": []
          },
          "execution_count": 17
        },
        {
          "output_type": "display_data",
          "data": {
            "text/plain": [
              "<Figure size 432x288 with 1 Axes>"
            ],
            "image/png": "[encoded data removed]"
          },
          "metadata": {
            "tags": [],
            "needs_background": "light"
          }
        },
        {
          "output_type": "display_data",
          "data": {
            "text/plain": [
              "<Figure size 432x288 with 1 Axes>"
            ],
            "image/png": "[encoded data removed]"
          },
          "metadata": {
            "tags": [],
            "needs_background": "light"
          }
        },
        {
          "output_type": "display_data",
          "data": {
            "text/plain": [
              "<Figure size 432x288 with 1 Axes>"
            ],
            "image/png": "[encoded data removed]"
          },
          "metadata": {
            "tags": [],
            "needs_background": "light"
          }
        }
      ]
    },
    {
      "cell_type": "code",
      "metadata": {
        "colab_type": "code",
        "id": "wLm81wbyknH5",
        "colab": {}
      },
      "source": [
        "# Make new data frames for yearly trip counts, and graph them\n",
        "\n",
        "df_taxi_trip_counts = pd.DataFrame({'Year': constants.YEARS, 'Count': [\n",
        "    df_taxi_2013.groupby(by='day').size().sum(),\n",
        "    df_taxi_2014.groupby(by='day').size().sum(),\n",
        "    df_taxi_2015.groupby(by='day').size().sum(),\n",
        "    df_taxi_2016.groupby(by='day').size().sum(),\n",
        "    df_taxi_2017.groupby(by='day').size().sum(),\n",
        "    df_taxi_2018.groupby(by='day').size().sum(),\n",
        "]})\n",
        "\n",
        "df_bike_trip_counts = pd.DataFrame({'Year': constants.YEARS, 'Count': [\n",
        "    df_bike_2013.groupby(by='day').size().sum(),\n",
        "    df_bike_2014.groupby(by='day').size().sum(),\n",
        "    df_bike_2015.groupby(by='day').size().sum(),\n",
        "    df_bike_2016.groupby(by='day').size().sum(),\n",
        "    df_bike_2017.groupby(by='day').size().sum(),\n",
        "    df_bike_2018.groupby(by='day').size().sum(),\n",
        "]})"
      ],
      "execution_count": 0,
      "outputs": []
    },
    {
      "cell_type": "code",
      "metadata": {
        "colab_type": "code",
        "id": "Jw-tArubptfI",
        "outputId": "28522264-8bb7-462e-e2d5-17d79bd404fd",
        "colab": {
          "base_uri": "https://localhost:8080/",
          "height": 0
        }
      },
      "source": [
        "df_taxi_trip_counts.plot(kind='line', x='Year', y='Count', title='First Week of June Yearly Taxi Trip Counts', color='orange')\n",
        "df_bike_trip_counts.plot(kind='line', x='Year', y='Count', title='First Week of June Yearly Trip Counts', color='lightblue') \n",
        "\n",
        "first_plot = df_taxi_trip_counts.plot(kind='line', x='Year', y='Count', title='First Week of June Yearly Taxi Trip Counts', color='orange')\n",
        "df_bike_trip_counts.plot(kind='line', x='Year', y='Count', title='First Week of June Yearly Trip Counts', ax=first_plot, color='lightblue')\n",
        "first_plot.legend(['Taxi trip count', 'Citi Bike trip count'])"
      ],
      "execution_count": 19,
      "outputs": [
        {
          "output_type": "execute_result",
          "data": {
            "text/plain": [
              "<matplotlib.legend.Legend at 0x7f1819bd24e0>"
            ]
          },
          "metadata": {
            "tags": []
          },
          "execution_count": 19
        },
        {
          "output_type": "display_data",
          "data": {
            "text/plain": [
              "<Figure size 432x288 with 1 Axes>"
            ],
            "image/png": "[encoded data removed]"
          },
          "metadata": {
            "tags": [],
            "needs_background": "light"
          }
        },
        {
          "output_type": "display_data",
          "data": {
            "text/plain": [
              "<Figure size 432x288 with 1 Axes>"
            ],
            "image/png": "[encoded data removed]"
          },
          "metadata": {
            "tags": [],
            "needs_background": "light"
          }
        },
        {
          "output_type": "display_data",
          "data": {
            "text/plain": [
              "<Figure size 432x288 with 1 Axes>"
            ],
            "image/png": "[encoded data removed]"
          },
          "metadata": {
            "tags": [],
            "needs_background": "light"
          }
        }
      ]
    },
    {
      "cell_type": "markdown",
      "metadata": {
        "colab_type": "text",
        "id": "C23YVWucVGcB"
      },
      "source": [
        "#### Popular Routes"
      ]
    },
    {
      "cell_type": "code",
      "metadata": {
        "colab_type": "code",
        "id": "OXMIxyOtVGcC",
        "outputId": "acfe31f8-df7b-4834-8874-78309886f5d2",
        "scrolled": true,
        "colab": {
          "base_uri": "https://localhost:8080/",
          "height": 0
        }
      },
      "source": [
        "print('10 most frequent inter-zone trips by Taxi')\n",
        "df_taxi_2016[df_taxi_2016.zone_from != df_taxi_2016.zone_to].zone_from_to.value_counts()[0:10]"
      ],
      "execution_count": 20,
      "outputs": [
        {
          "output_type": "stream",
          "text": [
            "10 most frequent inter-zone trips by Taxi\n"
          ],
          "name": "stdout"
        },
        {
          "output_type": "execute_result",
          "data": {
            "text/plain": [
              "Central Park to Midtown Center         40256\n",
              "Midtown Center to Central Park         38315\n",
              "Clinton East to Central Park           31024\n",
              "Central Park to Clinton East           27010\n",
              "East Chelsea to Clinton East           24702\n",
              "Lincoln Square East to Central Park    20623\n",
              "Clinton East to East Chelsea           20514\n",
              "Central Park to Midtown East           20486\n",
              "Midtown East to Central Park           20455\n",
              "Clinton East to Midtown Center         19502\n",
              "Name: zone_from_to, dtype: int64"
            ]
          },
          "metadata": {
            "tags": []
          },
          "execution_count": 20
        }
      ]
    },
    {
      "cell_type": "code",
      "metadata": {
        "colab_type": "code",
        "id": "JA3lFxrrVGcE",
        "outputId": "45f9c2e4-b752-49cb-d624-f3fc3a2ffd31",
        "scrolled": true,
        "colab": {
          "base_uri": "https://localhost:8080/",
          "height": 0
        }
      },
      "source": [
        "print('10 most frequent inter-zone trips by Bike')\n",
        "df_bike_2016[df_bike_2016.zone_from != df_bike_2016.zone_to].zone_from_to.value_counts()[0:10]"
      ],
      "execution_count": 21,
      "outputs": [
        {
          "output_type": "stream",
          "text": [
            "10 most frequent inter-zone trips by Bike\n"
          ],
          "name": "stdout"
        },
        {
          "output_type": "execute_result",
          "data": {
            "text/plain": [
              "Clinton East to East Chelsea               3050\n",
              "East Chelsea to Clinton East               2756\n",
              "Central Park to Clinton East               2104\n",
              "Greenwich Village North to East Village    1946\n",
              "East Village to Greenwich Village North    1929\n",
              "Clinton East to Central Park               1833\n",
              "Clinton East to Midtown Center             1817\n",
              "Greenwich Village North to East Chelsea    1814\n",
              "Central Park to Midtown Center             1811\n",
              "East Village to Alphabet City              1763\n",
              "Name: zone_from_to, dtype: int64"
            ]
          },
          "metadata": {
            "tags": []
          },
          "execution_count": 21
        }
      ]
    },
    {
      "cell_type": "code",
      "metadata": {
        "id": "p6IJqFL48HFi",
        "colab_type": "code",
        "outputId": "6b471c60-5d31-4b16-8bf4-80e3a93c42e2",
        "colab": {
          "base_uri": "https://localhost:8080/",
          "height": 0
        }
      },
      "source": [
        "print('10 most frequent trips by Bike')\n",
        "df_bike_2016.zone_from_to.value_counts()[0:10]"
      ],
      "execution_count": 22,
      "outputs": [
        {
          "output_type": "stream",
          "text": [
            "10 most frequent trips by Bike\n"
          ],
          "name": "stdout"
        },
        {
          "output_type": "execute_result",
          "data": {
            "text/plain": [
              "Central Park to Central Park                          12764\n",
              "East Chelsea to East Chelsea                           6972\n",
              "Clinton East to Clinton East                           3859\n",
              "Clinton East to East Chelsea                           3050\n",
              "East Chelsea to Clinton East                           2756\n",
              "East Village to East Village                           2466\n",
              "Brooklyn Heights to Brooklyn Heights                   2109\n",
              "Central Park to Clinton East                           2104\n",
              "Greenwich Village North to Greenwich Village North     2053\n",
              "Greenwich Village North to East Village                1946\n",
              "Name: zone_from_to, dtype: int64"
            ]
          },
          "metadata": {
            "tags": []
          },
          "execution_count": 22
        }
      ]
    },
    {
      "cell_type": "code",
      "metadata": {
        "id": "_gjuJgkw8HFn",
        "colab_type": "code",
        "outputId": "bbc6e531-3a5d-49a5-f94c-e7ce37534487",
        "colab": {
          "base_uri": "https://localhost:8080/",
          "height": 0
        }
      },
      "source": [
        "print('10 most frequent trips by Taxi')\n",
        "df_taxi_2016.zone_from_to.value_counts()[0:10]"
      ],
      "execution_count": 23,
      "outputs": [
        {
          "output_type": "stream",
          "text": [
            "10 most frequent trips by Taxi\n"
          ],
          "name": "stdout"
        },
        {
          "output_type": "execute_result",
          "data": {
            "text/plain": [
              "Central Park to Central Park           233726\n",
              "Central Park to Midtown Center          40256\n",
              "Midtown Center to Central Park          38315\n",
              "East Chelsea to East Chelsea            31784\n",
              "Clinton East to Central Park            31024\n",
              "Central Park to Clinton East            27010\n",
              "East Chelsea to Clinton East            24702\n",
              "Clinton East to Clinton East            24084\n",
              "Lincoln Square East to Central Park     20623\n",
              "Clinton East to East Chelsea            20514\n",
              "Name: zone_from_to, dtype: int64"
            ]
          },
          "metadata": {
            "tags": []
          },
          "execution_count": 23
        }
      ]
    },
    {
      "cell_type": "code",
      "metadata": {
        "colab_type": "code",
        "id": "9S-7XCjKVGcH",
        "outputId": "7202fcb7-b642-4117-c3cd-c4a0c00f82fc",
        "colab": {
          "base_uri": "https://localhost:8080/",
          "height": 0
        }
      },
      "source": [
        "print('Most common trips to Manhattanville (City College) Zone by Taxi 2016\\n')\n",
        "\n",
        "zone_from = df_taxi_2016[df_taxi_2016.zone_to == 152.0].zone_from.value_counts().index[0:10]\n",
        "for zone_id in zone_from:\n",
        "    z = constants.ZONES_DIC[str(zone_id)]\n",
        "    print(z.name,'to Manhattanville')"
      ],
      "execution_count": 24,
      "outputs": [
        {
          "output_type": "stream",
          "text": [
            "Most common trips to Manhattanville (City College) Zone by Taxi 2016\n",
            "\n",
            "Central Park to Manhattanville\n",
            "Bloomingdale to Manhattanville\n",
            "Clinton East to Manhattanville\n",
            "Central Harlem North to Manhattanville\n",
            "Central Harlem to Manhattanville\n",
            "East Chelsea to Manhattanville\n",
            "Manhattanville to Manhattanville\n",
            "Lincoln Square East to Manhattanville\n",
            "East Harlem North to Manhattanville\n",
            "Midtown Center to Manhattanville\n"
          ],
          "name": "stdout"
        }
      ]
    },
    {
      "cell_type": "markdown",
      "metadata": {
        "id": "2CtgQaPL8HFs",
        "colab_type": "text"
      },
      "source": [
        "## REGRESSION CLEANING"
      ]
    },
    {
      "cell_type": "code",
      "metadata": {
        "id": "wVsJOU-2uezV",
        "colab_type": "code",
        "colab": {}
      },
      "source": [
        "times = []\n",
        "for i in range(0, 24):\n",
        "    times.append(time(i, 0, 0))\n",
        "    times.append(time(i, 30, 0))\n",
        "\n",
        "def time_to_val(t):\n",
        "    for index, time in enumerate(times):\n",
        "        if (t < time):\n",
        "            return (index - 1)\n",
        "    return 47"
      ],
      "execution_count": 0,
      "outputs": []
    },
    {
      "cell_type": "code",
      "metadata": {
        "id": "vf7znmwV8HFz",
        "colab_type": "code",
        "colab": {}
      },
      "source": [
        "#extract time from datetime\n",
        "\n",
        "for df in df_bike_all:\n",
        "  df.loc[:,'is_bike'] = 1\n",
        "  df.loc[:,'start_time'] = df['starttime'].apply(lambda x: time_to_val(x.time()))\n",
        "  df.loc[:,'stop_time'] = df['stoptime'].apply(lambda x: time_to_val(x.time()))\n",
        "\n",
        "for df in df_taxi_all:\n",
        "  df.loc[:, 'is_bike'] = 0\n",
        "  df.loc[:,'start_time'] = df['pickup_datetime'].apply(lambda x: time_to_val(x.time()))\n",
        "  df.loc[:,'stop_time'] = df['dropoff_datetime'].apply(lambda x: time_to_val(x.time()))\n"
      ],
      "execution_count": 0,
      "outputs": []
    },
    {
      "cell_type": "code",
      "metadata": {
        "id": "ytRodK_e8HGL",
        "colab_type": "code",
        "colab": {}
      },
      "source": [
        "# concat the two dataframes\n",
        "dfs_2013 = pd.concat([df_taxi_2013, df_bike_2013], sort=True)\n",
        "dfs_2014 = pd.concat([df_taxi_2014, df_bike_2014], sort=True)\n",
        "dfs_2015 = pd.concat([df_taxi_2015, df_bike_2015], sort=True)\n",
        "dfs_2016 = pd.concat([df_taxi_2016, df_bike_2016], sort=True)\n",
        "dfs_2017 = pd.concat([df_taxi_2017, df_bike_2017], sort=True)\n",
        "dfs_2018 = pd.concat([df_taxi_2018, df_bike_2018], sort=True)\n"
      ],
      "execution_count": 0,
      "outputs": []
    },
    {
      "cell_type": "code",
      "metadata": {
        "id": "EI3YlSgkGqAs",
        "colab_type": "code",
        "colab": {}
      },
      "source": [
        "features=['trip_distance', 'start_time', 'stop_time', 'is_bike']\n",
        "target = 'tripduration'\n",
        "df_model = dfs_2018\n",
        "df_model = df_model.loc[(df_model['tripduration'] < 60 * 60) & (df_model['trip_distance'] > 0) & (df_model['tripduration'] > 0)]\n",
        "X = df_model[features]\n",
        "y = df_model[target]\n",
        "\n",
        "X_train, X_test, y_train, y_test = train_test_split(X, y, test_size=0.2, random_state=42)\n"
      ],
      "execution_count": 0,
      "outputs": []
    },
    {
      "cell_type": "code",
      "metadata": {
        "id": "rsFsQAMjGzN9",
        "colab_type": "code",
        "outputId": "5c2fbb6b-f8ed-46c3-844c-425b8877c19e",
        "colab": {
          "base_uri": "https://localhost:8080/",
          "height": 34
        }
      },
      "source": [
        "# with sklearn\n",
        "regr = linear_model.LinearRegression()\n",
        "regr.fit(X_train, y_train)\n",
        "\n",
        "#print('Intercept: \\n', regr.intercept_)\n",
        "#print('Coefficients: \\n', regr.coef_)\n",
        "print(\"R^2: \" + str(regr.score(X_test, y_test)))"
      ],
      "execution_count": 45,
      "outputs": [
        {
          "output_type": "stream",
          "text": [
            "R^2: 0.5505970198045216\n"
          ],
          "name": "stdout"
        }
      ]
    },
    {
      "cell_type": "code",
      "metadata": {
        "id": "qRqAcQqaG8Dw",
        "colab_type": "code",
        "outputId": "acb60be1-785b-4100-c96f-3019d83d3865",
        "colab": {
          "base_uri": "https://localhost:8080/",
          "height": 538
        }
      },
      "source": [
        "# with statsmodels\n",
        "est = sm.OLS(y_train, sm.add_constant(X_train)).fit()\n",
        "\n",
        "print_model = est.summary()\n",
        "print(print_model)"
      ],
      "execution_count": 46,
      "outputs": [
        {
          "output_type": "stream",
          "text": [
            "/home/madmin/.local/lib/python3.6/site-packages/numpy/core/fromnumeric.py:2389: FutureWarning: Method .ptp is deprecated and will be removed in a future version. Use numpy.ptp instead.\n",
            "  return ptp(axis=axis, out=out, **kwargs)\n"
          ],
          "name": "stderr"
        },
        {
          "output_type": "stream",
          "text": [
            "                            OLS Regression Results                            \n",
            "==============================================================================\n",
            "Dep. Variable:           tripduration   R-squared:                       0.526\n",
            "Model:                            OLS   Adj. R-squared:                  0.526\n",
            "Method:                 Least Squares   F-statistic:                 5.532e+05\n",
            "Date:                Tue, 14 May 2019   Prob (F-statistic):               0.00\n",
            "Time:                        17:03:15   Log-Likelihood:            -1.4910e+07\n",
            "No. Observations:             1997061   AIC:                         2.982e+07\n",
            "Df Residuals:                 1997056   BIC:                         2.982e+07\n",
            "Df Model:                           4                                         \n",
            "Covariance Type:            nonrobust                                         \n",
            "=================================================================================\n",
            "                    coef    std err          t      P>|t|      [0.025      0.975]\n",
            "---------------------------------------------------------------------------------\n",
            "const           403.7333      0.830    486.416      0.000     402.106     405.360\n",
            "trip_distance   137.0824      0.092   1484.551      0.000     136.901     137.263\n",
            "start_time       -4.1210      0.071    -58.240      0.000      -4.260      -3.982\n",
            "stop_time         6.2034      0.070     88.905      0.000       6.067       6.340\n",
            "is_bike         190.8200      0.806    236.678      0.000     189.240     192.400\n",
            "==============================================================================\n",
            "Omnibus:                  3688269.660   Durbin-Watson:                   2.001\n",
            "Prob(Omnibus):                  0.000   Jarque-Bera (JB):     872762231597.300\n",
            "Skew:                         -12.077   Prob(JB):                         0.00\n",
            "Kurtosis:                    3241.515   Cond. No.                         130.\n",
            "==============================================================================\n",
            "\n",
            "Warnings:\n",
            "[1] Standard Errors assume that the covariance matrix of the errors is correctly specified.\n"
          ],
          "name": "stdout"
        }
      ]
    },
    {
      "cell_type": "code",
      "metadata": {
        "id": "HsYJ2nAkHpo1",
        "colab_type": "code",
        "colab": {}
      },
      "source": [
        ""
      ],
      "execution_count": 0,
      "outputs": []
    }
  ]
}