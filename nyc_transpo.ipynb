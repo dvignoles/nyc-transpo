{
 "cells": [
  {
   "cell_type": "markdown",
   "metadata": {
    "colab_type": "text",
    "id": "view-in-github"
   },
   "source": [
    "<a href=\"https://colab.research.google.com/github/dvignoles/nyc-transpo/blob/master/nyc_transpo.ipynb\" target=\"_parent\"><img src=\"https://colab.research.google.com/assets/colab-badge.svg\" alt=\"Open In Colab\"/></a>"
   ]
  },
  {
   "cell_type": "code",
   "execution_count": 2,
   "metadata": {
    "colab": {},
    "colab_type": "code",
    "id": "mcFKx7BCp9he"
   },
   "outputs": [],
   "source": [
    "import pandas as pd\n",
    "from datetime import datetime\n",
    "import numpy as np\n",
    "import requests, zipfile, io, os, re, csv\n",
    "import matplotlib.pyplot as plt\n",
    "\n",
    "TAXI_CSV_PATH = \"./taxi_data\"\n",
    "BIKE_CSV_PATH = \"./bike_data\"\n",
    "\n",
    "# We will use with 2013-2018 June data since June 2013 is when Citi Bike was started, and 2013-2018 data is available for both taxi and bikes.\n",
    "# We will also filter down to the first week of the month, because the data is an absolute unit\n",
    "YEARS = [\"2013\", \"2014\", \"2015\", \"2016\", \"2017\", \"2018\"]"
   ]
  },
  {
   "cell_type": "code",
   "execution_count": 3,
   "metadata": {
    "colab": {},
    "colab_type": "code",
    "id": "pSmOmhdUHW3g"
   },
   "outputs": [],
   "source": [
    "# Set up directories and util functions to store the downloaded csv files\n",
    "\n",
    "if os.path.isdir(TAXI_CSV_PATH) is False:\n",
    "  os.mkdir(TAXI_CSV_PATH)\n",
    "if os.path.isdir(BIKE_CSV_PATH) is False:\n",
    "  os.mkdir(BIKE_CSV_PATH)\n",
    "\n",
    "  \n",
    "def save_csv(file_path, http_data):\n",
    "    with open(file_path, \"w\") as f:\n",
    "      writer = csv.writer(f)\n",
    "      reader = csv.reader(http_data.text.splitlines())\n",
    "      for row in reader:\n",
    "        writer.writerow(row)\n",
    "        \n",
    "def get_csv_name(data_type, year, two_weeks_only=False):\n",
    "  if data_type is \"taxi\":\n",
    "    return TAXI_CSV_PATH + \"/\" + year + \"-06\" + (\"_parsed\" if two_weeks_only is True else \"\") +  \".csv\"\n",
    "  elif data_type is \"bike\":\n",
    "    return BIKE_CSV_PATH + \"/\" + year + \"-06\" + (\"_parsed\" if two_weeks_only is True else \"\") + \".csv\"\n",
    "  else:\n",
    "    raise Exception(\"Data type must be taxi or bike\")"
   ]
  },
  {
   "cell_type": "markdown",
   "metadata": {
    "colab_type": "text",
    "id": "B4ttmHZI_vQj"
   },
   "source": [
    "# Taxi Dataframes\n",
    "Since these downloads take a long time, do NOT reset all run times when it asks you to! It will wipe all downloaded files, and you'll have to download them again!"
   ]
  },
  {
   "cell_type": "code",
   "execution_count": 72,
   "metadata": {
    "colab": {},
    "colab_type": "code",
    "id": "NDqsFhLGqqhi"
   },
   "outputs": [],
   "source": [
    "# Download and save the files first so they don't have to be redownloaded every time\n",
    "\n",
    "for n in YEARS:\n",
    "  file_path = get_csv_name(\"taxi\", n, False)\n",
    "  if os.path.isfile(file_path) is False:\n",
    "    data = requests.get(\"https://s3.amazonaws.com/nyc-tlc/trip+data/yellow_tripdata_\" + n + \"-06.csv\")\n",
    "    save_csv(file_path, data)\n",
    "\n",
    "# Load the actual data\n",
    "\n",
    "dtypes = {\n",
    "    \"vendor_id\": \"str\",\n",
    "    \"VendorID\": \"str\",\n",
    "    \"pickup_datetime\": \"str\",\n",
    "    \"dropoff_datetime\": \"str\",\n",
    "    \"tpep_pickup_datetime\": \"str\",\n",
    "    \"tpep_dropoff_datetime\": \"str\",\n",
    "    \"passenger_count\": np.int32,\n",
    "    \"trip_distance\": np.float32,\n",
    "    \"pickup_longitude\": np.float32,\n",
    "    \"pickup_latitude\": np.float32,\n",
    "    \"PULocationID\": np.int32,\n",
    "    \"DOLocationID\": np.int32,\n",
    "    \"rate_code\": np.int32,\n",
    "    \"RateCodeID\": np.int32,\n",
    "    \"store_and_fwd_flag\": \"str\",\n",
    "    \"dropoff_longitude\": np.float32,\n",
    "    \"dropoff_latitude\": np.float32,\n",
    "    \"payment_type\": \"str\",\n",
    "    \"fare_amount\": np.float32,\n",
    "    \"surcharge\": np.float32,\n",
    "    \"mta_tax\": np.float32,\n",
    "    \"tip_amount\": np.float32,\n",
    "    \"tolls_amount\": np.float32,\n",
    "    \"total_amount\": np.float32\n",
    "}\n",
    "\n",
    "def get_parsed_taxi_df(year):\n",
    "  # See if the sorted data was saved before, if so use it\n",
    "  sorted_file_path = get_csv_name(\"taxi\", year, True)\n",
    "  if os.path.isfile(sorted_file_path) is True:\n",
    "    df_toreturn = pd.read_csv(sorted_file_path, dtype=dtypes)\n",
    "    df_toreturn['pickup_datetime_parsed'] = pd.to_datetime(df_toreturn['pickup_datetime_parsed'])\n",
    "    return df_toreturn\n",
    "  \n",
    "  # Otherwise, load the full file, sort it, and save it for future reference\n",
    "  df_temp = pd.read_csv(get_csv_name(\"taxi\", year, False), dtype=dtypes)\n",
    "  \n",
    "  # Sort by date\n",
    "  df_temp.sort_values(by=df_temp.columns[1], inplace=True, kind='mergesort')\n",
    "  df_temp['pickup_datetime_parsed'] = pd.to_datetime(df_temp.iloc[:,1])\n",
    "  \n",
    "  # Get only the first week of the month\n",
    "  df_temp = df_temp[(df_temp['pickup_datetime_parsed'] > (year + '-06-01')) & (df_temp['pickup_datetime_parsed'] < (year + '-06-08'))]\n",
    "  df_temp.to_csv(sorted_file_path)\n",
    "  return df_temp\n",
    "  \n",
    "# The util function MUST be used to save memory while loading in the entire dataframes for each year.\n",
    "# IGNORE MEMORY LIMIT WARNINGS! The data is garbage collected every time the function exits for each year.\n",
    "\n",
    "df_taxi_2013 = get_parsed_taxi_df(\"2013\")\n",
    "df_taxi_2014 = get_parsed_taxi_df(\"2014\")\n",
    "df_taxi_2015 = get_parsed_taxi_df(\"2015\")\n",
    "df_taxi_2016 = get_parsed_taxi_df(\"2016\")\n",
    "df_taxi_2017 = get_parsed_taxi_df(\"2017\")\n",
    "df_taxi_2018 = get_parsed_taxi_df(\"2018\")"
   ]
  },
  {
   "cell_type": "code",
   "execution_count": 101,
   "metadata": {
    "colab": {
     "base_uri": "https://localhost:8080/",
     "height": 273
    },
    "colab_type": "code",
    "id": "Z4MVtZFVRpx9",
    "outputId": "2597c2d1-e416-421e-f776-e9fab4c905f9"
   },
   "outputs": [],
   "source": [
    "# convert pickup and dropoff to datetime object\n",
    "# then add trip duration column\n",
    "# standardize pickup/dropoff column names.\n",
    "\n",
    "if not('tripduration' in df_taxi_2013.columns):\n",
    "    df_taxi_2013['pickup_datetime'] = pd.to_datetime(df_taxi_2013['pickup_datetime'])\n",
    "    df_taxi_2013['dropoff_datetime'] = pd.to_datetime(df_taxi_2013['dropoff_datetime'])\n",
    "    df_taxi_2013['tripduration'] = (df_taxi_2013['dropoff_datetime'] - df_taxi_2013['pickup_datetime']).dt.total_seconds()\n",
    "\n",
    "if not('tripduration' in df_taxi_2014.columns):\n",
    "    df_taxi_2014['pickup_datetime'] = pd.to_datetime(df_taxi_2014[' pickup_datetime'])\n",
    "    df_taxi_2014['dropoff_datetime'] = pd.to_datetime(df_taxi_2014[' dropoff_datetime'])\n",
    "    df_taxi_2014['tripduration'] = (df_taxi_2014['dropoff_datetime'] - df_taxi_2014['pickup_datetime']).dt.total_seconds()\n",
    "    df_taxi_2014.drop(columns=[' pickup_datetime', ' dropoff_datetime'])\n",
    "\n",
    "if not('tripduration' in df_taxi_2015.columns):\n",
    "    df_taxi_2015['pickup_datetime'] = pd.to_datetime(df_taxi_2015['tpep_pickup_datetime'])\n",
    "    df_taxi_2015['dropoff_datetime'] = pd.to_datetime(df_taxi_2015['tpep_dropoff_datetime'])\n",
    "    df_taxi_2015['tripduration'] = (df_taxi_2015['dropoff_datetime'] - df_taxi_2015['pickup_datetime']).dt.total_seconds()\n",
    "    df_taxi_2015.drop(columns=['tpep_pickup_datetime', 'tpep_dropoff_datetime'])\n",
    "\n",
    "if not('tripduration' in df_taxi_2016.columns):\n",
    "    df_taxi_2016['pickup_datetime'] = pd.to_datetime(df_taxi_2016['tpep_pickup_datetime'])\n",
    "    df_taxi_2016['dropoff_datetime'] = pd.to_datetime(df_taxi_2016['tpep_dropoff_datetime'])\n",
    "    df_taxi_2016['tripduration'] = (df_taxi_2016['dropoff_datetime'] - df_taxi_2016['pickup_datetime']).dt.total_seconds()\n",
    "    df_taxi_2016.drop(columns=['tpep_pickup_datetime', 'tpep_dropoff_datetime'])\n",
    "\n",
    "if not('tripduration' in df_taxi_2017.columns):\n",
    "    df_taxi_2017['pickup_datetime'] = pd.to_datetime(df_taxi_2017['tpep_pickup_datetime'])\n",
    "    df_taxi_2017['dropoff_datetime'] = pd.to_datetime(df_taxi_2017['tpep_dropoff_datetime'])\n",
    "    df_taxi_2017['tripduration'] = (df_taxi_2017['dropoff_datetime'] - df_taxi_2017['pickup_datetime']).dt.total_seconds()\n",
    "    df_taxi_2017.drop(columns=['tpep_pickup_datetime', 'tpep_dropoff_datetime'])\n",
    "\n",
    "if not('tripduration' in df_taxi_2018.columns):\n",
    "    df_taxi_2018['pickup_datetime'] = pd.to_datetime(df_taxi_2018['tpep_pickup_datetime'])\n",
    "    df_taxi_2018['dropoff_datetime'] = pd.to_datetime(df_taxi_2018['tpep_dropoff_datetime'])\n",
    "    df_taxi_2018['tripduration'] = (df_taxi_2018['dropoff_datetime'] - df_taxi_2018['pickup_datetime']).dt.total_seconds()\n",
    "    df_taxi_2018.drop(columns=['tpep_pickup_datetime', 'tpep_dropoff_datetime'])"
   ]
  },
  {
   "cell_type": "code",
   "execution_count": 102,
   "metadata": {},
   "outputs": [
    {
     "data": {
      "text/html": [
       "<div>\n",
       "<style scoped>\n",
       "    .dataframe tbody tr th:only-of-type {\n",
       "        vertical-align: middle;\n",
       "    }\n",
       "\n",
       "    .dataframe tbody tr th {\n",
       "        vertical-align: top;\n",
       "    }\n",
       "\n",
       "    .dataframe thead th {\n",
       "        text-align: right;\n",
       "    }\n",
       "</style>\n",
       "<table border=\"1\" class=\"dataframe\">\n",
       "  <thead>\n",
       "    <tr style=\"text-align: right;\">\n",
       "      <th></th>\n",
       "      <th>Unnamed: 0</th>\n",
       "      <th>vendor_id</th>\n",
       "      <th>pickup_datetime</th>\n",
       "      <th>dropoff_datetime</th>\n",
       "      <th>passenger_count</th>\n",
       "      <th>trip_distance</th>\n",
       "      <th>pickup_longitude</th>\n",
       "      <th>pickup_latitude</th>\n",
       "      <th>rate_code</th>\n",
       "      <th>store_and_fwd_flag</th>\n",
       "      <th>...</th>\n",
       "      <th>payment_type</th>\n",
       "      <th>fare_amount</th>\n",
       "      <th>surcharge</th>\n",
       "      <th>mta_tax</th>\n",
       "      <th>tip_amount</th>\n",
       "      <th>tolls_amount</th>\n",
       "      <th>total_amount</th>\n",
       "      <th>pickup_datetime_parsed</th>\n",
       "      <th>dropoff_datetime_parsed</th>\n",
       "      <th>tripduration</th>\n",
       "    </tr>\n",
       "  </thead>\n",
       "  <tbody>\n",
       "    <tr>\n",
       "      <th>0</th>\n",
       "      <td>10098349</td>\n",
       "      <td>CMT</td>\n",
       "      <td>2013-06-01 00:00:01</td>\n",
       "      <td>2013-06-01 00:04:45</td>\n",
       "      <td>1</td>\n",
       "      <td>1.7</td>\n",
       "      <td>-73.977707</td>\n",
       "      <td>40.746326</td>\n",
       "      <td>1</td>\n",
       "      <td>N</td>\n",
       "      <td>...</td>\n",
       "      <td>CRD</td>\n",
       "      <td>7.0</td>\n",
       "      <td>0.5</td>\n",
       "      <td>0.5</td>\n",
       "      <td>1.6</td>\n",
       "      <td>0.0</td>\n",
       "      <td>9.6</td>\n",
       "      <td>2013-06-01 00:00:01</td>\n",
       "      <td>1970-01-01 00:00:00.000000001</td>\n",
       "      <td>284.0</td>\n",
       "    </tr>\n",
       "    <tr>\n",
       "      <th>1</th>\n",
       "      <td>10098350</td>\n",
       "      <td>CMT</td>\n",
       "      <td>2013-06-01 00:00:01</td>\n",
       "      <td>2013-06-01 00:04:17</td>\n",
       "      <td>1</td>\n",
       "      <td>0.6</td>\n",
       "      <td>-73.983345</td>\n",
       "      <td>40.730515</td>\n",
       "      <td>1</td>\n",
       "      <td>N</td>\n",
       "      <td>...</td>\n",
       "      <td>CRD</td>\n",
       "      <td>5.0</td>\n",
       "      <td>0.5</td>\n",
       "      <td>0.5</td>\n",
       "      <td>1.2</td>\n",
       "      <td>0.0</td>\n",
       "      <td>7.2</td>\n",
       "      <td>2013-06-01 00:00:01</td>\n",
       "      <td>1970-01-01 00:00:00.000000001</td>\n",
       "      <td>256.0</td>\n",
       "    </tr>\n",
       "    <tr>\n",
       "      <th>2</th>\n",
       "      <td>10099007</td>\n",
       "      <td>CMT</td>\n",
       "      <td>2013-06-01 00:00:01</td>\n",
       "      <td>2013-06-01 00:07:54</td>\n",
       "      <td>1</td>\n",
       "      <td>1.2</td>\n",
       "      <td>-73.991638</td>\n",
       "      <td>40.744011</td>\n",
       "      <td>1</td>\n",
       "      <td>N</td>\n",
       "      <td>...</td>\n",
       "      <td>CRD</td>\n",
       "      <td>7.0</td>\n",
       "      <td>0.5</td>\n",
       "      <td>0.5</td>\n",
       "      <td>1.6</td>\n",
       "      <td>0.0</td>\n",
       "      <td>9.6</td>\n",
       "      <td>2013-06-01 00:00:01</td>\n",
       "      <td>1970-01-01 00:00:00.000000001</td>\n",
       "      <td>473.0</td>\n",
       "    </tr>\n",
       "    <tr>\n",
       "      <th>3</th>\n",
       "      <td>10097262</td>\n",
       "      <td>CMT</td>\n",
       "      <td>2013-06-01 00:00:02</td>\n",
       "      <td>2013-06-01 00:11:35</td>\n",
       "      <td>1</td>\n",
       "      <td>3.6</td>\n",
       "      <td>-73.970993</td>\n",
       "      <td>40.761608</td>\n",
       "      <td>1</td>\n",
       "      <td>N</td>\n",
       "      <td>...</td>\n",
       "      <td>CRD</td>\n",
       "      <td>12.5</td>\n",
       "      <td>0.5</td>\n",
       "      <td>0.5</td>\n",
       "      <td>2.5</td>\n",
       "      <td>0.0</td>\n",
       "      <td>16.0</td>\n",
       "      <td>2013-06-01 00:00:02</td>\n",
       "      <td>1970-01-01 00:00:00.000000001</td>\n",
       "      <td>693.0</td>\n",
       "    </tr>\n",
       "    <tr>\n",
       "      <th>4</th>\n",
       "      <td>10097622</td>\n",
       "      <td>CMT</td>\n",
       "      <td>2013-06-01 00:00:02</td>\n",
       "      <td>2013-06-01 00:12:57</td>\n",
       "      <td>2</td>\n",
       "      <td>3.6</td>\n",
       "      <td>-73.985451</td>\n",
       "      <td>40.763191</td>\n",
       "      <td>1</td>\n",
       "      <td>N</td>\n",
       "      <td>...</td>\n",
       "      <td>CRD</td>\n",
       "      <td>11.5</td>\n",
       "      <td>0.5</td>\n",
       "      <td>0.5</td>\n",
       "      <td>2.5</td>\n",
       "      <td>0.0</td>\n",
       "      <td>15.0</td>\n",
       "      <td>2013-06-01 00:00:02</td>\n",
       "      <td>1970-01-01 00:00:00.000000002</td>\n",
       "      <td>775.0</td>\n",
       "    </tr>\n",
       "  </tbody>\n",
       "</table>\n",
       "<p>5 rows × 22 columns</p>\n",
       "</div>"
      ],
      "text/plain": [
       "   Unnamed: 0 vendor_id     pickup_datetime    dropoff_datetime  \\\n",
       "0    10098349       CMT 2013-06-01 00:00:01 2013-06-01 00:04:45   \n",
       "1    10098350       CMT 2013-06-01 00:00:01 2013-06-01 00:04:17   \n",
       "2    10099007       CMT 2013-06-01 00:00:01 2013-06-01 00:07:54   \n",
       "3    10097262       CMT 2013-06-01 00:00:02 2013-06-01 00:11:35   \n",
       "4    10097622       CMT 2013-06-01 00:00:02 2013-06-01 00:12:57   \n",
       "\n",
       "   passenger_count  trip_distance  pickup_longitude  pickup_latitude  \\\n",
       "0                1            1.7        -73.977707        40.746326   \n",
       "1                1            0.6        -73.983345        40.730515   \n",
       "2                1            1.2        -73.991638        40.744011   \n",
       "3                1            3.6        -73.970993        40.761608   \n",
       "4                2            3.6        -73.985451        40.763191   \n",
       "\n",
       "   rate_code store_and_fwd_flag  ...  payment_type  fare_amount surcharge  \\\n",
       "0          1                  N  ...           CRD          7.0       0.5   \n",
       "1          1                  N  ...           CRD          5.0       0.5   \n",
       "2          1                  N  ...           CRD          7.0       0.5   \n",
       "3          1                  N  ...           CRD         12.5       0.5   \n",
       "4          1                  N  ...           CRD         11.5       0.5   \n",
       "\n",
       "   mta_tax  tip_amount  tolls_amount  total_amount  pickup_datetime_parsed  \\\n",
       "0      0.5         1.6           0.0           9.6     2013-06-01 00:00:01   \n",
       "1      0.5         1.2           0.0           7.2     2013-06-01 00:00:01   \n",
       "2      0.5         1.6           0.0           9.6     2013-06-01 00:00:01   \n",
       "3      0.5         2.5           0.0          16.0     2013-06-01 00:00:02   \n",
       "4      0.5         2.5           0.0          15.0     2013-06-01 00:00:02   \n",
       "\n",
       "         dropoff_datetime_parsed tripduration  \n",
       "0  1970-01-01 00:00:00.000000001        284.0  \n",
       "1  1970-01-01 00:00:00.000000001        256.0  \n",
       "2  1970-01-01 00:00:00.000000001        473.0  \n",
       "3  1970-01-01 00:00:00.000000001        693.0  \n",
       "4  1970-01-01 00:00:00.000000002        775.0  \n",
       "\n",
       "[5 rows x 22 columns]"
      ]
     },
     "execution_count": 102,
     "metadata": {},
     "output_type": "execute_result"
    }
   ],
   "source": [
    "df_taxi_2013.head()"
   ]
  },
  {
   "cell_type": "markdown",
   "metadata": {
    "colab_type": "text",
    "id": "G8tvoelD_zZ6"
   },
   "source": [
    "# Citi Bike Dataframes\n",
    "Since Citi Bike does not directly provide csv files, we must handle the zip files, extract, and load them accordingly."
   ]
  },
  {
   "cell_type": "code",
   "execution_count": 103,
   "metadata": {
    "colab": {},
    "colab_type": "code",
    "id": "j7Qey2ah65QT"
   },
   "outputs": [],
   "source": [
    "reg_pattern = re.compile(\"^\\d+.*\\.csv$\")\n",
    "\n",
    "for n in YEARS:\n",
    "  # See if the file exists\n",
    "  file_path = get_csv_name(\"bike\", n)\n",
    "  if os.path.isfile(file_path) is True:\n",
    "    continue\n",
    "\n",
    "  # If not, request and save it\n",
    "  req_url = \"\"\n",
    "  if n != \"2017\" and n != \"2018\":\n",
    "    req_url = \"https://s3.amazonaws.com/tripdata/\" + n + \"06-citibike-tripdata.zip\"\n",
    "  else:\n",
    "    req_url = \"https://s3.amazonaws.com/tripdata/\" + n + \"06-citibike-tripdata.csv.zip\"\n",
    "    \n",
    "  # Handle the ZIP\n",
    "  z = zipfile.ZipFile(io.BytesIO(requests.get(req_url).content))\n",
    "  orig_file_name = list(filter(reg_pattern.match, z.namelist()))[0]\n",
    "  z.extract(orig_file_name)\n",
    "  os.rename(orig_file_name, get_csv_name(\"bike\", n)) # Renaming the file will automatically remove the original, extracted file"
   ]
  },
  {
   "cell_type": "code",
   "execution_count": 104,
   "metadata": {
    "colab": {},
    "colab_type": "code",
    "id": "vCP7pOzX-ghZ"
   },
   "outputs": [],
   "source": [
    "# The dtypes can't be passed in atm because some columns that should be integers have non-number strings in them\n",
    "# Some columns that should be integers are floats instead because pandas can't put NaN values in integer columns\n",
    "\"\"\"\n",
    "dtypes = {\n",
    "    \"tripduration\": np.int32,\n",
    "    \"starttime\": \"str\",\n",
    "    \"stoptime\": \"str\",\n",
    "    \"start station id\": np.float32,\n",
    "    \"start station name\": \"str\",\n",
    "    \"start station latitude\": np.float32,\n",
    "    \"start station longitude\": np.float32,\n",
    "    \"end station id\": np.float32,\n",
    "    \"end station name\": \"str\",\n",
    "    \"end station latitude\": np.float32,\n",
    "    \"end station longitude\": np.float32,\n",
    "    \"bikeid\": np.int32,\n",
    "    \"usertype\": \"str\",\n",
    "    \"birth year\": np.float32,\n",
    "    \"gender\": np.int32\n",
    "}\n",
    "\"\"\"\n",
    "\n",
    "\n",
    "df_bike_2013_orig = pd.read_csv(get_csv_name(\"bike\", \"2013\"))\n",
    "df_bike_2014_orig = pd.read_csv(get_csv_name(\"bike\", \"2014\"))\n",
    "df_bike_2015_orig = pd.read_csv(get_csv_name(\"bike\", \"2015\"))\n",
    "df_bike_2016_orig = pd.read_csv(get_csv_name(\"bike\", \"2016\"))\n",
    "df_bike_2017_orig = pd.read_csv(get_csv_name(\"bike\", \"2017\"))\n",
    "df_bike_2018_orig = pd.read_csv(get_csv_name(\"bike\", \"2018\"))"
   ]
  },
  {
   "cell_type": "code",
   "execution_count": 105,
   "metadata": {
    "colab": {},
    "colab_type": "code",
    "id": "_yJDOlhI-3gB"
   },
   "outputs": [],
   "source": [
    "# Convert to datetime. This was really annoying with the different formats - if the format is unspecified, the functions never stop running.\n",
    "# Also must assert that the last row of data has a start time greater than the second week, to make sure we have the full first 2 weeks of data\n",
    "\n",
    "# 2013\n",
    "df_bike_2013_orig['starttime_parsed'] = pd.to_datetime(df_bike_2013_orig['starttime'])\n",
    "df_bike_2013_orig['stoptime_parsed'] = pd.to_datetime(df_bike_2013_orig['stoptime'])\n",
    "assert df_bike_2013_orig.iloc[-1].starttime_parsed > datetime.strptime('2013-06-07', '%Y-%m-%d'), \"Missing full 1 week of data for 2013\"\n",
    "\n",
    "# 2014\n",
    "df_bike_2014_orig['starttime_parsed'] = pd.to_datetime(df_bike_2014_orig['starttime'])\n",
    "df_bike_2014_orig['stoptime_parsed'] = pd.to_datetime(df_bike_2014_orig['stoptime'])\n",
    "assert df_bike_2014_orig.iloc[-1].starttime_parsed > datetime.strptime('2014-06-07', '%Y-%m-%d'), \"Missing full 1 week of data for 2014\"\n",
    "\n",
    "# 2015\n",
    "df_bike_2015_orig['starttime_parsed'] = pd.to_datetime(df_bike_2015_orig[\"starttime\"], format=\"%m/%d/%Y %H:%M\")\n",
    "df_bike_2015_orig['stoptime_parsed'] = pd.to_datetime(df_bike_2015_orig['stoptime'], format=\"%m/%d/%Y %H:%M\")\n",
    "assert df_bike_2015_orig.iloc[-1].starttime_parsed > datetime.strptime('2015-06-07', '%Y-%m-%d'), \"Missing full 1 week of data for 2015\"\n",
    "\n",
    "# 2016\n",
    "df_bike_2016_orig['starttime_parsed'] = pd.to_datetime(df_bike_2016_orig['starttime'], format=\"%m/%d/%Y %H:%M:%S\")\n",
    "df_bike_2016_orig['stoptime_parsed'] = pd.to_datetime(df_bike_2016_orig['stoptime'], format=\"%m/%d/%Y %H:%M:%S\")\n",
    "assert df_bike_2016_orig.iloc[-1].starttime_parsed > datetime.strptime('2016-06-07', '%Y-%m-%d'), \"Missing full 1 week of data for 2016\"\n",
    "\n",
    "# 2017\n",
    "df_bike_2017_orig['starttime_parsed'] = pd.to_datetime(df_bike_2017_orig['starttime'], format=\"%Y-%m-%d %H:%M:%S\")\n",
    "df_bike_2017_orig['stoptime_parsed'] = pd.to_datetime(df_bike_2017_orig['stoptime'], format=\"%Y-%m-%d %H:%M:%S\")\n",
    "assert df_bike_2017_orig.iloc[-1].starttime_parsed > datetime.strptime('2017-06-07', '%Y-%m-%d'), \"Missing full 1 week of data for 2017\"\n",
    "\n",
    "# 2018\n",
    "df_bike_2018_orig['starttime_parsed'] = pd.to_datetime(df_bike_2018_orig['starttime'], format=\"%Y-%m-%d %H:%M:%S\")\n",
    "df_bike_2018_orig['stoptime_parsed'] = pd.to_datetime(df_bike_2018_orig['stoptime'], format=\"%Y-%m-%d %H:%M:%S\")\n",
    "assert df_bike_2018_orig.iloc[-1].starttime_parsed > datetime.strptime('2018-06-07', '%Y-%m-%d'), \"Missing full 1 week of data for 2018\""
   ]
  },
  {
   "cell_type": "code",
   "execution_count": 106,
   "metadata": {
    "colab": {},
    "colab_type": "code",
    "id": "64XM7FHicQYF"
   },
   "outputs": [],
   "source": [
    "# Our main Citi Bike dataframes we'll be using, with a full week of data for each year\n",
    "\n",
    "df_bike_2013 = df_bike_2013_orig[(df_bike_2013_orig['starttime_parsed'] > '2013-06-01') & (df_bike_2013_orig['starttime_parsed'] < '2013-06-08')]\n",
    "df_bike_2014 = df_bike_2014_orig[(df_bike_2014_orig['starttime_parsed'] > '2014-06-01') & (df_bike_2014_orig['starttime_parsed'] < '2014-06-08')]\n",
    "df_bike_2015 = df_bike_2015_orig[(df_bike_2015_orig['starttime_parsed'] > '2015-06-01') & (df_bike_2015_orig['starttime_parsed'] < '2015-06-08')]\n",
    "df_bike_2016 = df_bike_2016_orig[(df_bike_2016_orig['starttime_parsed'] > '2016-06-01') & (df_bike_2016_orig['starttime_parsed'] < '2016-06-08')]\n",
    "df_bike_2017 = df_bike_2017_orig[(df_bike_2017_orig['starttime_parsed'] > '2017-06-01') & (df_bike_2017_orig['starttime_parsed'] < '2017-06-08')]\n",
    "df_bike_2018 = df_bike_2018_orig[(df_bike_2018_orig['starttime_parsed'] > '2018-06-01') & (df_bike_2018_orig['starttime_parsed'] < '2018-06-08')]\n"
   ]
  },
  {
   "cell_type": "code",
   "execution_count": 107,
   "metadata": {
    "colab": {
     "base_uri": "https://localhost:8080/",
     "height": 310
    },
    "colab_type": "code",
    "id": "yAGu3yR1jh3w",
    "outputId": "02f46a25-06bd-4367-8914-fdbf0b6f7256"
   },
   "outputs": [
    {
     "data": {
      "text/html": [
       "<div>\n",
       "<style scoped>\n",
       "    .dataframe tbody tr th:only-of-type {\n",
       "        vertical-align: middle;\n",
       "    }\n",
       "\n",
       "    .dataframe tbody tr th {\n",
       "        vertical-align: top;\n",
       "    }\n",
       "\n",
       "    .dataframe thead th {\n",
       "        text-align: right;\n",
       "    }\n",
       "</style>\n",
       "<table border=\"1\" class=\"dataframe\">\n",
       "  <thead>\n",
       "    <tr style=\"text-align: right;\">\n",
       "      <th></th>\n",
       "      <th>tripduration</th>\n",
       "      <th>starttime</th>\n",
       "      <th>stoptime</th>\n",
       "      <th>start station id</th>\n",
       "      <th>start station name</th>\n",
       "      <th>start station latitude</th>\n",
       "      <th>start station longitude</th>\n",
       "      <th>end station id</th>\n",
       "      <th>end station name</th>\n",
       "      <th>end station latitude</th>\n",
       "      <th>end station longitude</th>\n",
       "      <th>bikeid</th>\n",
       "      <th>usertype</th>\n",
       "      <th>birth year</th>\n",
       "      <th>gender</th>\n",
       "      <th>starttime_parsed</th>\n",
       "      <th>stoptime_parsed</th>\n",
       "    </tr>\n",
       "  </thead>\n",
       "  <tbody>\n",
       "    <tr>\n",
       "      <th>0</th>\n",
       "      <td>520</td>\n",
       "      <td>2014-06-01 00:00:02</td>\n",
       "      <td>2014-06-01 00:08:42</td>\n",
       "      <td>358</td>\n",
       "      <td>Christopher St &amp; Greenwich St</td>\n",
       "      <td>40.732916</td>\n",
       "      <td>-74.007114</td>\n",
       "      <td>426</td>\n",
       "      <td>West St &amp; Chambers St</td>\n",
       "      <td>40.717548</td>\n",
       "      <td>-74.013221</td>\n",
       "      <td>18840</td>\n",
       "      <td>Subscriber</td>\n",
       "      <td>1979</td>\n",
       "      <td>1</td>\n",
       "      <td>2014-06-01 00:00:02</td>\n",
       "      <td>2014-06-01 00:08:42</td>\n",
       "    </tr>\n",
       "    <tr>\n",
       "      <th>1</th>\n",
       "      <td>520</td>\n",
       "      <td>2014-06-01 00:00:27</td>\n",
       "      <td>2014-06-01 00:09:07</td>\n",
       "      <td>335</td>\n",
       "      <td>Washington Pl &amp; Broadway</td>\n",
       "      <td>40.729039</td>\n",
       "      <td>-73.994046</td>\n",
       "      <td>265</td>\n",
       "      <td>Stanton St &amp; Chrystie St</td>\n",
       "      <td>40.722293</td>\n",
       "      <td>-73.991475</td>\n",
       "      <td>17442</td>\n",
       "      <td>Customer</td>\n",
       "      <td>\\N</td>\n",
       "      <td>0</td>\n",
       "      <td>2014-06-01 00:00:27</td>\n",
       "      <td>2014-06-01 00:09:07</td>\n",
       "    </tr>\n",
       "    <tr>\n",
       "      <th>2</th>\n",
       "      <td>414</td>\n",
       "      <td>2014-06-01 00:00:32</td>\n",
       "      <td>2014-06-01 00:07:26</td>\n",
       "      <td>439</td>\n",
       "      <td>E 4 St &amp; 2 Ave</td>\n",
       "      <td>40.726281</td>\n",
       "      <td>-73.989780</td>\n",
       "      <td>368</td>\n",
       "      <td>Carmine St &amp; 6 Ave</td>\n",
       "      <td>40.730386</td>\n",
       "      <td>-74.002150</td>\n",
       "      <td>16447</td>\n",
       "      <td>Subscriber</td>\n",
       "      <td>1980</td>\n",
       "      <td>1</td>\n",
       "      <td>2014-06-01 00:00:32</td>\n",
       "      <td>2014-06-01 00:07:26</td>\n",
       "    </tr>\n",
       "    <tr>\n",
       "      <th>3</th>\n",
       "      <td>310</td>\n",
       "      <td>2014-06-01 00:00:34</td>\n",
       "      <td>2014-06-01 00:05:44</td>\n",
       "      <td>463</td>\n",
       "      <td>9 Ave &amp; W 16 St</td>\n",
       "      <td>40.742065</td>\n",
       "      <td>-74.004432</td>\n",
       "      <td>380</td>\n",
       "      <td>W 4 St &amp; 7 Ave S</td>\n",
       "      <td>40.734011</td>\n",
       "      <td>-74.002939</td>\n",
       "      <td>18218</td>\n",
       "      <td>Subscriber</td>\n",
       "      <td>1984</td>\n",
       "      <td>1</td>\n",
       "      <td>2014-06-01 00:00:34</td>\n",
       "      <td>2014-06-01 00:05:44</td>\n",
       "    </tr>\n",
       "    <tr>\n",
       "      <th>4</th>\n",
       "      <td>457</td>\n",
       "      <td>2014-06-01 00:00:35</td>\n",
       "      <td>2014-06-01 00:08:12</td>\n",
       "      <td>352</td>\n",
       "      <td>W 56 St &amp; 6 Ave</td>\n",
       "      <td>40.763406</td>\n",
       "      <td>-73.977225</td>\n",
       "      <td>305</td>\n",
       "      <td>E 58 St &amp; 3 Ave</td>\n",
       "      <td>40.760958</td>\n",
       "      <td>-73.967245</td>\n",
       "      <td>18115</td>\n",
       "      <td>Subscriber</td>\n",
       "      <td>1969</td>\n",
       "      <td>1</td>\n",
       "      <td>2014-06-01 00:00:35</td>\n",
       "      <td>2014-06-01 00:08:12</td>\n",
       "    </tr>\n",
       "  </tbody>\n",
       "</table>\n",
       "</div>"
      ],
      "text/plain": [
       "   tripduration            starttime             stoptime  start station id  \\\n",
       "0           520  2014-06-01 00:00:02  2014-06-01 00:08:42               358   \n",
       "1           520  2014-06-01 00:00:27  2014-06-01 00:09:07               335   \n",
       "2           414  2014-06-01 00:00:32  2014-06-01 00:07:26               439   \n",
       "3           310  2014-06-01 00:00:34  2014-06-01 00:05:44               463   \n",
       "4           457  2014-06-01 00:00:35  2014-06-01 00:08:12               352   \n",
       "\n",
       "              start station name  start station latitude  \\\n",
       "0  Christopher St & Greenwich St               40.732916   \n",
       "1       Washington Pl & Broadway               40.729039   \n",
       "2                 E 4 St & 2 Ave               40.726281   \n",
       "3                9 Ave & W 16 St               40.742065   \n",
       "4                W 56 St & 6 Ave               40.763406   \n",
       "\n",
       "   start station longitude  end station id          end station name  \\\n",
       "0               -74.007114             426     West St & Chambers St   \n",
       "1               -73.994046             265  Stanton St & Chrystie St   \n",
       "2               -73.989780             368        Carmine St & 6 Ave   \n",
       "3               -74.004432             380          W 4 St & 7 Ave S   \n",
       "4               -73.977225             305           E 58 St & 3 Ave   \n",
       "\n",
       "   end station latitude  end station longitude  bikeid    usertype birth year  \\\n",
       "0             40.717548             -74.013221   18840  Subscriber       1979   \n",
       "1             40.722293             -73.991475   17442    Customer         \\N   \n",
       "2             40.730386             -74.002150   16447  Subscriber       1980   \n",
       "3             40.734011             -74.002939   18218  Subscriber       1984   \n",
       "4             40.760958             -73.967245   18115  Subscriber       1969   \n",
       "\n",
       "   gender    starttime_parsed     stoptime_parsed  \n",
       "0       1 2014-06-01 00:00:02 2014-06-01 00:08:42  \n",
       "1       0 2014-06-01 00:00:27 2014-06-01 00:09:07  \n",
       "2       1 2014-06-01 00:00:32 2014-06-01 00:07:26  \n",
       "3       1 2014-06-01 00:00:34 2014-06-01 00:05:44  \n",
       "4       1 2014-06-01 00:00:35 2014-06-01 00:08:12  "
      ]
     },
     "execution_count": 107,
     "metadata": {},
     "output_type": "execute_result"
    }
   ],
   "source": [
    "df_bike_2014.head()"
   ]
  },
  {
   "cell_type": "markdown",
   "metadata": {
    "colab_type": "text",
    "id": "PeEbff7BkUD8"
   },
   "source": [
    "# Analysis"
   ]
  },
  {
   "cell_type": "markdown",
   "metadata": {
    "colab_type": "text",
    "id": "sgWxCTIIkg1N"
   },
   "source": [
    "## Exploratory Data Analysis"
   ]
  },
  {
   "cell_type": "code",
   "execution_count": 108,
   "metadata": {
    "colab": {},
    "colab_type": "code",
    "id": "xFZw3J33bTb0",
    "outputId": "fc251266-e258-4388-d0fd-90908e9007fe"
   },
   "outputs": [
    {
     "name": "stdout",
     "output_type": "stream",
     "text": [
      "[2334.452260073118, 907.9234496339398, 889.1972157265556, 1023.7191479376997, 973.301784785734, 1161.3499848084173]\n"
     ]
    }
   ],
   "source": [
    "citi_avg_trip_durations = []\n",
    "\n",
    "citi_avg_trip_durations.append(df_bike_2013.tripduration.mean())\n",
    "citi_avg_trip_durations.append(df_bike_2014.tripduration.mean())\n",
    "citi_avg_trip_durations.append(df_bike_2015.tripduration.mean())\n",
    "citi_avg_trip_durations.append(df_bike_2016.tripduration.mean())\n",
    "citi_avg_trip_durations.append(df_bike_2017.tripduration.mean())\n",
    "citi_avg_trip_durations.append(df_bike_2018.tripduration.mean())\n",
    "\n",
    "print(citi_avg_trip_durations)"
   ]
  },
  {
   "cell_type": "code",
   "execution_count": 109,
   "metadata": {
    "colab": {},
    "colab_type": "code",
    "id": "YL_3HdLtbTb6",
    "outputId": "540a97d5-3764-41f9-ddc6-690c850a4d6f"
   },
   "outputs": [
    {
     "name": "stdout",
     "output_type": "stream",
     "text": [
      "[1973.7418080639952, 'NaN', 1976.2964147385587, 1977.4734717561873, 1978.7014382409977, 1978.7112451471332]\n"
     ]
    }
   ],
   "source": [
    "# had to avoid 2014 here, as there are some issues with the birthdate field in that dataframe. Will clean.\n",
    "# yo people in their 40s love citibikes\n",
    "\n",
    "citi_avg_age = []\n",
    "\n",
    "citi_avg_age.append(df_bike_2013[\"birth year\"].mean())\n",
    "citi_avg_age.append(\"NaN\")\n",
    "citi_avg_age.append(df_bike_2015[\"birth year\"].mean())\n",
    "citi_avg_age.append(df_bike_2016[\"birth year\"].mean())\n",
    "citi_avg_age.append(df_bike_2017[\"birth year\"].mean())\n",
    "citi_avg_age.append(df_bike_2018[\"birth year\"].mean())\n",
    "\n",
    "print(citi_avg_age)"
   ]
  },
  {
   "cell_type": "markdown",
   "metadata": {
    "colab_type": "text",
    "id": "KlPWbRdhkdMP"
   },
   "source": [
    "### Number of Trips"
   ]
  },
  {
   "cell_type": "code",
   "execution_count": 110,
   "metadata": {
    "colab": {
     "base_uri": "https://localhost:8080/",
     "height": 127
    },
    "colab_type": "code",
    "id": "ZR_w6xm-ea2D",
    "outputId": "7b035d44-4786-4055-be1d-6f49513d6428"
   },
   "outputs": [
    {
     "name": "stderr",
     "output_type": "stream",
     "text": [
      "/Users/Carl/anaconda3/lib/python3.7/site-packages/pandas/core/indexing.py:362: SettingWithCopyWarning: \n",
      "A value is trying to be set on a copy of a slice from a DataFrame.\n",
      "Try using .loc[row_indexer,col_indexer] = value instead\n",
      "\n",
      "See the caveats in the documentation: http://pandas.pydata.org/pandas-docs/stable/indexing.html#indexing-view-versus-copy\n",
      "  self.obj[key] = _infer_fill_value(value)\n",
      "/Users/Carl/anaconda3/lib/python3.7/site-packages/pandas/core/indexing.py:543: SettingWithCopyWarning: \n",
      "A value is trying to be set on a copy of a slice from a DataFrame.\n",
      "Try using .loc[row_indexer,col_indexer] = value instead\n",
      "\n",
      "See the caveats in the documentation: http://pandas.pydata.org/pandas-docs/stable/indexing.html#indexing-view-versus-copy\n",
      "  self.obj[item] = s\n"
     ]
    }
   ],
   "source": [
    "# Using .loc everywhere here to try to remove the SettingsWithCopyWarning, but still happens unfortunately. No idea how to fix\n",
    "df_taxi_2013.loc[:,'day'] = df_taxi_2013.loc[:,'pickup_datetime_parsed'].map(lambda date: date.strftime('%d (%a)'))\n",
    "df_taxi_2014.loc[:,'day'] = df_taxi_2014.loc[:,'pickup_datetime_parsed'].map(lambda date: date.strftime('%d (%a)'))\n",
    "df_taxi_2015.loc[:,'day'] = df_taxi_2015.loc[:,'pickup_datetime_parsed'].map(lambda date: date.strftime('%d (%a)'))\n",
    "df_taxi_2016.loc[:,'day'] = df_taxi_2016.loc[:,'pickup_datetime_parsed'].map(lambda date: date.strftime('%d (%a)'))\n",
    "df_taxi_2017.loc[:,'day'] = df_taxi_2017.loc[:,'pickup_datetime_parsed'].map(lambda date: date.strftime('%d (%a)'))\n",
    "df_taxi_2018.loc[:,'day'] = df_taxi_2018.loc[:,'pickup_datetime_parsed'].map(lambda date: date.strftime('%d (%a)'))\n",
    "\n",
    "df_bike_2013.loc[:,'day'] = df_bike_2013.loc[:,'starttime_parsed'].map(lambda date: date.strftime('%d (%a)'))\n",
    "df_bike_2014.loc[:,'day'] = df_bike_2014.loc[:,'starttime_parsed'].map(lambda date: date.strftime('%d (%a)'))\n",
    "df_bike_2015.loc[:,'day'] = df_bike_2015.loc[:,'starttime_parsed'].map(lambda date: date.strftime('%d (%a)'))\n",
    "df_bike_2016.loc[:,'day'] = df_bike_2016.loc[:,'starttime_parsed'].map(lambda date: date.strftime('%d (%a)'))\n",
    "df_bike_2017.loc[:,'day'] = df_bike_2017.loc[:,'starttime_parsed'].map(lambda date: date.strftime('%d (%a)'))\n",
    "df_bike_2018.loc[:,'day'] = df_bike_2018.loc[:,'starttime_parsed'].map(lambda date: date.strftime('%d (%a)'))"
   ]
  },
  {
   "cell_type": "code",
   "execution_count": 111,
   "metadata": {
    "colab": {
     "base_uri": "https://localhost:8080/",
     "height": 869
    },
    "colab_type": "code",
    "id": "RO6J8C_jkcfX",
    "outputId": "efd0a138-ea1c-4ebf-d06b-78ff39742d79"
   },
   "outputs": [
    {
     "data": {
      "text/plain": [
       "<matplotlib.legend.Legend at 0x1a7702f28>"
      ]
     },
     "execution_count": 111,
     "metadata": {},
     "output_type": "execute_result"
    },
    {
     "data": {
      "image/png": "[encoded data removed]",
      "text/plain": [
       "<Figure size 432x288 with 1 Axes>"
      ]
     },
     "metadata": {
      "needs_background": "light"
     },
     "output_type": "display_data"
    },
    {
     "data": {
      "image/png": "[encoded data removed]",
      "text/plain": [
       "<Figure size 432x288 with 1 Axes>"
      ]
     },
     "metadata": {
      "needs_background": "light"
     },
     "output_type": "display_data"
    },
    {
     "data": {
      "image/png": "[encoded data removed]",
      "text/plain": [
       "<Figure size 432x288 with 1 Axes>"
      ]
     },
     "metadata": {
      "needs_background": "light"
     },
     "output_type": "display_data"
    }
   ],
   "source": [
    "first_plot = df_taxi_2013.groupby(by='day').size().reset_index(name='counts').plot(kind='line', x='day', y='counts', title='2013 First Week of June Taxi Trip Counts', color='orange')\n",
    "df_bike_2013.groupby(by='day').size().reset_index(name='counts').plot(kind='line', x='day', y='counts', title='2013 First Week of June Citi Bike Trip Counts', ax=first_plot, color='lightblue')\n",
    "first_plot.legend(['Taxi trip count', 'Citi Bike trip counts'])\n",
    "\n",
    "first_plot = df_taxi_2015.groupby(by='day').size().reset_index(name='counts').plot(kind='line', x='day', y='counts', title='2015 First Week of June Taxi Trip Counts', color='orange')\n",
    "df_bike_2015.groupby(by='day').size().reset_index(name='counts').plot(kind='line', x='day', y='counts', title='2015 First Week of June Citi Bike Trip Counts', ax=first_plot, color='lightblue')\n",
    "first_plot.legend(['Taxi trip count', 'Citi Bike trip counts'])\n",
    "\n",
    "\n",
    "first_plot = df_taxi_2018.groupby(by='day').size().reset_index(name='counts').plot(kind='line', x='day', y='counts', title='2018 First Week of June Taxi Trip Counts', color='orange')\n",
    "df_bike_2018.groupby(by='day').size().reset_index(name='counts').plot(kind='line', x='day', y='counts', title='2018 First Week of June Citi Bike Trip Counts', ax=first_plot, color='lightblue')\n",
    "first_plot.legend(['Taxi trip count', 'Citi Bike trip counts'])"
   ]
  },
  {
   "cell_type": "code",
   "execution_count": 112,
   "metadata": {
    "colab": {},
    "colab_type": "code",
    "id": "wLm81wbyknH5"
   },
   "outputs": [],
   "source": [
    "# Make new data frames for yearly trip counts, and graph them\n",
    "\n",
    "df_taxi_trip_counts = pd.DataFrame({'Year': YEARS, 'Count': [\n",
    "    df_taxi_2013.groupby(by='day').size().sum(),\n",
    "    df_taxi_2014.groupby(by='day').size().sum(),\n",
    "    df_taxi_2015.groupby(by='day').size().sum(),\n",
    "    df_taxi_2016.groupby(by='day').size().sum(),\n",
    "    df_taxi_2017.groupby(by='day').size().sum(),\n",
    "    df_taxi_2018.groupby(by='day').size().sum(),\n",
    "]})\n",
    "\n",
    "df_bike_trip_counts = pd.DataFrame({'Year': YEARS, 'Count': [\n",
    "    df_bike_2013.groupby(by='day').size().sum(),\n",
    "    df_bike_2014.groupby(by='day').size().sum(),\n",
    "    df_bike_2015.groupby(by='day').size().sum(),\n",
    "    df_bike_2016.groupby(by='day').size().sum(),\n",
    "    df_bike_2017.groupby(by='day').size().sum(),\n",
    "    df_bike_2018.groupby(by='day').size().sum(),\n",
    "]})"
   ]
  },
  {
   "cell_type": "code",
   "execution_count": 113,
   "metadata": {
    "colab": {
     "base_uri": "https://localhost:8080/",
     "height": 869
    },
    "colab_type": "code",
    "id": "Jw-tArubptfI",
    "outputId": "13c6bdd8-c1b8-4257-c8b1-8c451bd14319"
   },
   "outputs": [
    {
     "data": {
      "text/plain": [
       "<matplotlib.legend.Legend at 0x2742f6b38>"
      ]
     },
     "execution_count": 113,
     "metadata": {},
     "output_type": "execute_result"
    },
    {
     "data": {
      "image/png": "[encoded data removed]",
      "text/plain": [
       "<Figure size 432x288 with 1 Axes>"
      ]
     },
     "metadata": {
      "needs_background": "light"
     },
     "output_type": "display_data"
    },
    {
     "data": {
      "image/png": "[encoded data removed]",
      "text/plain": [
       "<Figure size 432x288 with 1 Axes>"
      ]
     },
     "metadata": {
      "needs_background": "light"
     },
     "output_type": "display_data"
    },
    {
     "data": {
      "image/png": "[encoded data removed]",
      "text/plain": [
       "<Figure size 432x288 with 1 Axes>"
      ]
     },
     "metadata": {
      "needs_background": "light"
     },
     "output_type": "display_data"
    }
   ],
   "source": [
    "df_taxi_trip_counts.plot(kind='line', x='Year', y='Count', title='First Week of June Yearly Taxi Trip Counts', color='orange')\n",
    "df_bike_trip_counts.plot(kind='line', x='Year', y='Count', title='First Week of June Yearly Trip Counts', color='lightblue') \n",
    "\n",
    "first_plot = df_taxi_trip_counts.plot(kind='line', x='Year', y='Count', title='First Week of June Yearly Taxi Trip Counts', color='orange')\n",
    "df_bike_trip_counts.plot(kind='line', x='Year', y='Count', title='First Week of June Yearly Trip Counts', ax=first_plot, color='lightblue')\n",
    "first_plot.legend(['Taxi trip count', 'Citi Bike trip count'])"
   ]
  },
  {
   "cell_type": "code",
   "execution_count": 0,
   "metadata": {
    "colab": {},
    "colab_type": "code",
    "id": "BC80htSVrtpN"
   },
   "outputs": [],
   "source": []
  }
 ],
 "metadata": {
  "accelerator": "GPU",
  "colab": {
   "include_colab_link": true,
   "name": "nyc-transpo.ipynb",
   "provenance": [],
   "toc_visible": true,
   "version": "0.3.2"
  },
  "kernelspec": {
   "display_name": "Python 3",
   "language": "python",
   "name": "python3"
  },
  "language_info": {
   "codemirror_mode": {
    "name": "ipython",
    "version": 3
   },
   "file_extension": ".py",
   "mimetype": "text/x-python",
   "name": "python",
   "nbconvert_exporter": "python",
   "pygments_lexer": "ipython3",
   "version": "3.7.3"
  }
 },
 "nbformat": 4,
 "nbformat_minor": 1
}
