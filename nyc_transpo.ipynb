{
 "cells": [
  {
   "cell_type": "markdown",
   "metadata": {
    "colab_type": "text",
    "id": "view-in-github"
   },
   "source": [
    "<a href=\"https://colab.research.google.com/github/dvignoles/nyc-transpo/blob/master/nyc_transpo.ipynb\" target=\"_parent\"><img src=\"https://colab.research.google.com/assets/colab-badge.svg\" alt=\"Open In Colab\"/></a>"
   ]
  },
  {
   "cell_type": "code",
   "execution_count": 1,
   "metadata": {
    "colab": {},
    "colab_type": "code",
    "id": "mcFKx7BCp9he"
   },
   "outputs": [],
   "source": [
    "import pandas as pd\n",
    "from datetime import datetime\n",
    "import numpy as np\n",
    "import requests, zipfile, io, os, re, csv\n",
    "import matplotlib.pyplot as plt\n",
    "\n",
    "from preprocessing import *"
   ]
  },
  {
   "cell_type": "code",
   "execution_count": 19,
   "metadata": {
    "colab": {},
    "colab_type": "code",
    "id": "pSmOmhdUHW3g"
   },
   "outputs": [],
   "source": [
    "# Set up directories and util functions to store the downloaded csv files\n",
    "\n",
    "if os.path.isdir(BIKE_CSV_PATH) is False:\n",
    "  os.mkdir(BIKE_CSV_PATH)"
   ]
  },
  {
   "cell_type": "markdown",
   "metadata": {
    "colab_type": "text",
    "id": "B4ttmHZI_vQj"
   },
   "source": [
    "# Taxi Dataframes\n",
    "Since these downloads take a long time, do NOT reset all run times when it asks you to! It will wipe all downloaded files, and you'll have to download them again!"
   ]
  },
  {
   "cell_type": "markdown",
   "metadata": {},
   "source": [
    "#### Download, Load, and Clean"
   ]
  },
  {
   "cell_type": "code",
   "execution_count": 2,
   "metadata": {
    "colab": {},
    "colab_type": "code",
    "id": "NDqsFhLGqqhi"
   },
   "outputs": [],
   "source": [
    "# Download and save the files first so they don't have to be redownloaded every time\n",
    "download_taxi()\n",
    "\n",
    "# Load the actual data\n",
    "df_taxi_2013 = get_parsed_taxi_df(\"2013\")\n",
    "df_taxi_2014 = get_parsed_taxi_df(\"2014\")\n",
    "df_taxi_2015 = get_parsed_taxi_df(\"2015\")\n",
    "df_taxi_2016 = get_parsed_taxi_df(\"2016\")\n",
    "df_taxi_2017 = get_parsed_taxi_df(\"2017\")\n",
    "df_taxi_2018 = get_parsed_taxi_df(\"2018\")\n",
    "\n",
    "df_taxi_all  = [df_taxi_2013,df_taxi_2014,df_taxi_2015,df_taxi_2016,df_taxi_2017,df_taxi_2018]"
   ]
  },
  {
   "cell_type": "code",
   "execution_count": 3,
   "metadata": {
    "colab": {},
    "colab_type": "code",
    "id": "WELCupMUU98C"
   },
   "outputs": [],
   "source": [
    "#Clean column names\n",
    "for df in df_taxi_all:\n",
    "    df.columns = clean_col_names(df.columns)"
   ]
  },
  {
   "cell_type": "markdown",
   "metadata": {},
   "source": [
    "#### Taxi Feature Engineering"
   ]
  },
  {
   "cell_type": "code",
   "execution_count": 21,
   "metadata": {
    "colab": {},
    "colab_type": "code",
    "id": "Z4MVtZFVRpx9"
   },
   "outputs": [],
   "source": [
    "# add trip duration column\n",
    "for df in df_taxi_all:\n",
    "    if not('tripduration' in df.columns):\n",
    "        df['tripduration'] = (df['dropoff_datetime'] - df['pickup_datetime']).dt.total_seconds()"
   ]
  },
  {
   "cell_type": "markdown",
   "metadata": {
    "colab_type": "text",
    "id": "G8tvoelD_zZ6"
   },
   "source": [
    "# Citi Bike Dataframes\n",
    "Since Citi Bike does not directly provide csv files, we must handle the zip files, extract, and load them accordingly."
   ]
  },
  {
   "cell_type": "code",
   "execution_count": 46,
   "metadata": {
    "colab": {},
    "colab_type": "code",
    "id": "j7Qey2ah65QT"
   },
   "outputs": [],
   "source": [
    "reg_pattern = re.compile(\"^\\d+.*\\.csv$\")\n",
    "\n",
    "for n in YEARS:\n",
    "  # See if the file exists\n",
    "  file_path = get_csv_name(\"bike\", n)\n",
    "  if os.path.isfile(file_path) is True:\n",
    "    continue\n",
    "\n",
    "  # If not, request and save it\n",
    "  req_url = \"\"\n",
    "  if n != \"2017\" and n != \"2018\":\n",
    "    req_url = \"https://s3.amazonaws.com/tripdata/\" + n + \"06-citibike-tripdata.zip\"\n",
    "  else:\n",
    "    req_url = \"https://s3.amazonaws.com/tripdata/\" + n + \"06-citibike-tripdata.csv.zip\"\n",
    "    \n",
    "  # Handle the ZIP\n",
    "  z = zipfile.ZipFile(io.BytesIO(requests.get(req_url).content))\n",
    "  orig_file_name = list(filter(reg_pattern.match, z.namelist()))[0]\n",
    "  z.extract(orig_file_name)\n",
    "  os.rename(orig_file_name, get_csv_name(\"bike\", n)) # Renaming the file will automatically remove the original, extracted file"
   ]
  },
  {
   "cell_type": "code",
   "execution_count": 47,
   "metadata": {
    "colab": {},
    "colab_type": "code",
    "id": "vCP7pOzX-ghZ"
   },
   "outputs": [],
   "source": [
    "# The dtypes can't be passed in atm because some columns that should be integers have non-number strings in them\n",
    "# Some columns that should be integers are floats instead because pandas can't put NaN values in integer columns\n",
    "\"\"\"\n",
    "dtypes = {\n",
    "    \"tripduration\": np.int32,\n",
    "    \"starttime\": \"str\",\n",
    "    \"stoptime\": \"str\",\n",
    "    \"start station id\": np.float32,\n",
    "    \"start station name\": \"str\",\n",
    "    \"start station latitude\": np.float32,\n",
    "    \"start station longitude\": np.float32,\n",
    "    \"end station id\": np.float32,\n",
    "    \"end station name\": \"str\",\n",
    "    \"end station latitude\": np.float32,\n",
    "    \"end station longitude\": np.float32,\n",
    "    \"bikeid\": np.int32,\n",
    "    \"usertype\": \"str\",\n",
    "    \"birth year\": np.float32,\n",
    "    \"gender\": np.int32\n",
    "}\n",
    "\"\"\"\n",
    "\n",
    "\n",
    "df_bike_2013_orig = pd.read_csv(get_csv_name(\"bike\", \"2013\"))\n",
    "df_bike_2014_orig = pd.read_csv(get_csv_name(\"bike\", \"2014\"))\n",
    "df_bike_2015_orig = pd.read_csv(get_csv_name(\"bike\", \"2015\"))\n",
    "df_bike_2016_orig = pd.read_csv(get_csv_name(\"bike\", \"2016\"))\n",
    "df_bike_2017_orig = pd.read_csv(get_csv_name(\"bike\", \"2017\"))\n",
    "df_bike_2018_orig = pd.read_csv(get_csv_name(\"bike\", \"2018\"))"
   ]
  },
  {
   "cell_type": "code",
   "execution_count": 48,
   "metadata": {
    "colab": {},
    "colab_type": "code",
    "id": "_yJDOlhI-3gB"
   },
   "outputs": [],
   "source": [
    "# Convert to datetime. This was really annoying with the different formats - if the format is unspecified, the functions never stop running.\n",
    "# Also must assert that the last row of data has a start time greater than the second week, to make sure we have the full first 2 weeks of data\n",
    "\n",
    "# 2013\n",
    "df_bike_2013_orig['starttime'] = pd.to_datetime(df_bike_2013_orig['starttime'])\n",
    "df_bike_2013_orig['stoptime'] = pd.to_datetime(df_bike_2013_orig['stoptime'])\n",
    "assert df_bike_2013_orig.iloc[-1].starttime > datetime.strptime('2013-06-07', '%Y-%m-%d'), \"Missing full 1 week of data for 2013\"\n",
    "\n",
    "# 2014\n",
    "df_bike_2014_orig['starttime'] = pd.to_datetime(df_bike_2014_orig['starttime'])\n",
    "df_bike_2014_orig['stoptime'] = pd.to_datetime(df_bike_2014_orig['stoptime'])\n",
    "assert df_bike_2014_orig.iloc[-1].starttime > datetime.strptime('2014-06-07', '%Y-%m-%d'), \"Missing full 1 week of data for 2014\"\n",
    "\n",
    "# 2015\n",
    "df_bike_2015_orig['starttime'] = pd.to_datetime(df_bike_2015_orig[\"starttime\"], format=\"%m/%d/%Y %H:%M\")\n",
    "df_bike_2015_orig['stoptime'] = pd.to_datetime(df_bike_2015_orig['stoptime'], format=\"%m/%d/%Y %H:%M\")\n",
    "assert df_bike_2015_orig.iloc[-1].starttime > datetime.strptime('2015-06-07', '%Y-%m-%d'), \"Missing full 1 week of data for 2015\"\n",
    "\n",
    "# 2016\n",
    "df_bike_2016_orig['starttime'] = pd.to_datetime(df_bike_2016_orig['starttime'], format=\"%m/%d/%Y %H:%M:%S\")\n",
    "df_bike_2016_orig['stoptime'] = pd.to_datetime(df_bike_2016_orig['stoptime'], format=\"%m/%d/%Y %H:%M:%S\")\n",
    "assert df_bike_2016_orig.iloc[-1].starttime > datetime.strptime('2016-06-07', '%Y-%m-%d'), \"Missing full 1 week of data for 2016\"\n",
    "\n",
    "# 2017\n",
    "df_bike_2017_orig['starttime'] = pd.to_datetime(df_bike_2017_orig['starttime'], format=\"%Y-%m-%d %H:%M:%S\")\n",
    "df_bike_2017_orig['stoptime'] = pd.to_datetime(df_bike_2017_orig['stoptime'], format=\"%Y-%m-%d %H:%M:%S\")\n",
    "assert df_bike_2017_orig.iloc[-1].starttime > datetime.strptime('2017-06-07', '%Y-%m-%d'), \"Missing full 1 week of data for 2017\"\n",
    "\n",
    "# 2018\n",
    "df_bike_2018_orig['starttime'] = pd.to_datetime(df_bike_2018_orig['starttime'], format=\"%Y-%m-%d %H:%M:%S\")\n",
    "df_bike_2018_orig['stoptime'] = pd.to_datetime(df_bike_2018_orig['stoptime'], format=\"%Y-%m-%d %H:%M:%S\")\n",
    "assert df_bike_2018_orig.iloc[-1].starttime > datetime.strptime('2018-06-07', '%Y-%m-%d'), \"Missing full 1 week of data for 2018\""
   ]
  },
  {
   "cell_type": "code",
   "execution_count": 49,
   "metadata": {
    "colab": {},
    "colab_type": "code",
    "id": "64XM7FHicQYF"
   },
   "outputs": [],
   "source": [
    "# Our main Citi Bike dataframes we'll be using, with a full week of data for each year\n",
    "\n",
    "df_bike_2013 = df_bike_2013_orig[(df_bike_2013_orig['starttime'] > '2013-06-01') & (df_bike_2013_orig['starttime'] < '2013-06-08')]\n",
    "df_bike_2014 = df_bike_2014_orig[(df_bike_2014_orig['starttime'] > '2014-06-01') & (df_bike_2014_orig['starttime'] < '2014-06-08')]\n",
    "df_bike_2015 = df_bike_2015_orig[(df_bike_2015_orig['starttime'] > '2015-06-01') & (df_bike_2015_orig['starttime'] < '2015-06-08')]\n",
    "df_bike_2016 = df_bike_2016_orig[(df_bike_2016_orig['starttime'] > '2016-06-01') & (df_bike_2016_orig['starttime'] < '2016-06-08')]\n",
    "df_bike_2017 = df_bike_2017_orig[(df_bike_2017_orig['starttime'] > '2017-06-01') & (df_bike_2017_orig['starttime'] < '2017-06-08')]\n",
    "df_bike_2018 = df_bike_2018_orig[(df_bike_2018_orig['starttime'] > '2018-06-01') & (df_bike_2018_orig['starttime'] < '2018-06-08')]\n"
   ]
  },
  {
   "cell_type": "code",
   "execution_count": null,
   "metadata": {},
   "outputs": [],
   "source": [
    "#Clean column names\n",
    "df_bike_all = [df_bike_2013,df_bike_2014,df_bike_2015,df_bike_2016,df_bike_2017,df_bike_2018]\n",
    "for df in df_bike_all:\n",
    "    df.columns = clean_col_names(df.columns)"
   ]
  },
  {
   "cell_type": "code",
   "execution_count": 64,
   "metadata": {
    "colab": {
     "base_uri": "https://localhost:8080/",
     "height": 568
    },
    "colab_type": "code",
    "id": "00jSE_uxU99F",
    "outputId": "158242ce-23c3-457b-a43d-69697530c97b"
   },
   "outputs": [
    {
     "name": "stderr",
     "output_type": "stream",
     "text": [
      "/home/dan/.local/lib/python3.7/site-packages/ipykernel_launcher.py:27: SettingWithCopyWarning: \n",
      "A value is trying to be set on a copy of a slice from a DataFrame.\n",
      "Try using .loc[row_indexer,col_indexer] = value instead\n",
      "\n",
      "See the caveats in the documentation: http://pandas.pydata.org/pandas-docs/stable/indexing.html#indexing-view-versus-copy\n",
      "/home/dan/.local/lib/python3.7/site-packages/ipykernel_launcher.py:33: SettingWithCopyWarning: \n",
      "A value is trying to be set on a copy of a slice from a DataFrame.\n",
      "Try using .loc[row_indexer,col_indexer] = value instead\n",
      "\n",
      "See the caveats in the documentation: http://pandas.pydata.org/pandas-docs/stable/indexing.html#indexing-view-versus-copy\n",
      "/home/dan/.local/lib/python3.7/site-packages/ipykernel_launcher.py:39: SettingWithCopyWarning: \n",
      "A value is trying to be set on a copy of a slice from a DataFrame.\n",
      "Try using .loc[row_indexer,col_indexer] = value instead\n",
      "\n",
      "See the caveats in the documentation: http://pandas.pydata.org/pandas-docs/stable/indexing.html#indexing-view-versus-copy\n",
      "/home/dan/.local/lib/python3.7/site-packages/ipykernel_launcher.py:45: SettingWithCopyWarning: \n",
      "A value is trying to be set on a copy of a slice from a DataFrame.\n",
      "Try using .loc[row_indexer,col_indexer] = value instead\n",
      "\n",
      "See the caveats in the documentation: http://pandas.pydata.org/pandas-docs/stable/indexing.html#indexing-view-versus-copy\n",
      "/home/dan/.local/lib/python3.7/site-packages/ipykernel_launcher.py:51: SettingWithCopyWarning: \n",
      "A value is trying to be set on a copy of a slice from a DataFrame.\n",
      "Try using .loc[row_indexer,col_indexer] = value instead\n",
      "\n",
      "See the caveats in the documentation: http://pandas.pydata.org/pandas-docs/stable/indexing.html#indexing-view-versus-copy\n",
      "/home/dan/.local/lib/python3.7/site-packages/ipykernel_launcher.py:57: SettingWithCopyWarning: \n",
      "A value is trying to be set on a copy of a slice from a DataFrame.\n",
      "Try using .loc[row_indexer,col_indexer] = value instead\n",
      "\n",
      "See the caveats in the documentation: http://pandas.pydata.org/pandas-docs/stable/indexing.html#indexing-view-versus-copy\n"
     ]
    }
   ],
   "source": [
    "# add trip distance (distance between start and end station, in miles) to bike dataframes\n",
    "# throws a bunch of errors, but idk still works so......\n",
    "\n",
    "def haversine(lat1, lon1, lat2, lon2, to_radians=True, earth_radius=6371):\n",
    "    \"\"\"\n",
    "    slightly modified version: of http://stackoverflow.com/a/29546836/2901002\n",
    "\n",
    "    Calculate the great circle distance between two points\n",
    "    on the earth (specified in decimal degrees or in radians)\n",
    "\n",
    "    All (lat, lon) coordinates must have numeric dtypes and be of equal length.\n",
    "\n",
    "    \"\"\"\n",
    "    if to_radians:\n",
    "        lat1, lon1, lat2, lon2 = np.radians([lat1, lon1, lat2, lon2])\n",
    "\n",
    "    a = np.sin((lat2-lat1)/2.0)**2 + \\\n",
    "        np.cos(lat1) * np.cos(lat2) * np.sin((lon2-lon1)/2.0)**2\n",
    "\n",
    "    return earth_radius * 2 * np.arcsin(np.sqrt(a)) * .62137\n",
    "\n",
    "\n",
    "df_bike_2013['trip_distance'] = haversine(\n",
    "            df_bike_2013['start_station_latitude'], \n",
    "            df_bike_2013['start_station_longitude'],\n",
    "            df_bike_2013['end_station_latitude'], \n",
    "            df_bike_2013['end_station_longitude'])\n",
    "\n",
    "df_bike_2014['trip_distance'] = haversine(\n",
    "            df_bike_2014['start_station_latitude'], \n",
    "            df_bike_2014['start_station_longitude'],\n",
    "            df_bike_2014['end_station_latitude'], \n",
    "            df_bike_2014['end_station_longitude'])\n",
    "\n",
    "df_bike_2015['trip_distance'] = haversine(\n",
    "            df_bike_2015['start_station_latitude'], \n",
    "            df_bike_2015['start_station_longitude'],\n",
    "            df_bike_2015['end_station_latitude'], \n",
    "            df_bike_2015['end_station_longitude'])\n",
    "\n",
    "df_bike_2016['trip_distance'] = haversine(\n",
    "            df_bike_2016['start_station_latitude'], \n",
    "            df_bike_2016['start_station_longitude'],\n",
    "            df_bike_2016['end_station_latitude'], \n",
    "            df_bike_2016['end_station_longitude'])\n",
    "\n",
    "df_bike_2017['trip_distance'] = haversine(\n",
    "            df_bike_2017['start_station_latitude'], \n",
    "            df_bike_2017['start_station_longitude'],\n",
    "            df_bike_2017['end_station_latitude'], \n",
    "            df_bike_2017['end_station_longitude'])\n",
    "\n",
    "df_bike_2018['trip_distance'] = haversine(\n",
    "            df_bike_2018['start_station_latitude'], \n",
    "            df_bike_2018['start_station_longitude'],\n",
    "            df_bike_2018['end_station_latitude'], \n",
    "            df_bike_2018['end_station_longitude'])\n"
   ]
  },
  {
   "cell_type": "code",
   "execution_count": 63,
   "metadata": {
    "colab": {
     "base_uri": "https://localhost:8080/",
     "height": 1146
    },
    "colab_type": "code",
    "id": "yAGu3yR1jh3w",
    "outputId": "ebf34948-114a-4086-b363-ce14b7dcaabf"
   },
   "outputs": [
    {
     "data": {
      "text/html": [
       "<div>\n",
       "<style scoped>\n",
       "    .dataframe tbody tr th:only-of-type {\n",
       "        vertical-align: middle;\n",
       "    }\n",
       "\n",
       "    .dataframe tbody tr th {\n",
       "        vertical-align: top;\n",
       "    }\n",
       "\n",
       "    .dataframe thead th {\n",
       "        text-align: right;\n",
       "    }\n",
       "</style>\n",
       "<table border=\"1\" class=\"dataframe\">\n",
       "  <thead>\n",
       "    <tr style=\"text-align: right;\">\n",
       "      <th></th>\n",
       "      <th>tripduration</th>\n",
       "      <th>starttime</th>\n",
       "      <th>stoptime</th>\n",
       "      <th>start_station_id</th>\n",
       "      <th>start_station_name</th>\n",
       "      <th>start_station_latitude</th>\n",
       "      <th>start_station_longitude</th>\n",
       "      <th>end_station_id</th>\n",
       "      <th>end_station_name</th>\n",
       "      <th>end_station_latitude</th>\n",
       "      <th>end_station_longitude</th>\n",
       "      <th>bikeid</th>\n",
       "      <th>usertype</th>\n",
       "      <th>birth_year</th>\n",
       "      <th>gender</th>\n",
       "      <th>trip_distance</th>\n",
       "      <th>day</th>\n",
       "    </tr>\n",
       "  </thead>\n",
       "  <tbody>\n",
       "    <tr>\n",
       "      <th>0</th>\n",
       "      <td>569</td>\n",
       "      <td>2018-06-01 01:57:20.514</td>\n",
       "      <td>2018-06-01 02:06:50.088</td>\n",
       "      <td>72</td>\n",
       "      <td>W 52 St &amp; 11 Ave</td>\n",
       "      <td>40.767272</td>\n",
       "      <td>-73.993929</td>\n",
       "      <td>173</td>\n",
       "      <td>Broadway &amp; W 49 St</td>\n",
       "      <td>40.760683</td>\n",
       "      <td>-73.984527</td>\n",
       "      <td>21481</td>\n",
       "      <td>Subscriber</td>\n",
       "      <td>1999</td>\n",
       "      <td>1</td>\n",
       "      <td>0.670309</td>\n",
       "      <td>01 (Fri)</td>\n",
       "    </tr>\n",
       "    <tr>\n",
       "      <th>1</th>\n",
       "      <td>480</td>\n",
       "      <td>2018-06-01 02:02:42.398</td>\n",
       "      <td>2018-06-01 02:10:43.354</td>\n",
       "      <td>72</td>\n",
       "      <td>W 52 St &amp; 11 Ave</td>\n",
       "      <td>40.767272</td>\n",
       "      <td>-73.993929</td>\n",
       "      <td>477</td>\n",
       "      <td>W 41 St &amp; 8 Ave</td>\n",
       "      <td>40.756405</td>\n",
       "      <td>-73.990026</td>\n",
       "      <td>19123</td>\n",
       "      <td>Subscriber</td>\n",
       "      <td>1988</td>\n",
       "      <td>1</td>\n",
       "      <td>0.778097</td>\n",
       "      <td>01 (Fri)</td>\n",
       "    </tr>\n",
       "    <tr>\n",
       "      <th>2</th>\n",
       "      <td>692</td>\n",
       "      <td>2018-06-01 02:04:23.624</td>\n",
       "      <td>2018-06-01 02:15:55.747</td>\n",
       "      <td>72</td>\n",
       "      <td>W 52 St &amp; 11 Ave</td>\n",
       "      <td>40.767272</td>\n",
       "      <td>-73.993929</td>\n",
       "      <td>457</td>\n",
       "      <td>Broadway &amp; W 58 St</td>\n",
       "      <td>40.766953</td>\n",
       "      <td>-73.981693</td>\n",
       "      <td>26983</td>\n",
       "      <td>Subscriber</td>\n",
       "      <td>1986</td>\n",
       "      <td>1</td>\n",
       "      <td>0.640655</td>\n",
       "      <td>01 (Fri)</td>\n",
       "    </tr>\n",
       "    <tr>\n",
       "      <th>3</th>\n",
       "      <td>664</td>\n",
       "      <td>2018-06-01 03:00:55.461</td>\n",
       "      <td>2018-06-01 03:11:59.906</td>\n",
       "      <td>72</td>\n",
       "      <td>W 52 St &amp; 11 Ave</td>\n",
       "      <td>40.767272</td>\n",
       "      <td>-73.993929</td>\n",
       "      <td>379</td>\n",
       "      <td>W 31 St &amp; 7 Ave</td>\n",
       "      <td>40.749156</td>\n",
       "      <td>-73.991600</td>\n",
       "      <td>26742</td>\n",
       "      <td>Subscriber</td>\n",
       "      <td>1973</td>\n",
       "      <td>1</td>\n",
       "      <td>1.257624</td>\n",
       "      <td>01 (Fri)</td>\n",
       "    </tr>\n",
       "    <tr>\n",
       "      <th>4</th>\n",
       "      <td>818</td>\n",
       "      <td>2018-06-01 06:04:54.427</td>\n",
       "      <td>2018-06-01 06:18:32.617</td>\n",
       "      <td>72</td>\n",
       "      <td>W 52 St &amp; 11 Ave</td>\n",
       "      <td>40.767272</td>\n",
       "      <td>-73.993929</td>\n",
       "      <td>459</td>\n",
       "      <td>W 20 St &amp; 11 Ave</td>\n",
       "      <td>40.746745</td>\n",
       "      <td>-74.007756</td>\n",
       "      <td>26386</td>\n",
       "      <td>Subscriber</td>\n",
       "      <td>1984</td>\n",
       "      <td>1</td>\n",
       "      <td>1.592243</td>\n",
       "      <td>01 (Fri)</td>\n",
       "    </tr>\n",
       "    <tr>\n",
       "      <th>5</th>\n",
       "      <td>753</td>\n",
       "      <td>2018-06-01 06:11:52.599</td>\n",
       "      <td>2018-06-01 06:24:26.198</td>\n",
       "      <td>72</td>\n",
       "      <td>W 52 St &amp; 11 Ave</td>\n",
       "      <td>40.767272</td>\n",
       "      <td>-73.993929</td>\n",
       "      <td>446</td>\n",
       "      <td>W 24 St &amp; 7 Ave</td>\n",
       "      <td>40.744876</td>\n",
       "      <td>-73.995299</td>\n",
       "      <td>27073</td>\n",
       "      <td>Subscriber</td>\n",
       "      <td>1981</td>\n",
       "      <td>1</td>\n",
       "      <td>1.549059</td>\n",
       "      <td>01 (Fri)</td>\n",
       "    </tr>\n",
       "    <tr>\n",
       "      <th>6</th>\n",
       "      <td>687</td>\n",
       "      <td>2018-06-01 07:15:15.565</td>\n",
       "      <td>2018-06-01 07:26:42.867</td>\n",
       "      <td>72</td>\n",
       "      <td>W 52 St &amp; 11 Ave</td>\n",
       "      <td>40.767272</td>\n",
       "      <td>-73.993929</td>\n",
       "      <td>212</td>\n",
       "      <td>W 16 St &amp; The High Line</td>\n",
       "      <td>40.743349</td>\n",
       "      <td>-74.006818</td>\n",
       "      <td>14612</td>\n",
       "      <td>Subscriber</td>\n",
       "      <td>1968</td>\n",
       "      <td>1</td>\n",
       "      <td>1.785255</td>\n",
       "      <td>01 (Fri)</td>\n",
       "    </tr>\n",
       "    <tr>\n",
       "      <th>7</th>\n",
       "      <td>619</td>\n",
       "      <td>2018-06-01 07:40:02.578</td>\n",
       "      <td>2018-06-01 07:50:22.028</td>\n",
       "      <td>72</td>\n",
       "      <td>W 52 St &amp; 11 Ave</td>\n",
       "      <td>40.767272</td>\n",
       "      <td>-73.993929</td>\n",
       "      <td>458</td>\n",
       "      <td>11 Ave &amp; W 27 St</td>\n",
       "      <td>40.751396</td>\n",
       "      <td>-74.005226</td>\n",
       "      <td>16415</td>\n",
       "      <td>Subscriber</td>\n",
       "      <td>1990</td>\n",
       "      <td>2</td>\n",
       "      <td>1.246125</td>\n",
       "      <td>01 (Fri)</td>\n",
       "    </tr>\n",
       "    <tr>\n",
       "      <th>8</th>\n",
       "      <td>819</td>\n",
       "      <td>2018-06-01 07:43:01.958</td>\n",
       "      <td>2018-06-01 07:56:41.328</td>\n",
       "      <td>72</td>\n",
       "      <td>W 52 St &amp; 11 Ave</td>\n",
       "      <td>40.767272</td>\n",
       "      <td>-73.993929</td>\n",
       "      <td>212</td>\n",
       "      <td>W 16 St &amp; The High Line</td>\n",
       "      <td>40.743349</td>\n",
       "      <td>-74.006818</td>\n",
       "      <td>31551</td>\n",
       "      <td>Subscriber</td>\n",
       "      <td>1981</td>\n",
       "      <td>1</td>\n",
       "      <td>1.785255</td>\n",
       "      <td>01 (Fri)</td>\n",
       "    </tr>\n",
       "    <tr>\n",
       "      <th>9</th>\n",
       "      <td>335</td>\n",
       "      <td>2018-06-01 07:49:47.934</td>\n",
       "      <td>2018-06-01 07:55:23.309</td>\n",
       "      <td>72</td>\n",
       "      <td>W 52 St &amp; 11 Ave</td>\n",
       "      <td>40.767272</td>\n",
       "      <td>-73.993929</td>\n",
       "      <td>514</td>\n",
       "      <td>12 Ave &amp; W 40 St</td>\n",
       "      <td>40.760875</td>\n",
       "      <td>-74.002777</td>\n",
       "      <td>26058</td>\n",
       "      <td>Subscriber</td>\n",
       "      <td>1988</td>\n",
       "      <td>2</td>\n",
       "      <td>0.640117</td>\n",
       "      <td>01 (Fri)</td>\n",
       "    </tr>\n",
       "    <tr>\n",
       "      <th>10</th>\n",
       "      <td>325</td>\n",
       "      <td>2018-06-01 07:52:11.922</td>\n",
       "      <td>2018-06-01 07:57:37.618</td>\n",
       "      <td>72</td>\n",
       "      <td>W 52 St &amp; 11 Ave</td>\n",
       "      <td>40.767272</td>\n",
       "      <td>-73.993929</td>\n",
       "      <td>514</td>\n",
       "      <td>12 Ave &amp; W 40 St</td>\n",
       "      <td>40.760875</td>\n",
       "      <td>-74.002777</td>\n",
       "      <td>31268</td>\n",
       "      <td>Subscriber</td>\n",
       "      <td>1994</td>\n",
       "      <td>1</td>\n",
       "      <td>0.640117</td>\n",
       "      <td>01 (Fri)</td>\n",
       "    </tr>\n",
       "    <tr>\n",
       "      <th>11</th>\n",
       "      <td>1030</td>\n",
       "      <td>2018-06-01 07:52:49.933</td>\n",
       "      <td>2018-06-01 08:10:00.412</td>\n",
       "      <td>72</td>\n",
       "      <td>W 52 St &amp; 11 Ave</td>\n",
       "      <td>40.767272</td>\n",
       "      <td>-73.993929</td>\n",
       "      <td>465</td>\n",
       "      <td>Broadway &amp; W 41 St</td>\n",
       "      <td>40.755136</td>\n",
       "      <td>-73.986580</td>\n",
       "      <td>32090</td>\n",
       "      <td>Subscriber</td>\n",
       "      <td>1961</td>\n",
       "      <td>1</td>\n",
       "      <td>0.922538</td>\n",
       "      <td>01 (Fri)</td>\n",
       "    </tr>\n",
       "    <tr>\n",
       "      <th>12</th>\n",
       "      <td>390</td>\n",
       "      <td>2018-06-01 08:06:25.136</td>\n",
       "      <td>2018-06-01 08:12:55.612</td>\n",
       "      <td>72</td>\n",
       "      <td>W 52 St &amp; 11 Ave</td>\n",
       "      <td>40.767272</td>\n",
       "      <td>-73.993929</td>\n",
       "      <td>173</td>\n",
       "      <td>Broadway &amp; W 49 St</td>\n",
       "      <td>40.760683</td>\n",
       "      <td>-73.984527</td>\n",
       "      <td>27374</td>\n",
       "      <td>Subscriber</td>\n",
       "      <td>1987</td>\n",
       "      <td>1</td>\n",
       "      <td>0.670309</td>\n",
       "      <td>01 (Fri)</td>\n",
       "    </tr>\n",
       "    <tr>\n",
       "      <th>13</th>\n",
       "      <td>597</td>\n",
       "      <td>2018-06-01 08:09:46.529</td>\n",
       "      <td>2018-06-01 08:19:44.427</td>\n",
       "      <td>72</td>\n",
       "      <td>W 52 St &amp; 11 Ave</td>\n",
       "      <td>40.767272</td>\n",
       "      <td>-73.993929</td>\n",
       "      <td>524</td>\n",
       "      <td>W 43 St &amp; 6 Ave</td>\n",
       "      <td>40.755273</td>\n",
       "      <td>-73.983169</td>\n",
       "      <td>20140</td>\n",
       "      <td>Subscriber</td>\n",
       "      <td>1960</td>\n",
       "      <td>2</td>\n",
       "      <td>1.002197</td>\n",
       "      <td>01 (Fri)</td>\n",
       "    </tr>\n",
       "    <tr>\n",
       "      <th>14</th>\n",
       "      <td>426</td>\n",
       "      <td>2018-06-01 08:15:12.475</td>\n",
       "      <td>2018-06-01 08:22:19.042</td>\n",
       "      <td>72</td>\n",
       "      <td>W 52 St &amp; 11 Ave</td>\n",
       "      <td>40.767272</td>\n",
       "      <td>-73.993929</td>\n",
       "      <td>173</td>\n",
       "      <td>Broadway &amp; W 49 St</td>\n",
       "      <td>40.760683</td>\n",
       "      <td>-73.984527</td>\n",
       "      <td>15734</td>\n",
       "      <td>Subscriber</td>\n",
       "      <td>1983</td>\n",
       "      <td>1</td>\n",
       "      <td>0.670309</td>\n",
       "      <td>01 (Fri)</td>\n",
       "    </tr>\n",
       "    <tr>\n",
       "      <th>15</th>\n",
       "      <td>748</td>\n",
       "      <td>2018-06-01 08:24:09.530</td>\n",
       "      <td>2018-06-01 08:36:38.168</td>\n",
       "      <td>72</td>\n",
       "      <td>W 52 St &amp; 11 Ave</td>\n",
       "      <td>40.767272</td>\n",
       "      <td>-73.993929</td>\n",
       "      <td>212</td>\n",
       "      <td>W 16 St &amp; The High Line</td>\n",
       "      <td>40.743349</td>\n",
       "      <td>-74.006818</td>\n",
       "      <td>30907</td>\n",
       "      <td>Subscriber</td>\n",
       "      <td>1973</td>\n",
       "      <td>1</td>\n",
       "      <td>1.785255</td>\n",
       "      <td>01 (Fri)</td>\n",
       "    </tr>\n",
       "    <tr>\n",
       "      <th>16</th>\n",
       "      <td>1265</td>\n",
       "      <td>2018-06-01 08:37:14.581</td>\n",
       "      <td>2018-06-01 08:58:20.500</td>\n",
       "      <td>72</td>\n",
       "      <td>W 52 St &amp; 11 Ave</td>\n",
       "      <td>40.767272</td>\n",
       "      <td>-73.993929</td>\n",
       "      <td>382</td>\n",
       "      <td>University Pl &amp; E 14 St</td>\n",
       "      <td>40.734927</td>\n",
       "      <td>-73.992005</td>\n",
       "      <td>20732</td>\n",
       "      <td>Subscriber</td>\n",
       "      <td>1991</td>\n",
       "      <td>1</td>\n",
       "      <td>2.237101</td>\n",
       "      <td>01 (Fri)</td>\n",
       "    </tr>\n",
       "    <tr>\n",
       "      <th>17</th>\n",
       "      <td>750</td>\n",
       "      <td>2018-06-01 08:37:32.613</td>\n",
       "      <td>2018-06-01 08:50:03.268</td>\n",
       "      <td>72</td>\n",
       "      <td>W 52 St &amp; 11 Ave</td>\n",
       "      <td>40.767272</td>\n",
       "      <td>-73.993929</td>\n",
       "      <td>462</td>\n",
       "      <td>W 22 St &amp; 10 Ave</td>\n",
       "      <td>40.746920</td>\n",
       "      <td>-74.004519</td>\n",
       "      <td>28341</td>\n",
       "      <td>Subscriber</td>\n",
       "      <td>1992</td>\n",
       "      <td>1</td>\n",
       "      <td>1.511508</td>\n",
       "      <td>01 (Fri)</td>\n",
       "    </tr>\n",
       "    <tr>\n",
       "      <th>18</th>\n",
       "      <td>940</td>\n",
       "      <td>2018-06-01 08:39:48.125</td>\n",
       "      <td>2018-06-01 08:55:28.705</td>\n",
       "      <td>72</td>\n",
       "      <td>W 52 St &amp; 11 Ave</td>\n",
       "      <td>40.767272</td>\n",
       "      <td>-73.993929</td>\n",
       "      <td>3141</td>\n",
       "      <td>1 Ave &amp; E 68 St</td>\n",
       "      <td>40.765005</td>\n",
       "      <td>-73.958185</td>\n",
       "      <td>33317</td>\n",
       "      <td>Subscriber</td>\n",
       "      <td>1971</td>\n",
       "      <td>1</td>\n",
       "      <td>1.877024</td>\n",
       "      <td>01 (Fri)</td>\n",
       "    </tr>\n",
       "    <tr>\n",
       "      <th>19</th>\n",
       "      <td>645</td>\n",
       "      <td>2018-06-01 08:42:47.187</td>\n",
       "      <td>2018-06-01 08:53:32.752</td>\n",
       "      <td>72</td>\n",
       "      <td>W 52 St &amp; 11 Ave</td>\n",
       "      <td>40.767272</td>\n",
       "      <td>-73.993929</td>\n",
       "      <td>456</td>\n",
       "      <td>E 53 St &amp; Madison Ave</td>\n",
       "      <td>40.759711</td>\n",
       "      <td>-73.974023</td>\n",
       "      <td>32174</td>\n",
       "      <td>Subscriber</td>\n",
       "      <td>1984</td>\n",
       "      <td>1</td>\n",
       "      <td>1.165374</td>\n",
       "      <td>01 (Fri)</td>\n",
       "    </tr>\n",
       "  </tbody>\n",
       "</table>\n",
       "</div>"
      ],
      "text/plain": [
       "    tripduration               starttime                stoptime  \\\n",
       "0            569 2018-06-01 01:57:20.514 2018-06-01 02:06:50.088   \n",
       "1            480 2018-06-01 02:02:42.398 2018-06-01 02:10:43.354   \n",
       "2            692 2018-06-01 02:04:23.624 2018-06-01 02:15:55.747   \n",
       "3            664 2018-06-01 03:00:55.461 2018-06-01 03:11:59.906   \n",
       "4            818 2018-06-01 06:04:54.427 2018-06-01 06:18:32.617   \n",
       "5            753 2018-06-01 06:11:52.599 2018-06-01 06:24:26.198   \n",
       "6            687 2018-06-01 07:15:15.565 2018-06-01 07:26:42.867   \n",
       "7            619 2018-06-01 07:40:02.578 2018-06-01 07:50:22.028   \n",
       "8            819 2018-06-01 07:43:01.958 2018-06-01 07:56:41.328   \n",
       "9            335 2018-06-01 07:49:47.934 2018-06-01 07:55:23.309   \n",
       "10           325 2018-06-01 07:52:11.922 2018-06-01 07:57:37.618   \n",
       "11          1030 2018-06-01 07:52:49.933 2018-06-01 08:10:00.412   \n",
       "12           390 2018-06-01 08:06:25.136 2018-06-01 08:12:55.612   \n",
       "13           597 2018-06-01 08:09:46.529 2018-06-01 08:19:44.427   \n",
       "14           426 2018-06-01 08:15:12.475 2018-06-01 08:22:19.042   \n",
       "15           748 2018-06-01 08:24:09.530 2018-06-01 08:36:38.168   \n",
       "16          1265 2018-06-01 08:37:14.581 2018-06-01 08:58:20.500   \n",
       "17           750 2018-06-01 08:37:32.613 2018-06-01 08:50:03.268   \n",
       "18           940 2018-06-01 08:39:48.125 2018-06-01 08:55:28.705   \n",
       "19           645 2018-06-01 08:42:47.187 2018-06-01 08:53:32.752   \n",
       "\n",
       "    start_station_id start_station_name  start_station_latitude  \\\n",
       "0                 72   W 52 St & 11 Ave               40.767272   \n",
       "1                 72   W 52 St & 11 Ave               40.767272   \n",
       "2                 72   W 52 St & 11 Ave               40.767272   \n",
       "3                 72   W 52 St & 11 Ave               40.767272   \n",
       "4                 72   W 52 St & 11 Ave               40.767272   \n",
       "5                 72   W 52 St & 11 Ave               40.767272   \n",
       "6                 72   W 52 St & 11 Ave               40.767272   \n",
       "7                 72   W 52 St & 11 Ave               40.767272   \n",
       "8                 72   W 52 St & 11 Ave               40.767272   \n",
       "9                 72   W 52 St & 11 Ave               40.767272   \n",
       "10                72   W 52 St & 11 Ave               40.767272   \n",
       "11                72   W 52 St & 11 Ave               40.767272   \n",
       "12                72   W 52 St & 11 Ave               40.767272   \n",
       "13                72   W 52 St & 11 Ave               40.767272   \n",
       "14                72   W 52 St & 11 Ave               40.767272   \n",
       "15                72   W 52 St & 11 Ave               40.767272   \n",
       "16                72   W 52 St & 11 Ave               40.767272   \n",
       "17                72   W 52 St & 11 Ave               40.767272   \n",
       "18                72   W 52 St & 11 Ave               40.767272   \n",
       "19                72   W 52 St & 11 Ave               40.767272   \n",
       "\n",
       "    start_station_longitude  end_station_id         end_station_name  \\\n",
       "0                -73.993929             173       Broadway & W 49 St   \n",
       "1                -73.993929             477          W 41 St & 8 Ave   \n",
       "2                -73.993929             457       Broadway & W 58 St   \n",
       "3                -73.993929             379          W 31 St & 7 Ave   \n",
       "4                -73.993929             459         W 20 St & 11 Ave   \n",
       "5                -73.993929             446          W 24 St & 7 Ave   \n",
       "6                -73.993929             212  W 16 St & The High Line   \n",
       "7                -73.993929             458         11 Ave & W 27 St   \n",
       "8                -73.993929             212  W 16 St & The High Line   \n",
       "9                -73.993929             514         12 Ave & W 40 St   \n",
       "10               -73.993929             514         12 Ave & W 40 St   \n",
       "11               -73.993929             465       Broadway & W 41 St   \n",
       "12               -73.993929             173       Broadway & W 49 St   \n",
       "13               -73.993929             524          W 43 St & 6 Ave   \n",
       "14               -73.993929             173       Broadway & W 49 St   \n",
       "15               -73.993929             212  W 16 St & The High Line   \n",
       "16               -73.993929             382  University Pl & E 14 St   \n",
       "17               -73.993929             462         W 22 St & 10 Ave   \n",
       "18               -73.993929            3141          1 Ave & E 68 St   \n",
       "19               -73.993929             456    E 53 St & Madison Ave   \n",
       "\n",
       "    end_station_latitude  end_station_longitude  bikeid    usertype  \\\n",
       "0              40.760683             -73.984527   21481  Subscriber   \n",
       "1              40.756405             -73.990026   19123  Subscriber   \n",
       "2              40.766953             -73.981693   26983  Subscriber   \n",
       "3              40.749156             -73.991600   26742  Subscriber   \n",
       "4              40.746745             -74.007756   26386  Subscriber   \n",
       "5              40.744876             -73.995299   27073  Subscriber   \n",
       "6              40.743349             -74.006818   14612  Subscriber   \n",
       "7              40.751396             -74.005226   16415  Subscriber   \n",
       "8              40.743349             -74.006818   31551  Subscriber   \n",
       "9              40.760875             -74.002777   26058  Subscriber   \n",
       "10             40.760875             -74.002777   31268  Subscriber   \n",
       "11             40.755136             -73.986580   32090  Subscriber   \n",
       "12             40.760683             -73.984527   27374  Subscriber   \n",
       "13             40.755273             -73.983169   20140  Subscriber   \n",
       "14             40.760683             -73.984527   15734  Subscriber   \n",
       "15             40.743349             -74.006818   30907  Subscriber   \n",
       "16             40.734927             -73.992005   20732  Subscriber   \n",
       "17             40.746920             -74.004519   28341  Subscriber   \n",
       "18             40.765005             -73.958185   33317  Subscriber   \n",
       "19             40.759711             -73.974023   32174  Subscriber   \n",
       "\n",
       "    birth_year  gender  trip_distance       day  \n",
       "0         1999       1       0.670309  01 (Fri)  \n",
       "1         1988       1       0.778097  01 (Fri)  \n",
       "2         1986       1       0.640655  01 (Fri)  \n",
       "3         1973       1       1.257624  01 (Fri)  \n",
       "4         1984       1       1.592243  01 (Fri)  \n",
       "5         1981       1       1.549059  01 (Fri)  \n",
       "6         1968       1       1.785255  01 (Fri)  \n",
       "7         1990       2       1.246125  01 (Fri)  \n",
       "8         1981       1       1.785255  01 (Fri)  \n",
       "9         1988       2       0.640117  01 (Fri)  \n",
       "10        1994       1       0.640117  01 (Fri)  \n",
       "11        1961       1       0.922538  01 (Fri)  \n",
       "12        1987       1       0.670309  01 (Fri)  \n",
       "13        1960       2       1.002197  01 (Fri)  \n",
       "14        1983       1       0.670309  01 (Fri)  \n",
       "15        1973       1       1.785255  01 (Fri)  \n",
       "16        1991       1       2.237101  01 (Fri)  \n",
       "17        1992       1       1.511508  01 (Fri)  \n",
       "18        1971       1       1.877024  01 (Fri)  \n",
       "19        1984       1       1.165374  01 (Fri)  "
      ]
     },
     "execution_count": 63,
     "metadata": {},
     "output_type": "execute_result"
    }
   ],
   "source": [
    "df_bike_2018.head(20)"
   ]
  },
  {
   "cell_type": "markdown",
   "metadata": {},
   "source": [
    "### Zones / Neighborhoods\n",
    "\n",
    "Define NYC taxi zone as a feature for all df"
   ]
  },
  {
   "cell_type": "code",
   "execution_count": 66,
   "metadata": {},
   "outputs": [],
   "source": [
    "import shapefile #pip install pyshp\n",
    "with shapefile.Reader(\"./taxi_zones/geo_export_a619f821-072d-486f-8172-0c1be3f7e97d\") as shp:\n",
    "    shapes = shp.shapes()\n",
    "    \n",
    "    fields = shp.fields\n",
    "    \n",
    "    records = shp.records()"
   ]
  },
  {
   "cell_type": "code",
   "execution_count": 67,
   "metadata": {},
   "outputs": [],
   "source": [
    "class Zone:\n",
    "    def __init__(self,location_id,name,borough,area,bbox):\n",
    "            self.location_id = location_id\n",
    "            self.name = name\n",
    "            self.borough = borough\n",
    "            self.area = area\n",
    "            self.bbox = bbox\n",
    "    \n",
    "    def __repr__(self):\n",
    "        return str((self.location_id,self.name,self.borough,self.area,self.bbox))\n",
    "    \n",
    "    def __str__(self):\n",
    "        return(self.name + ' : ' + str(self.bbox))\n",
    "        \n",
    "ZONES = [] #List of all Zone objects \n",
    "ZONES_DIC = {} #Dictionary of all zones with location_id as key\n",
    "\n",
    "#Populate ZONES/ZONES_DIC\n",
    "for i in range(0,len(shapes)):\n",
    "    z = Zone(records[i].location_i,records[i].zone,records[i].borough,records[i].shape_area,shapes[i].bbox)\n",
    "    ZONES.append(z)\n",
    "    ZONES_DIC[str(z.location_id)] = z"
   ]
  },
  {
   "cell_type": "code",
   "execution_count": 68,
   "metadata": {},
   "outputs": [],
   "source": [
    "def zone_lookup(lon,lat):\n",
    "    '''Return Zone object if lon/lat return valid taxi zone'''\n",
    "    for z in ZONES: #probably should not do this in a for loop\n",
    "        \n",
    "        w_lon = z.bbox[0]\n",
    "        s_lat = z.bbox[1]\n",
    "        e_lon = z.bbox[2]\n",
    "        n_lat = z.bbox[3]\n",
    "        \n",
    "        if lat >= s_lat and lat <= n_lat:\n",
    "            if lon >= w_lon and lon <= e_lon:\n",
    "                return(z)\n",
    "    return None\n",
    "\n",
    "def zone_lookup_id(lon,lat):\n",
    "    '''Get the Taxi zone ID number from lon/lat'''\n",
    "    z = zone_lookup(lon,lat)\n",
    "    \n",
    "    if z:\n",
    "        return z.location_id\n",
    "    else:\n",
    "        return np.nan\n",
    "\n",
    "def zone_from_to(from_lon,from_lat,to_lon,to_lat):\n",
    "    '''Return string showing taxi to from ie: Tribecca to Central park'''\n",
    "    z_from = zone_lookup(from_lon,from_lat)\n",
    "    z_to = zone_lookup(to_lon,to_lat)\n",
    "    try:\n",
    "        return z_from.name + ' to ' + z_to.name\n",
    "    except:\n",
    "        return np.nan\n"
   ]
  },
  {
   "cell_type": "code",
   "execution_count": 69,
   "metadata": {},
   "outputs": [],
   "source": [
    "def add_zones(df): #ridiculously slow, sorry\n",
    "    df['zone_from'] = np.vectorize(zone_lookup_id)(df.pickup_longitude,df.pickup_latitude)\n",
    "    df['zone_to'] = np.vectorize(zone_lookup_id)(df.dropoff_longitude,df.dropoff_latitude)\n",
    "    df['zone_from_to'] = np.vectorize(zone_from_to)(df.pickup_longitude,df.pickup_latitude,df.dropoff_longitude,df.dropoff_latitude)\n",
    "\n",
    "#Popualte Taxi Zone Columns\n",
    "for df in [df_taxi_2013,df_taxi_2014,df_taxi_2015,df_taxi_2016]: #taxi 2017/2018 use a different system in place of lon/lat\n",
    "    add_zones(df)\n",
    "    df.dropna(subset=['zone_from','zone_to','zone_from_to'],inplace=True)\n"
   ]
  },
  {
   "cell_type": "code",
   "execution_count": 78,
   "metadata": {},
   "outputs": [
    {
     "name": "stderr",
     "output_type": "stream",
     "text": [
      "/home/dan/.local/lib/python3.7/site-packages/ipykernel_launcher.py:2: SettingWithCopyWarning: \n",
      "A value is trying to be set on a copy of a slice from a DataFrame.\n",
      "Try using .loc[row_indexer,col_indexer] = value instead\n",
      "\n",
      "See the caveats in the documentation: http://pandas.pydata.org/pandas-docs/stable/indexing.html#indexing-view-versus-copy\n",
      "  \n",
      "/home/dan/.local/lib/python3.7/site-packages/ipykernel_launcher.py:3: SettingWithCopyWarning: \n",
      "A value is trying to be set on a copy of a slice from a DataFrame.\n",
      "Try using .loc[row_indexer,col_indexer] = value instead\n",
      "\n",
      "See the caveats in the documentation: http://pandas.pydata.org/pandas-docs/stable/indexing.html#indexing-view-versus-copy\n",
      "  This is separate from the ipykernel package so we can avoid doing imports until\n",
      "/home/dan/.local/lib/python3.7/site-packages/ipykernel_launcher.py:4: SettingWithCopyWarning: \n",
      "A value is trying to be set on a copy of a slice from a DataFrame.\n",
      "Try using .loc[row_indexer,col_indexer] = value instead\n",
      "\n",
      "See the caveats in the documentation: http://pandas.pydata.org/pandas-docs/stable/indexing.html#indexing-view-versus-copy\n",
      "  after removing the cwd from sys.path.\n",
      "/home/dan/.local/lib/python3.7/site-packages/ipykernel_launcher.py:8: SettingWithCopyWarning: \n",
      "A value is trying to be set on a copy of a slice from a DataFrame\n",
      "\n",
      "See the caveats in the documentation: http://pandas.pydata.org/pandas-docs/stable/indexing.html#indexing-view-versus-copy\n",
      "  \n"
     ]
    }
   ],
   "source": [
    "def add_zones(df):\n",
    "    df['zone_from'] = np.vectorize(zone_lookup_id)(df.start_station_longitude,df.start_station_latitude)\n",
    "    df['zone_to'] = np.vectorize(zone_lookup_id)(df.end_station_longitude,df.end_station_latitude)\n",
    "    df['zone_from_to'] = np.vectorize(zone_from_to)(df.start_station_longitude,df.start_station_latitude,df.end_station_longitude,df.end_station_latitude)\n",
    "\n",
    "#Populate Taxi Zone Columns for citibike\n",
    "for df in df_bike_all:\n",
    "    add_zones(df)\n",
    "    df.dropna(subset=['zone_from','zone_to','zone_from_to'],inplace=True)\n"
   ]
  },
  {
   "cell_type": "markdown",
   "metadata": {
    "colab_type": "text",
    "id": "PeEbff7BkUD8"
   },
   "source": [
    "# Analysis"
   ]
  },
  {
   "cell_type": "markdown",
   "metadata": {
    "colab_type": "text",
    "id": "sgWxCTIIkg1N"
   },
   "source": [
    "## Exploratory Data Analysis"
   ]
  },
  {
   "cell_type": "markdown",
   "metadata": {
    "colab_type": "text",
    "id": "Qub8pm4iU99p"
   },
   "source": [
    "### Trip Distance"
   ]
  },
  {
   "cell_type": "code",
   "execution_count": 82,
   "metadata": {
    "colab": {
     "base_uri": "https://localhost:8080/",
     "height": 403
    },
    "colab_type": "code",
    "id": "KnrQQUV8U99x",
    "outputId": "c8575d70-a699-4dca-df6a-e5fef960b716"
   },
   "outputs": [
    {
     "data": {
      "text/plain": [
       "VendorID                 21\n",
       "pickup_datetime          21\n",
       "dropoff_datetime         21\n",
       "passenger_count          21\n",
       "trip_distance            21\n",
       "pickup_longitude         21\n",
       "pickup_latitude          21\n",
       "RateCodeID               21\n",
       "store_and_fwd_flag       21\n",
       "dropoff_longitude        21\n",
       "dropoff_latitude         21\n",
       "payment_type             21\n",
       "fare_amount              21\n",
       "extra                    21\n",
       "mta_tax                  21\n",
       "tip_amount               21\n",
       "tolls_amount             21\n",
       "improvement_surcharge    21\n",
       "total_amount             21\n",
       "tripduration             21\n",
       "day                      21\n",
       "zone_from                21\n",
       "zone_to                  21\n",
       "zone_from_to             21\n",
       "dtype: int64"
      ]
     },
     "execution_count": 82,
     "metadata": {},
     "output_type": "execute_result"
    }
   ],
   "source": [
    "# df_taxi_2015 contains some weirdly high trip distance outliers.\n",
    "\n",
    "df_taxi_2015[df_taxi_2015.trip_distance > 500].count()"
   ]
  },
  {
   "cell_type": "code",
   "execution_count": 101,
   "metadata": {
    "colab": {
     "base_uri": "https://localhost:8080/",
     "height": 869
    },
    "colab_type": "code",
    "id": "nTcNSgmzU997",
    "outputId": "4c2a522e-b39c-4684-ef87-7f7a0d5ad373"
   },
   "outputs": [
    {
     "name": "stdout",
     "output_type": "stream",
     "text": [
      "bike mean:  1.1761182789578362\n",
      "taxi mean:  3.0201556351736336\n"
     ]
    },
    {
     "data": {
      "text/plain": [
       "<matplotlib.legend.Legend at 0x7fe6d2261b00>"
      ]
     },
     "execution_count": 101,
     "metadata": {},
     "output_type": "execute_result"
    },
    {
     "data": {
      "image/png": "[encoded data removed]",
      "text/plain": [
       "<Figure size 432x288 with 1 Axes>"
      ]
     },
     "metadata": {
      "needs_background": "light"
     },
     "output_type": "display_data"
    },
    {
     "data": {
      "image/png": "[encoded data removed]",
      "text/plain": [
       "<Figure size 432x288 with 1 Axes>"
      ]
     },
     "metadata": {
      "needs_background": "light"
     },
     "output_type": "display_data"
    },
    {
     "data": {
      "image/png": "[encoded data removed]",
      "text/plain": [
       "<Figure size 432x288 with 1 Axes>"
      ]
     },
     "metadata": {
      "needs_background": "light"
     },
     "output_type": "display_data"
    }
   ],
   "source": [
    "avg_trip_distance_bike = pd.DataFrame(\n",
    "    {'Year': YEARS,\n",
    "     'Average Distance': [\n",
    "         df_bike_2013.trip_distance.mean(),\n",
    "         df_bike_2014.trip_distance.mean(),\n",
    "         df_bike_2015.trip_distance.mean(),\n",
    "         df_bike_2016.trip_distance.mean(),\n",
    "         df_bike_2017.trip_distance.mean(),\n",
    "         df_bike_2018.trip_distance.mean()\n",
    "     ]})\n",
    "\n",
    "print('bike mean: ',np.mean([df_bike_2013.trip_distance.mean(),\n",
    "         df_bike_2014.trip_distance.mean(),\n",
    "         df_bike_2015.trip_distance.mean(),\n",
    "         df_bike_2016.trip_distance.mean(),\n",
    "         df_bike_2017.trip_distance.mean(),\n",
    "         df_bike_2018.trip_distance.mean()]))\n",
    "\n",
    "avg_trip_distance_taxi = pd.DataFrame(\n",
    "    {'Year': YEARS,\n",
    "     'Average Distance': [\n",
    "         df_taxi_2013.trip_distance.mean(),\n",
    "         df_taxi_2014.trip_distance.mean(),\n",
    "         df_taxi_2015[df_taxi_2015.trip_distance < 500].trip_distance.mean(), # remove weirdly high trip distances...\n",
    "         df_taxi_2016.trip_distance.mean(),\n",
    "         df_taxi_2017.trip_distance.mean(),\n",
    "         df_taxi_2018.trip_distance.mean()\n",
    "     ]})\n",
    "\n",
    "print('taxi mean: ',np.mean([df_taxi_2013.trip_distance.mean(),\n",
    "         df_taxi_2014.trip_distance.mean(),\n",
    "         df_taxi_2015[df_taxi_2015.trip_distance < 500].trip_distance.mean(), # remove weirdly high trip distances...\n",
    "         df_taxi_2016.trip_distance.mean(),\n",
    "         df_taxi_2017.trip_distance.mean(),\n",
    "         df_taxi_2018.trip_distance.mean()]))\n",
    "\n",
    "avg_trip_distance_taxi.plot(\n",
    "    kind='line', x='Year', y='Average Distance', title='First Week of June Average Taxi Trip Distance (miles)', color='orange')\n",
    "avg_trip_distance_bike.plot(\n",
    "    kind='line', x='Year', y='Average Distance', title='First Week of June Average Bike Trip Distance (miles)', color='lightblue')\n",
    "\n",
    "_ = avg_trip_distance_taxi.plot(\n",
    "    kind='line', x='Year', y='Average Distance', title='First Week of June Average Trip Distance (miles)', color='orange')\n",
    "avg_trip_distance_bike.plot(\n",
    "    kind='line', x='Year', y='Average Distance', title='First Week of June Average Trip Distance (miles)', ax=_, color='lightblue')\n",
    "_.legend(['Taxi trip distance', 'Bike trip distance'])"
   ]
  },
  {
   "cell_type": "markdown",
   "metadata": {
    "colab_type": "text",
    "id": "5rJI-LOCU9-X"
   },
   "source": [
    "### Trip Duration"
   ]
  },
  {
   "cell_type": "code",
   "execution_count": 103,
   "metadata": {
    "colab": {
     "base_uri": "https://localhost:8080/",
     "height": 869
    },
    "colab_type": "code",
    "id": "xFZw3J33bTb0",
    "outputId": "ce8a2a0c-51d9-4b51-f365-c9ceb0ca35e6"
   },
   "outputs": [
    {
     "name": "stdout",
     "output_type": "stream",
     "text": [
      "bike trip duration mean:  990.9215301154542\n",
      "taxi trip duration mean: 958.737792731954\n"
     ]
    },
    {
     "data": {
      "text/plain": [
       "<matplotlib.legend.Legend at 0x7fe6d239b470>"
      ]
     },
     "execution_count": 103,
     "metadata": {},
     "output_type": "execute_result"
    },
    {
     "data": {
      "image/png": "[encoded data removed]",
      "text/plain": [
       "<Figure size 432x288 with 1 Axes>"
      ]
     },
     "metadata": {
      "needs_background": "light"
     },
     "output_type": "display_data"
    },
    {
     "data": {
      "image/png": "[encoded data removed]",
      "text/plain": [
       "<Figure size 432x288 with 1 Axes>"
      ]
     },
     "metadata": {
      "needs_background": "light"
     },
     "output_type": "display_data"
    },
    {
     "data": {
      "image/png": "[encoded data removed]",
      "text/plain": [
       "<Figure size 432x288 with 1 Axes>"
      ]
     },
     "metadata": {
      "needs_background": "light"
     },
     "output_type": "display_data"
    }
   ],
   "source": [
    "# Create average trip duration dataframes and plot\n",
    "\n",
    "avg_trip_duration_bike = pd.DataFrame(\n",
    "    {'Year': YEARS, \n",
    "     'Average': [\n",
    "        df_bike_2013.tripduration.mean(),\n",
    "        df_bike_2014.tripduration.mean(),\n",
    "        df_bike_2015.tripduration.mean(),\n",
    "        df_bike_2016.tripduration.mean(),\n",
    "        df_bike_2017.tripduration.mean(),\n",
    "        df_bike_2018.tripduration.mean()] \n",
    "    })\n",
    "print('bike trip duration mean: ',np.mean([\n",
    "        #df_bike_2013.tripduration.mean(),\n",
    "        df_bike_2014.tripduration.mean(),\n",
    "        df_bike_2015.tripduration.mean(),\n",
    "        df_bike_2016.tripduration.mean(),\n",
    "        df_bike_2017.tripduration.mean(),\n",
    "        df_bike_2018.tripduration.mean()] ))\n",
    "\n",
    "avg_trip_duration_taxi = pd.DataFrame(\n",
    "    {'Year': YEARS,\n",
    "     'Average': [\n",
    "         df_taxi_2013.tripduration.mean(),\n",
    "         df_taxi_2014.tripduration.mean(),\n",
    "         df_taxi_2015.tripduration.mean(),\n",
    "         df_taxi_2016.tripduration.mean(),\n",
    "         df_taxi_2017.tripduration.mean(),\n",
    "         df_taxi_2018.tripduration.mean()]\n",
    "    })\n",
    "\n",
    "print('taxi trip duration mean:', np.mean([\n",
    "         #df_taxi_2013.tripduration.mean(),\n",
    "         df_taxi_2014.tripduration.mean(),\n",
    "         df_taxi_2015.tripduration.mean(),\n",
    "         df_taxi_2016.tripduration.mean(),\n",
    "         df_taxi_2017.tripduration.mean(),\n",
    "         df_taxi_2018.tripduration.mean()]))\n",
    "\n",
    "avg_trip_duration_taxi.plot(\n",
    "    kind='line', x='Year', y='Average', title='First Week of June Average Taxi Trip Duration (seconds)', color='orange')\n",
    "\n",
    "avg_trip_duration_bike.plot(\n",
    "    kind='line', x='Year', y='Average', title='First Week of June Average Bike Trip Duration (seconds)', color='lightblue')\n",
    "\n",
    "_ = avg_trip_duration_taxi.plot(\n",
    "    kind='line', x='Year', y='Average', title='First Week of June Average Trip Duration (seconds)', color='orange')\n",
    "avg_trip_duration_bike.plot(\n",
    "    kind='line', x='Year', y='Average', title='First Week of June Average Trip Duration (seconds)', ax=_, color='lightblue')\n",
    "_.legend(['Taxi trip duration', 'Bike trip duration'])\n",
    "\n",
    "\n",
    "#fig.savefig('trip_duration.jpg')"
   ]
  },
  {
   "cell_type": "code",
   "execution_count": 55,
   "metadata": {
    "colab": {
     "base_uri": "https://localhost:8080/",
     "height": 567
    },
    "colab_type": "code",
    "id": "IzONPNM3U9-u",
    "outputId": "d513bc3c-0a76-41a0-928c-8a177981aad1"
   },
   "outputs": [
    {
     "data": {
      "text/plain": [
       "<matplotlib.axes._subplots.AxesSubplot at 0x7fe645b01cc0>"
      ]
     },
     "execution_count": 55,
     "metadata": {},
     "output_type": "execute_result"
    },
    {
     "data": {
      "image/png": "[encoded data removed]",
      "text/plain": [
       "<Figure size 432x288 with 1 Axes>"
      ]
     },
     "metadata": {
      "needs_background": "light"
     },
     "output_type": "display_data"
    },
    {
     "data": {
      "image/png": "[encoded data removed]",
      "text/plain": [
       "<Figure size 432x288 with 1 Axes>"
      ]
     },
     "metadata": {
      "needs_background": "light"
     },
     "output_type": "display_data"
    }
   ],
   "source": [
    "# quick scatter plot--exposes some weird outliers.  \n",
    "# CitiBike has some >1000 hour trips\n",
    "# Cabs have some negative time durations\n",
    "\n",
    "df_bike_2013.reset_index().plot(kind='scatter', x='index', y='tripduration')\n",
    "\n",
    "df_taxi_2013.reset_index().plot(kind='scatter', x='index', y='tripduration')"
   ]
  },
  {
   "cell_type": "markdown",
   "metadata": {
    "colab_type": "text",
    "id": "X-YU1sHYU9-6"
   },
   "source": [
    "### CitiBike rider age"
   ]
  },
  {
   "cell_type": "code",
   "execution_count": 56,
   "metadata": {
    "colab": {
     "base_uri": "https://localhost:8080/",
     "height": 35
    },
    "colab_type": "code",
    "id": "YL_3HdLtbTb6",
    "outputId": "ec1165f6-8641-4a10-e2a9-b5f514add39c"
   },
   "outputs": [
    {
     "name": "stdout",
     "output_type": "stream",
     "text": [
      "[1973.7418080639952, 'NaN', 1976.2964147385587, 1977.4734717561873, 1978.7014382409977, 1978.7112451471332]\n"
     ]
    }
   ],
   "source": [
    "# had to avoid 2014 here, as there are some issues with the birthdate field in that dataframe. Will clean.\n",
    "# yo people in their 40s love citibikes\n",
    "\n",
    "citi_avg_age = []\n",
    "\n",
    "citi_avg_age.append(df_bike_2013[\"birth year\"].mean())\n",
    "citi_avg_age.append(\"NaN\")\n",
    "citi_avg_age.append(df_bike_2015[\"birth year\"].mean())\n",
    "citi_avg_age.append(df_bike_2016[\"birth year\"].mean())\n",
    "citi_avg_age.append(df_bike_2017[\"birth year\"].mean())\n",
    "citi_avg_age.append(df_bike_2018[\"birth year\"].mean())\n",
    "\n",
    "print(citi_avg_age)"
   ]
  },
  {
   "cell_type": "markdown",
   "metadata": {
    "colab_type": "text",
    "id": "KlPWbRdhkdMP"
   },
   "source": [
    "### Number of Trips"
   ]
  },
  {
   "cell_type": "code",
   "execution_count": 57,
   "metadata": {
    "colab": {
     "base_uri": "https://localhost:8080/",
     "height": 237
    },
    "colab_type": "code",
    "id": "ZR_w6xm-ea2D",
    "outputId": "04bf351f-98f2-4629-a391-093e04d08190"
   },
   "outputs": [
    {
     "name": "stderr",
     "output_type": "stream",
     "text": [
      "/home/dan/.local/lib/python3.7/site-packages/pandas/core/indexing.py:362: SettingWithCopyWarning: \n",
      "A value is trying to be set on a copy of a slice from a DataFrame.\n",
      "Try using .loc[row_indexer,col_indexer] = value instead\n",
      "\n",
      "See the caveats in the documentation: http://pandas.pydata.org/pandas-docs/stable/indexing.html#indexing-view-versus-copy\n",
      "  self.obj[key] = _infer_fill_value(value)\n",
      "/home/dan/.local/lib/python3.7/site-packages/pandas/core/indexing.py:543: SettingWithCopyWarning: \n",
      "A value is trying to be set on a copy of a slice from a DataFrame.\n",
      "Try using .loc[row_indexer,col_indexer] = value instead\n",
      "\n",
      "See the caveats in the documentation: http://pandas.pydata.org/pandas-docs/stable/indexing.html#indexing-view-versus-copy\n",
      "  self.obj[item] = s\n"
     ]
    }
   ],
   "source": [
    "# Using .loc everywhere here to try to remove the SettingsWithCopyWarning, but still happens unfortunately. No idea how to fix\n",
    "df_taxi_2013.loc[:,'day'] = df_taxi_2013.loc[:,'pickup_datetime'].map(lambda date: date.strftime('%d (%a)'))\n",
    "df_taxi_2014.loc[:,'day'] = df_taxi_2014.loc[:,'pickup_datetime'].map(lambda date: date.strftime('%d (%a)'))\n",
    "df_taxi_2015.loc[:,'day'] = df_taxi_2015.loc[:,'pickup_datetime'].map(lambda date: date.strftime('%d (%a)'))\n",
    "df_taxi_2016.loc[:,'day'] = df_taxi_2016.loc[:,'pickup_datetime'].map(lambda date: date.strftime('%d (%a)'))\n",
    "df_taxi_2017.loc[:,'day'] = df_taxi_2017.loc[:,'pickup_datetime'].map(lambda date: date.strftime('%d (%a)'))\n",
    "df_taxi_2018.loc[:,'day'] = df_taxi_2018.loc[:,'pickup_datetime'].map(lambda date: date.strftime('%d (%a)'))\n",
    "\n",
    "df_bike_2013.loc[:,'day'] = df_bike_2013.loc[:,'starttime'].map(lambda date: date.strftime('%d (%a)'))\n",
    "df_bike_2014.loc[:,'day'] = df_bike_2014.loc[:,'starttime'].map(lambda date: date.strftime('%d (%a)'))\n",
    "df_bike_2015.loc[:,'day'] = df_bike_2015.loc[:,'starttime'].map(lambda date: date.strftime('%d (%a)'))\n",
    "df_bike_2016.loc[:,'day'] = df_bike_2016.loc[:,'starttime'].map(lambda date: date.strftime('%d (%a)'))\n",
    "df_bike_2017.loc[:,'day'] = df_bike_2017.loc[:,'starttime'].map(lambda date: date.strftime('%d (%a)'))\n",
    "df_bike_2018.loc[:,'day'] = df_bike_2018.loc[:,'starttime'].map(lambda date: date.strftime('%d (%a)'))"
   ]
  },
  {
   "cell_type": "code",
   "execution_count": 58,
   "metadata": {
    "colab": {
     "base_uri": "https://localhost:8080/",
     "height": 869
    },
    "colab_type": "code",
    "id": "RO6J8C_jkcfX",
    "outputId": "4b1e631e-e6a5-4bce-a352-80a516476037"
   },
   "outputs": [
    {
     "data": {
      "text/plain": [
       "<matplotlib.legend.Legend at 0x7fe6c0ee53c8>"
      ]
     },
     "execution_count": 58,
     "metadata": {},
     "output_type": "execute_result"
    },
    {
     "data": {
      "image/png": "[encoded data removed]",
      "text/plain": [
       "<Figure size 432x288 with 1 Axes>"
      ]
     },
     "metadata": {
      "needs_background": "light"
     },
     "output_type": "display_data"
    },
    {
     "data": {
      "image/png": "[encoded data removed]",
      "text/plain": [
       "<Figure size 432x288 with 1 Axes>"
      ]
     },
     "metadata": {
      "needs_background": "light"
     },
     "output_type": "display_data"
    },
    {
     "data": {
      "image/png": "[encoded data removed]",
      "text/plain": [
       "<Figure size 432x288 with 1 Axes>"
      ]
     },
     "metadata": {
      "needs_background": "light"
     },
     "output_type": "display_data"
    }
   ],
   "source": [
    "first_plot = df_taxi_2013.groupby(by='day').size().reset_index(name='counts').plot(kind='line', x='day', y='counts', title='2013 First Week of June Taxi Trip Counts', color='orange')\n",
    "df_bike_2013.groupby(by='day').size().reset_index(name='counts').plot(kind='line', x='day', y='counts', title='2013 First Week of June Citi Bike Trip Counts', ax=first_plot, color='lightblue')\n",
    "first_plot.legend(['Taxi trip count', 'Citi Bike trip counts'])\n",
    "\n",
    "first_plot = df_taxi_2015.groupby(by='day').size().reset_index(name='counts').plot(kind='line', x='day', y='counts', title='2015 First Week of June Taxi Trip Counts', color='orange')\n",
    "df_bike_2015.groupby(by='day').size().reset_index(name='counts').plot(kind='line', x='day', y='counts', title='2015 First Week of June Citi Bike Trip Counts', ax=first_plot, color='lightblue')\n",
    "first_plot.legend(['Taxi trip count', 'Citi Bike trip counts'])\n",
    "\n",
    "first_plot = df_taxi_2018.groupby(by='day').size().reset_index(name='counts').plot(kind='line', x='day', y='counts', title='2018 First Week of June Taxi Trip Counts', color='orange')\n",
    "df_bike_2018.groupby(by='day').size().reset_index(name='counts').plot(kind='line', x='day', y='counts', title='2018 First Week of June Citi Bike Trip Counts', ax=first_plot, color='lightblue')\n",
    "first_plot.legend(['Taxi trip count', 'Citi Bike trip counts'])"
   ]
  },
  {
   "cell_type": "code",
   "execution_count": 59,
   "metadata": {
    "colab": {},
    "colab_type": "code",
    "id": "wLm81wbyknH5"
   },
   "outputs": [],
   "source": [
    "# Make new data frames for yearly trip counts, and graph them\n",
    "\n",
    "df_taxi_trip_counts = pd.DataFrame({'Year': YEARS, 'Count': [\n",
    "    df_taxi_2013.groupby(by='day').size().sum(),\n",
    "    df_taxi_2014.groupby(by='day').size().sum(),\n",
    "    df_taxi_2015.groupby(by='day').size().sum(),\n",
    "    df_taxi_2016.groupby(by='day').size().sum(),\n",
    "    df_taxi_2017.groupby(by='day').size().sum(),\n",
    "    df_taxi_2018.groupby(by='day').size().sum(),\n",
    "]})\n",
    "\n",
    "df_bike_trip_counts = pd.DataFrame({'Year': YEARS, 'Count': [\n",
    "    df_bike_2013.groupby(by='day').size().sum(),\n",
    "    df_bike_2014.groupby(by='day').size().sum(),\n",
    "    df_bike_2015.groupby(by='day').size().sum(),\n",
    "    df_bike_2016.groupby(by='day').size().sum(),\n",
    "    df_bike_2017.groupby(by='day').size().sum(),\n",
    "    df_bike_2018.groupby(by='day').size().sum(),\n",
    "]})"
   ]
  },
  {
   "cell_type": "code",
   "execution_count": 60,
   "metadata": {
    "colab": {
     "base_uri": "https://localhost:8080/",
     "height": 869
    },
    "colab_type": "code",
    "id": "Jw-tArubptfI",
    "outputId": "485b06af-b42f-425f-be85-f44c5503d020"
   },
   "outputs": [
    {
     "data": {
      "text/plain": [
       "<matplotlib.legend.Legend at 0x7fe697c90860>"
      ]
     },
     "execution_count": 60,
     "metadata": {},
     "output_type": "execute_result"
    },
    {
     "data": {
      "image/png": "[encoded data removed]",
      "text/plain": [
       "<Figure size 432x288 with 1 Axes>"
      ]
     },
     "metadata": {
      "needs_background": "light"
     },
     "output_type": "display_data"
    },
    {
     "data": {
      "image/png": "[encoded data removed]",
      "text/plain": [
       "<Figure size 432x288 with 1 Axes>"
      ]
     },
     "metadata": {
      "needs_background": "light"
     },
     "output_type": "display_data"
    },
    {
     "data": {
      "image/png": "[encoded data removed]",
      "text/plain": [
       "<Figure size 432x288 with 1 Axes>"
      ]
     },
     "metadata": {
      "needs_background": "light"
     },
     "output_type": "display_data"
    }
   ],
   "source": [
    "df_taxi_trip_counts.plot(kind='line', x='Year', y='Count', title='First Week of June Yearly Taxi Trip Counts', color='orange')\n",
    "df_bike_trip_counts.plot(kind='line', x='Year', y='Count', title='First Week of June Yearly Trip Counts', color='lightblue') \n",
    "\n",
    "first_plot = df_taxi_trip_counts.plot(kind='line', x='Year', y='Count', title='First Week of June Yearly Taxi Trip Counts', color='orange')\n",
    "df_bike_trip_counts.plot(kind='line', x='Year', y='Count', title='First Week of June Yearly Trip Counts', ax=first_plot, color='lightblue')\n",
    "first_plot.legend(['Taxi trip count', 'Citi Bike trip count'])"
   ]
  },
  {
   "cell_type": "markdown",
   "metadata": {},
   "source": [
    "#### Popular Routes"
   ]
  },
  {
   "cell_type": "code",
   "execution_count": 128,
   "metadata": {
    "scrolled": true
   },
   "outputs": [
    {
     "name": "stdout",
     "output_type": "stream",
     "text": [
      "10 most frequent inter-zone trips by Taxi\n"
     ]
    },
    {
     "data": {
      "text/plain": [
       "Central Park to Midtown Center         40256\n",
       "Midtown Center to Central Park         38315\n",
       "Clinton East to Central Park           31024\n",
       "Central Park to Clinton East           27010\n",
       "East Chelsea to Clinton East           24702\n",
       "Lincoln Square East to Central Park    20623\n",
       "Clinton East to East Chelsea           20514\n",
       "Central Park to Midtown East           20486\n",
       "Midtown East to Central Park           20455\n",
       "Clinton East to Midtown Center         19502\n",
       "Name: zone_from_to, dtype: int64"
      ]
     },
     "execution_count": 128,
     "metadata": {},
     "output_type": "execute_result"
    }
   ],
   "source": [
    "print('10 most frequent inter-zone trips by Taxi')\n",
    "df_taxi_2016[df_taxi_2016.zone_from != df_taxi_2016.zone_to].zone_from_to.value_counts()[0:10]"
   ]
  },
  {
   "cell_type": "code",
   "execution_count": 130,
   "metadata": {},
   "outputs": [
    {
     "name": "stdout",
     "output_type": "stream",
     "text": [
      "10 most frequent inter-zone trips by Bike\n"
     ]
    },
    {
     "data": {
      "text/plain": [
       "Clinton East to East Chelsea               3050\n",
       "East Chelsea to Clinton East               2756\n",
       "Central Park to Clinton East               2104\n",
       "Greenwich Village North to East Village    1946\n",
       "East Village to Greenwich Village North    1929\n",
       "Clinton East to Central Park               1833\n",
       "Clinton East to Midtown Center             1817\n",
       "Greenwich Village North to East Chelsea    1814\n",
       "Central Park to Midtown Center             1811\n",
       "East Village to Alphabet City              1763\n",
       "Name: zone_from_to, dtype: int64"
      ]
     },
     "execution_count": 130,
     "metadata": {},
     "output_type": "execute_result"
    }
   ],
   "source": [
    "print('10 most frequent inter-zone trips by Bike')\n",
    "df_bike_2016[df_bike_2016.zone_from != df_bike_2016.zone_to].zone_from_to.value_counts()[0:10]"
   ]
  },
  {
   "cell_type": "code",
   "execution_count": 170,
   "metadata": {},
   "outputs": [
    {
     "name": "stdout",
     "output_type": "stream",
     "text": [
      "Most common trips to Manhattanville (City College) Zone by Taxi 2016\n",
      "\n",
      "Central Park to Manhattanville\n",
      "Bloomingdale to Manhattanville\n",
      "Clinton East to Manhattanville\n",
      "Central Harlem North to Manhattanville\n",
      "Central Harlem to Manhattanville\n",
      "East Chelsea to Manhattanville\n",
      "Manhattanville to Manhattanville\n",
      "Lincoln Square East to Manhattanville\n",
      "East Harlem North to Manhattanville\n",
      "Midtown Center to Manhattanville\n"
     ]
    }
   ],
   "source": [
    "print('Most common trips to Manhattanville (City College) Zone by Taxi 2016\\n')\n",
    "\n",
    "zone_from = df_taxi_2016[df_taxi_2016.zone_to == 152.0].zone_from.value_counts().index[0:10]\n",
    "for zone_id in zone_from:\n",
    "    z = ZONES_DIC[str(zone_id)]\n",
    "    print(z.name,'to Manhattanville')"
   ]
  }
 ],
 "metadata": {
  "accelerator": "GPU",
  "colab": {
   "include_colab_link": true,
   "name": "nyc-transpo.ipynb",
   "provenance": [],
   "toc_visible": true,
   "version": "0.3.2"
  },
  "kernelspec": {
   "display_name": "Python 3",
   "language": "python",
   "name": "python3"
  },
  "language_info": {
   "codemirror_mode": {
    "name": "ipython",
    "version": 3
   },
   "file_extension": ".py",
   "mimetype": "text/x-python",
   "name": "python",
   "nbconvert_exporter": "python",
   "pygments_lexer": "ipython3",
   "version": "3.7.3"
  }
 },
 "nbformat": 4,
 "nbformat_minor": 1
}
