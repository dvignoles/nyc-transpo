{
  "nbformat": 4,
  "nbformat_minor": 0,
  "metadata": {
    "colab": {
      "name": "nyc-transpo.ipynb",
      "version": "0.3.2",
      "provenance": [],
      "toc_visible": true,
      "include_colab_link": true
    },
    "language_info": {
      "codemirror_mode": {
        "name": "ipython",
        "version": 3
      },
      "file_extension": ".py",
      "mimetype": "text/x-python",
      "name": "python",
      "nbconvert_exporter": "python",
      "pygments_lexer": "ipython3",
      "version": "3.7.3"
    },
    "kernelspec": {
      "display_name": "Python 3",
      "language": "python",
      "name": "python3"
    },
    "accelerator": "GPU"
  },
  "cells": [
    {
      "cell_type": "markdown",
      "metadata": {
        "id": "view-in-github",
        "colab_type": "text"
      },
      "source": [
        "<a href=\"https://colab.research.google.com/github/dvignoles/nyc-transpo/blob/master/nyc_transpo.ipynb\" target=\"_parent\"><img src=\"https://colab.research.google.com/assets/colab-badge.svg\" alt=\"Open In Colab\"/></a>"
      ]
    },
    {
      "metadata": {
        "colab_type": "code",
        "id": "mcFKx7BCp9he",
        "colab": {}
      },
      "cell_type": "code",
      "source": [
        "import pandas as pd\n",
        "from datetime import datetime\n",
        "import numpy as np\n",
        "import requests, zipfile, io, os, re, csv\n",
        "import matplotlib.pyplot as plt\n",
        "\n",
        "TAXI_CSV_PATH = \"./taxi_data\"\n",
        "BIKE_CSV_PATH = \"./bike_data\"\n",
        "\n",
        "# We will use with 2013-2018 June data since June 2013 is when Citi Bike was started, and 2013-2018 data is available for both taxi and bikes.\n",
        "# We will also filter down to the first week of the month, because the data is an absolute unit\n",
        "YEARS = [\"2013\", \"2014\", \"2015\", \"2016\", \"2017\", \"2018\"]"
      ],
      "execution_count": 0,
      "outputs": []
    },
    {
      "metadata": {
        "colab_type": "code",
        "id": "pSmOmhdUHW3g",
        "colab": {}
      },
      "cell_type": "code",
      "source": [
        "# Set up directories and util functions to store the downloaded csv files\n",
        "\n",
        "if os.path.isdir(TAXI_CSV_PATH) is False:\n",
        "  os.mkdir(TAXI_CSV_PATH)\n",
        "if os.path.isdir(BIKE_CSV_PATH) is False:\n",
        "  os.mkdir(BIKE_CSV_PATH)\n",
        "\n",
        "  \n",
        "def save_csv(file_path, http_data):\n",
        "    with open(file_path, \"w\") as f:\n",
        "      writer = csv.writer(f)\n",
        "      reader = csv.reader(http_data.text.splitlines())\n",
        "      for row in reader:\n",
        "        writer.writerow(row)\n",
        "        \n",
        "def get_csv_name(data_type, year, two_weeks_only=False):\n",
        "  if data_type is \"taxi\":\n",
        "    return TAXI_CSV_PATH + \"/\" + year + \"-06\" + (\"_parsed_v2\" if two_weeks_only is True else \"\") +  \".csv\"\n",
        "  elif data_type is \"bike\":\n",
        "    return BIKE_CSV_PATH + \"/\" + year + \"-06\" + (\"_parsed_v2\" if two_weeks_only is True else \"\") + \".csv\"\n",
        "  else:\n",
        "    raise Exception(\"Data type must be taxi or bike\")"
      ],
      "execution_count": 0,
      "outputs": []
    },
    {
      "metadata": {
        "colab_type": "text",
        "id": "B4ttmHZI_vQj"
      },
      "cell_type": "markdown",
      "source": [
        "# Taxi Dataframes\n",
        "Since these downloads take a long time, do NOT reset all run times when it asks you to! It will wipe all downloaded files, and you'll have to download them again!"
      ]
    },
    {
      "metadata": {
        "colab_type": "code",
        "id": "NDqsFhLGqqhi",
        "colab": {}
      },
      "cell_type": "code",
      "source": [
        "# Download and save the files first so they don't have to be redownloaded every time\n",
        "\n",
        "for n in YEARS:\n",
        "  file_path = get_csv_name(\"taxi\", n, False)\n",
        "  if os.path.isfile(file_path) is False:\n",
        "    data = requests.get(\"https://s3.amazonaws.com/nyc-tlc/trip+data/yellow_tripdata_\" + n + \"-06.csv\")\n",
        "    save_csv(file_path, data)\n",
        "\n",
        "# Load the actual data\n",
        "\n",
        "dtypes = {\n",
        "    \"vendor_id\": \"str\",\n",
        "    \"VendorID\": \"str\",\n",
        "    \"pickup_datetime\": \"str\",\n",
        "    \"dropoff_datetime\": \"str\",\n",
        "    \"tpep_pickup_datetime\": \"str\",\n",
        "    \"tpep_dropoff_datetime\": \"str\",\n",
        "    \"passenger_count\": np.int32,\n",
        "    \"trip_distance\": np.float32,\n",
        "    \"pickup_longitude\": np.float32,\n",
        "    \"pickup_latitude\": np.float32,\n",
        "    \"PULocationID\": np.int32,\n",
        "    \"DOLocationID\": np.int32,\n",
        "    \"rate_code\": np.int32,\n",
        "    \"RateCodeID\": np.int32,\n",
        "    \"store_and_fwd_flag\": \"str\",\n",
        "    \"dropoff_longitude\": np.float32,\n",
        "    \"dropoff_latitude\": np.float32,\n",
        "    \"payment_type\": \"str\",\n",
        "    \"fare_amount\": np.float32,\n",
        "    \"surcharge\": np.float32,\n",
        "    \"mta_tax\": np.float32,\n",
        "    \"tip_amount\": np.float32,\n",
        "    \"tolls_amount\": np.float32,\n",
        "    \"total_amount\": np.float32\n",
        "}\n",
        "\n",
        "def get_parsed_taxi_df(year):\n",
        "  # See if the sorted data was saved before, if so use it\n",
        "  sorted_file_path = get_csv_name(\"taxi\", year, True)\n",
        "  if os.path.isfile(sorted_file_path) is True:\n",
        "    df_toreturn = pd.read_csv(sorted_file_path, dtype=dtypes)\n",
        "    df_toreturn['pickup_datetime'] = pd.to_datetime(df_toreturn['pickup_datetime'])\n",
        "    df_toreturn['dropoff_datetime'] = pd.to_datetime(df_toreturn['dropoff_datetime'])\n",
        "    return df_toreturn\n",
        "  \n",
        "  # Otherwise, load the full file, sort it, and save it for future reference\n",
        "  df_temp = pd.read_csv(get_csv_name(\"taxi\", year, False), dtype=dtypes)\n",
        "  \n",
        "  # Standardize the pickup_datetime and dropoff_datetime names\n",
        "  df_temp.rename(columns = {list(df_temp)[1]: 'pickup_datetime'}, inplace = True)\n",
        "  df_temp.rename(columns = {list(df_temp)[2]: 'dropoff_datetime'}, inplace = True)\n",
        "  \n",
        "  # Sort by date\n",
        "  df_temp.sort_values(by=df_temp.columns[1], inplace=True, kind='mergesort')\n",
        "  df_temp['pickup_datetime'] = pd.to_datetime(df_temp.iloc[:,1])\n",
        "  df_temp['dropoff_datetime'] = pd.to_datetime(df_temp.iloc[:,2])\n",
        "  \n",
        "  # Get only the first week of the month\n",
        "  df_temp = df_temp[(df_temp['pickup_datetime'] > (year + '-06-01')) & (df_temp['pickup_datetime'] < (year + '-06-08'))]\n",
        "  df_temp.to_csv(sorted_file_path, index=False)\n",
        "  return df_temp\n",
        "  \n",
        "# The util function MUST be used to save memory while loading in the entire dataframes for each year.\n",
        "# IGNORE MEMORY LIMIT WARNINGS! The data is garbage collected every time the function exits for each year.\n",
        "\n",
        "df_taxi_2013 = get_parsed_taxi_df(\"2013\")\n",
        "df_taxi_2014 = get_parsed_taxi_df(\"2014\")\n",
        "df_taxi_2015 = get_parsed_taxi_df(\"2015\")\n",
        "df_taxi_2016 = get_parsed_taxi_df(\"2016\")\n",
        "df_taxi_2017 = get_parsed_taxi_df(\"2017\")\n",
        "df_taxi_2018 = get_parsed_taxi_df(\"2018\")"
      ],
      "execution_count": 0,
      "outputs": []
    },
    {
      "metadata": {
        "colab_type": "code",
        "id": "Z4MVtZFVRpx9",
        "colab": {}
      },
      "cell_type": "code",
      "source": [
        "# add trip duration column\n",
        "\n",
        "if not('tripduration' in df_taxi_2013.columns):\n",
        "    df_taxi_2013['tripduration'] = (df_taxi_2013['dropoff_datetime'] - df_taxi_2013['pickup_datetime']).dt.total_seconds()\n",
        "\n",
        "if not('tripduration' in df_taxi_2014.columns):\n",
        "    df_taxi_2014['tripduration'] = (df_taxi_2014['dropoff_datetime'] - df_taxi_2014['pickup_datetime']).dt.total_seconds()\n",
        "\n",
        "if not('tripduration' in df_taxi_2015.columns):\n",
        "    df_taxi_2015['tripduration'] = (df_taxi_2015['dropoff_datetime'] - df_taxi_2015['pickup_datetime']).dt.total_seconds()\n",
        "\n",
        "if not('tripduration' in df_taxi_2016.columns):\n",
        "    df_taxi_2016['tripduration'] = (df_taxi_2016['dropoff_datetime'] - df_taxi_2016['pickup_datetime']).dt.total_seconds()\n",
        "\n",
        "if not('tripduration' in df_taxi_2017.columns):\n",
        "    df_taxi_2017['tripduration'] = (df_taxi_2017['dropoff_datetime'] - df_taxi_2017['pickup_datetime']).dt.total_seconds()\n",
        "\n",
        "if not('tripduration' in df_taxi_2018.columns):\n",
        "    df_taxi_2018['tripduration'] = (df_taxi_2018['dropoff_datetime'] - df_taxi_2018['pickup_datetime']).dt.total_seconds()\n"
      ],
      "execution_count": 0,
      "outputs": []
    },
    {
      "metadata": {
        "id": "WELCupMUU98C",
        "colab_type": "code",
        "colab": {}
      },
      "cell_type": "code",
      "source": [
        "# removes leading whitespace from df_taxi_2014 column names\n",
        "for col_name in df_taxi_2014.columns:\n",
        "    if col_name[0] == ' ':\n",
        "        new_col_name = col_name[1:]\n",
        "        df_taxi_2014[new_col_name] = df_taxi_2014[col_name]\n",
        "        df_taxi_2014 = df_taxi_2014.drop([col_name], axis=1)"
      ],
      "execution_count": 0,
      "outputs": []
    },
    {
      "metadata": {
        "id": "Konz9NGiU98M",
        "colab_type": "code",
        "colab": {
          "base_uri": "https://localhost:8080/",
          "height": 313
        },
        "outputId": "50defc86-9f72-4875-a3b2-246052aa22b6"
      },
      "cell_type": "code",
      "source": [
        "df_taxi_2013.head()"
      ],
      "execution_count": 36,
      "outputs": [
        {
          "output_type": "execute_result",
          "data": {
            "text/html": [
              "<div>\n",
              "<style scoped>\n",
              "    .dataframe tbody tr th:only-of-type {\n",
              "        vertical-align: middle;\n",
              "    }\n",
              "\n",
              "    .dataframe tbody tr th {\n",
              "        vertical-align: top;\n",
              "    }\n",
              "\n",
              "    .dataframe thead th {\n",
              "        text-align: right;\n",
              "    }\n",
              "</style>\n",
              "<table border=\"1\" class=\"dataframe\">\n",
              "  <thead>\n",
              "    <tr style=\"text-align: right;\">\n",
              "      <th></th>\n",
              "      <th>vendor_id</th>\n",
              "      <th>pickup_datetime</th>\n",
              "      <th>dropoff_datetime</th>\n",
              "      <th>passenger_count</th>\n",
              "      <th>trip_distance</th>\n",
              "      <th>pickup_longitude</th>\n",
              "      <th>pickup_latitude</th>\n",
              "      <th>rate_code</th>\n",
              "      <th>store_and_fwd_flag</th>\n",
              "      <th>dropoff_longitude</th>\n",
              "      <th>dropoff_latitude</th>\n",
              "      <th>payment_type</th>\n",
              "      <th>fare_amount</th>\n",
              "      <th>surcharge</th>\n",
              "      <th>mta_tax</th>\n",
              "      <th>tip_amount</th>\n",
              "      <th>tolls_amount</th>\n",
              "      <th>total_amount</th>\n",
              "      <th>tripduration</th>\n",
              "    </tr>\n",
              "  </thead>\n",
              "  <tbody>\n",
              "    <tr>\n",
              "      <th>0</th>\n",
              "      <td>CMT</td>\n",
              "      <td>2013-06-01 00:00:01</td>\n",
              "      <td>2013-06-01 00:04:45</td>\n",
              "      <td>1</td>\n",
              "      <td>1.7</td>\n",
              "      <td>-73.977707</td>\n",
              "      <td>40.746326</td>\n",
              "      <td>1</td>\n",
              "      <td>N</td>\n",
              "      <td>-73.962303</td>\n",
              "      <td>40.767628</td>\n",
              "      <td>CRD</td>\n",
              "      <td>7.0</td>\n",
              "      <td>0.5</td>\n",
              "      <td>0.5</td>\n",
              "      <td>1.6</td>\n",
              "      <td>0.0</td>\n",
              "      <td>9.6</td>\n",
              "      <td>284.0</td>\n",
              "    </tr>\n",
              "    <tr>\n",
              "      <th>1</th>\n",
              "      <td>CMT</td>\n",
              "      <td>2013-06-01 00:00:01</td>\n",
              "      <td>2013-06-01 00:04:17</td>\n",
              "      <td>1</td>\n",
              "      <td>0.6</td>\n",
              "      <td>-73.983345</td>\n",
              "      <td>40.730515</td>\n",
              "      <td>1</td>\n",
              "      <td>N</td>\n",
              "      <td>-73.984222</td>\n",
              "      <td>40.737656</td>\n",
              "      <td>CRD</td>\n",
              "      <td>5.0</td>\n",
              "      <td>0.5</td>\n",
              "      <td>0.5</td>\n",
              "      <td>1.2</td>\n",
              "      <td>0.0</td>\n",
              "      <td>7.2</td>\n",
              "      <td>256.0</td>\n",
              "    </tr>\n",
              "    <tr>\n",
              "      <th>2</th>\n",
              "      <td>CMT</td>\n",
              "      <td>2013-06-01 00:00:01</td>\n",
              "      <td>2013-06-01 00:07:54</td>\n",
              "      <td>1</td>\n",
              "      <td>1.2</td>\n",
              "      <td>-73.991638</td>\n",
              "      <td>40.744011</td>\n",
              "      <td>1</td>\n",
              "      <td>N</td>\n",
              "      <td>-74.007179</td>\n",
              "      <td>40.740738</td>\n",
              "      <td>CRD</td>\n",
              "      <td>7.0</td>\n",
              "      <td>0.5</td>\n",
              "      <td>0.5</td>\n",
              "      <td>1.6</td>\n",
              "      <td>0.0</td>\n",
              "      <td>9.6</td>\n",
              "      <td>473.0</td>\n",
              "    </tr>\n",
              "    <tr>\n",
              "      <th>3</th>\n",
              "      <td>CMT</td>\n",
              "      <td>2013-06-01 00:00:02</td>\n",
              "      <td>2013-06-01 00:11:35</td>\n",
              "      <td>1</td>\n",
              "      <td>3.6</td>\n",
              "      <td>-73.970993</td>\n",
              "      <td>40.761608</td>\n",
              "      <td>1</td>\n",
              "      <td>N</td>\n",
              "      <td>-73.916458</td>\n",
              "      <td>40.760826</td>\n",
              "      <td>CRD</td>\n",
              "      <td>12.5</td>\n",
              "      <td>0.5</td>\n",
              "      <td>0.5</td>\n",
              "      <td>2.5</td>\n",
              "      <td>0.0</td>\n",
              "      <td>16.0</td>\n",
              "      <td>693.0</td>\n",
              "    </tr>\n",
              "    <tr>\n",
              "      <th>4</th>\n",
              "      <td>CMT</td>\n",
              "      <td>2013-06-01 00:00:02</td>\n",
              "      <td>2013-06-01 00:12:57</td>\n",
              "      <td>2</td>\n",
              "      <td>3.6</td>\n",
              "      <td>-73.985451</td>\n",
              "      <td>40.763191</td>\n",
              "      <td>1</td>\n",
              "      <td>N</td>\n",
              "      <td>-73.965172</td>\n",
              "      <td>40.802811</td>\n",
              "      <td>CRD</td>\n",
              "      <td>11.5</td>\n",
              "      <td>0.5</td>\n",
              "      <td>0.5</td>\n",
              "      <td>2.5</td>\n",
              "      <td>0.0</td>\n",
              "      <td>15.0</td>\n",
              "      <td>775.0</td>\n",
              "    </tr>\n",
              "  </tbody>\n",
              "</table>\n",
              "</div>"
            ],
            "text/plain": [
              "  vendor_id     pickup_datetime    dropoff_datetime  passenger_count  \\\n",
              "0       CMT 2013-06-01 00:00:01 2013-06-01 00:04:45                1   \n",
              "1       CMT 2013-06-01 00:00:01 2013-06-01 00:04:17                1   \n",
              "2       CMT 2013-06-01 00:00:01 2013-06-01 00:07:54                1   \n",
              "3       CMT 2013-06-01 00:00:02 2013-06-01 00:11:35                1   \n",
              "4       CMT 2013-06-01 00:00:02 2013-06-01 00:12:57                2   \n",
              "\n",
              "   trip_distance  pickup_longitude  pickup_latitude  rate_code  \\\n",
              "0            1.7        -73.977707        40.746326          1   \n",
              "1            0.6        -73.983345        40.730515          1   \n",
              "2            1.2        -73.991638        40.744011          1   \n",
              "3            3.6        -73.970993        40.761608          1   \n",
              "4            3.6        -73.985451        40.763191          1   \n",
              "\n",
              "  store_and_fwd_flag  dropoff_longitude  dropoff_latitude payment_type  \\\n",
              "0                  N         -73.962303         40.767628          CRD   \n",
              "1                  N         -73.984222         40.737656          CRD   \n",
              "2                  N         -74.007179         40.740738          CRD   \n",
              "3                  N         -73.916458         40.760826          CRD   \n",
              "4                  N         -73.965172         40.802811          CRD   \n",
              "\n",
              "   fare_amount  surcharge  mta_tax  tip_amount  tolls_amount  total_amount  \\\n",
              "0          7.0        0.5      0.5         1.6           0.0           9.6   \n",
              "1          5.0        0.5      0.5         1.2           0.0           7.2   \n",
              "2          7.0        0.5      0.5         1.6           0.0           9.6   \n",
              "3         12.5        0.5      0.5         2.5           0.0          16.0   \n",
              "4         11.5        0.5      0.5         2.5           0.0          15.0   \n",
              "\n",
              "   tripduration  \n",
              "0         284.0  \n",
              "1         256.0  \n",
              "2         473.0  \n",
              "3         693.0  \n",
              "4         775.0  "
            ]
          },
          "metadata": {
            "tags": []
          },
          "execution_count": 36
        }
      ]
    },
    {
      "metadata": {
        "colab_type": "text",
        "id": "G8tvoelD_zZ6"
      },
      "cell_type": "markdown",
      "source": [
        "# Citi Bike Dataframes\n",
        "Since Citi Bike does not directly provide csv files, we must handle the zip files, extract, and load them accordingly."
      ]
    },
    {
      "metadata": {
        "colab_type": "code",
        "id": "j7Qey2ah65QT",
        "colab": {}
      },
      "cell_type": "code",
      "source": [
        "reg_pattern = re.compile(\"^\\d+.*\\.csv$\")\n",
        "\n",
        "for n in YEARS:\n",
        "  # See if the file exists\n",
        "  file_path = get_csv_name(\"bike\", n)\n",
        "  if os.path.isfile(file_path) is True:\n",
        "    continue\n",
        "\n",
        "  # If not, request and save it\n",
        "  req_url = \"\"\n",
        "  if n != \"2017\" and n != \"2018\":\n",
        "    req_url = \"https://s3.amazonaws.com/tripdata/\" + n + \"06-citibike-tripdata.zip\"\n",
        "  else:\n",
        "    req_url = \"https://s3.amazonaws.com/tripdata/\" + n + \"06-citibike-tripdata.csv.zip\"\n",
        "    \n",
        "  # Handle the ZIP\n",
        "  z = zipfile.ZipFile(io.BytesIO(requests.get(req_url).content))\n",
        "  orig_file_name = list(filter(reg_pattern.match, z.namelist()))[0]\n",
        "  z.extract(orig_file_name)\n",
        "  os.rename(orig_file_name, get_csv_name(\"bike\", n)) # Renaming the file will automatically remove the original, extracted file"
      ],
      "execution_count": 0,
      "outputs": []
    },
    {
      "metadata": {
        "colab_type": "code",
        "id": "vCP7pOzX-ghZ",
        "colab": {}
      },
      "cell_type": "code",
      "source": [
        "# The dtypes can't be passed in atm because some columns that should be integers have non-number strings in them\n",
        "# Some columns that should be integers are floats instead because pandas can't put NaN values in integer columns\n",
        "\"\"\"\n",
        "dtypes = {\n",
        "    \"tripduration\": np.int32,\n",
        "    \"starttime\": \"str\",\n",
        "    \"stoptime\": \"str\",\n",
        "    \"start station id\": np.float32,\n",
        "    \"start station name\": \"str\",\n",
        "    \"start station latitude\": np.float32,\n",
        "    \"start station longitude\": np.float32,\n",
        "    \"end station id\": np.float32,\n",
        "    \"end station name\": \"str\",\n",
        "    \"end station latitude\": np.float32,\n",
        "    \"end station longitude\": np.float32,\n",
        "    \"bikeid\": np.int32,\n",
        "    \"usertype\": \"str\",\n",
        "    \"birth year\": np.float32,\n",
        "    \"gender\": np.int32\n",
        "}\n",
        "\"\"\"\n",
        "\n",
        "\n",
        "df_bike_2013_orig = pd.read_csv(get_csv_name(\"bike\", \"2013\"))\n",
        "df_bike_2014_orig = pd.read_csv(get_csv_name(\"bike\", \"2014\"))\n",
        "df_bike_2015_orig = pd.read_csv(get_csv_name(\"bike\", \"2015\"))\n",
        "df_bike_2016_orig = pd.read_csv(get_csv_name(\"bike\", \"2016\"))\n",
        "df_bike_2017_orig = pd.read_csv(get_csv_name(\"bike\", \"2017\"))\n",
        "df_bike_2018_orig = pd.read_csv(get_csv_name(\"bike\", \"2018\"))"
      ],
      "execution_count": 0,
      "outputs": []
    },
    {
      "metadata": {
        "colab_type": "code",
        "id": "_yJDOlhI-3gB",
        "colab": {}
      },
      "cell_type": "code",
      "source": [
        "# Convert to datetime. This was really annoying with the different formats - if the format is unspecified, the functions never stop running.\n",
        "# Also must assert that the last row of data has a start time greater than the second week, to make sure we have the full first 2 weeks of data\n",
        "\n",
        "# 2013\n",
        "df_bike_2013_orig['starttime'] = pd.to_datetime(df_bike_2013_orig['starttime'])\n",
        "df_bike_2013_orig['stoptime'] = pd.to_datetime(df_bike_2013_orig['stoptime'])\n",
        "assert df_bike_2013_orig.iloc[-1].starttime > datetime.strptime('2013-06-07', '%Y-%m-%d'), \"Missing full 1 week of data for 2013\"\n",
        "\n",
        "# 2014\n",
        "df_bike_2014_orig['starttime'] = pd.to_datetime(df_bike_2014_orig['starttime'])\n",
        "df_bike_2014_orig['stoptime'] = pd.to_datetime(df_bike_2014_orig['stoptime'])\n",
        "assert df_bike_2014_orig.iloc[-1].starttime > datetime.strptime('2014-06-07', '%Y-%m-%d'), \"Missing full 1 week of data for 2014\"\n",
        "\n",
        "# 2015\n",
        "df_bike_2015_orig['starttime'] = pd.to_datetime(df_bike_2015_orig[\"starttime\"], format=\"%m/%d/%Y %H:%M\")\n",
        "df_bike_2015_orig['stoptime'] = pd.to_datetime(df_bike_2015_orig['stoptime'], format=\"%m/%d/%Y %H:%M\")\n",
        "assert df_bike_2015_orig.iloc[-1].starttime > datetime.strptime('2015-06-07', '%Y-%m-%d'), \"Missing full 1 week of data for 2015\"\n",
        "\n",
        "# 2016\n",
        "df_bike_2016_orig['starttime'] = pd.to_datetime(df_bike_2016_orig['starttime'], format=\"%m/%d/%Y %H:%M:%S\")\n",
        "df_bike_2016_orig['stoptime'] = pd.to_datetime(df_bike_2016_orig['stoptime'], format=\"%m/%d/%Y %H:%M:%S\")\n",
        "assert df_bike_2016_orig.iloc[-1].starttime > datetime.strptime('2016-06-07', '%Y-%m-%d'), \"Missing full 1 week of data for 2016\"\n",
        "\n",
        "# 2017\n",
        "df_bike_2017_orig['starttime'] = pd.to_datetime(df_bike_2017_orig['starttime'], format=\"%Y-%m-%d %H:%M:%S\")\n",
        "df_bike_2017_orig['stoptime'] = pd.to_datetime(df_bike_2017_orig['stoptime'], format=\"%Y-%m-%d %H:%M:%S\")\n",
        "assert df_bike_2017_orig.iloc[-1].starttime > datetime.strptime('2017-06-07', '%Y-%m-%d'), \"Missing full 1 week of data for 2017\"\n",
        "\n",
        "# 2018\n",
        "df_bike_2018_orig['starttime'] = pd.to_datetime(df_bike_2018_orig['starttime'], format=\"%Y-%m-%d %H:%M:%S\")\n",
        "df_bike_2018_orig['stoptime'] = pd.to_datetime(df_bike_2018_orig['stoptime'], format=\"%Y-%m-%d %H:%M:%S\")\n",
        "assert df_bike_2018_orig.iloc[-1].starttime > datetime.strptime('2018-06-07', '%Y-%m-%d'), \"Missing full 1 week of data for 2018\""
      ],
      "execution_count": 0,
      "outputs": []
    },
    {
      "metadata": {
        "colab_type": "code",
        "id": "64XM7FHicQYF",
        "colab": {}
      },
      "cell_type": "code",
      "source": [
        "# Our main Citi Bike dataframes we'll be using, with a full week of data for each year\n",
        "\n",
        "df_bike_2013 = df_bike_2013_orig[(df_bike_2013_orig['starttime'] > '2013-06-01') & (df_bike_2013_orig['starttime'] < '2013-06-08')]\n",
        "df_bike_2014 = df_bike_2014_orig[(df_bike_2014_orig['starttime'] > '2014-06-01') & (df_bike_2014_orig['starttime'] < '2014-06-08')]\n",
        "df_bike_2015 = df_bike_2015_orig[(df_bike_2015_orig['starttime'] > '2015-06-01') & (df_bike_2015_orig['starttime'] < '2015-06-08')]\n",
        "df_bike_2016 = df_bike_2016_orig[(df_bike_2016_orig['starttime'] > '2016-06-01') & (df_bike_2016_orig['starttime'] < '2016-06-08')]\n",
        "df_bike_2017 = df_bike_2017_orig[(df_bike_2017_orig['starttime'] > '2017-06-01') & (df_bike_2017_orig['starttime'] < '2017-06-08')]\n",
        "df_bike_2018 = df_bike_2018_orig[(df_bike_2018_orig['starttime'] > '2018-06-01') & (df_bike_2018_orig['starttime'] < '2018-06-08')]\n"
      ],
      "execution_count": 0,
      "outputs": []
    },
    {
      "metadata": {
        "id": "00jSE_uxU99F",
        "colab_type": "code",
        "colab": {
          "base_uri": "https://localhost:8080/",
          "height": 568
        },
        "outputId": "158242ce-23c3-457b-a43d-69697530c97b"
      },
      "cell_type": "code",
      "source": [
        "# add trip distance (distance between start and end station, in miles) to bike dataframes\n",
        "# throws a bunch of errors, but idk still works so......\n",
        "\n",
        "def haversine(lat1, lon1, lat2, lon2, to_radians=True, earth_radius=6371):\n",
        "    \"\"\"\n",
        "    slightly modified version: of http://stackoverflow.com/a/29546836/2901002\n",
        "\n",
        "    Calculate the great circle distance between two points\n",
        "    on the earth (specified in decimal degrees or in radians)\n",
        "\n",
        "    All (lat, lon) coordinates must have numeric dtypes and be of equal length.\n",
        "\n",
        "    \"\"\"\n",
        "    if to_radians:\n",
        "        lat1, lon1, lat2, lon2 = np.radians([lat1, lon1, lat2, lon2])\n",
        "\n",
        "    a = np.sin((lat2-lat1)/2.0)**2 + \\\n",
        "        np.cos(lat1) * np.cos(lat2) * np.sin((lon2-lon1)/2.0)**2\n",
        "\n",
        "    return earth_radius * 2 * np.arcsin(np.sqrt(a)) * .62137\n",
        "\n",
        "\n",
        "df_bike_2013['trip_distance'] = haversine(\n",
        "            df_bike_2013['start station latitude'], \n",
        "            df_bike_2013['start station longitude'],\n",
        "            df_bike_2013['end station latitude'], \n",
        "            df_bike_2013['end station longitude'])\n",
        "\n",
        "df_bike_2014['trip_distance'] = haversine(\n",
        "            df_bike_2014['start station latitude'], \n",
        "            df_bike_2014['start station longitude'],\n",
        "            df_bike_2014['end station latitude'], \n",
        "            df_bike_2014['end station longitude'])\n",
        "\n",
        "df_bike_2015['trip_distance'] = haversine(\n",
        "            df_bike_2015['start station latitude'], \n",
        "            df_bike_2015['start station longitude'],\n",
        "            df_bike_2015['end station latitude'], \n",
        "            df_bike_2015['end station longitude'])\n",
        "\n",
        "df_bike_2016['trip_distance'] = haversine(\n",
        "            df_bike_2016['start station latitude'], \n",
        "            df_bike_2016['start station longitude'],\n",
        "            df_bike_2016['end station latitude'], \n",
        "            df_bike_2016['end station longitude'])\n",
        "\n",
        "df_bike_2017['trip_distance'] = haversine(\n",
        "            df_bike_2017['start station latitude'], \n",
        "            df_bike_2017['start station longitude'],\n",
        "            df_bike_2017['end station latitude'], \n",
        "            df_bike_2017['end station longitude'])\n",
        "\n",
        "df_bike_2018['trip_distance'] = haversine(\n",
        "            df_bike_2018['start station latitude'], \n",
        "            df_bike_2018['start station longitude'],\n",
        "            df_bike_2018['end station latitude'], \n",
        "            df_bike_2018['end station longitude'])\n"
      ],
      "execution_count": 41,
      "outputs": [
        {
          "output_type": "stream",
          "text": [
            "/usr/local/lib/python3.6/dist-packages/ipykernel_launcher.py:24: SettingWithCopyWarning: \n",
            "A value is trying to be set on a copy of a slice from a DataFrame.\n",
            "Try using .loc[row_indexer,col_indexer] = value instead\n",
            "\n",
            "See the caveats in the documentation: http://pandas.pydata.org/pandas-docs/stable/indexing.html#indexing-view-versus-copy\n",
            "/usr/local/lib/python3.6/dist-packages/ipykernel_launcher.py:30: SettingWithCopyWarning: \n",
            "A value is trying to be set on a copy of a slice from a DataFrame.\n",
            "Try using .loc[row_indexer,col_indexer] = value instead\n",
            "\n",
            "See the caveats in the documentation: http://pandas.pydata.org/pandas-docs/stable/indexing.html#indexing-view-versus-copy\n",
            "/usr/local/lib/python3.6/dist-packages/ipykernel_launcher.py:36: SettingWithCopyWarning: \n",
            "A value is trying to be set on a copy of a slice from a DataFrame.\n",
            "Try using .loc[row_indexer,col_indexer] = value instead\n",
            "\n",
            "See the caveats in the documentation: http://pandas.pydata.org/pandas-docs/stable/indexing.html#indexing-view-versus-copy\n",
            "/usr/local/lib/python3.6/dist-packages/ipykernel_launcher.py:42: SettingWithCopyWarning: \n",
            "A value is trying to be set on a copy of a slice from a DataFrame.\n",
            "Try using .loc[row_indexer,col_indexer] = value instead\n",
            "\n",
            "See the caveats in the documentation: http://pandas.pydata.org/pandas-docs/stable/indexing.html#indexing-view-versus-copy\n",
            "/usr/local/lib/python3.6/dist-packages/ipykernel_launcher.py:48: SettingWithCopyWarning: \n",
            "A value is trying to be set on a copy of a slice from a DataFrame.\n",
            "Try using .loc[row_indexer,col_indexer] = value instead\n",
            "\n",
            "See the caveats in the documentation: http://pandas.pydata.org/pandas-docs/stable/indexing.html#indexing-view-versus-copy\n",
            "/usr/local/lib/python3.6/dist-packages/ipykernel_launcher.py:54: SettingWithCopyWarning: \n",
            "A value is trying to be set on a copy of a slice from a DataFrame.\n",
            "Try using .loc[row_indexer,col_indexer] = value instead\n",
            "\n",
            "See the caveats in the documentation: http://pandas.pydata.org/pandas-docs/stable/indexing.html#indexing-view-versus-copy\n"
          ],
          "name": "stderr"
        }
      ]
    },
    {
      "metadata": {
        "colab_type": "code",
        "id": "yAGu3yR1jh3w",
        "outputId": "ebf34948-114a-4086-b363-ce14b7dcaabf",
        "colab": {
          "base_uri": "https://localhost:8080/",
          "height": 1146
        }
      },
      "cell_type": "code",
      "source": [
        "df_bike_2018.head(20)"
      ],
      "execution_count": 42,
      "outputs": [
        {
          "output_type": "execute_result",
          "data": {
            "text/html": [
              "<div>\n",
              "<style scoped>\n",
              "    .dataframe tbody tr th:only-of-type {\n",
              "        vertical-align: middle;\n",
              "    }\n",
              "\n",
              "    .dataframe tbody tr th {\n",
              "        vertical-align: top;\n",
              "    }\n",
              "\n",
              "    .dataframe thead th {\n",
              "        text-align: right;\n",
              "    }\n",
              "</style>\n",
              "<table border=\"1\" class=\"dataframe\">\n",
              "  <thead>\n",
              "    <tr style=\"text-align: right;\">\n",
              "      <th></th>\n",
              "      <th>tripduration</th>\n",
              "      <th>starttime</th>\n",
              "      <th>stoptime</th>\n",
              "      <th>start station id</th>\n",
              "      <th>start station name</th>\n",
              "      <th>start station latitude</th>\n",
              "      <th>start station longitude</th>\n",
              "      <th>end station id</th>\n",
              "      <th>end station name</th>\n",
              "      <th>end station latitude</th>\n",
              "      <th>end station longitude</th>\n",
              "      <th>bikeid</th>\n",
              "      <th>usertype</th>\n",
              "      <th>birth year</th>\n",
              "      <th>gender</th>\n",
              "      <th>trip_distance</th>\n",
              "    </tr>\n",
              "  </thead>\n",
              "  <tbody>\n",
              "    <tr>\n",
              "      <th>0</th>\n",
              "      <td>569</td>\n",
              "      <td>2018-06-01 01:57:20.514</td>\n",
              "      <td>2018-06-01 02:06:50.088</td>\n",
              "      <td>72</td>\n",
              "      <td>W 52 St &amp; 11 Ave</td>\n",
              "      <td>40.767272</td>\n",
              "      <td>-73.993929</td>\n",
              "      <td>173</td>\n",
              "      <td>Broadway &amp; W 49 St</td>\n",
              "      <td>40.760683</td>\n",
              "      <td>-73.984527</td>\n",
              "      <td>21481</td>\n",
              "      <td>Subscriber</td>\n",
              "      <td>1999</td>\n",
              "      <td>1</td>\n",
              "      <td>0.670309</td>\n",
              "    </tr>\n",
              "    <tr>\n",
              "      <th>1</th>\n",
              "      <td>480</td>\n",
              "      <td>2018-06-01 02:02:42.398</td>\n",
              "      <td>2018-06-01 02:10:43.354</td>\n",
              "      <td>72</td>\n",
              "      <td>W 52 St &amp; 11 Ave</td>\n",
              "      <td>40.767272</td>\n",
              "      <td>-73.993929</td>\n",
              "      <td>477</td>\n",
              "      <td>W 41 St &amp; 8 Ave</td>\n",
              "      <td>40.756405</td>\n",
              "      <td>-73.990026</td>\n",
              "      <td>19123</td>\n",
              "      <td>Subscriber</td>\n",
              "      <td>1988</td>\n",
              "      <td>1</td>\n",
              "      <td>0.778097</td>\n",
              "    </tr>\n",
              "    <tr>\n",
              "      <th>2</th>\n",
              "      <td>692</td>\n",
              "      <td>2018-06-01 02:04:23.624</td>\n",
              "      <td>2018-06-01 02:15:55.747</td>\n",
              "      <td>72</td>\n",
              "      <td>W 52 St &amp; 11 Ave</td>\n",
              "      <td>40.767272</td>\n",
              "      <td>-73.993929</td>\n",
              "      <td>457</td>\n",
              "      <td>Broadway &amp; W 58 St</td>\n",
              "      <td>40.766953</td>\n",
              "      <td>-73.981693</td>\n",
              "      <td>26983</td>\n",
              "      <td>Subscriber</td>\n",
              "      <td>1986</td>\n",
              "      <td>1</td>\n",
              "      <td>0.640655</td>\n",
              "    </tr>\n",
              "    <tr>\n",
              "      <th>3</th>\n",
              "      <td>664</td>\n",
              "      <td>2018-06-01 03:00:55.461</td>\n",
              "      <td>2018-06-01 03:11:59.906</td>\n",
              "      <td>72</td>\n",
              "      <td>W 52 St &amp; 11 Ave</td>\n",
              "      <td>40.767272</td>\n",
              "      <td>-73.993929</td>\n",
              "      <td>379</td>\n",
              "      <td>W 31 St &amp; 7 Ave</td>\n",
              "      <td>40.749156</td>\n",
              "      <td>-73.991600</td>\n",
              "      <td>26742</td>\n",
              "      <td>Subscriber</td>\n",
              "      <td>1973</td>\n",
              "      <td>1</td>\n",
              "      <td>1.257624</td>\n",
              "    </tr>\n",
              "    <tr>\n",
              "      <th>4</th>\n",
              "      <td>818</td>\n",
              "      <td>2018-06-01 06:04:54.427</td>\n",
              "      <td>2018-06-01 06:18:32.617</td>\n",
              "      <td>72</td>\n",
              "      <td>W 52 St &amp; 11 Ave</td>\n",
              "      <td>40.767272</td>\n",
              "      <td>-73.993929</td>\n",
              "      <td>459</td>\n",
              "      <td>W 20 St &amp; 11 Ave</td>\n",
              "      <td>40.746745</td>\n",
              "      <td>-74.007756</td>\n",
              "      <td>26386</td>\n",
              "      <td>Subscriber</td>\n",
              "      <td>1984</td>\n",
              "      <td>1</td>\n",
              "      <td>1.592243</td>\n",
              "    </tr>\n",
              "    <tr>\n",
              "      <th>5</th>\n",
              "      <td>753</td>\n",
              "      <td>2018-06-01 06:11:52.599</td>\n",
              "      <td>2018-06-01 06:24:26.198</td>\n",
              "      <td>72</td>\n",
              "      <td>W 52 St &amp; 11 Ave</td>\n",
              "      <td>40.767272</td>\n",
              "      <td>-73.993929</td>\n",
              "      <td>446</td>\n",
              "      <td>W 24 St &amp; 7 Ave</td>\n",
              "      <td>40.744876</td>\n",
              "      <td>-73.995299</td>\n",
              "      <td>27073</td>\n",
              "      <td>Subscriber</td>\n",
              "      <td>1981</td>\n",
              "      <td>1</td>\n",
              "      <td>1.549059</td>\n",
              "    </tr>\n",
              "    <tr>\n",
              "      <th>6</th>\n",
              "      <td>687</td>\n",
              "      <td>2018-06-01 07:15:15.565</td>\n",
              "      <td>2018-06-01 07:26:42.867</td>\n",
              "      <td>72</td>\n",
              "      <td>W 52 St &amp; 11 Ave</td>\n",
              "      <td>40.767272</td>\n",
              "      <td>-73.993929</td>\n",
              "      <td>212</td>\n",
              "      <td>W 16 St &amp; The High Line</td>\n",
              "      <td>40.743349</td>\n",
              "      <td>-74.006818</td>\n",
              "      <td>14612</td>\n",
              "      <td>Subscriber</td>\n",
              "      <td>1968</td>\n",
              "      <td>1</td>\n",
              "      <td>1.785255</td>\n",
              "    </tr>\n",
              "    <tr>\n",
              "      <th>7</th>\n",
              "      <td>619</td>\n",
              "      <td>2018-06-01 07:40:02.578</td>\n",
              "      <td>2018-06-01 07:50:22.028</td>\n",
              "      <td>72</td>\n",
              "      <td>W 52 St &amp; 11 Ave</td>\n",
              "      <td>40.767272</td>\n",
              "      <td>-73.993929</td>\n",
              "      <td>458</td>\n",
              "      <td>11 Ave &amp; W 27 St</td>\n",
              "      <td>40.751396</td>\n",
              "      <td>-74.005226</td>\n",
              "      <td>16415</td>\n",
              "      <td>Subscriber</td>\n",
              "      <td>1990</td>\n",
              "      <td>2</td>\n",
              "      <td>1.246125</td>\n",
              "    </tr>\n",
              "    <tr>\n",
              "      <th>8</th>\n",
              "      <td>819</td>\n",
              "      <td>2018-06-01 07:43:01.958</td>\n",
              "      <td>2018-06-01 07:56:41.328</td>\n",
              "      <td>72</td>\n",
              "      <td>W 52 St &amp; 11 Ave</td>\n",
              "      <td>40.767272</td>\n",
              "      <td>-73.993929</td>\n",
              "      <td>212</td>\n",
              "      <td>W 16 St &amp; The High Line</td>\n",
              "      <td>40.743349</td>\n",
              "      <td>-74.006818</td>\n",
              "      <td>31551</td>\n",
              "      <td>Subscriber</td>\n",
              "      <td>1981</td>\n",
              "      <td>1</td>\n",
              "      <td>1.785255</td>\n",
              "    </tr>\n",
              "    <tr>\n",
              "      <th>9</th>\n",
              "      <td>335</td>\n",
              "      <td>2018-06-01 07:49:47.934</td>\n",
              "      <td>2018-06-01 07:55:23.309</td>\n",
              "      <td>72</td>\n",
              "      <td>W 52 St &amp; 11 Ave</td>\n",
              "      <td>40.767272</td>\n",
              "      <td>-73.993929</td>\n",
              "      <td>514</td>\n",
              "      <td>12 Ave &amp; W 40 St</td>\n",
              "      <td>40.760875</td>\n",
              "      <td>-74.002777</td>\n",
              "      <td>26058</td>\n",
              "      <td>Subscriber</td>\n",
              "      <td>1988</td>\n",
              "      <td>2</td>\n",
              "      <td>0.640117</td>\n",
              "    </tr>\n",
              "    <tr>\n",
              "      <th>10</th>\n",
              "      <td>325</td>\n",
              "      <td>2018-06-01 07:52:11.922</td>\n",
              "      <td>2018-06-01 07:57:37.618</td>\n",
              "      <td>72</td>\n",
              "      <td>W 52 St &amp; 11 Ave</td>\n",
              "      <td>40.767272</td>\n",
              "      <td>-73.993929</td>\n",
              "      <td>514</td>\n",
              "      <td>12 Ave &amp; W 40 St</td>\n",
              "      <td>40.760875</td>\n",
              "      <td>-74.002777</td>\n",
              "      <td>31268</td>\n",
              "      <td>Subscriber</td>\n",
              "      <td>1994</td>\n",
              "      <td>1</td>\n",
              "      <td>0.640117</td>\n",
              "    </tr>\n",
              "    <tr>\n",
              "      <th>11</th>\n",
              "      <td>1030</td>\n",
              "      <td>2018-06-01 07:52:49.933</td>\n",
              "      <td>2018-06-01 08:10:00.412</td>\n",
              "      <td>72</td>\n",
              "      <td>W 52 St &amp; 11 Ave</td>\n",
              "      <td>40.767272</td>\n",
              "      <td>-73.993929</td>\n",
              "      <td>465</td>\n",
              "      <td>Broadway &amp; W 41 St</td>\n",
              "      <td>40.755136</td>\n",
              "      <td>-73.986580</td>\n",
              "      <td>32090</td>\n",
              "      <td>Subscriber</td>\n",
              "      <td>1961</td>\n",
              "      <td>1</td>\n",
              "      <td>0.922538</td>\n",
              "    </tr>\n",
              "    <tr>\n",
              "      <th>12</th>\n",
              "      <td>390</td>\n",
              "      <td>2018-06-01 08:06:25.136</td>\n",
              "      <td>2018-06-01 08:12:55.612</td>\n",
              "      <td>72</td>\n",
              "      <td>W 52 St &amp; 11 Ave</td>\n",
              "      <td>40.767272</td>\n",
              "      <td>-73.993929</td>\n",
              "      <td>173</td>\n",
              "      <td>Broadway &amp; W 49 St</td>\n",
              "      <td>40.760683</td>\n",
              "      <td>-73.984527</td>\n",
              "      <td>27374</td>\n",
              "      <td>Subscriber</td>\n",
              "      <td>1987</td>\n",
              "      <td>1</td>\n",
              "      <td>0.670309</td>\n",
              "    </tr>\n",
              "    <tr>\n",
              "      <th>13</th>\n",
              "      <td>597</td>\n",
              "      <td>2018-06-01 08:09:46.529</td>\n",
              "      <td>2018-06-01 08:19:44.427</td>\n",
              "      <td>72</td>\n",
              "      <td>W 52 St &amp; 11 Ave</td>\n",
              "      <td>40.767272</td>\n",
              "      <td>-73.993929</td>\n",
              "      <td>524</td>\n",
              "      <td>W 43 St &amp; 6 Ave</td>\n",
              "      <td>40.755273</td>\n",
              "      <td>-73.983169</td>\n",
              "      <td>20140</td>\n",
              "      <td>Subscriber</td>\n",
              "      <td>1960</td>\n",
              "      <td>2</td>\n",
              "      <td>1.002197</td>\n",
              "    </tr>\n",
              "    <tr>\n",
              "      <th>14</th>\n",
              "      <td>426</td>\n",
              "      <td>2018-06-01 08:15:12.475</td>\n",
              "      <td>2018-06-01 08:22:19.042</td>\n",
              "      <td>72</td>\n",
              "      <td>W 52 St &amp; 11 Ave</td>\n",
              "      <td>40.767272</td>\n",
              "      <td>-73.993929</td>\n",
              "      <td>173</td>\n",
              "      <td>Broadway &amp; W 49 St</td>\n",
              "      <td>40.760683</td>\n",
              "      <td>-73.984527</td>\n",
              "      <td>15734</td>\n",
              "      <td>Subscriber</td>\n",
              "      <td>1983</td>\n",
              "      <td>1</td>\n",
              "      <td>0.670309</td>\n",
              "    </tr>\n",
              "    <tr>\n",
              "      <th>15</th>\n",
              "      <td>748</td>\n",
              "      <td>2018-06-01 08:24:09.530</td>\n",
              "      <td>2018-06-01 08:36:38.168</td>\n",
              "      <td>72</td>\n",
              "      <td>W 52 St &amp; 11 Ave</td>\n",
              "      <td>40.767272</td>\n",
              "      <td>-73.993929</td>\n",
              "      <td>212</td>\n",
              "      <td>W 16 St &amp; The High Line</td>\n",
              "      <td>40.743349</td>\n",
              "      <td>-74.006818</td>\n",
              "      <td>30907</td>\n",
              "      <td>Subscriber</td>\n",
              "      <td>1973</td>\n",
              "      <td>1</td>\n",
              "      <td>1.785255</td>\n",
              "    </tr>\n",
              "    <tr>\n",
              "      <th>16</th>\n",
              "      <td>1265</td>\n",
              "      <td>2018-06-01 08:37:14.581</td>\n",
              "      <td>2018-06-01 08:58:20.500</td>\n",
              "      <td>72</td>\n",
              "      <td>W 52 St &amp; 11 Ave</td>\n",
              "      <td>40.767272</td>\n",
              "      <td>-73.993929</td>\n",
              "      <td>382</td>\n",
              "      <td>University Pl &amp; E 14 St</td>\n",
              "      <td>40.734927</td>\n",
              "      <td>-73.992005</td>\n",
              "      <td>20732</td>\n",
              "      <td>Subscriber</td>\n",
              "      <td>1991</td>\n",
              "      <td>1</td>\n",
              "      <td>2.237101</td>\n",
              "    </tr>\n",
              "    <tr>\n",
              "      <th>17</th>\n",
              "      <td>750</td>\n",
              "      <td>2018-06-01 08:37:32.613</td>\n",
              "      <td>2018-06-01 08:50:03.268</td>\n",
              "      <td>72</td>\n",
              "      <td>W 52 St &amp; 11 Ave</td>\n",
              "      <td>40.767272</td>\n",
              "      <td>-73.993929</td>\n",
              "      <td>462</td>\n",
              "      <td>W 22 St &amp; 10 Ave</td>\n",
              "      <td>40.746920</td>\n",
              "      <td>-74.004519</td>\n",
              "      <td>28341</td>\n",
              "      <td>Subscriber</td>\n",
              "      <td>1992</td>\n",
              "      <td>1</td>\n",
              "      <td>1.511508</td>\n",
              "    </tr>\n",
              "    <tr>\n",
              "      <th>18</th>\n",
              "      <td>940</td>\n",
              "      <td>2018-06-01 08:39:48.125</td>\n",
              "      <td>2018-06-01 08:55:28.705</td>\n",
              "      <td>72</td>\n",
              "      <td>W 52 St &amp; 11 Ave</td>\n",
              "      <td>40.767272</td>\n",
              "      <td>-73.993929</td>\n",
              "      <td>3141</td>\n",
              "      <td>1 Ave &amp; E 68 St</td>\n",
              "      <td>40.765005</td>\n",
              "      <td>-73.958185</td>\n",
              "      <td>33317</td>\n",
              "      <td>Subscriber</td>\n",
              "      <td>1971</td>\n",
              "      <td>1</td>\n",
              "      <td>1.877024</td>\n",
              "    </tr>\n",
              "    <tr>\n",
              "      <th>19</th>\n",
              "      <td>645</td>\n",
              "      <td>2018-06-01 08:42:47.187</td>\n",
              "      <td>2018-06-01 08:53:32.752</td>\n",
              "      <td>72</td>\n",
              "      <td>W 52 St &amp; 11 Ave</td>\n",
              "      <td>40.767272</td>\n",
              "      <td>-73.993929</td>\n",
              "      <td>456</td>\n",
              "      <td>E 53 St &amp; Madison Ave</td>\n",
              "      <td>40.759711</td>\n",
              "      <td>-73.974023</td>\n",
              "      <td>32174</td>\n",
              "      <td>Subscriber</td>\n",
              "      <td>1984</td>\n",
              "      <td>1</td>\n",
              "      <td>1.165374</td>\n",
              "    </tr>\n",
              "  </tbody>\n",
              "</table>\n",
              "</div>"
            ],
            "text/plain": [
              "    tripduration               starttime                stoptime  \\\n",
              "0            569 2018-06-01 01:57:20.514 2018-06-01 02:06:50.088   \n",
              "1            480 2018-06-01 02:02:42.398 2018-06-01 02:10:43.354   \n",
              "2            692 2018-06-01 02:04:23.624 2018-06-01 02:15:55.747   \n",
              "3            664 2018-06-01 03:00:55.461 2018-06-01 03:11:59.906   \n",
              "4            818 2018-06-01 06:04:54.427 2018-06-01 06:18:32.617   \n",
              "5            753 2018-06-01 06:11:52.599 2018-06-01 06:24:26.198   \n",
              "6            687 2018-06-01 07:15:15.565 2018-06-01 07:26:42.867   \n",
              "7            619 2018-06-01 07:40:02.578 2018-06-01 07:50:22.028   \n",
              "8            819 2018-06-01 07:43:01.958 2018-06-01 07:56:41.328   \n",
              "9            335 2018-06-01 07:49:47.934 2018-06-01 07:55:23.309   \n",
              "10           325 2018-06-01 07:52:11.922 2018-06-01 07:57:37.618   \n",
              "11          1030 2018-06-01 07:52:49.933 2018-06-01 08:10:00.412   \n",
              "12           390 2018-06-01 08:06:25.136 2018-06-01 08:12:55.612   \n",
              "13           597 2018-06-01 08:09:46.529 2018-06-01 08:19:44.427   \n",
              "14           426 2018-06-01 08:15:12.475 2018-06-01 08:22:19.042   \n",
              "15           748 2018-06-01 08:24:09.530 2018-06-01 08:36:38.168   \n",
              "16          1265 2018-06-01 08:37:14.581 2018-06-01 08:58:20.500   \n",
              "17           750 2018-06-01 08:37:32.613 2018-06-01 08:50:03.268   \n",
              "18           940 2018-06-01 08:39:48.125 2018-06-01 08:55:28.705   \n",
              "19           645 2018-06-01 08:42:47.187 2018-06-01 08:53:32.752   \n",
              "\n",
              "    start station id start station name  start station latitude  \\\n",
              "0                 72   W 52 St & 11 Ave               40.767272   \n",
              "1                 72   W 52 St & 11 Ave               40.767272   \n",
              "2                 72   W 52 St & 11 Ave               40.767272   \n",
              "3                 72   W 52 St & 11 Ave               40.767272   \n",
              "4                 72   W 52 St & 11 Ave               40.767272   \n",
              "5                 72   W 52 St & 11 Ave               40.767272   \n",
              "6                 72   W 52 St & 11 Ave               40.767272   \n",
              "7                 72   W 52 St & 11 Ave               40.767272   \n",
              "8                 72   W 52 St & 11 Ave               40.767272   \n",
              "9                 72   W 52 St & 11 Ave               40.767272   \n",
              "10                72   W 52 St & 11 Ave               40.767272   \n",
              "11                72   W 52 St & 11 Ave               40.767272   \n",
              "12                72   W 52 St & 11 Ave               40.767272   \n",
              "13                72   W 52 St & 11 Ave               40.767272   \n",
              "14                72   W 52 St & 11 Ave               40.767272   \n",
              "15                72   W 52 St & 11 Ave               40.767272   \n",
              "16                72   W 52 St & 11 Ave               40.767272   \n",
              "17                72   W 52 St & 11 Ave               40.767272   \n",
              "18                72   W 52 St & 11 Ave               40.767272   \n",
              "19                72   W 52 St & 11 Ave               40.767272   \n",
              "\n",
              "    start station longitude  end station id         end station name  \\\n",
              "0                -73.993929             173       Broadway & W 49 St   \n",
              "1                -73.993929             477          W 41 St & 8 Ave   \n",
              "2                -73.993929             457       Broadway & W 58 St   \n",
              "3                -73.993929             379          W 31 St & 7 Ave   \n",
              "4                -73.993929             459         W 20 St & 11 Ave   \n",
              "5                -73.993929             446          W 24 St & 7 Ave   \n",
              "6                -73.993929             212  W 16 St & The High Line   \n",
              "7                -73.993929             458         11 Ave & W 27 St   \n",
              "8                -73.993929             212  W 16 St & The High Line   \n",
              "9                -73.993929             514         12 Ave & W 40 St   \n",
              "10               -73.993929             514         12 Ave & W 40 St   \n",
              "11               -73.993929             465       Broadway & W 41 St   \n",
              "12               -73.993929             173       Broadway & W 49 St   \n",
              "13               -73.993929             524          W 43 St & 6 Ave   \n",
              "14               -73.993929             173       Broadway & W 49 St   \n",
              "15               -73.993929             212  W 16 St & The High Line   \n",
              "16               -73.993929             382  University Pl & E 14 St   \n",
              "17               -73.993929             462         W 22 St & 10 Ave   \n",
              "18               -73.993929            3141          1 Ave & E 68 St   \n",
              "19               -73.993929             456    E 53 St & Madison Ave   \n",
              "\n",
              "    end station latitude  end station longitude  bikeid    usertype  \\\n",
              "0              40.760683             -73.984527   21481  Subscriber   \n",
              "1              40.756405             -73.990026   19123  Subscriber   \n",
              "2              40.766953             -73.981693   26983  Subscriber   \n",
              "3              40.749156             -73.991600   26742  Subscriber   \n",
              "4              40.746745             -74.007756   26386  Subscriber   \n",
              "5              40.744876             -73.995299   27073  Subscriber   \n",
              "6              40.743349             -74.006818   14612  Subscriber   \n",
              "7              40.751396             -74.005226   16415  Subscriber   \n",
              "8              40.743349             -74.006818   31551  Subscriber   \n",
              "9              40.760875             -74.002777   26058  Subscriber   \n",
              "10             40.760875             -74.002777   31268  Subscriber   \n",
              "11             40.755136             -73.986580   32090  Subscriber   \n",
              "12             40.760683             -73.984527   27374  Subscriber   \n",
              "13             40.755273             -73.983169   20140  Subscriber   \n",
              "14             40.760683             -73.984527   15734  Subscriber   \n",
              "15             40.743349             -74.006818   30907  Subscriber   \n",
              "16             40.734927             -73.992005   20732  Subscriber   \n",
              "17             40.746920             -74.004519   28341  Subscriber   \n",
              "18             40.765005             -73.958185   33317  Subscriber   \n",
              "19             40.759711             -73.974023   32174  Subscriber   \n",
              "\n",
              "    birth year  gender  trip_distance  \n",
              "0         1999       1       0.670309  \n",
              "1         1988       1       0.778097  \n",
              "2         1986       1       0.640655  \n",
              "3         1973       1       1.257624  \n",
              "4         1984       1       1.592243  \n",
              "5         1981       1       1.549059  \n",
              "6         1968       1       1.785255  \n",
              "7         1990       2       1.246125  \n",
              "8         1981       1       1.785255  \n",
              "9         1988       2       0.640117  \n",
              "10        1994       1       0.640117  \n",
              "11        1961       1       0.922538  \n",
              "12        1987       1       0.670309  \n",
              "13        1960       2       1.002197  \n",
              "14        1983       1       0.670309  \n",
              "15        1973       1       1.785255  \n",
              "16        1991       1       2.237101  \n",
              "17        1992       1       1.511508  \n",
              "18        1971       1       1.877024  \n",
              "19        1984       1       1.165374  "
            ]
          },
          "metadata": {
            "tags": []
          },
          "execution_count": 42
        }
      ]
    },
    {
      "metadata": {
        "colab_type": "text",
        "id": "PeEbff7BkUD8"
      },
      "cell_type": "markdown",
      "source": [
        "# Analysis"
      ]
    },
    {
      "metadata": {
        "colab_type": "text",
        "id": "sgWxCTIIkg1N"
      },
      "cell_type": "markdown",
      "source": [
        "## Exploratory Data Analysis"
      ]
    },
    {
      "metadata": {
        "id": "Qub8pm4iU99p",
        "colab_type": "text"
      },
      "cell_type": "markdown",
      "source": [
        "### Trip Distance"
      ]
    },
    {
      "metadata": {
        "id": "KnrQQUV8U99x",
        "colab_type": "code",
        "colab": {
          "base_uri": "https://localhost:8080/",
          "height": 403
        },
        "outputId": "c8575d70-a699-4dca-df6a-e5fef960b716"
      },
      "cell_type": "code",
      "source": [
        "# df_taxi_2015 contains some weirdly high trip distance outliers.\n",
        "\n",
        "df_taxi_2015[df_taxi_2015.trip_distance > 500].count()"
      ],
      "execution_count": 43,
      "outputs": [
        {
          "output_type": "execute_result",
          "data": {
            "text/plain": [
              "VendorID                 23\n",
              "pickup_datetime          23\n",
              "dropoff_datetime         23\n",
              "passenger_count          23\n",
              "trip_distance            23\n",
              "pickup_longitude         23\n",
              "pickup_latitude          23\n",
              "RateCodeID               23\n",
              "store_and_fwd_flag       23\n",
              "dropoff_longitude        23\n",
              "dropoff_latitude         23\n",
              "payment_type             23\n",
              "fare_amount              23\n",
              "extra                    23\n",
              "mta_tax                  23\n",
              "tip_amount               23\n",
              "tolls_amount             23\n",
              "improvement_surcharge    23\n",
              "total_amount             23\n",
              "tripduration             23\n",
              "dtype: int64"
            ]
          },
          "metadata": {
            "tags": []
          },
          "execution_count": 43
        }
      ]
    },
    {
      "metadata": {
        "id": "nTcNSgmzU997",
        "colab_type": "code",
        "colab": {
          "base_uri": "https://localhost:8080/",
          "height": 869
        },
        "outputId": "4c2a522e-b39c-4684-ef87-7f7a0d5ad373"
      },
      "cell_type": "code",
      "source": [
        "avg_trip_distance_bike = pd.DataFrame(\n",
        "    {'Year': YEARS,\n",
        "     'Average Distance': [\n",
        "         df_bike_2013.trip_distance.mean(),\n",
        "         df_bike_2014.trip_distance.mean(),\n",
        "         df_bike_2015.trip_distance.mean(),\n",
        "         df_bike_2016.trip_distance.mean(),\n",
        "         df_bike_2017.trip_distance.mean(),\n",
        "         df_bike_2018.trip_distance.mean()\n",
        "     ]})\n",
        "\n",
        "avg_trip_distance_taxi = pd.DataFrame(\n",
        "    {'Year': YEARS,\n",
        "     'Average Distance': [\n",
        "         df_taxi_2013.trip_distance.mean(),\n",
        "         df_taxi_2014.trip_distance.mean(),\n",
        "         df_taxi_2015[df_taxi_2015.trip_distance < 500].trip_distance.mean(), # remove weirdly high trip distances...\n",
        "         df_taxi_2016.trip_distance.mean(),\n",
        "         df_taxi_2017.trip_distance.mean(),\n",
        "         df_taxi_2018.trip_distance.mean()\n",
        "     ]})\n",
        "\n",
        "avg_trip_distance_taxi.plot(\n",
        "    kind='line', x='Year', y='Average Distance', title='First Week of June Average Taxi Trip Distance (miles)', color='orange')\n",
        "avg_trip_distance_bike.plot(\n",
        "    kind='line', x='Year', y='Average Distance', title='First Week of June Average Bike Trip Distance (miles)', color='lightblue')\n",
        "\n",
        "_ = avg_trip_distance_taxi.plot(\n",
        "    kind='line', x='Year', y='Average Distance', title='First Week of June Average Trip Distance (miles)', color='orange')\n",
        "avg_trip_distance_bike.plot(\n",
        "    kind='line', x='Year', y='Average Distance', title='First Week of June Average Trip Distance (miles)', ax=_, color='lightblue')\n",
        "_.legend(['Taxi trip distance', 'Bike trip distance'])"
      ],
      "execution_count": 44,
      "outputs": [
        {
          "output_type": "execute_result",
          "data": {
            "text/plain": [
              "<matplotlib.legend.Legend at 0x7f365236ae48>"
            ]
          },
          "metadata": {
            "tags": []
          },
          "execution_count": 44
        },
        {
          "output_type": "display_data",
          "data": {
            "image/png": "[encoded data removed]",
            "text/plain": [
              "<Figure size 432x288 with 1 Axes>"
            ]
          },
          "metadata": {
            "tags": []
          }
        },
        {
          "output_type": "display_data",
          "data": {
            "image/png": "[encoded data removed]",
            "text/plain": [
              "<Figure size 432x288 with 1 Axes>"
            ]
          },
          "metadata": {
            "tags": []
          }
        },
        {
          "output_type": "display_data",
          "data": {
            "image/png": "[encoded data removed]",
            "text/plain": [
              "<Figure size 432x288 with 1 Axes>"
            ]
          },
          "metadata": {
            "tags": []
          }
        }
      ]
    },
    {
      "metadata": {
        "id": "5rJI-LOCU9-X",
        "colab_type": "text"
      },
      "cell_type": "markdown",
      "source": [
        "### Trip Duration"
      ]
    },
    {
      "metadata": {
        "colab_type": "code",
        "id": "xFZw3J33bTb0",
        "outputId": "ce8a2a0c-51d9-4b51-f365-c9ceb0ca35e6",
        "colab": {
          "base_uri": "https://localhost:8080/",
          "height": 869
        }
      },
      "cell_type": "code",
      "source": [
        "# Create average trip duration dataframes and plot\n",
        "\n",
        "avg_trip_duration_bike = pd.DataFrame(\n",
        "    {'Year': YEARS, \n",
        "     'Average': [\n",
        "        df_bike_2013.tripduration.mean(),\n",
        "        df_bike_2014.tripduration.mean(),\n",
        "        df_bike_2015.tripduration.mean(),\n",
        "        df_bike_2016.tripduration.mean(),\n",
        "        df_bike_2017.tripduration.mean(),\n",
        "        df_bike_2018.tripduration.mean()] \n",
        "    })\n",
        "\n",
        "avg_trip_duration_taxi = pd.DataFrame(\n",
        "    {'Year': YEARS,\n",
        "     'Average': [\n",
        "         df_taxi_2013.tripduration.mean(),\n",
        "         df_taxi_2014.tripduration.mean(),\n",
        "         df_taxi_2015.tripduration.mean(),\n",
        "         df_taxi_2016.tripduration.mean(),\n",
        "         df_taxi_2017.tripduration.mean(),\n",
        "         df_taxi_2018.tripduration.mean()]\n",
        "    })\n",
        "\n",
        "avg_trip_duration_taxi.plot(\n",
        "    kind='line', x='Year', y='Average', title='First Week of June Average Taxi Trip Duration (seconds)', color='orange')\n",
        "avg_trip_duration_bike.plot(\n",
        "    kind='line', x='Year', y='Average', title='First Week of June Average Bike Trip Duration (seconds)', color='lightblue')\n",
        "\n",
        "_ = avg_trip_duration_taxi.plot(\n",
        "    kind='line', x='Year', y='Average', title='First Week of June Average Trip Duration (seconds)', color='orange')\n",
        "avg_trip_duration_bike.plot(\n",
        "    kind='line', x='Year', y='Average', title='First Week of June Average Trip Duration (seconds)', ax=_, color='lightblue')\n",
        "_.legend(['Taxi trip duration', 'Bike trip duration'])"
      ],
      "execution_count": 45,
      "outputs": [
        {
          "output_type": "execute_result",
          "data": {
            "text/plain": [
              "<matplotlib.legend.Legend at 0x7f365c221eb8>"
            ]
          },
          "metadata": {
            "tags": []
          },
          "execution_count": 45
        },
        {
          "output_type": "display_data",
          "data": {
            "image/png": "[encoded data removed]",
            "text/plain": [
              "<Figure size 432x288 with 1 Axes>"
            ]
          },
          "metadata": {
            "tags": []
          }
        },
        {
          "output_type": "display_data",
          "data": {
            "image/png": "[encoded data removed]",
            "text/plain": [
              "<Figure size 432x288 with 1 Axes>"
            ]
          },
          "metadata": {
            "tags": []
          }
        },
        {
          "output_type": "display_data",
          "data": {
            "image/png": "[encoded data removed]",
            "text/plain": [
              "<Figure size 432x288 with 1 Axes>"
            ]
          },
          "metadata": {
            "tags": []
          }
        }
      ]
    },
    {
      "metadata": {
        "id": "IzONPNM3U9-u",
        "colab_type": "code",
        "colab": {
          "base_uri": "https://localhost:8080/",
          "height": 567
        },
        "outputId": "d513bc3c-0a76-41a0-928c-8a177981aad1"
      },
      "cell_type": "code",
      "source": [
        "# quick scatter plot--exposes some weird outliers.  \n",
        "# CitiBike has some >1000 hour trips\n",
        "# Cabs have some negative time durations\n",
        "\n",
        "df_bike_2013.reset_index().plot(kind='scatter', x='index', y='tripduration')\n",
        "\n",
        "df_taxi_2013.reset_index().plot(kind='scatter', x='index', y='tripduration')"
      ],
      "execution_count": 46,
      "outputs": [
        {
          "output_type": "execute_result",
          "data": {
            "text/plain": [
              "<matplotlib.axes._subplots.AxesSubplot at 0x7f36564a56d8>"
            ]
          },
          "metadata": {
            "tags": []
          },
          "execution_count": 46
        },
        {
          "output_type": "display_data",
          "data": {
            "image/png": "[encoded data removed]",
            "text/plain": [
              "<Figure size 432x288 with 1 Axes>"
            ]
          },
          "metadata": {
            "tags": []
          }
        },
        {
          "output_type": "display_data",
          "data": {
            "image/png": "[encoded data removed]",
            "text/plain": [
              "<Figure size 432x288 with 1 Axes>"
            ]
          },
          "metadata": {
            "tags": []
          }
        }
      ]
    },
    {
      "metadata": {
        "id": "X-YU1sHYU9-6",
        "colab_type": "text"
      },
      "cell_type": "markdown",
      "source": [
        "### CitiBike rider age"
      ]
    },
    {
      "metadata": {
        "colab_type": "code",
        "id": "YL_3HdLtbTb6",
        "outputId": "ec1165f6-8641-4a10-e2a9-b5f514add39c",
        "colab": {
          "base_uri": "https://localhost:8080/",
          "height": 35
        }
      },
      "cell_type": "code",
      "source": [
        "# had to avoid 2014 here, as there are some issues with the birthdate field in that dataframe. Will clean.\n",
        "# yo people in their 40s love citibikes\n",
        "\n",
        "citi_avg_age = []\n",
        "\n",
        "citi_avg_age.append(df_bike_2013[\"birth year\"].mean())\n",
        "citi_avg_age.append(\"NaN\")\n",
        "citi_avg_age.append(df_bike_2015[\"birth year\"].mean())\n",
        "citi_avg_age.append(df_bike_2016[\"birth year\"].mean())\n",
        "citi_avg_age.append(df_bike_2017[\"birth year\"].mean())\n",
        "citi_avg_age.append(df_bike_2018[\"birth year\"].mean())\n",
        "\n",
        "print(citi_avg_age)"
      ],
      "execution_count": 47,
      "outputs": [
        {
          "output_type": "stream",
          "text": [
            "[1973.7418080639952, 'NaN', 1976.2964147385587, 1977.4734717561873, 1978.7014382409977, 1978.7112451471332]\n"
          ],
          "name": "stdout"
        }
      ]
    },
    {
      "metadata": {
        "colab_type": "text",
        "id": "KlPWbRdhkdMP"
      },
      "cell_type": "markdown",
      "source": [
        "### Number of Trips"
      ]
    },
    {
      "metadata": {
        "colab_type": "code",
        "id": "ZR_w6xm-ea2D",
        "outputId": "04bf351f-98f2-4629-a391-093e04d08190",
        "colab": {
          "base_uri": "https://localhost:8080/",
          "height": 237
        }
      },
      "cell_type": "code",
      "source": [
        "# Using .loc everywhere here to try to remove the SettingsWithCopyWarning, but still happens unfortunately. No idea how to fix\n",
        "df_taxi_2013.loc[:,'day'] = df_taxi_2013.loc[:,'pickup_datetime'].map(lambda date: date.strftime('%d (%a)'))\n",
        "df_taxi_2014.loc[:,'day'] = df_taxi_2014.loc[:,'pickup_datetime'].map(lambda date: date.strftime('%d (%a)'))\n",
        "df_taxi_2015.loc[:,'day'] = df_taxi_2015.loc[:,'pickup_datetime'].map(lambda date: date.strftime('%d (%a)'))\n",
        "df_taxi_2016.loc[:,'day'] = df_taxi_2016.loc[:,'pickup_datetime'].map(lambda date: date.strftime('%d (%a)'))\n",
        "df_taxi_2017.loc[:,'day'] = df_taxi_2017.loc[:,'pickup_datetime'].map(lambda date: date.strftime('%d (%a)'))\n",
        "df_taxi_2018.loc[:,'day'] = df_taxi_2018.loc[:,'pickup_datetime'].map(lambda date: date.strftime('%d (%a)'))\n",
        "\n",
        "df_bike_2013.loc[:,'day'] = df_bike_2013.loc[:,'starttime'].map(lambda date: date.strftime('%d (%a)'))\n",
        "df_bike_2014.loc[:,'day'] = df_bike_2014.loc[:,'starttime'].map(lambda date: date.strftime('%d (%a)'))\n",
        "df_bike_2015.loc[:,'day'] = df_bike_2015.loc[:,'starttime'].map(lambda date: date.strftime('%d (%a)'))\n",
        "df_bike_2016.loc[:,'day'] = df_bike_2016.loc[:,'starttime'].map(lambda date: date.strftime('%d (%a)'))\n",
        "df_bike_2017.loc[:,'day'] = df_bike_2017.loc[:,'starttime'].map(lambda date: date.strftime('%d (%a)'))\n",
        "df_bike_2018.loc[:,'day'] = df_bike_2018.loc[:,'starttime'].map(lambda date: date.strftime('%d (%a)'))"
      ],
      "execution_count": 48,
      "outputs": [
        {
          "output_type": "stream",
          "text": [
            "/usr/local/lib/python3.6/dist-packages/pandas/core/indexing.py:362: SettingWithCopyWarning: \n",
            "A value is trying to be set on a copy of a slice from a DataFrame.\n",
            "Try using .loc[row_indexer,col_indexer] = value instead\n",
            "\n",
            "See the caveats in the documentation: http://pandas.pydata.org/pandas-docs/stable/indexing.html#indexing-view-versus-copy\n",
            "  self.obj[key] = _infer_fill_value(value)\n",
            "/usr/local/lib/python3.6/dist-packages/pandas/core/indexing.py:543: SettingWithCopyWarning: \n",
            "A value is trying to be set on a copy of a slice from a DataFrame.\n",
            "Try using .loc[row_indexer,col_indexer] = value instead\n",
            "\n",
            "See the caveats in the documentation: http://pandas.pydata.org/pandas-docs/stable/indexing.html#indexing-view-versus-copy\n",
            "  self.obj[item] = s\n"
          ],
          "name": "stderr"
        }
      ]
    },
    {
      "metadata": {
        "colab_type": "code",
        "id": "RO6J8C_jkcfX",
        "outputId": "4b1e631e-e6a5-4bce-a352-80a516476037",
        "colab": {
          "base_uri": "https://localhost:8080/",
          "height": 869
        }
      },
      "cell_type": "code",
      "source": [
        "first_plot = df_taxi_2013.groupby(by='day').size().reset_index(name='counts').plot(kind='line', x='day', y='counts', title='2013 First Week of June Taxi Trip Counts', color='orange')\n",
        "df_bike_2013.groupby(by='day').size().reset_index(name='counts').plot(kind='line', x='day', y='counts', title='2013 First Week of June Citi Bike Trip Counts', ax=first_plot, color='lightblue')\n",
        "first_plot.legend(['Taxi trip count', 'Citi Bike trip counts'])\n",
        "\n",
        "first_plot = df_taxi_2015.groupby(by='day').size().reset_index(name='counts').plot(kind='line', x='day', y='counts', title='2015 First Week of June Taxi Trip Counts', color='orange')\n",
        "df_bike_2015.groupby(by='day').size().reset_index(name='counts').plot(kind='line', x='day', y='counts', title='2015 First Week of June Citi Bike Trip Counts', ax=first_plot, color='lightblue')\n",
        "first_plot.legend(['Taxi trip count', 'Citi Bike trip counts'])\n",
        "\n",
        "first_plot = df_taxi_2018.groupby(by='day').size().reset_index(name='counts').plot(kind='line', x='day', y='counts', title='2018 First Week of June Taxi Trip Counts', color='orange')\n",
        "df_bike_2018.groupby(by='day').size().reset_index(name='counts').plot(kind='line', x='day', y='counts', title='2018 First Week of June Citi Bike Trip Counts', ax=first_plot, color='lightblue')\n",
        "first_plot.legend(['Taxi trip count', 'Citi Bike trip counts'])"
      ],
      "execution_count": 49,
      "outputs": [
        {
          "output_type": "execute_result",
          "data": {
            "text/plain": [
              "<matplotlib.legend.Legend at 0x7f3652d09a58>"
            ]
          },
          "metadata": {
            "tags": []
          },
          "execution_count": 49
        },
        {
          "output_type": "display_data",
          "data": {
            "image/png": "[encoded data removed]",
            "text/plain": [
              "<Figure size 432x288 with 1 Axes>"
            ]
          },
          "metadata": {
            "tags": []
          }
        },
        {
          "output_type": "display_data",
          "data": {
            "image/png": "[encoded data removed]",
            "text/plain": [
              "<Figure size 432x288 with 1 Axes>"
            ]
          },
          "metadata": {
            "tags": []
          }
        },
        {
          "output_type": "display_data",
          "data": {
            "image/png": "[encoded data removed]",
            "text/plain": [
              "<Figure size 432x288 with 1 Axes>"
            ]
          },
          "metadata": {
            "tags": []
          }
        }
      ]
    },
    {
      "metadata": {
        "colab_type": "code",
        "id": "wLm81wbyknH5",
        "colab": {}
      },
      "cell_type": "code",
      "source": [
        "# Make new data frames for yearly trip counts, and graph them\n",
        "\n",
        "df_taxi_trip_counts = pd.DataFrame({'Year': YEARS, 'Count': [\n",
        "    df_taxi_2013.groupby(by='day').size().sum(),\n",
        "    df_taxi_2014.groupby(by='day').size().sum(),\n",
        "    df_taxi_2015.groupby(by='day').size().sum(),\n",
        "    df_taxi_2016.groupby(by='day').size().sum(),\n",
        "    df_taxi_2017.groupby(by='day').size().sum(),\n",
        "    df_taxi_2018.groupby(by='day').size().sum(),\n",
        "]})\n",
        "\n",
        "df_bike_trip_counts = pd.DataFrame({'Year': YEARS, 'Count': [\n",
        "    df_bike_2013.groupby(by='day').size().sum(),\n",
        "    df_bike_2014.groupby(by='day').size().sum(),\n",
        "    df_bike_2015.groupby(by='day').size().sum(),\n",
        "    df_bike_2016.groupby(by='day').size().sum(),\n",
        "    df_bike_2017.groupby(by='day').size().sum(),\n",
        "    df_bike_2018.groupby(by='day').size().sum(),\n",
        "]})"
      ],
      "execution_count": 0,
      "outputs": []
    },
    {
      "metadata": {
        "colab_type": "code",
        "id": "Jw-tArubptfI",
        "outputId": "485b06af-b42f-425f-be85-f44c5503d020",
        "colab": {
          "base_uri": "https://localhost:8080/",
          "height": 869
        }
      },
      "cell_type": "code",
      "source": [
        "df_taxi_trip_counts.plot(kind='line', x='Year', y='Count', title='First Week of June Yearly Taxi Trip Counts', color='orange')\n",
        "df_bike_trip_counts.plot(kind='line', x='Year', y='Count', title='First Week of June Yearly Trip Counts', color='lightblue') \n",
        "\n",
        "first_plot = df_taxi_trip_counts.plot(kind='line', x='Year', y='Count', title='First Week of June Yearly Taxi Trip Counts', color='orange')\n",
        "df_bike_trip_counts.plot(kind='line', x='Year', y='Count', title='First Week of June Yearly Trip Counts', ax=first_plot, color='lightblue')\n",
        "first_plot.legend(['Taxi trip count', 'Citi Bike trip count'])"
      ],
      "execution_count": 51,
      "outputs": [
        {
          "output_type": "execute_result",
          "data": {
            "text/plain": [
              "<matplotlib.legend.Legend at 0x7f36564bd9b0>"
            ]
          },
          "metadata": {
            "tags": []
          },
          "execution_count": 51
        },
        {
          "output_type": "display_data",
          "data": {
            "image/png": "[encoded data removed]",
            "text/plain": [
              "<Figure size 432x288 with 1 Axes>"
            ]
          },
          "metadata": {
            "tags": []
          }
        },
        {
          "output_type": "display_data",
          "data": {
            "image/png": "[encoded data removed]",
            "text/plain": [
              "<Figure size 432x288 with 1 Axes>"
            ]
          },
          "metadata": {
            "tags": []
          }
        },
        {
          "output_type": "display_data",
          "data": {
            "image/png": "[encoded data removed]",
            "text/plain": [
              "<Figure size 432x288 with 1 Axes>"
            ]
          },
          "metadata": {
            "tags": []
          }
        }
      ]
    },
    {
      "metadata": {
        "id": "FWCO5tjCYRAr",
        "colab_type": "code",
        "colab": {}
      },
      "cell_type": "code",
      "source": [
        "  "
      ],
      "execution_count": 0,
      "outputs": []
    }
  ]
}