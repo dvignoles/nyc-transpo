{
 "cells": [
  {
   "cell_type": "code",
   "execution_count": 251,
   "metadata": {
    "colab": {},
    "colab_type": "code",
    "id": "mcFKx7BCp9he"
   },
   "outputs": [],
   "source": [
    "import pandas as pd\n",
    "from datetime import datetime, time\n",
    "import numpy as np\n",
    "import requests, zipfile, io, os, re, csv, warnings\n",
    "import matplotlib.pyplot as plt\n",
    "import preprocessing.constants as constants\n",
    "import features.common.zones as zones\n",
    "from IPython.display import clear_output\n",
    "from preprocessing.taxi import get_parsed_df as get_parsed_taxi_df\n",
    "from preprocessing.bike import get_parsed_df as get_parsed_bike_df\n",
    "from preprocessing.common import clean_column_names\n",
    "# Ignore the warnings about storing incompatible data types HDFStore\n",
    "warnings.filterwarnings('ignore',category=pd.io.pytables.PerformanceWarning)"
   ]
  },
  {
   "cell_type": "markdown",
   "metadata": {
    "colab_type": "text",
    "id": "B4ttmHZI_vQj"
   },
   "source": [
    "# Dataframe Loading/Cleaning/Features"
   ]
  },
  {
   "cell_type": "markdown",
   "metadata": {
    "colab_type": "text",
    "id": "h51LOsJZzCaB"
   },
   "source": [
    "## Taxi Data\n",
    "Since these downloads take a long time, do NOT reset all run times if you are not on localhost when it asks you to! It will wipe all downloaded files, and you'll have to download them again!\n",
    "\n",
    "Note that the features are added in here as well for efficiency."
   ]
  },
  {
   "cell_type": "code",
   "execution_count": 252,
   "metadata": {
    "colab": {},
    "colab_type": "code",
    "id": "mySR4u3Ua6S-"
   },
   "outputs": [],
   "source": [
    "taxi_store = pd.HDFStore(constants.TAXI_DATA_PATH + '/dataframes.h5')"
   ]
  },
  {
   "cell_type": "code",
   "execution_count": 253,
   "metadata": {
    "colab": {},
    "colab_type": "code",
    "id": "kVWTH7MhapUn"
   },
   "outputs": [],
   "source": [
    "# IGNORE MEMORY LIMIT WARNINGS! The data is garbage collected every time the function exits for each year.\n",
    "\n",
    "df_taxi_2013 = get_parsed_taxi_df(\"2013\", taxi_store).sort_values(by='pickup_datetime', kind='mergesort')\n",
    "df_taxi_2014 = get_parsed_taxi_df(\"2014\", taxi_store).sort_values(by='pickup_datetime', kind='mergesort')\n",
    "df_taxi_2015 = get_parsed_taxi_df(\"2015\", taxi_store).sort_values(by='pickup_datetime', kind='mergesort')\n",
    "df_taxi_2016 = get_parsed_taxi_df(\"2016\", taxi_store).sort_values(by='pickup_datetime', kind='mergesort')\n",
    "df_taxi_2017 = get_parsed_taxi_df(\"2017\", taxi_store).sort_values(by='pickup_datetime', kind='mergesort')\n",
    "df_taxi_2018 = get_parsed_taxi_df(\"2018\", taxi_store).sort_values(by='pickup_datetime', kind='mergesort')\n",
    "df_taxi_all = [df_taxi_2013, df_taxi_2014, df_taxi_2015, df_taxi_2016, df_taxi_2017, df_taxi_2018]\n",
    "\n",
    "clear_output()"
   ]
  },
  {
   "cell_type": "code",
   "execution_count": 254,
   "metadata": {
    "colab": {},
    "colab_type": "code",
    "id": "HwX57hpHkZ4k"
   },
   "outputs": [],
   "source": [
    "# Just like an open file, it must be closed to release the file lock.\n",
    "taxi_store.close()"
   ]
  },
  {
   "cell_type": "markdown",
   "metadata": {
    "colab_type": "text",
    "id": "G8tvoelD_zZ6"
   },
   "source": [
    "## Citi Bike Data\n",
    "Note that the features are added in here as well for efficiency."
   ]
  },
  {
   "cell_type": "code",
   "execution_count": 255,
   "metadata": {
    "colab": {},
    "colab_type": "code",
    "id": "Gf4fWk53dc1F"
   },
   "outputs": [],
   "source": [
    "bike_store = pd.HDFStore(constants.BIKE_DATA_PATH + '/dataframes.h5')"
   ]
  },
  {
   "cell_type": "code",
   "execution_count": 256,
   "metadata": {
    "colab": {},
    "colab_type": "code",
    "id": "vCP7pOzX-ghZ"
   },
   "outputs": [],
   "source": [
    "df_bike_2013 = get_parsed_bike_df('2013', bike_store)\n",
    "df_bike_2014 = get_parsed_bike_df('2014', bike_store)\n",
    "df_bike_2015 = get_parsed_bike_df('2015', bike_store)\n",
    "df_bike_2016 = get_parsed_bike_df('2016', bike_store)\n",
    "df_bike_2017 = get_parsed_bike_df('2017', bike_store)\n",
    "df_bike_2018 = get_parsed_bike_df('2018', bike_store)\n",
    "df_bike_all = [df_bike_2013, df_bike_2014, df_bike_2015, df_bike_2016, df_bike_2017, df_bike_2018]\n",
    "\n",
    "clear_output()"
   ]
  },
  {
   "cell_type": "code",
   "execution_count": 257,
   "metadata": {
    "colab": {},
    "colab_type": "code",
    "id": "47xzd3zikVfn"
   },
   "outputs": [],
   "source": [
    "bike_store.close()"
   ]
  },
  {
   "cell_type": "markdown",
   "metadata": {
    "colab_type": "text",
    "id": "DXIWTCDOVGa2"
   },
   "source": [
    "## Features Not Yet Migrated\n",
    "This still needs to be moved to the external py files of `features/bike.py` and `features/taxi.py` file - optimizations can be done first before moving it, perhaps?"
   ]
  },
  {
   "cell_type": "markdown",
   "metadata": {
    "colab_type": "text",
    "id": "zDeKqW09yw7j"
   },
   "source": [
    "### Zones / Neighborhoods\n",
    "Define NYC taxi zone as a feature for all df"
   ]
  },
  {
   "cell_type": "code",
   "execution_count": 258,
   "metadata": {
    "colab": {
     "base_uri": "https://localhost:8080/",
     "height": 52
    },
    "colab_type": "code",
    "id": "K-C_d5_QVGbF",
    "outputId": "d3c9870d-c678-4535-b2ed-6c1043094bca"
   },
   "outputs": [],
   "source": [
    "def add_zones(df): #ridiculously slow, sorry\n",
    "    df['zone_from'] = np.vectorize(zones.lookup_id)(df.pickup_longitude,df.pickup_latitude)\n",
    "    df['zone_to'] = np.vectorize(zones.lookup_id)(df.dropoff_longitude,df.dropoff_latitude)\n",
    "    df['zone_from_to'] = np.vectorize(zones.from_to)(df.pickup_longitude,df.pickup_latitude,df.dropoff_longitude,df.dropoff_latitude)\n",
    "\n",
    "#Popualte Taxi Zone Columns\n",
    "for df in [df_taxi_2013,df_taxi_2014,df_taxi_2015,df_taxi_2016]: #taxi 2017/2018 use a different system in place of lon/lat\n",
    "  add_zones(df)\n",
    "  df.dropna(subset=['zone_from','zone_to','zone_from_to'],inplace=True)\n"
   ]
  },
  {
   "cell_type": "code",
   "execution_count": 259,
   "metadata": {
    "colab": {},
    "colab_type": "code",
    "id": "B3ArKA_cVGbH"
   },
   "outputs": [],
   "source": [
    "def add_zones(df):\n",
    "    df['zone_from'] = np.vectorize(zones.lookup_id)(df.start_station_longitude, df.start_station_latitude)\n",
    "    df['zone_to'] = np.vectorize(zones.lookup_id)(df.end_station_longitude, df.end_station_latitude)\n",
    "    df['zone_from_to'] = np.vectorize(zones.from_to)(df.start_station_longitude, df.start_station_latitude, df.end_station_longitude, df.end_station_latitude)\n",
    "\n",
    "#Populate Taxi Zone Columns for citibike\n",
    "for df in df_bike_all:\n",
    "    add_zones(df)\n",
    "    df.dropna(subset=['zone_from','zone_to','zone_from_to'],inplace=True)\n"
   ]
  },
  {
   "cell_type": "code",
   "execution_count": 122,
   "metadata": {},
   "outputs": [],
   "source": [
    "#attempt at adding zone_from_to to 2017 and 2018 taxi dataframes.  Results in a high # of nan vals?\n",
    "\n",
    "#def from_to_zid(from_id, to_id):\n",
    "#    try:\n",
    "#        return zones.ZONES_DIC[str(float(from_id))].name + ' to ' + zones.ZONES_DIC[str(float(to_id))].name\n",
    "#    except:\n",
    "#        return np.nan\n",
    "#\n",
    "#def add_zones(df):\n",
    "#    df['zone_from'] = df['PULocationID']\n",
    "#    df['zone_to'] = df['DOLocationID']\n",
    "#    df['zone_from_to'] = np.vectorize(from_to_zid)(df.zone_from, df.zone_to)\n",
    "#\n",
    "#for df in [df_taxi_2017, df_taxi_2018]:\n",
    "#    add_zones(df)\n",
    "#    df.dropna(subset=['zone_from', 'zone_to', 'zone_from_to'], inplace=True)"
   ]
  },
  {
   "cell_type": "markdown",
   "metadata": {
    "colab_type": "text",
    "id": "PeEbff7BkUD8"
   },
   "source": [
    "# Analysis"
   ]
  },
  {
   "cell_type": "markdown",
   "metadata": {
    "colab_type": "text",
    "id": "sgWxCTIIkg1N"
   },
   "source": [
    "## Exploratory Data Analysis"
   ]
  },
  {
   "cell_type": "markdown",
   "metadata": {
    "colab_type": "text",
    "id": "Qub8pm4iU99p"
   },
   "source": [
    "### Trip Distance"
   ]
  },
  {
   "cell_type": "code",
   "execution_count": 260,
   "metadata": {
    "colab": {
     "base_uri": "https://localhost:8080/",
     "height": 451
    },
    "colab_type": "code",
    "id": "KnrQQUV8U99x",
    "outputId": "eeeb058d-45aa-48a9-a910-d2a5e3397532"
   },
   "outputs": [
    {
     "data": {
      "text/plain": [
       "VendorID                 21\n",
       "pickup_datetime          21\n",
       "dropoff_datetime         21\n",
       "passenger_count          21\n",
       "trip_distance            21\n",
       "pickup_longitude         21\n",
       "pickup_latitude          21\n",
       "RateCodeID               21\n",
       "store_and_fwd_flag       21\n",
       "dropoff_longitude        21\n",
       "dropoff_latitude         21\n",
       "payment_type             21\n",
       "fare_amount              21\n",
       "extra                    21\n",
       "mta_tax                  21\n",
       "tip_amount               21\n",
       "tolls_amount             21\n",
       "improvement_surcharge    21\n",
       "total_amount             21\n",
       "tripduration             21\n",
       "zone_from                21\n",
       "zone_to                  21\n",
       "zone_from_to             21\n",
       "dtype: int64"
      ]
     },
     "execution_count": 260,
     "metadata": {},
     "output_type": "execute_result"
    }
   ],
   "source": [
    "# df_taxi_2015 contains some weirdly high trip distance outliers.\n",
    "\n",
    "df_taxi_2015[df_taxi_2015.trip_distance > 500].count()"
   ]
  },
  {
   "cell_type": "code",
   "execution_count": 261,
   "metadata": {
    "colab": {
     "base_uri": "https://localhost:8080/",
     "height": 903
    },
    "colab_type": "code",
    "id": "nTcNSgmzU997",
    "outputId": "64c2599c-0cc1-4495-8ef3-b11b02222acd"
   },
   "outputs": [
    {
     "name": "stdout",
     "output_type": "stream",
     "text": [
      "bike mean:  1.1761168440183003\n",
      "taxi mean:  2.9681836433167406\n"
     ]
    },
    {
     "data": {
      "text/plain": [
       "<matplotlib.legend.Legend at 0x1c7b5e748>"
      ]
     },
     "execution_count": 261,
     "metadata": {},
     "output_type": "execute_result"
    },
    {
     "data": {
      "image/png": "[encoded data removed]",
      "text/plain": [
       "<Figure size 432x288 with 1 Axes>"
      ]
     },
     "metadata": {
      "needs_background": "light"
     },
     "output_type": "display_data"
    },
    {
     "data": {
      "image/png": "[encoded data removed]",
      "text/plain": [
       "<Figure size 432x288 with 1 Axes>"
      ]
     },
     "metadata": {
      "needs_background": "light"
     },
     "output_type": "display_data"
    },
    {
     "data": {
      "image/png": "[encoded data removed]",
      "text/plain": [
       "<Figure size 432x288 with 1 Axes>"
      ]
     },
     "metadata": {
      "needs_background": "light"
     },
     "output_type": "display_data"
    }
   ],
   "source": [
    "avg_trip_distance_bike = pd.DataFrame(\n",
    "    {'Year': constants.YEARS,\n",
    "     'Average Distance': [\n",
    "         df_bike_2013.trip_distance.mean(),\n",
    "         df_bike_2014.trip_distance.mean(),\n",
    "         df_bike_2015.trip_distance.mean(),\n",
    "         df_bike_2016.trip_distance.mean(),\n",
    "         df_bike_2017.trip_distance.mean(),\n",
    "         df_bike_2018.trip_distance.mean()\n",
    "     ]})\n",
    "\n",
    "print('bike mean: ',np.mean([df_bike_2013.trip_distance.mean(),\n",
    "         df_bike_2014.trip_distance.mean(),\n",
    "         df_bike_2015.trip_distance.mean(),\n",
    "         df_bike_2016.trip_distance.mean(),\n",
    "         df_bike_2017.trip_distance.mean(),\n",
    "         df_bike_2018.trip_distance.mean()]))\n",
    "\n",
    "avg_trip_distance_taxi = pd.DataFrame(\n",
    "    {'Year': constants.YEARS,\n",
    "     'Average Distance': [\n",
    "         df_taxi_2013.trip_distance.mean(),\n",
    "         df_taxi_2014.trip_distance.mean(),\n",
    "         df_taxi_2015[df_taxi_2015.trip_distance < 500].trip_distance.mean(), # remove weirdly high trip distances...\n",
    "         df_taxi_2016.trip_distance.mean(),\n",
    "         df_taxi_2017.trip_distance.mean(),\n",
    "         df_taxi_2018.trip_distance.mean()\n",
    "     ]})\n",
    "\n",
    "print('taxi mean: ',np.mean([df_taxi_2013.trip_distance.mean(),\n",
    "         df_taxi_2014.trip_distance.mean(),\n",
    "         df_taxi_2015[df_taxi_2015.trip_distance < 500].trip_distance.mean(), # remove weirdly high trip distances...\n",
    "         df_taxi_2016.trip_distance.mean(),\n",
    "         df_taxi_2017.trip_distance.mean(),\n",
    "         df_taxi_2018.trip_distance.mean()]))\n",
    "\n",
    "avg_trip_distance_taxi.plot(\n",
    "    kind='line', x='Year', y='Average Distance', title='First Week of June Average Taxi Trip Distance (miles)', color='orange')\n",
    "avg_trip_distance_bike.plot(\n",
    "    kind='line', x='Year', y='Average Distance', title='First Week of June Average Bike Trip Distance (miles)', color='lightblue')\n",
    "\n",
    "_ = avg_trip_distance_taxi.plot(\n",
    "    kind='line', x='Year', y='Average Distance', title='First Week of June Average Trip Distance (miles)', color='orange')\n",
    "avg_trip_distance_bike.plot(\n",
    "    kind='line', x='Year', y='Average Distance', title='First Week of June Average Trip Distance (miles)', ax=_, color='lightblue')\n",
    "_.legend(['Taxi trip distance', 'Bike trip distance'])"
   ]
  },
  {
   "cell_type": "markdown",
   "metadata": {
    "colab_type": "text",
    "id": "5rJI-LOCU9-X"
   },
   "source": [
    "### Trip Duration"
   ]
  },
  {
   "cell_type": "code",
   "execution_count": 262,
   "metadata": {
    "colab": {
     "base_uri": "https://localhost:8080/",
     "height": 903
    },
    "colab_type": "code",
    "id": "xFZw3J33bTb0",
    "outputId": "55f65aa0-fee4-47c3-cc80-33f9269bf747"
   },
   "outputs": [
    {
     "name": "stdout",
     "output_type": "stream",
     "text": [
      "bike trip duration mean:  1213.1575192188793\n",
      "taxi trip duration mean: 931.8789673962391\n"
     ]
    },
    {
     "data": {
      "text/plain": [
       "<matplotlib.legend.Legend at 0x16d246588>"
      ]
     },
     "execution_count": 262,
     "metadata": {},
     "output_type": "execute_result"
    },
    {
     "data": {
      "image/png": "[encoded data removed]",
      "text/plain": [
       "<Figure size 432x288 with 1 Axes>"
      ]
     },
     "metadata": {
      "needs_background": "light"
     },
     "output_type": "display_data"
    },
    {
     "data": {
      "image/png": "[encoded data removed]",
      "text/plain": [
       "<Figure size 432x288 with 1 Axes>"
      ]
     },
     "metadata": {
      "needs_background": "light"
     },
     "output_type": "display_data"
    },
    {
     "data": {
      "image/png": "[encoded data removed]",
      "text/plain": [
       "<Figure size 432x288 with 1 Axes>"
      ]
     },
     "metadata": {
      "needs_background": "light"
     },
     "output_type": "display_data"
    }
   ],
   "source": [
    "# Create average trip duration dataframes and plot\n",
    "\n",
    "avg_trip_duration_bike = pd.DataFrame(\n",
    "    {'Year': constants.YEARS, \n",
    "     'Average': [\n",
    "        df_bike_2013.tripduration.mean(),\n",
    "        df_bike_2014.tripduration.mean(),\n",
    "        df_bike_2015.tripduration.mean(),\n",
    "        df_bike_2016.tripduration.mean(),\n",
    "        df_bike_2017.tripduration.mean(),\n",
    "        df_bike_2018.tripduration.mean()] \n",
    "    })\n",
    "print('bike trip duration mean: ',np.mean([\n",
    "        df_bike_2013.tripduration.mean(),\n",
    "        df_bike_2014.tripduration.mean(),\n",
    "        df_bike_2015.tripduration.mean(),\n",
    "        df_bike_2016.tripduration.mean(),\n",
    "        df_bike_2017.tripduration.mean(),\n",
    "        df_bike_2018.tripduration.mean()] ))\n",
    "\n",
    "avg_trip_duration_taxi = pd.DataFrame(\n",
    "    {'Year': constants.YEARS,\n",
    "     'Average': [\n",
    "         df_taxi_2013.tripduration.mean(),\n",
    "         df_taxi_2014.tripduration.mean(),\n",
    "         df_taxi_2015.tripduration.mean(),\n",
    "         df_taxi_2016.tripduration.mean(),\n",
    "         df_taxi_2017.tripduration.mean(),\n",
    "         df_taxi_2018.tripduration.mean()]\n",
    "    })\n",
    "\n",
    "print('taxi trip duration mean:', np.mean([\n",
    "         df_taxi_2013.tripduration.mean(),\n",
    "         df_taxi_2014.tripduration.mean(),\n",
    "         df_taxi_2015.tripduration.mean(),\n",
    "         df_taxi_2016.tripduration.mean(),\n",
    "         df_taxi_2017.tripduration.mean(),\n",
    "         df_taxi_2018.tripduration.mean()]))\n",
    "\n",
    "avg_trip_duration_taxi.plot(\n",
    "    kind='line', x='Year', y='Average', title='First Week of June Average Taxi Trip Duration (seconds)', color='orange')\n",
    "\n",
    "avg_trip_duration_bike.plot(\n",
    "    kind='line', x='Year', y='Average', title='First Week of June Average Bike Trip Duration (seconds)', color='lightblue')\n",
    "\n",
    "_ = avg_trip_duration_taxi.plot(\n",
    "    kind='line', x='Year', y='Average', title='First Week of June Average Trip Duration (seconds)', color='orange')\n",
    "avg_trip_duration_bike.plot(\n",
    "    kind='line', x='Year', y='Average', title='First Week of June Average Trip Duration (seconds)', ax=_, color='lightblue')\n",
    "_.legend(['Taxi trip duration', 'Bike trip duration'])\n",
    "\n",
    "\n",
    "#fig.savefig('trip_duration.jpg')"
   ]
  },
  {
   "cell_type": "code",
   "execution_count": 263,
   "metadata": {
    "colab": {
     "base_uri": "https://localhost:8080/",
     "height": 566
    },
    "colab_type": "code",
    "id": "IzONPNM3U9-u",
    "outputId": "afea7368-630b-4be6-da19-c6b7cb13f790"
   },
   "outputs": [
    {
     "data": {
      "text/plain": [
       "<matplotlib.axes._subplots.AxesSubplot at 0x16dc82c88>"
      ]
     },
     "execution_count": 263,
     "metadata": {},
     "output_type": "execute_result"
    },
    {
     "data": {
      "image/png": "[encoded data removed]",
      "text/plain": [
       "<Figure size 432x288 with 1 Axes>"
      ]
     },
     "metadata": {
      "needs_background": "light"
     },
     "output_type": "display_data"
    },
    {
     "data": {
      "image/png": "[encoded data removed]",
      "text/plain": [
       "<Figure size 432x288 with 1 Axes>"
      ]
     },
     "metadata": {
      "needs_background": "light"
     },
     "output_type": "display_data"
    }
   ],
   "source": [
    "# quick scatter plot--exposes some weird outliers.  \n",
    "# CitiBike has some >1000 hour trips\n",
    "# Cabs have some negative time durations\n",
    "\n",
    "df_bike_2013.reset_index().plot(kind='scatter', x='index', y='tripduration')\n",
    "\n",
    "df_taxi_2013.reset_index().plot(kind='scatter', x='index', y='tripduration')"
   ]
  },
  {
   "cell_type": "markdown",
   "metadata": {
    "colab_type": "text",
    "id": "X-YU1sHYU9-6"
   },
   "source": [
    "### CitiBike rider age"
   ]
  },
  {
   "cell_type": "code",
   "execution_count": 264,
   "metadata": {
    "colab": {
     "base_uri": "https://localhost:8080/",
     "height": 34
    },
    "colab_type": "code",
    "id": "YL_3HdLtbTb6",
    "outputId": "5bf61d45-b10d-4c71-dc3d-a584f591fa9b"
   },
   "outputs": [
    {
     "name": "stdout",
     "output_type": "stream",
     "text": [
      "[1973.7237548828125, 'NaN', 1976.08154296875, 1977.1600341796875, 1979.1080322265625, 1980.276123046875]\n"
     ]
    }
   ],
   "source": [
    "# had to avoid 2014 here, as there are some issues with the birthdate field in that dataframe. Will clean.\n",
    "# yo people in their 40s love citibikes\n",
    "\n",
    "citi_avg_age = []\n",
    "\n",
    "citi_avg_age.append(df_bike_2013[\"birth_year\"].mean())\n",
    "citi_avg_age.append(\"NaN\")\n",
    "citi_avg_age.append(df_bike_2015[\"birth_year\"].mean())\n",
    "citi_avg_age.append(df_bike_2016[\"birth_year\"].mean())\n",
    "citi_avg_age.append(df_bike_2017[\"birth_year\"].mean())\n",
    "citi_avg_age.append(df_bike_2018[\"birth_year\"].mean())\n",
    "\n",
    "print(citi_avg_age)"
   ]
  },
  {
   "cell_type": "markdown",
   "metadata": {
    "colab_type": "text",
    "id": "KlPWbRdhkdMP"
   },
   "source": [
    "### Number of Trips"
   ]
  },
  {
   "cell_type": "code",
   "execution_count": 265,
   "metadata": {
    "colab": {
     "base_uri": "https://localhost:8080/",
     "height": 313
    },
    "colab_type": "code",
    "id": "b6yCa97IocgN",
    "outputId": "9ac12563-f51d-498f-f482-6009e54aa8ea"
   },
   "outputs": [
    {
     "data": {
      "text/html": [
       "<div>\n",
       "<style scoped>\n",
       "    .dataframe tbody tr th:only-of-type {\n",
       "        vertical-align: middle;\n",
       "    }\n",
       "\n",
       "    .dataframe tbody tr th {\n",
       "        vertical-align: top;\n",
       "    }\n",
       "\n",
       "    .dataframe thead th {\n",
       "        text-align: right;\n",
       "    }\n",
       "</style>\n",
       "<table border=\"1\" class=\"dataframe\">\n",
       "  <thead>\n",
       "    <tr style=\"text-align: right;\">\n",
       "      <th></th>\n",
       "      <th>tripduration</th>\n",
       "      <th>starttime</th>\n",
       "      <th>stoptime</th>\n",
       "      <th>start_station_id</th>\n",
       "      <th>start_station_name</th>\n",
       "      <th>start_station_latitude</th>\n",
       "      <th>start_station_longitude</th>\n",
       "      <th>end_station_id</th>\n",
       "      <th>end_station_name</th>\n",
       "      <th>end_station_latitude</th>\n",
       "      <th>end_station_longitude</th>\n",
       "      <th>bikeid</th>\n",
       "      <th>usertype</th>\n",
       "      <th>birth_year</th>\n",
       "      <th>gender</th>\n",
       "      <th>trip_distance</th>\n",
       "      <th>zone_from</th>\n",
       "      <th>zone_to</th>\n",
       "      <th>zone_from_to</th>\n",
       "    </tr>\n",
       "  </thead>\n",
       "  <tbody>\n",
       "    <tr>\n",
       "      <th>119305</th>\n",
       "      <td>176</td>\n",
       "      <td>2013-06-05 08:41:29</td>\n",
       "      <td>2013-06-05 08:44:25</td>\n",
       "      <td>376.0</td>\n",
       "      <td>John St &amp; William St</td>\n",
       "      <td>40.708622</td>\n",
       "      <td>-74.007225</td>\n",
       "      <td>376.0</td>\n",
       "      <td>John St &amp; William St</td>\n",
       "      <td>40.708622</td>\n",
       "      <td>-74.007225</td>\n",
       "      <td>17000</td>\n",
       "      <td>Subscriber</td>\n",
       "      <td>1985.0</td>\n",
       "      <td>2</td>\n",
       "      <td>0.0</td>\n",
       "      <td>87.0</td>\n",
       "      <td>87.0</td>\n",
       "      <td>Financial District North to Financial District...</td>\n",
       "    </tr>\n",
       "    <tr>\n",
       "      <th>119307</th>\n",
       "      <td>2258</td>\n",
       "      <td>2013-06-05 16:33:41</td>\n",
       "      <td>2013-06-05 17:11:19</td>\n",
       "      <td>376.0</td>\n",
       "      <td>John St &amp; William St</td>\n",
       "      <td>40.708622</td>\n",
       "      <td>-74.007225</td>\n",
       "      <td>376.0</td>\n",
       "      <td>John St &amp; William St</td>\n",
       "      <td>40.708622</td>\n",
       "      <td>-74.007225</td>\n",
       "      <td>18283</td>\n",
       "      <td>Subscriber</td>\n",
       "      <td>1976.0</td>\n",
       "      <td>1</td>\n",
       "      <td>0.0</td>\n",
       "      <td>87.0</td>\n",
       "      <td>87.0</td>\n",
       "      <td>Financial District North to Financial District...</td>\n",
       "    </tr>\n",
       "    <tr>\n",
       "      <th>119308</th>\n",
       "      <td>802</td>\n",
       "      <td>2013-06-05 18:13:02</td>\n",
       "      <td>2013-06-05 18:26:24</td>\n",
       "      <td>376.0</td>\n",
       "      <td>John St &amp; William St</td>\n",
       "      <td>40.708622</td>\n",
       "      <td>-74.007225</td>\n",
       "      <td>376.0</td>\n",
       "      <td>John St &amp; William St</td>\n",
       "      <td>40.708622</td>\n",
       "      <td>-74.007225</td>\n",
       "      <td>16131</td>\n",
       "      <td>Subscriber</td>\n",
       "      <td>1980.0</td>\n",
       "      <td>1</td>\n",
       "      <td>0.0</td>\n",
       "      <td>87.0</td>\n",
       "      <td>87.0</td>\n",
       "      <td>Financial District North to Financial District...</td>\n",
       "    </tr>\n",
       "    <tr>\n",
       "      <th>119310</th>\n",
       "      <td>9104</td>\n",
       "      <td>2013-06-05 18:30:34</td>\n",
       "      <td>2013-06-05 21:02:18</td>\n",
       "      <td>376.0</td>\n",
       "      <td>John St &amp; William St</td>\n",
       "      <td>40.708622</td>\n",
       "      <td>-74.007225</td>\n",
       "      <td>376.0</td>\n",
       "      <td>John St &amp; William St</td>\n",
       "      <td>40.708622</td>\n",
       "      <td>-74.007225</td>\n",
       "      <td>20052</td>\n",
       "      <td>Subscriber</td>\n",
       "      <td>1975.0</td>\n",
       "      <td>1</td>\n",
       "      <td>0.0</td>\n",
       "      <td>87.0</td>\n",
       "      <td>87.0</td>\n",
       "      <td>Financial District North to Financial District...</td>\n",
       "    </tr>\n",
       "    <tr>\n",
       "      <th>119312</th>\n",
       "      <td>3999</td>\n",
       "      <td>2013-06-06 06:43:00</td>\n",
       "      <td>2013-06-06 07:49:39</td>\n",
       "      <td>376.0</td>\n",
       "      <td>John St &amp; William St</td>\n",
       "      <td>40.708622</td>\n",
       "      <td>-74.007225</td>\n",
       "      <td>376.0</td>\n",
       "      <td>John St &amp; William St</td>\n",
       "      <td>40.708622</td>\n",
       "      <td>-74.007225</td>\n",
       "      <td>20005</td>\n",
       "      <td>Subscriber</td>\n",
       "      <td>1961.0</td>\n",
       "      <td>1</td>\n",
       "      <td>0.0</td>\n",
       "      <td>87.0</td>\n",
       "      <td>87.0</td>\n",
       "      <td>Financial District North to Financial District...</td>\n",
       "    </tr>\n",
       "  </tbody>\n",
       "</table>\n",
       "</div>"
      ],
      "text/plain": [
       "        tripduration           starttime            stoptime  \\\n",
       "119305           176 2013-06-05 08:41:29 2013-06-05 08:44:25   \n",
       "119307          2258 2013-06-05 16:33:41 2013-06-05 17:11:19   \n",
       "119308           802 2013-06-05 18:13:02 2013-06-05 18:26:24   \n",
       "119310          9104 2013-06-05 18:30:34 2013-06-05 21:02:18   \n",
       "119312          3999 2013-06-06 06:43:00 2013-06-06 07:49:39   \n",
       "\n",
       "        start_station_id    start_station_name  start_station_latitude  \\\n",
       "119305             376.0  John St & William St               40.708622   \n",
       "119307             376.0  John St & William St               40.708622   \n",
       "119308             376.0  John St & William St               40.708622   \n",
       "119310             376.0  John St & William St               40.708622   \n",
       "119312             376.0  John St & William St               40.708622   \n",
       "\n",
       "        start_station_longitude  end_station_id      end_station_name  \\\n",
       "119305               -74.007225           376.0  John St & William St   \n",
       "119307               -74.007225           376.0  John St & William St   \n",
       "119308               -74.007225           376.0  John St & William St   \n",
       "119310               -74.007225           376.0  John St & William St   \n",
       "119312               -74.007225           376.0  John St & William St   \n",
       "\n",
       "        end_station_latitude  end_station_longitude  bikeid    usertype  \\\n",
       "119305             40.708622             -74.007225   17000  Subscriber   \n",
       "119307             40.708622             -74.007225   18283  Subscriber   \n",
       "119308             40.708622             -74.007225   16131  Subscriber   \n",
       "119310             40.708622             -74.007225   20052  Subscriber   \n",
       "119312             40.708622             -74.007225   20005  Subscriber   \n",
       "\n",
       "        birth_year  gender  trip_distance  zone_from  zone_to  \\\n",
       "119305      1985.0       2            0.0       87.0     87.0   \n",
       "119307      1976.0       1            0.0       87.0     87.0   \n",
       "119308      1980.0       1            0.0       87.0     87.0   \n",
       "119310      1975.0       1            0.0       87.0     87.0   \n",
       "119312      1961.0       1            0.0       87.0     87.0   \n",
       "\n",
       "                                             zone_from_to  \n",
       "119305  Financial District North to Financial District...  \n",
       "119307  Financial District North to Financial District...  \n",
       "119308  Financial District North to Financial District...  \n",
       "119310  Financial District North to Financial District...  \n",
       "119312  Financial District North to Financial District...  "
      ]
     },
     "execution_count": 265,
     "metadata": {},
     "output_type": "execute_result"
    }
   ],
   "source": [
    "df_bike_2013.tail(5)"
   ]
  },
  {
   "cell_type": "code",
   "execution_count": 266,
   "metadata": {
    "colab": {},
    "colab_type": "code",
    "id": "ZR_w6xm-ea2D"
   },
   "outputs": [],
   "source": [
    "# Using .loc everywhere here to try to remove the SettingsWithCopyWarning, but still happens unfortunately. No idea how to fix\n",
    "df_taxi_2013.loc[:,'day'] = df_taxi_2013.loc[:,'pickup_datetime'].map(lambda date: date.strftime('%d (%a)'))\n",
    "df_taxi_2014.loc[:,'day'] = df_taxi_2014.loc[:,'pickup_datetime'].map(lambda date: date.strftime('%d (%a)'))\n",
    "df_taxi_2015.loc[:,'day'] = df_taxi_2015.loc[:,'pickup_datetime'].map(lambda date: date.strftime('%d (%a)'))\n",
    "df_taxi_2016.loc[:,'day'] = df_taxi_2016.loc[:,'pickup_datetime'].map(lambda date: date.strftime('%d (%a)'))\n",
    "df_taxi_2017.loc[:,'day'] = df_taxi_2017.loc[:,'pickup_datetime'].map(lambda date: date.strftime('%d (%a)'))\n",
    "df_taxi_2018.loc[:,'day'] = df_taxi_2018.loc[:,'pickup_datetime'].map(lambda date: date.strftime('%d (%a)'))\n",
    "\n",
    "df_bike_2013.loc[:,'day'] = df_bike_2013.loc[:,'starttime'].map(lambda date: date.strftime('%d (%a)'))\n",
    "df_bike_2014.loc[:,'day'] = df_bike_2014.loc[:,'starttime'].map(lambda date: date.strftime('%d (%a)'))\n",
    "df_bike_2015.loc[:,'day'] = df_bike_2015.loc[:,'starttime'].map(lambda date: date.strftime('%d (%a)'))\n",
    "df_bike_2016.loc[:,'day'] = df_bike_2016.loc[:,'starttime'].map(lambda date: date.strftime('%d (%a)'))\n",
    "df_bike_2017.loc[:,'day'] = df_bike_2017.loc[:,'starttime'].map(lambda date: date.strftime('%d (%a)'))\n",
    "df_bike_2018.loc[:,'day'] = df_bike_2018.loc[:,'starttime'].map(lambda date: date.strftime('%d (%a)'))\n"
   ]
  },
  {
   "cell_type": "code",
   "execution_count": 267,
   "metadata": {
    "colab": {
     "base_uri": "https://localhost:8080/",
     "height": 868
    },
    "colab_type": "code",
    "id": "RO6J8C_jkcfX",
    "outputId": "ec5318fd-2650-4b38-b822-766021acda97"
   },
   "outputs": [
    {
     "data": {
      "text/plain": [
       "<matplotlib.legend.Legend at 0x1cb28f4a8>"
      ]
     },
     "execution_count": 267,
     "metadata": {},
     "output_type": "execute_result"
    },
    {
     "data": {
      "image/png": "[encoded data removed]",
      "text/plain": [
       "<Figure size 432x288 with 1 Axes>"
      ]
     },
     "metadata": {
      "needs_background": "light"
     },
     "output_type": "display_data"
    },
    {
     "data": {
      "image/png": "[encoded data removed]",
      "text/plain": [
       "<Figure size 432x288 with 1 Axes>"
      ]
     },
     "metadata": {
      "needs_background": "light"
     },
     "output_type": "display_data"
    },
    {
     "data": {
      "image/png": "[encoded data removed]",
      "text/plain": [
       "<Figure size 432x288 with 1 Axes>"
      ]
     },
     "metadata": {
      "needs_background": "light"
     },
     "output_type": "display_data"
    }
   ],
   "source": [
    "first_plot = df_taxi_2013.groupby(by='day').size().reset_index(name='counts').plot(kind='line', x='day', y='counts', title='2013 First Week of June Taxi Trip Counts', color='orange')\n",
    "df_bike_2013.groupby(by='day').size().reset_index(name='counts').plot(kind='line', x='day', y='counts', title='2013 First Week of June Citi Bike Trip Counts', ax=first_plot, color='lightblue')\n",
    "first_plot.legend(['Taxi trip count', 'Citi Bike trip counts'])\n",
    "\n",
    "first_plot = df_taxi_2015.groupby(by='day').size().reset_index(name='counts').plot(kind='line', x='day', y='counts', title='2015 First Week of June Taxi Trip Counts', color='orange')\n",
    "df_bike_2015.groupby(by='day').size().reset_index(name='counts').plot(kind='line', x='day', y='counts', title='2015 First Week of June Citi Bike Trip Counts', ax=first_plot, color='lightblue')\n",
    "first_plot.legend(['Taxi trip count', 'Citi Bike trip counts'])\n",
    "\n",
    "first_plot = df_taxi_2018.groupby(by='day').size().reset_index(name='counts').plot(kind='line', x='day', y='counts', title='2018 First Week of June Taxi Trip Counts', color='orange')\n",
    "df_bike_2018.groupby(by='day').size().reset_index(name='counts').plot(kind='line', x='day', y='counts', title='2018 First Week of June Citi Bike Trip Counts', ax=first_plot, color='lightblue')\n",
    "first_plot.legend(['Taxi trip count', 'Citi Bike trip counts'])"
   ]
  },
  {
   "cell_type": "code",
   "execution_count": 268,
   "metadata": {
    "colab": {},
    "colab_type": "code",
    "id": "wLm81wbyknH5"
   },
   "outputs": [],
   "source": [
    "# Make new data frames for yearly trip counts, and graph them\n",
    "\n",
    "df_taxi_trip_counts = pd.DataFrame({'Year': constants.YEARS, 'Count': [\n",
    "    df_taxi_2013.groupby(by='day').size().sum(),\n",
    "    df_taxi_2014.groupby(by='day').size().sum(),\n",
    "    df_taxi_2015.groupby(by='day').size().sum(),\n",
    "    df_taxi_2016.groupby(by='day').size().sum(),\n",
    "    df_taxi_2017.groupby(by='day').size().sum(),\n",
    "    df_taxi_2018.groupby(by='day').size().sum(),\n",
    "]})\n",
    "\n",
    "df_bike_trip_counts = pd.DataFrame({'Year': constants.YEARS, 'Count': [\n",
    "    df_bike_2013.groupby(by='day').size().sum(),\n",
    "    df_bike_2014.groupby(by='day').size().sum(),\n",
    "    df_bike_2015.groupby(by='day').size().sum(),\n",
    "    df_bike_2016.groupby(by='day').size().sum(),\n",
    "    df_bike_2017.groupby(by='day').size().sum(),\n",
    "    df_bike_2018.groupby(by='day').size().sum(),\n",
    "]})"
   ]
  },
  {
   "cell_type": "code",
   "execution_count": 269,
   "metadata": {
    "colab": {
     "base_uri": "https://localhost:8080/",
     "height": 868
    },
    "colab_type": "code",
    "id": "Jw-tArubptfI",
    "outputId": "0d0390e9-f3ec-4a48-b857-607719765788"
   },
   "outputs": [
    {
     "data": {
      "text/plain": [
       "<matplotlib.legend.Legend at 0x16dc79e80>"
      ]
     },
     "execution_count": 269,
     "metadata": {},
     "output_type": "execute_result"
    },
    {
     "data": {
      "image/png": "[encoded data removed]",
      "text/plain": [
       "<Figure size 432x288 with 1 Axes>"
      ]
     },
     "metadata": {
      "needs_background": "light"
     },
     "output_type": "display_data"
    },
    {
     "data": {
      "image/png": "[encoded data removed]",
      "text/plain": [
       "<Figure size 432x288 with 1 Axes>"
      ]
     },
     "metadata": {
      "needs_background": "light"
     },
     "output_type": "display_data"
    },
    {
     "data": {
      "image/png": "[encoded data removed]",
      "text/plain": [
       "<Figure size 432x288 with 1 Axes>"
      ]
     },
     "metadata": {
      "needs_background": "light"
     },
     "output_type": "display_data"
    }
   ],
   "source": [
    "df_taxi_trip_counts.plot(kind='line', x='Year', y='Count', title='First Week of June Yearly Taxi Trip Counts', color='orange')\n",
    "df_bike_trip_counts.plot(kind='line', x='Year', y='Count', title='First Week of June Yearly Trip Counts', color='lightblue') \n",
    "\n",
    "first_plot = df_taxi_trip_counts.plot(kind='line', x='Year', y='Count', title='First Week of June Yearly Taxi Trip Counts', color='orange')\n",
    "df_bike_trip_counts.plot(kind='line', x='Year', y='Count', title='First Week of June Yearly Trip Counts', ax=first_plot, color='lightblue')\n",
    "first_plot.legend(['Taxi trip count', 'Citi Bike trip count'])"
   ]
  },
  {
   "cell_type": "markdown",
   "metadata": {
    "colab_type": "text",
    "id": "C23YVWucVGcB"
   },
   "source": [
    "#### Popular Routes"
   ]
  },
  {
   "cell_type": "code",
   "execution_count": 270,
   "metadata": {
    "colab": {
     "base_uri": "https://localhost:8080/",
     "height": 225
    },
    "colab_type": "code",
    "id": "OXMIxyOtVGcC",
    "outputId": "03c1d7c9-25e6-453d-ca13-6ec601016bcc",
    "scrolled": true
   },
   "outputs": [
    {
     "name": "stdout",
     "output_type": "stream",
     "text": [
      "10 most frequent inter-zone trips by Taxi\n"
     ]
    },
    {
     "data": {
      "text/plain": [
       "Central Park to Midtown Center         40256\n",
       "Midtown Center to Central Park         38315\n",
       "Clinton East to Central Park           31024\n",
       "Central Park to Clinton East           27010\n",
       "East Chelsea to Clinton East           24702\n",
       "Lincoln Square East to Central Park    20623\n",
       "Clinton East to East Chelsea           20514\n",
       "Central Park to Midtown East           20486\n",
       "Midtown East to Central Park           20455\n",
       "Clinton East to Midtown Center         19502\n",
       "Name: zone_from_to, dtype: int64"
      ]
     },
     "execution_count": 270,
     "metadata": {},
     "output_type": "execute_result"
    }
   ],
   "source": [
    "print('10 most frequent inter-zone trips by Taxi')\n",
    "df_taxi_2016[df_taxi_2016.zone_from != df_taxi_2016.zone_to].zone_from_to.value_counts()[0:10]"
   ]
  },
  {
   "cell_type": "code",
   "execution_count": 271,
   "metadata": {
    "colab": {
     "base_uri": "https://localhost:8080/",
     "height": 225
    },
    "colab_type": "code",
    "id": "JA3lFxrrVGcE",
    "outputId": "91004621-dffa-4be8-95fc-6de0e0310c30",
    "scrolled": true
   },
   "outputs": [
    {
     "name": "stdout",
     "output_type": "stream",
     "text": [
      "10 most frequent inter-zone trips by Bike\n"
     ]
    },
    {
     "data": {
      "text/plain": [
       "Clinton East to East Chelsea               3050\n",
       "East Chelsea to Clinton East               2756\n",
       "Central Park to Clinton East               2104\n",
       "Greenwich Village North to East Village    1946\n",
       "East Village to Greenwich Village North    1929\n",
       "Clinton East to Central Park               1833\n",
       "Clinton East to Midtown Center             1817\n",
       "Greenwich Village North to East Chelsea    1814\n",
       "Central Park to Midtown Center             1811\n",
       "East Village to Alphabet City              1763\n",
       "Name: zone_from_to, dtype: int64"
      ]
     },
     "execution_count": 271,
     "metadata": {},
     "output_type": "execute_result"
    }
   ],
   "source": [
    "print('10 most frequent inter-zone trips by Bike')\n",
    "df_bike_2016[df_bike_2016.zone_from != df_bike_2016.zone_to].zone_from_to.value_counts()[0:10]"
   ]
  },
  {
   "cell_type": "code",
   "execution_count": 272,
   "metadata": {},
   "outputs": [
    {
     "name": "stdout",
     "output_type": "stream",
     "text": [
      "10 most frequent trips by Bike\n"
     ]
    },
    {
     "data": {
      "text/plain": [
       "Central Park to Central Park                          12764\n",
       "East Chelsea to East Chelsea                           6972\n",
       "Clinton East to Clinton East                           3859\n",
       "Clinton East to East Chelsea                           3050\n",
       "East Chelsea to Clinton East                           2756\n",
       "East Village to East Village                           2466\n",
       "Brooklyn Heights to Brooklyn Heights                   2109\n",
       "Central Park to Clinton East                           2104\n",
       "Greenwich Village North to Greenwich Village North     2053\n",
       "Greenwich Village North to East Village                1946\n",
       "Name: zone_from_to, dtype: int64"
      ]
     },
     "execution_count": 272,
     "metadata": {},
     "output_type": "execute_result"
    }
   ],
   "source": [
    "print('10 most frequent trips by Bike')\n",
    "df_bike_2016.zone_from_to.value_counts()[0:10]"
   ]
  },
  {
   "cell_type": "code",
   "execution_count": 273,
   "metadata": {},
   "outputs": [
    {
     "name": "stdout",
     "output_type": "stream",
     "text": [
      "10 most frequent trips by Taxi\n"
     ]
    },
    {
     "data": {
      "text/plain": [
       "Central Park to Central Park           233726\n",
       "Central Park to Midtown Center          40256\n",
       "Midtown Center to Central Park          38315\n",
       "East Chelsea to East Chelsea            31784\n",
       "Clinton East to Central Park            31024\n",
       "Central Park to Clinton East            27010\n",
       "East Chelsea to Clinton East            24702\n",
       "Clinton East to Clinton East            24084\n",
       "Lincoln Square East to Central Park     20623\n",
       "Clinton East to East Chelsea            20514\n",
       "Name: zone_from_to, dtype: int64"
      ]
     },
     "execution_count": 273,
     "metadata": {},
     "output_type": "execute_result"
    }
   ],
   "source": [
    "print('10 most frequent trips by Taxi')\n",
    "df_taxi_2016.zone_from_to.value_counts()[0:10]"
   ]
  },
  {
   "cell_type": "code",
   "execution_count": 274,
   "metadata": {
    "colab": {
     "base_uri": "https://localhost:8080/",
     "height": 225
    },
    "colab_type": "code",
    "id": "9S-7XCjKVGcH",
    "outputId": "f293244b-bf4a-4862-cd9a-ee61e89524bc"
   },
   "outputs": [
    {
     "name": "stdout",
     "output_type": "stream",
     "text": [
      "Most common trips to Manhattanville (City College) Zone by Taxi 2016\n",
      "\n",
      "Central Park to Manhattanville\n",
      "Bloomingdale to Manhattanville\n",
      "Clinton East to Manhattanville\n",
      "Central Harlem North to Manhattanville\n",
      "Central Harlem to Manhattanville\n",
      "East Chelsea to Manhattanville\n",
      "Manhattanville to Manhattanville\n",
      "Lincoln Square East to Manhattanville\n",
      "East Harlem North to Manhattanville\n",
      "Midtown Center to Manhattanville\n"
     ]
    }
   ],
   "source": [
    "print('Most common trips to Manhattanville (City College) Zone by Taxi 2016\\n')\n",
    "\n",
    "zone_from = df_taxi_2016[df_taxi_2016.zone_to == 152.0].zone_from.value_counts().index[0:10]\n",
    "for zone_id in zone_from:\n",
    "    z = constants.ZONES_DIC[str(zone_id)]\n",
    "    print(z.name,'to Manhattanville')"
   ]
  },
  {
   "cell_type": "markdown",
   "metadata": {},
   "source": [
    "## REGRESSION CLEANING"
   ]
  },
  {
   "cell_type": "code",
   "execution_count": 335,
   "metadata": {},
   "outputs": [],
   "source": [
    "#create df copies so if I fuck up I can just re-run this cell\n",
    "\n",
    "df_b16 = df_bike_2016.copy()\n",
    "df_t16 = df_taxi_2016.copy()"
   ]
  },
  {
   "cell_type": "code",
   "execution_count": 336,
   "metadata": {},
   "outputs": [],
   "source": [
    "#convert weird day string to int value\n",
    "\n",
    "df_t16.loc[df_t16.day == \"01 (Wed)\", \"day\"] = 4\n",
    "df_t16.loc[df_t16.day == \"02 (Thu)\", \"day\"] = 5\n",
    "df_t16.loc[df_t16.day == \"03 (Fri)\", \"day\"] = 6\n",
    "df_t16.loc[df_t16.day == \"04 (Sat)\", \"day\"] = 7\n",
    "df_t16.loc[df_t16.day == \"05 (Sun)\", \"day\"] = 1\n",
    "df_t16.loc[df_t16.day == \"06 (Mon)\", \"day\"] = 2\n",
    "df_t16.loc[df_t16.day == \"07 (Tue)\", \"day\"] = 3"
   ]
  },
  {
   "cell_type": "code",
   "execution_count": 337,
   "metadata": {},
   "outputs": [],
   "source": [
    "#convert weird day string to int value\n",
    "\n",
    "df_b16.loc[df_b16.day == \"01 (Wed)\", \"day\"] = 4\n",
    "df_b16.loc[df_b16.day == \"02 (Thu)\", \"day\"] = 5\n",
    "df_b16.loc[df_b16.day == \"03 (Fri)\", \"day\"] = 6\n",
    "df_b16.loc[df_b16.day == \"04 (Sat)\", \"day\"] = 7\n",
    "df_b16.loc[df_b16.day == \"05 (Sun)\", \"day\"] = 1\n",
    "df_b16.loc[df_b16.day == \"06 (Mon)\", \"day\"] = 2\n",
    "df_b16.loc[df_b16.day == \"07 (Tue)\", \"day\"] = 3"
   ]
  },
  {
   "cell_type": "code",
   "execution_count": 338,
   "metadata": {},
   "outputs": [],
   "source": [
    "#extract time from datetime\n",
    "\n",
    "df_b16.starttime = df_b16.starttime.apply(lambda x: x.time())\n",
    "df_b16.stoptime = df_b16.stoptime.apply(lambda x: x.time())\n",
    "\n",
    "df_t16['starttime'] = df_t16.pickup_datetime.apply(lambda x: x.time())\n",
    "df_t16['stoptime'] = df_t16.dropoff_datetime.apply(lambda x: x.time())"
   ]
  },
  {
   "cell_type": "code",
   "execution_count": 339,
   "metadata": {},
   "outputs": [],
   "source": [
    "def make_times():\n",
    "    times = []\n",
    "    for i in range(0, 24):\n",
    "        times.append(time(i, 0, 0))\n",
    "        times.append(time(i, 30, 0))\n",
    "    return times\n",
    "\n",
    "times = make_times()"
   ]
  },
  {
   "cell_type": "code",
   "execution_count": 340,
   "metadata": {},
   "outputs": [],
   "source": [
    "def time_to_val(t, times):\n",
    "    for index, time in enumerate(times):\n",
    "        if (t < time):\n",
    "            return (index - 1)\n",
    "    return 47"
   ]
  },
  {
   "cell_type": "code",
   "execution_count": 341,
   "metadata": {},
   "outputs": [],
   "source": [
    "#bin times in 30 minutes intervals to int vals\n",
    "\n",
    "df_b16.starttime = df_b16.starttime.apply(time_to_val, times=times)\n",
    "df_t16.starttime = df_t16.starttime.apply(time_to_val, times=times)\n",
    "\n",
    "df_b16.stoptime = df_b16.stoptime.apply(time_to_val, times=times)\n",
    "df_t16.stoptime = df_t16.stoptime.apply(time_to_val, times=times)"
   ]
  },
  {
   "cell_type": "code",
   "execution_count": 342,
   "metadata": {},
   "outputs": [],
   "source": [
    "#find intersection of most common routes between bike and taxi\n",
    "\n",
    "t_16_keys = df_t16[df_t16.zone_from != df_t16.zone_to].zone_from_to.value_counts()[0:100].keys()\n",
    "b_16_keys = df_b16[df_b16.zone_from != df_b16.zone_to].zone_from_to.value_counts()[0:100].keys()\n",
    "\n",
    "route_set = set(t_16_keys & b_16_keys)"
   ]
  },
  {
   "cell_type": "code",
   "execution_count": 343,
   "metadata": {},
   "outputs": [],
   "source": [
    "def set_null(route, route_set):\n",
    "    if route in route_set:\n",
    "        return route\n",
    "    return np.nan"
   ]
  },
  {
   "cell_type": "code",
   "execution_count": 345,
   "metadata": {},
   "outputs": [],
   "source": [
    "# if row does not contain a value from route_set, set from_to to nan\n",
    "\n",
    "df_t16['from_to'] = df_t16.zone_from_to.apply(set_null, route_set=route_set)\n",
    "df_b16['from_to'] = df_b16.zone_from_to.apply(set_null, route_set=route_set)"
   ]
  },
  {
   "cell_type": "code",
   "execution_count": 349,
   "metadata": {},
   "outputs": [],
   "source": [
    "# drop nans\n",
    "\n",
    "df_t16.dropna(subset=['from_to'], inplace=True)\n",
    "df_b16.dropna(subset=['from_to'], inplace=True)"
   ]
  },
  {
   "cell_type": "code",
   "execution_count": 351,
   "metadata": {},
   "outputs": [],
   "source": [
    "route_list = list(route_set)"
   ]
  },
  {
   "cell_type": "code",
   "execution_count": 354,
   "metadata": {},
   "outputs": [],
   "source": [
    "# convert from_to string to integer\n",
    "\n",
    "df_t16.from_to = df_t16.from_to.apply(lambda x: route_list.index(x))\n",
    "df_b16.from_to = df_b16.from_to.apply(lambda x: route_list.index(x))"
   ]
  },
  {
   "cell_type": "code",
   "execution_count": 374,
   "metadata": {},
   "outputs": [
    {
     "data": {
      "text/html": [
       "<div>\n",
       "<style scoped>\n",
       "    .dataframe tbody tr th:only-of-type {\n",
       "        vertical-align: middle;\n",
       "    }\n",
       "\n",
       "    .dataframe tbody tr th {\n",
       "        vertical-align: top;\n",
       "    }\n",
       "\n",
       "    .dataframe thead th {\n",
       "        text-align: right;\n",
       "    }\n",
       "</style>\n",
       "<table border=\"1\" class=\"dataframe\">\n",
       "  <thead>\n",
       "    <tr style=\"text-align: right;\">\n",
       "      <th></th>\n",
       "      <th>from_to</th>\n",
       "      <th>day</th>\n",
       "      <th>starttime</th>\n",
       "      <th>stoptime</th>\n",
       "      <th>tripduration</th>\n",
       "      <th>trip_distance</th>\n",
       "      <th>b_t</th>\n",
       "    </tr>\n",
       "  </thead>\n",
       "  <tbody>\n",
       "    <tr>\n",
       "      <th>95251</th>\n",
       "      <td>13</td>\n",
       "      <td>4</td>\n",
       "      <td>0</td>\n",
       "      <td>0</td>\n",
       "      <td>223.0</td>\n",
       "      <td>0.90</td>\n",
       "      <td>1</td>\n",
       "    </tr>\n",
       "    <tr>\n",
       "      <th>95253</th>\n",
       "      <td>6</td>\n",
       "      <td>4</td>\n",
       "      <td>0</td>\n",
       "      <td>0</td>\n",
       "      <td>179.0</td>\n",
       "      <td>0.76</td>\n",
       "      <td>1</td>\n",
       "    </tr>\n",
       "    <tr>\n",
       "      <th>95255</th>\n",
       "      <td>13</td>\n",
       "      <td>4</td>\n",
       "      <td>0</td>\n",
       "      <td>0</td>\n",
       "      <td>223.0</td>\n",
       "      <td>0.98</td>\n",
       "      <td>1</td>\n",
       "    </tr>\n",
       "    <tr>\n",
       "      <th>95258</th>\n",
       "      <td>21</td>\n",
       "      <td>4</td>\n",
       "      <td>0</td>\n",
       "      <td>0</td>\n",
       "      <td>368.0</td>\n",
       "      <td>2.26</td>\n",
       "      <td>1</td>\n",
       "    </tr>\n",
       "    <tr>\n",
       "      <th>95260</th>\n",
       "      <td>0</td>\n",
       "      <td>4</td>\n",
       "      <td>0</td>\n",
       "      <td>0</td>\n",
       "      <td>415.0</td>\n",
       "      <td>1.61</td>\n",
       "      <td>1</td>\n",
       "    </tr>\n",
       "  </tbody>\n",
       "</table>\n",
       "</div>"
      ],
      "text/plain": [
       "       from_to  day  starttime  stoptime  tripduration  trip_distance  b_t\n",
       "95251       13    4          0         0         223.0           0.90    1\n",
       "95253        6    4          0         0         179.0           0.76    1\n",
       "95255       13    4          0         0         223.0           0.98    1\n",
       "95258       21    4          0         0         368.0           2.26    1\n",
       "95260        0    4          0         0         415.0           1.61    1"
      ]
     },
     "execution_count": 374,
     "metadata": {},
     "output_type": "execute_result"
    }
   ],
   "source": [
    "# remove some columns\n",
    "\n",
    "df_b16 = df_b16[['from_to', 'day', 'starttime', 'stoptime', 'tripduration', 'trip_distance']]\n",
    "df_t16 = df_t16[['from_to', 'day', 'starttime', 'stoptime', 'tripduration', 'trip_distance']]\n",
    "\n",
    "\n",
    "# create new b_t feature: 0 bike, 1 taxi\n",
    "df_b16['b_t'] = 0\n",
    "df_t16['b_t'] = 1\n",
    "\n",
    "df_t16.head()"
   ]
  },
  {
   "cell_type": "code",
   "execution_count": 367,
   "metadata": {},
   "outputs": [],
   "source": [
    "# concat the two dataframes\n",
    "\n",
    "frames = [df_b16, df_t16]\n",
    "df_bt16 = pd.concat(frames)"
   ]
  },
  {
   "cell_type": "code",
   "execution_count": 371,
   "metadata": {},
   "outputs": [
    {
     "data": {
      "text/html": [
       "<div>\n",
       "<style scoped>\n",
       "    .dataframe tbody tr th:only-of-type {\n",
       "        vertical-align: middle;\n",
       "    }\n",
       "\n",
       "    .dataframe tbody tr th {\n",
       "        vertical-align: top;\n",
       "    }\n",
       "\n",
       "    .dataframe thead th {\n",
       "        text-align: right;\n",
       "    }\n",
       "</style>\n",
       "<table border=\"1\" class=\"dataframe\">\n",
       "  <thead>\n",
       "    <tr style=\"text-align: right;\">\n",
       "      <th></th>\n",
       "      <th>from_to</th>\n",
       "      <th>day</th>\n",
       "      <th>starttime</th>\n",
       "      <th>stoptime</th>\n",
       "      <th>tripduration</th>\n",
       "      <th>trip_distance</th>\n",
       "      <th>b_t</th>\n",
       "    </tr>\n",
       "  </thead>\n",
       "  <tbody>\n",
       "    <tr>\n",
       "      <th>5</th>\n",
       "      <td>4</td>\n",
       "      <td>4</td>\n",
       "      <td>0</td>\n",
       "      <td>0</td>\n",
       "      <td>946.0</td>\n",
       "      <td>1.711888</td>\n",
       "      <td>0</td>\n",
       "    </tr>\n",
       "    <tr>\n",
       "      <th>12</th>\n",
       "      <td>41</td>\n",
       "      <td>4</td>\n",
       "      <td>0</td>\n",
       "      <td>1</td>\n",
       "      <td>1795.0</td>\n",
       "      <td>2.833989</td>\n",
       "      <td>0</td>\n",
       "    </tr>\n",
       "    <tr>\n",
       "      <th>20</th>\n",
       "      <td>46</td>\n",
       "      <td>4</td>\n",
       "      <td>0</td>\n",
       "      <td>0</td>\n",
       "      <td>1154.0</td>\n",
       "      <td>0.725555</td>\n",
       "      <td>0</td>\n",
       "    </tr>\n",
       "    <tr>\n",
       "      <th>25</th>\n",
       "      <td>15</td>\n",
       "      <td>4</td>\n",
       "      <td>0</td>\n",
       "      <td>0</td>\n",
       "      <td>1362.0</td>\n",
       "      <td>1.975443</td>\n",
       "      <td>0</td>\n",
       "    </tr>\n",
       "    <tr>\n",
       "      <th>26</th>\n",
       "      <td>29</td>\n",
       "      <td>4</td>\n",
       "      <td>0</td>\n",
       "      <td>0</td>\n",
       "      <td>741.0</td>\n",
       "      <td>1.569602</td>\n",
       "      <td>0</td>\n",
       "    </tr>\n",
       "  </tbody>\n",
       "</table>\n",
       "</div>"
      ],
      "text/plain": [
       "    from_to  day  starttime  stoptime  tripduration  trip_distance  b_t\n",
       "5         4    4          0         0         946.0       1.711888    0\n",
       "12       41    4          0         1        1795.0       2.833989    0\n",
       "20       46    4          0         0        1154.0       0.725555    0\n",
       "25       15    4          0         0        1362.0       1.975443    0\n",
       "26       29    4          0         0         741.0       1.569602    0"
      ]
     },
     "execution_count": 371,
     "metadata": {},
     "output_type": "execute_result"
    }
   ],
   "source": [
    "df_bt16.head()"
   ]
  }
 ],
 "metadata": {
  "accelerator": "GPU",
  "colab": {
   "collapsed_sections": [
    "C23YVWucVGcB"
   ],
   "name": "Copy of nyc-transpo.ipynb",
   "provenance": [],
   "toc_visible": true,
   "version": "0.3.2"
  },
  "kernelspec": {
   "display_name": "Python 3",
   "language": "python",
   "name": "python3"
  },
  "language_info": {
   "codemirror_mode": {
    "name": "ipython",
    "version": 3
   },
   "file_extension": ".py",
   "mimetype": "text/x-python",
   "name": "python",
   "nbconvert_exporter": "python",
   "pygments_lexer": "ipython3",
   "version": "3.7.3"
  }
 },
 "nbformat": 4,
 "nbformat_minor": 1
}
