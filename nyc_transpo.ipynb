{
  "nbformat": 4,
  "nbformat_minor": 0,
  "metadata": {
    "colab": {
      "name": "NYC LOCAL",
      "version": "0.3.2",
      "provenance": [],
      "collapsed_sections": [
        "sgWxCTIIkg1N"
      ],
      "toc_visible": true
    },
    "language_info": {
      "codemirror_mode": {
        "name": "ipython",
        "version": 3
      },
      "file_extension": ".py",
      "mimetype": "text/x-python",
      "name": "python",
      "nbconvert_exporter": "python",
      "pygments_lexer": "ipython3",
      "version": "3.7.3"
    },
    "kernelspec": {
      "display_name": "Python 3",
      "language": "python",
      "name": "python3"
    },
    "accelerator": "GPU"
  },
  "cells": [
    {
      "cell_type": "code",
      "metadata": {
        "colab_type": "code",
        "id": "mcFKx7BCp9he",
        "colab": {}
      },
      "source": [
        "import pandas as pd\n",
        "from datetime import datetime, time\n",
        "import numpy as np\n",
        "import requests, zipfile, io, os, re, csv, warnings\n",
        "import matplotlib.pyplot as plt\n",
        "import preprocessing.constants as constants\n",
        "import features.common.zones as zones\n",
        "from IPython.display import clear_output\n",
        "from preprocessing.taxi import get_parsed_df as get_parsed_taxi_df\n",
        "from preprocessing.bike import get_parsed_df as get_parsed_bike_df\n",
        "from preprocessing.common import clean_column_names\n",
        "\n",
        "from sklearn.model_selection import train_test_split\n",
        "from sklearn import linear_model\n",
        "import statsmodels.api as sm\n",
        "\n",
        "\n",
        "# Ignore the warnings about storing incompatible data types HDFStore\n",
        "warnings.filterwarnings('ignore',category=pd.io.pytables.PerformanceWarning)"
      ],
      "execution_count": 0,
      "outputs": []
    },
    {
      "cell_type": "markdown",
      "metadata": {
        "colab_type": "text",
        "id": "B4ttmHZI_vQj"
      },
      "source": [
        "# Dataframe Loading/Cleaning/Features"
      ]
    },
    {
      "cell_type": "markdown",
      "metadata": {
        "colab_type": "text",
        "id": "h51LOsJZzCaB"
      },
      "source": [
        "## Taxi Data\n",
        "Since these downloads take a long time, do NOT reset all run times if you are not on localhost when it asks you to! It will wipe all downloaded files, and you'll have to download them again!\n",
        "\n",
        "Note that the features are added in here as well for efficiency."
      ]
    },
    {
      "cell_type": "code",
      "metadata": {
        "colab_type": "code",
        "id": "mySR4u3Ua6S-",
        "colab": {}
      },
      "source": [
        "taxi_store = pd.HDFStore(constants.TAXI_DATA_PATH + '/dataframes.h5')"
      ],
      "execution_count": 0,
      "outputs": []
    },
    {
      "cell_type": "code",
      "metadata": {
        "colab_type": "code",
        "id": "kVWTH7MhapUn",
        "colab": {}
      },
      "source": [
        "# IGNORE MEMORY LIMIT WARNINGS! The data is garbage collected every time the function exits for each year.\n",
        "\n",
        "df_taxi_2013 = get_parsed_taxi_df(\"2013\", taxi_store).sort_values(by='pickup_datetime', kind='mergesort')\n",
        "df_taxi_2014 = get_parsed_taxi_df(\"2014\", taxi_store).sort_values(by='pickup_datetime', kind='mergesort')\n",
        "df_taxi_2015 = get_parsed_taxi_df(\"2015\", taxi_store).sort_values(by='pickup_datetime', kind='mergesort')\n",
        "df_taxi_2016 = get_parsed_taxi_df(\"2016\", taxi_store).sort_values(by='pickup_datetime', kind='mergesort')\n",
        "df_taxi_2017 = get_parsed_taxi_df(\"2017\", taxi_store).sort_values(by='pickup_datetime', kind='mergesort')\n",
        "df_taxi_2018 = get_parsed_taxi_df(\"2018\", taxi_store).sort_values(by='pickup_datetime', kind='mergesort')\n",
        "df_taxi_all = [df_taxi_2013, df_taxi_2014, df_taxi_2015, df_taxi_2016, df_taxi_2017, df_taxi_2018]\n",
        "\n",
        "clear_output()"
      ],
      "execution_count": 0,
      "outputs": []
    },
    {
      "cell_type": "code",
      "metadata": {
        "colab_type": "code",
        "id": "HwX57hpHkZ4k",
        "colab": {}
      },
      "source": [
        "# Just like an open file, it must be closed to release the file lock.\n",
        "taxi_store.close()"
      ],
      "execution_count": 0,
      "outputs": []
    },
    {
      "cell_type": "code",
      "metadata": {
        "colab_type": "code",
        "id": "Gf4fWk53dc1F",
        "colab": {}
      },
      "source": [
        "bike_store = pd.HDFStore(constants.BIKE_DATA_PATH + '/dataframes.h5')"
      ],
      "execution_count": 0,
      "outputs": []
    },
    {
      "cell_type": "markdown",
      "metadata": {
        "colab_type": "text",
        "id": "G8tvoelD_zZ6"
      },
      "source": [
        "## Citi Bike Data\n",
        "Note that the features are added in here as well for efficiency."
      ]
    },
    {
      "cell_type": "code",
      "metadata": {
        "id": "X1AB1t_n6ACC",
        "colab_type": "code",
        "colab": {}
      },
      "source": [
        "bike_store = pd.HDFStore(constants.BIKE_DATA_PATH + '/dataframes.h5')"
      ],
      "execution_count": 0,
      "outputs": []
    },
    {
      "cell_type": "code",
      "metadata": {
        "colab_type": "code",
        "id": "vCP7pOzX-ghZ",
        "colab": {}
      },
      "source": [
        "df_bike_2013 = get_parsed_bike_df('2013', bike_store)\n",
        "df_bike_2014 = get_parsed_bike_df('2014', bike_store)\n",
        "df_bike_2015 = get_parsed_bike_df('2015', bike_store)\n",
        "df_bike_2016 = get_parsed_bike_df('2016', bike_store)\n",
        "df_bike_2017 = get_parsed_bike_df('2017', bike_store)\n",
        "df_bike_2018 = get_parsed_bike_df('2018', bike_store)\n",
        "df_bike_all = [df_bike_2013, df_bike_2014, df_bike_2015, df_bike_2016, df_bike_2017, df_bike_2018]\n",
        "\n",
        "clear_output()"
      ],
      "execution_count": 0,
      "outputs": []
    },
    {
      "cell_type": "code",
      "metadata": {
        "colab_type": "code",
        "id": "47xzd3zikVfn",
        "colab": {}
      },
      "source": [
        "bike_store.close()"
      ],
      "execution_count": 0,
      "outputs": []
    },
    {
      "cell_type": "markdown",
      "metadata": {
        "colab_type": "text",
        "id": "DXIWTCDOVGa2"
      },
      "source": [
        "## Features Not Yet Migrated\n",
        "This still needs to be moved to the external py files of `features/bike.py` and `features/taxi.py` file - optimizations can be done first before moving it, perhaps?"
      ]
    },
    {
      "cell_type": "markdown",
      "metadata": {
        "colab_type": "text",
        "id": "zDeKqW09yw7j"
      },
      "source": [
        "### Zones / Neighborhoods\n",
        "Define NYC taxi zone as a feature for all df"
      ]
    },
    {
      "cell_type": "code",
      "metadata": {
        "id": "D7Z17CM48HEb",
        "colab_type": "code",
        "colab": {}
      },
      "source": [
        "#attempt at adding zone_from_to to 2017 and 2018 taxi dataframes.  Results in a high # of nan vals?\n",
        "\n",
        "#def from_to_zid(from_id, to_id):\n",
        "#    try:\n",
        "#        return zones.ZONES_DIC[str(float(from_id))].name + ' to ' + zones.ZONES_DIC[str(float(to_id))].name\n",
        "#    except:\n",
        "#        return np.nan\n",
        "#\n",
        "#def add_zones(df):\n",
        "#    df['zone_from'] = df['PULocationID']\n",
        "#    df['zone_to'] = df['DOLocationID']\n",
        "#    df['zone_from_to'] = np.vectorize(from_to_zid)(df.zone_from, df.zone_to)\n",
        "#\n",
        "#for df in [df_taxi_2017, df_taxi_2018]:\n",
        "#    add_zones(df)\n",
        "#    df.dropna(subset=['zone_from', 'zone_to', 'zone_from_to'], inplace=True)"
      ],
      "execution_count": 0,
      "outputs": []
    },
    {
      "cell_type": "markdown",
      "metadata": {
        "colab_type": "text",
        "id": "PeEbff7BkUD8"
      },
      "source": [
        "# Analysis"
      ]
    },
    {
      "cell_type": "markdown",
      "metadata": {
        "colab_type": "text",
        "id": "sgWxCTIIkg1N"
      },
      "source": [
        "## Exploratory Data Analysis"
      ]
    },
    {
      "cell_type": "markdown",
      "metadata": {
        "colab_type": "text",
        "id": "Qub8pm4iU99p"
      },
      "source": [
        "### Trip Distance"
      ]
    },
    {
      "cell_type": "code",
      "metadata": {
        "colab_type": "code",
        "id": "KnrQQUV8U99x",
        "outputId": "22a74f0f-aba7-48bf-826a-ee949fd4525e",
        "colab": {
          "base_uri": "https://localhost:8080/",
          "height": 451
        }
      },
      "source": [
        "# df_taxi_2015 contains some weirdly high trip distance outliers.\n",
        "\n",
        "df_taxi_2015[df_taxi_2015.trip_distance > 500].count()"
      ],
      "execution_count": 18,
      "outputs": [
        {
          "output_type": "execute_result",
          "data": {
            "text/plain": [
              "VendorID                 21\n",
              "pickup_datetime          21\n",
              "dropoff_datetime         21\n",
              "passenger_count          21\n",
              "trip_distance            21\n",
              "pickup_longitude         21\n",
              "pickup_latitude          21\n",
              "RateCodeID               21\n",
              "store_and_fwd_flag       21\n",
              "dropoff_longitude        21\n",
              "dropoff_latitude         21\n",
              "payment_type             21\n",
              "fare_amount              21\n",
              "extra                    21\n",
              "mta_tax                  21\n",
              "tip_amount               21\n",
              "tolls_amount             21\n",
              "improvement_surcharge    21\n",
              "total_amount             21\n",
              "tripduration             21\n",
              "zone_from                21\n",
              "zone_to                  21\n",
              "zone_from_to             21\n",
              "day                      21\n",
              "dtype: int64"
            ]
          },
          "metadata": {
            "tags": []
          },
          "execution_count": 18
        }
      ]
    },
    {
      "cell_type": "code",
      "metadata": {
        "colab_type": "code",
        "id": "nTcNSgmzU997",
        "outputId": "9371e4c8-25c8-4434-8fc8-fd48380d218e",
        "colab": {
          "base_uri": "https://localhost:8080/",
          "height": 903
        }
      },
      "source": [
        "avg_trip_distance_bike = pd.DataFrame(\n",
        "    {'Year': constants.YEARS,\n",
        "     'Average Distance': [\n",
        "         df_bike_2013.trip_distance.mean(),\n",
        "         df_bike_2014.trip_distance.mean(),\n",
        "         df_bike_2015.trip_distance.mean(),\n",
        "         df_bike_2016.trip_distance.mean(),\n",
        "         df_bike_2017.trip_distance.mean(),\n",
        "         df_bike_2018.trip_distance.mean()\n",
        "     ]})\n",
        "\n",
        "print('bike mean: ',np.mean([df_bike_2013.trip_distance.mean(),\n",
        "         df_bike_2014.trip_distance.mean(),\n",
        "         df_bike_2015.trip_distance.mean(),\n",
        "         df_bike_2016.trip_distance.mean(),\n",
        "         df_bike_2017.trip_distance.mean(),\n",
        "         df_bike_2018.trip_distance.mean()]))\n",
        "\n",
        "avg_trip_distance_taxi = pd.DataFrame(\n",
        "    {'Year': constants.YEARS,\n",
        "     'Average Distance': [\n",
        "         df_taxi_2013.trip_distance.mean(),\n",
        "         df_taxi_2014.trip_distance.mean(),\n",
        "         df_taxi_2015[df_taxi_2015.trip_distance < 500].trip_distance.mean(), # remove weirdly high trip distances...\n",
        "         df_taxi_2016.trip_distance.mean(),\n",
        "         df_taxi_2017.trip_distance.mean(),\n",
        "         df_taxi_2018.trip_distance.mean()\n",
        "     ]})\n",
        "\n",
        "print('taxi mean: ',np.mean([df_taxi_2013.trip_distance.mean(),\n",
        "         df_taxi_2014.trip_distance.mean(),\n",
        "         df_taxi_2015[df_taxi_2015.trip_distance < 500].trip_distance.mean(), # remove weirdly high trip distances...\n",
        "         df_taxi_2016.trip_distance.mean(),\n",
        "         df_taxi_2017.trip_distance.mean(),\n",
        "         df_taxi_2018.trip_distance.mean()]))\n",
        "\n",
        "avg_trip_distance_taxi.plot(\n",
        "    kind='line', x='Year', y='Average Distance', title='First Week of June Average Taxi Trip Distance (miles)', color='orange')\n",
        "avg_trip_distance_bike.plot(\n",
        "    kind='line', x='Year', y='Average Distance', title='First Week of June Average Bike Trip Distance (miles)', color='lightblue')\n",
        "\n",
        "_ = avg_trip_distance_taxi.plot(\n",
        "    kind='line', x='Year', y='Average Distance', title='First Week of June Average Trip Distance (miles)', color='orange')\n",
        "avg_trip_distance_bike.plot(\n",
        "    kind='line', x='Year', y='Average Distance', title='First Week of June Average Trip Distance (miles)', ax=_, color='lightblue')\n",
        "_.legend(['Taxi trip distance', 'Bike trip distance'])"
      ],
      "execution_count": 19,
      "outputs": [
        {
          "output_type": "stream",
          "text": [
            "bike mean:  1.1761152\n",
            "taxi mean:  2.9680163926835594\n"
          ],
          "name": "stdout"
        },
        {
          "output_type": "execute_result",
          "data": {
            "text/plain": [
              "<matplotlib.legend.Legend at 0x7fc6a5e11160>"
            ]
          },
          "metadata": {
            "tags": []
          },
          "execution_count": 19
        },
        {
          "output_type": "display_data",
          "data": {
            "text/plain": [
              "<Figure size 432x288 with 1 Axes>"
            ],
            "image/png": "[encoded data removed]"
          },
          "metadata": {
            "tags": [],
            "needs_background": "light"
          }
        },
        {
          "output_type": "display_data",
          "data": {
            "text/plain": [
              "<Figure size 432x288 with 1 Axes>"
            ],
            "image/png": "[encoded data removed]"
          },
          "metadata": {
            "tags": [],
            "needs_background": "light"
          }
        },
        {
          "output_type": "display_data",
          "data": {
            "text/plain": [
              "<Figure size 432x288 with 1 Axes>"
            ],
            "image/png": "[encoded data removed]"
          },
          "metadata": {
            "tags": [],
            "needs_background": "light"
          }
        }
      ]
    },
    {
      "cell_type": "code",
      "metadata": {
        "colab_type": "code",
        "id": "ZR_w6xm-ea2D",
        "colab": {}
      },
      "source": [
        "# Using .loc everywhere here to try to remove the SettingsWithCopyWarning, but still happens unfortunately. No idea how to fix\n",
        "day_func = lambda date: int(date.strftime('%d'))\n",
        "df_taxi_2013.loc[:,'day'] = df_taxi_2013.loc[:,'pickup_datetime'].map(day_func)\n",
        "df_taxi_2014.loc[:,'day'] = df_taxi_2014.loc[:,'pickup_datetime'].map(day_func)\n",
        "df_taxi_2015.loc[:,'day'] = df_taxi_2015.loc[:,'pickup_datetime'].map(day_func)\n",
        "df_taxi_2016.loc[:,'day'] = df_taxi_2016.loc[:,'pickup_datetime'].map(day_func)\n",
        "df_taxi_2017.loc[:,'day'] = df_taxi_2017.loc[:,'pickup_datetime'].map(day_func)\n",
        "df_taxi_2018.loc[:,'day'] = df_taxi_2018.loc[:,'pickup_datetime'].map(day_func)\n",
        "\n",
        "df_bike_2013.loc[:,'day'] = df_bike_2013.loc[:,'starttime'].map(day_func)\n",
        "df_bike_2014.loc[:,'day'] = df_bike_2014.loc[:,'starttime'].map(day_func)\n",
        "df_bike_2015.loc[:,'day'] = df_bike_2015.loc[:,'starttime'].map(day_func)\n",
        "df_bike_2016.loc[:,'day'] = df_bike_2016.loc[:,'starttime'].map(day_func)\n",
        "df_bike_2017.loc[:,'day'] = df_bike_2017.loc[:,'starttime'].map(day_func)\n",
        "df_bike_2018.loc[:,'day'] = df_bike_2018.loc[:,'starttime'].map(day_func)\n"
      ],
      "execution_count": 0,
      "outputs": []
    },
    {
      "cell_type": "markdown",
      "metadata": {
        "colab_type": "text",
        "id": "5rJI-LOCU9-X"
      },
      "source": [
        "### Trip Duration"
      ]
    },
    {
      "cell_type": "code",
      "metadata": {
        "colab_type": "code",
        "id": "xFZw3J33bTb0",
        "outputId": "ab33c62f-4ca0-4098-97c1-c9a56649a0ae",
        "colab": {
          "base_uri": "https://localhost:8080/",
          "height": 903
        }
      },
      "source": [
        "# Create average trip duration dataframes and plot\n",
        "\n",
        "avg_trip_duration_bike = pd.DataFrame(\n",
        "    {'Year': constants.YEARS, \n",
        "     'Average': [\n",
        "        df_bike_2013.tripduration.mean(),\n",
        "        df_bike_2014.tripduration.mean(),\n",
        "        df_bike_2015.tripduration.mean(),\n",
        "        df_bike_2016.tripduration.mean(),\n",
        "        df_bike_2017.tripduration.mean(),\n",
        "        df_bike_2018.tripduration.mean()] \n",
        "    })\n",
        "print('bike trip duration mean: ',np.mean([\n",
        "        df_bike_2013.tripduration.mean(),\n",
        "        df_bike_2014.tripduration.mean(),\n",
        "        df_bike_2015.tripduration.mean(),\n",
        "        df_bike_2016.tripduration.mean(),\n",
        "        df_bike_2017.tripduration.mean(),\n",
        "        df_bike_2018.tripduration.mean()] ))\n",
        "\n",
        "avg_trip_duration_taxi = pd.DataFrame(\n",
        "    {'Year': constants.YEARS,\n",
        "     'Average': [\n",
        "         df_taxi_2013.tripduration.mean(),\n",
        "         df_taxi_2014.tripduration.mean(),\n",
        "         df_taxi_2015.tripduration.mean(),\n",
        "         df_taxi_2016.tripduration.mean(),\n",
        "         df_taxi_2017.tripduration.mean(),\n",
        "         df_taxi_2018.tripduration.mean()]\n",
        "    })\n",
        "\n",
        "print('taxi trip duration mean:', np.mean([\n",
        "         df_taxi_2013.tripduration.mean(),\n",
        "         df_taxi_2014.tripduration.mean(),\n",
        "         df_taxi_2015.tripduration.mean(),\n",
        "         df_taxi_2016.tripduration.mean(),\n",
        "         df_taxi_2017.tripduration.mean(),\n",
        "         df_taxi_2018.tripduration.mean()]))\n",
        "\n",
        "avg_trip_duration_taxi.plot(\n",
        "    kind='line', x='Year', y='Average', title='First Week of June Average Taxi Trip Duration (seconds)', color='orange')\n",
        "\n",
        "avg_trip_duration_bike.plot(\n",
        "    kind='line', x='Year', y='Average', title='First Week of June Average Bike Trip Duration (seconds)', color='lightblue')\n",
        "\n",
        "_ = avg_trip_duration_taxi.plot(\n",
        "    kind='line', x='Year', y='Average', title='First Week of June Average Trip Duration (seconds)', color='orange')\n",
        "avg_trip_duration_bike.plot(\n",
        "    kind='line', x='Year', y='Average', title='First Week of June Average Trip Duration (seconds)', ax=_, color='lightblue')\n",
        "_.legend(['Taxi trip duration', 'Bike trip duration'])\n",
        "\n",
        "\n",
        "#fig.savefig('trip_duration.jpg')"
      ],
      "execution_count": 21,
      "outputs": [
        {
          "output_type": "stream",
          "text": [
            "bike trip duration mean:  1213.1575192188793\n",
            "taxi trip duration mean: 931.8789673962391\n"
          ],
          "name": "stdout"
        },
        {
          "output_type": "execute_result",
          "data": {
            "text/plain": [
              "<matplotlib.legend.Legend at 0x7fc6f55a69b0>"
            ]
          },
          "metadata": {
            "tags": []
          },
          "execution_count": 21
        },
        {
          "output_type": "display_data",
          "data": {
            "text/plain": [
              "<Figure size 432x288 with 1 Axes>"
            ],
            "image/png": "[encoded data removed]"
          },
          "metadata": {
            "tags": [],
            "needs_background": "light"
          }
        },
        {
          "output_type": "display_data",
          "data": {
            "text/plain": [
              "<Figure size 432x288 with 1 Axes>"
            ],
            "image/png": "[encoded data removed]"
          },
          "metadata": {
            "tags": [],
            "needs_background": "light"
          }
        },
        {
          "output_type": "display_data",
          "data": {
            "text/plain": [
              "<Figure size 432x288 with 1 Axes>"
            ],
            "image/png": "[encoded data removed]"
          },
          "metadata": {
            "tags": [],
            "needs_background": "light"
          }
        }
      ]
    },
    {
      "cell_type": "code",
      "metadata": {
        "colab_type": "code",
        "id": "IzONPNM3U9-u",
        "outputId": "d35ba5a1-8f73-4748-c403-b4da35e70ce1",
        "colab": {
          "base_uri": "https://localhost:8080/",
          "height": 566
        }
      },
      "source": [
        "# quick scatter plot--exposes some weird outliers.  \n",
        "# CitiBike has some >1000 hour trips\n",
        "# Cabs have some negative time durations\n",
        "\n",
        "df_bike_2013.reset_index().plot(kind='scatter', x='index', y='tripduration')\n",
        "\n",
        "df_taxi_2013.reset_index().plot(kind='scatter', x='index', y='tripduration')"
      ],
      "execution_count": 22,
      "outputs": [
        {
          "output_type": "execute_result",
          "data": {
            "text/plain": [
              "<matplotlib.axes._subplots.AxesSubplot at 0x7fc685b20d30>"
            ]
          },
          "metadata": {
            "tags": []
          },
          "execution_count": 22
        },
        {
          "output_type": "display_data",
          "data": {
            "text/plain": [
              "<Figure size 432x288 with 1 Axes>"
            ],
            "image/png": "[encoded data removed]"
          },
          "metadata": {
            "tags": [],
            "needs_background": "light"
          }
        },
        {
          "output_type": "display_data",
          "data": {
            "text/plain": [
              "<Figure size 432x288 with 1 Axes>"
            ],
            "image/png": "[encoded data removed]"
          },
          "metadata": {
            "tags": [],
            "needs_background": "light"
          }
        }
      ]
    },
    {
      "cell_type": "markdown",
      "metadata": {
        "colab_type": "text",
        "id": "X-YU1sHYU9-6"
      },
      "source": [
        "### CitiBike rider age"
      ]
    },
    {
      "cell_type": "code",
      "metadata": {
        "colab_type": "code",
        "id": "YL_3HdLtbTb6",
        "outputId": "21a1c321-d372-4f12-e763-3ee30dae0d49",
        "colab": {
          "base_uri": "https://localhost:8080/",
          "height": 34
        }
      },
      "source": [
        "# had to avoid 2014 here, as there are some issues with the birthdate field in that dataframe. Will clean.\n",
        "# yo people in their 40s love citibikes\n",
        "\n",
        "citi_avg_age = []\n",
        "\n",
        "citi_avg_age.append(df_bike_2013[\"birth_year\"].mean())\n",
        "citi_avg_age.append(\"NaN\")\n",
        "citi_avg_age.append(df_bike_2015[\"birth_year\"].mean())\n",
        "citi_avg_age.append(df_bike_2016[\"birth_year\"].mean())\n",
        "citi_avg_age.append(df_bike_2017[\"birth_year\"].mean())\n",
        "citi_avg_age.append(df_bike_2018[\"birth_year\"].mean())\n",
        "\n",
        "print(citi_avg_age)"
      ],
      "execution_count": 23,
      "outputs": [
        {
          "output_type": "stream",
          "text": [
            "[1973.7346, 'NaN', 1976.2966, 1977.4735, 1978.702, 1978.7109]\n"
          ],
          "name": "stdout"
        }
      ]
    },
    {
      "cell_type": "markdown",
      "metadata": {
        "colab_type": "text",
        "id": "KlPWbRdhkdMP"
      },
      "source": [
        "### Number of Trips"
      ]
    },
    {
      "cell_type": "code",
      "metadata": {
        "colab_type": "code",
        "id": "b6yCa97IocgN",
        "outputId": "fbda1400-6fb0-4e95-c0b3-096f8cb865d6",
        "colab": {
          "base_uri": "https://localhost:8080/",
          "height": 487
        }
      },
      "source": [
        "df_bike_2013.tail(5)"
      ],
      "execution_count": 24,
      "outputs": [
        {
          "output_type": "execute_result",
          "data": {
            "text/plain": [
              "        tripduration           starttime            stoptime  \\\n",
              "119305           176 2013-06-05 08:41:29 2013-06-05 08:44:25   \n",
              "119307          2258 2013-06-05 16:33:41 2013-06-05 17:11:19   \n",
              "119308           802 2013-06-05 18:13:02 2013-06-05 18:26:24   \n",
              "119310          9104 2013-06-05 18:30:34 2013-06-05 21:02:18   \n",
              "119312          3999 2013-06-06 06:43:00 2013-06-06 07:49:39   \n",
              "\n",
              "        start_station_id    start_station_name  start_station_latitude  \\\n",
              "119305             376.0  John St & William St               40.708622   \n",
              "119307             376.0  John St & William St               40.708622   \n",
              "119308             376.0  John St & William St               40.708622   \n",
              "119310             376.0  John St & William St               40.708622   \n",
              "119312             376.0  John St & William St               40.708622   \n",
              "\n",
              "        start_station_longitude  end_station_id      end_station_name  \\\n",
              "119305               -74.007225           376.0  John St & William St   \n",
              "119307               -74.007225           376.0  John St & William St   \n",
              "119308               -74.007225           376.0  John St & William St   \n",
              "119310               -74.007225           376.0  John St & William St   \n",
              "119312               -74.007225           376.0  John St & William St   \n",
              "\n",
              "        end_station_latitude  end_station_longitude  bikeid    usertype  \\\n",
              "119305             40.708622             -74.007225   17000  Subscriber   \n",
              "119307             40.708622             -74.007225   18283  Subscriber   \n",
              "119308             40.708622             -74.007225   16131  Subscriber   \n",
              "119310             40.708622             -74.007225   20052  Subscriber   \n",
              "119312             40.708622             -74.007225   20005  Subscriber   \n",
              "\n",
              "        birth_year  gender  trip_distance  zone_from  zone_to  \\\n",
              "119305      1985.0       2            0.0       87.0     87.0   \n",
              "119307      1976.0       1            0.0       87.0     87.0   \n",
              "119308      1980.0       1            0.0       87.0     87.0   \n",
              "119310      1975.0       1            0.0       87.0     87.0   \n",
              "119312      1961.0       1            0.0       87.0     87.0   \n",
              "\n",
              "                                             zone_from_to  day  \n",
              "119305  Financial District North to Financial District...    5  \n",
              "119307  Financial District North to Financial District...    5  \n",
              "119308  Financial District North to Financial District...    5  \n",
              "119310  Financial District North to Financial District...    5  \n",
              "119312  Financial District North to Financial District...    6  "
            ],
            "text/html": [
              "<div>\n",
              "<style scoped>\n",
              "    .dataframe tbody tr th:only-of-type {\n",
              "        vertical-align: middle;\n",
              "    }\n",
              "\n",
              "    .dataframe tbody tr th {\n",
              "        vertical-align: top;\n",
              "    }\n",
              "\n",
              "    .dataframe thead th {\n",
              "        text-align: right;\n",
              "    }\n",
              "</style>\n",
              "<table border=\"1\" class=\"dataframe\">\n",
              "  <thead>\n",
              "    <tr style=\"text-align: right;\">\n",
              "      <th></th>\n",
              "      <th>tripduration</th>\n",
              "      <th>starttime</th>\n",
              "      <th>stoptime</th>\n",
              "      <th>start_station_id</th>\n",
              "      <th>start_station_name</th>\n",
              "      <th>start_station_latitude</th>\n",
              "      <th>start_station_longitude</th>\n",
              "      <th>end_station_id</th>\n",
              "      <th>end_station_name</th>\n",
              "      <th>end_station_latitude</th>\n",
              "      <th>end_station_longitude</th>\n",
              "      <th>bikeid</th>\n",
              "      <th>usertype</th>\n",
              "      <th>birth_year</th>\n",
              "      <th>gender</th>\n",
              "      <th>trip_distance</th>\n",
              "      <th>zone_from</th>\n",
              "      <th>zone_to</th>\n",
              "      <th>zone_from_to</th>\n",
              "      <th>day</th>\n",
              "    </tr>\n",
              "  </thead>\n",
              "  <tbody>\n",
              "    <tr>\n",
              "      <th>119305</th>\n",
              "      <td>176</td>\n",
              "      <td>2013-06-05 08:41:29</td>\n",
              "      <td>2013-06-05 08:44:25</td>\n",
              "      <td>376.0</td>\n",
              "      <td>John St &amp; William St</td>\n",
              "      <td>40.708622</td>\n",
              "      <td>-74.007225</td>\n",
              "      <td>376.0</td>\n",
              "      <td>John St &amp; William St</td>\n",
              "      <td>40.708622</td>\n",
              "      <td>-74.007225</td>\n",
              "      <td>17000</td>\n",
              "      <td>Subscriber</td>\n",
              "      <td>1985.0</td>\n",
              "      <td>2</td>\n",
              "      <td>0.0</td>\n",
              "      <td>87.0</td>\n",
              "      <td>87.0</td>\n",
              "      <td>Financial District North to Financial District...</td>\n",
              "      <td>5</td>\n",
              "    </tr>\n",
              "    <tr>\n",
              "      <th>119307</th>\n",
              "      <td>2258</td>\n",
              "      <td>2013-06-05 16:33:41</td>\n",
              "      <td>2013-06-05 17:11:19</td>\n",
              "      <td>376.0</td>\n",
              "      <td>John St &amp; William St</td>\n",
              "      <td>40.708622</td>\n",
              "      <td>-74.007225</td>\n",
              "      <td>376.0</td>\n",
              "      <td>John St &amp; William St</td>\n",
              "      <td>40.708622</td>\n",
              "      <td>-74.007225</td>\n",
              "      <td>18283</td>\n",
              "      <td>Subscriber</td>\n",
              "      <td>1976.0</td>\n",
              "      <td>1</td>\n",
              "      <td>0.0</td>\n",
              "      <td>87.0</td>\n",
              "      <td>87.0</td>\n",
              "      <td>Financial District North to Financial District...</td>\n",
              "      <td>5</td>\n",
              "    </tr>\n",
              "    <tr>\n",
              "      <th>119308</th>\n",
              "      <td>802</td>\n",
              "      <td>2013-06-05 18:13:02</td>\n",
              "      <td>2013-06-05 18:26:24</td>\n",
              "      <td>376.0</td>\n",
              "      <td>John St &amp; William St</td>\n",
              "      <td>40.708622</td>\n",
              "      <td>-74.007225</td>\n",
              "      <td>376.0</td>\n",
              "      <td>John St &amp; William St</td>\n",
              "      <td>40.708622</td>\n",
              "      <td>-74.007225</td>\n",
              "      <td>16131</td>\n",
              "      <td>Subscriber</td>\n",
              "      <td>1980.0</td>\n",
              "      <td>1</td>\n",
              "      <td>0.0</td>\n",
              "      <td>87.0</td>\n",
              "      <td>87.0</td>\n",
              "      <td>Financial District North to Financial District...</td>\n",
              "      <td>5</td>\n",
              "    </tr>\n",
              "    <tr>\n",
              "      <th>119310</th>\n",
              "      <td>9104</td>\n",
              "      <td>2013-06-05 18:30:34</td>\n",
              "      <td>2013-06-05 21:02:18</td>\n",
              "      <td>376.0</td>\n",
              "      <td>John St &amp; William St</td>\n",
              "      <td>40.708622</td>\n",
              "      <td>-74.007225</td>\n",
              "      <td>376.0</td>\n",
              "      <td>John St &amp; William St</td>\n",
              "      <td>40.708622</td>\n",
              "      <td>-74.007225</td>\n",
              "      <td>20052</td>\n",
              "      <td>Subscriber</td>\n",
              "      <td>1975.0</td>\n",
              "      <td>1</td>\n",
              "      <td>0.0</td>\n",
              "      <td>87.0</td>\n",
              "      <td>87.0</td>\n",
              "      <td>Financial District North to Financial District...</td>\n",
              "      <td>5</td>\n",
              "    </tr>\n",
              "    <tr>\n",
              "      <th>119312</th>\n",
              "      <td>3999</td>\n",
              "      <td>2013-06-06 06:43:00</td>\n",
              "      <td>2013-06-06 07:49:39</td>\n",
              "      <td>376.0</td>\n",
              "      <td>John St &amp; William St</td>\n",
              "      <td>40.708622</td>\n",
              "      <td>-74.007225</td>\n",
              "      <td>376.0</td>\n",
              "      <td>John St &amp; William St</td>\n",
              "      <td>40.708622</td>\n",
              "      <td>-74.007225</td>\n",
              "      <td>20005</td>\n",
              "      <td>Subscriber</td>\n",
              "      <td>1961.0</td>\n",
              "      <td>1</td>\n",
              "      <td>0.0</td>\n",
              "      <td>87.0</td>\n",
              "      <td>87.0</td>\n",
              "      <td>Financial District North to Financial District...</td>\n",
              "      <td>6</td>\n",
              "    </tr>\n",
              "  </tbody>\n",
              "</table>\n",
              "</div>"
            ]
          },
          "metadata": {
            "tags": []
          },
          "execution_count": 24
        }
      ]
    },
    {
      "cell_type": "code",
      "metadata": {
        "colab_type": "code",
        "id": "RO6J8C_jkcfX",
        "outputId": "1cfa6a08-2cee-4a4f-9163-f83856941692",
        "colab": {
          "base_uri": "https://localhost:8080/",
          "height": 868
        }
      },
      "source": [
        "first_plot = df_taxi_2013.groupby(by='day').size().reset_index(name='counts').plot(kind='line', x='day', y='counts', title='2013 First Week of June Taxi Trip Counts', color='orange')\n",
        "df_bike_2013.groupby(by='day').size().reset_index(name='counts').plot(kind='line', x='day', y='counts', title='2013 First Week of June Citi Bike Trip Counts', ax=first_plot, color='lightblue')\n",
        "first_plot.legend(['Taxi trip count', 'Citi Bike trip counts'])\n",
        "\n",
        "first_plot = df_taxi_2015.groupby(by='day').size().reset_index(name='counts').plot(kind='line', x='day', y='counts', title='2015 First Week of June Taxi Trip Counts', color='orange')\n",
        "df_bike_2015.groupby(by='day').size().reset_index(name='counts').plot(kind='line', x='day', y='counts', title='2015 First Week of June Citi Bike Trip Counts', ax=first_plot, color='lightblue')\n",
        "first_plot.legend(['Taxi trip count', 'Citi Bike trip counts'])\n",
        "\n",
        "first_plot = df_taxi_2018.groupby(by='day').size().reset_index(name='counts').plot(kind='line', x='day', y='counts', title='2018 First Week of June Taxi Trip Counts', color='orange')\n",
        "df_bike_2018.groupby(by='day').size().reset_index(name='counts').plot(kind='line', x='day', y='counts', title='2018 First Week of June Citi Bike Trip Counts', ax=first_plot, color='lightblue')\n",
        "first_plot.legend(['Taxi trip count', 'Citi Bike trip counts'])"
      ],
      "execution_count": 25,
      "outputs": [
        {
          "output_type": "execute_result",
          "data": {
            "text/plain": [
              "<matplotlib.legend.Legend at 0x7fc67f140be0>"
            ]
          },
          "metadata": {
            "tags": []
          },
          "execution_count": 25
        },
        {
          "output_type": "display_data",
          "data": {
            "text/plain": [
              "<Figure size 432x288 with 1 Axes>"
            ],
            "image/png": "[encoded data removed]"
          },
          "metadata": {
            "tags": [],
            "needs_background": "light"
          }
        },
        {
          "output_type": "display_data",
          "data": {
            "text/plain": [
              "<Figure size 432x288 with 1 Axes>"
            ],
            "image/png": "[encoded data removed]"
          },
          "metadata": {
            "tags": [],
            "needs_background": "light"
          }
        },
        {
          "output_type": "display_data",
          "data": {
            "text/plain": [
              "<Figure size 432x288 with 1 Axes>"
            ],
            "image/png": "[encoded data removed]"
          },
          "metadata": {
            "tags": [],
            "needs_background": "light"
          }
        }
      ]
    },
    {
      "cell_type": "code",
      "metadata": {
        "colab_type": "code",
        "id": "wLm81wbyknH5",
        "colab": {}
      },
      "source": [
        "# Make new data frames for yearly trip counts, and graph them\n",
        "\n",
        "df_taxi_trip_counts = pd.DataFrame({'Year': constants.YEARS, 'Count': [\n",
        "    df_taxi_2013.groupby(by='day').size().sum(),\n",
        "    df_taxi_2014.groupby(by='day').size().sum(),\n",
        "    df_taxi_2015.groupby(by='day').size().sum(),\n",
        "    df_taxi_2016.groupby(by='day').size().sum(),\n",
        "    df_taxi_2017.groupby(by='day').size().sum(),\n",
        "    df_taxi_2018.groupby(by='day').size().sum(),\n",
        "]})\n",
        "\n",
        "df_bike_trip_counts = pd.DataFrame({'Year': constants.YEARS, 'Count': [\n",
        "    df_bike_2013.groupby(by='day').size().sum(),\n",
        "    df_bike_2014.groupby(by='day').size().sum(),\n",
        "    df_bike_2015.groupby(by='day').size().sum(),\n",
        "    df_bike_2016.groupby(by='day').size().sum(),\n",
        "    df_bike_2017.groupby(by='day').size().sum(),\n",
        "    df_bike_2018.groupby(by='day').size().sum(),\n",
        "]})"
      ],
      "execution_count": 0,
      "outputs": []
    },
    {
      "cell_type": "code",
      "metadata": {
        "colab_type": "code",
        "id": "Jw-tArubptfI",
        "outputId": "e67d3dcd-8f6a-4005-abe1-f9d1ba26b4a9",
        "colab": {
          "base_uri": "https://localhost:8080/",
          "height": 868
        }
      },
      "source": [
        "df_taxi_trip_counts.plot(kind='line', x='Year', y='Count', title='First Week of June Yearly Taxi Trip Counts', color='orange')\n",
        "df_bike_trip_counts.plot(kind='line', x='Year', y='Count', title='First Week of June Yearly Trip Counts', color='lightblue') \n",
        "\n",
        "first_plot = df_taxi_trip_counts.plot(kind='line', x='Year', y='Count', title='First Week of June Yearly Taxi Trip Counts', color='orange')\n",
        "df_bike_trip_counts.plot(kind='line', x='Year', y='Count', title='First Week of June Yearly Trip Counts', ax=first_plot, color='lightblue')\n",
        "first_plot.legend(['Taxi trip count', 'Citi Bike trip count'])"
      ],
      "execution_count": 27,
      "outputs": [
        {
          "output_type": "execute_result",
          "data": {
            "text/plain": [
              "<matplotlib.legend.Legend at 0x7fc6832e9b00>"
            ]
          },
          "metadata": {
            "tags": []
          },
          "execution_count": 27
        },
        {
          "output_type": "display_data",
          "data": {
            "text/plain": [
              "<Figure size 432x288 with 1 Axes>"
            ],
            "image/png": "[encoded data removed]"
          },
          "metadata": {
            "tags": [],
            "needs_background": "light"
          }
        },
        {
          "output_type": "display_data",
          "data": {
            "text/plain": [
              "<Figure size 432x288 with 1 Axes>"
            ],
            "image/png": "[encoded data removed]"
          },
          "metadata": {
            "tags": [],
            "needs_background": "light"
          }
        },
        {
          "output_type": "display_data",
          "data": {
            "text/plain": [
              "<Figure size 432x288 with 1 Axes>"
            ],
            "image/png": "[encoded data removed]"
          },
          "metadata": {
            "tags": [],
            "needs_background": "light"
          }
        }
      ]
    },
    {
      "cell_type": "markdown",
      "metadata": {
        "colab_type": "text",
        "id": "C23YVWucVGcB"
      },
      "source": [
        "#### Popular Routes"
      ]
    },
    {
      "cell_type": "code",
      "metadata": {
        "colab_type": "code",
        "id": "OXMIxyOtVGcC",
        "outputId": "efa29b0f-23be-4aea-baed-4bbae402a310",
        "scrolled": true,
        "colab": {
          "base_uri": "https://localhost:8080/",
          "height": 225
        }
      },
      "source": [
        "print('10 most frequent inter-zone trips by Taxi')\n",
        "df_taxi_2016[df_taxi_2016.zone_from != df_taxi_2016.zone_to].zone_from_to.value_counts()[0:10]"
      ],
      "execution_count": 28,
      "outputs": [
        {
          "output_type": "stream",
          "text": [
            "10 most frequent inter-zone trips by Taxi\n"
          ],
          "name": "stdout"
        },
        {
          "output_type": "execute_result",
          "data": {
            "text/plain": [
              "Central Park to Midtown Center         40256\n",
              "Midtown Center to Central Park         38315\n",
              "Clinton East to Central Park           31024\n",
              "Central Park to Clinton East           27010\n",
              "East Chelsea to Clinton East           24702\n",
              "Lincoln Square East to Central Park    20623\n",
              "Clinton East to East Chelsea           20514\n",
              "Central Park to Midtown East           20486\n",
              "Midtown East to Central Park           20455\n",
              "Clinton East to Midtown Center         19502\n",
              "Name: zone_from_to, dtype: int64"
            ]
          },
          "metadata": {
            "tags": []
          },
          "execution_count": 28
        }
      ]
    },
    {
      "cell_type": "code",
      "metadata": {
        "colab_type": "code",
        "id": "JA3lFxrrVGcE",
        "outputId": "eb9cf08b-1ac4-479f-ad75-d8fbf0e4d983",
        "scrolled": true,
        "colab": {
          "base_uri": "https://localhost:8080/",
          "height": 225
        }
      },
      "source": [
        "print('10 most frequent inter-zone trips by Bike')\n",
        "df_bike_2016[df_bike_2016.zone_from != df_bike_2016.zone_to].zone_from_to.value_counts()[0:10]"
      ],
      "execution_count": 29,
      "outputs": [
        {
          "output_type": "stream",
          "text": [
            "10 most frequent inter-zone trips by Bike\n"
          ],
          "name": "stdout"
        },
        {
          "output_type": "execute_result",
          "data": {
            "text/plain": [
              "Clinton East to East Chelsea               3050\n",
              "East Chelsea to Clinton East               2756\n",
              "Central Park to Clinton East               2104\n",
              "Greenwich Village North to East Village    1946\n",
              "East Village to Greenwich Village North    1929\n",
              "Clinton East to Central Park               1833\n",
              "Clinton East to Midtown Center             1817\n",
              "Greenwich Village North to East Chelsea    1814\n",
              "Central Park to Midtown Center             1811\n",
              "East Village to Alphabet City              1763\n",
              "Name: zone_from_to, dtype: int64"
            ]
          },
          "metadata": {
            "tags": []
          },
          "execution_count": 29
        }
      ]
    },
    {
      "cell_type": "code",
      "metadata": {
        "id": "p6IJqFL48HFi",
        "colab_type": "code",
        "outputId": "8542a595-732b-409c-daf2-caa4130734dc",
        "colab": {
          "base_uri": "https://localhost:8080/",
          "height": 225
        }
      },
      "source": [
        "print('10 most frequent trips by Bike')\n",
        "df_bike_2016.zone_from_to.value_counts()[0:10]"
      ],
      "execution_count": 30,
      "outputs": [
        {
          "output_type": "stream",
          "text": [
            "10 most frequent trips by Bike\n"
          ],
          "name": "stdout"
        },
        {
          "output_type": "execute_result",
          "data": {
            "text/plain": [
              "Central Park to Central Park                          12764\n",
              "East Chelsea to East Chelsea                           6972\n",
              "Clinton East to Clinton East                           3859\n",
              "Clinton East to East Chelsea                           3050\n",
              "East Chelsea to Clinton East                           2756\n",
              "East Village to East Village                           2466\n",
              "Brooklyn Heights to Brooklyn Heights                   2109\n",
              "Central Park to Clinton East                           2104\n",
              "Greenwich Village North to Greenwich Village North     2053\n",
              "Greenwich Village North to East Village                1946\n",
              "Name: zone_from_to, dtype: int64"
            ]
          },
          "metadata": {
            "tags": []
          },
          "execution_count": 30
        }
      ]
    },
    {
      "cell_type": "code",
      "metadata": {
        "id": "_gjuJgkw8HFn",
        "colab_type": "code",
        "outputId": "8005c79d-01ca-43ab-f4f1-cc1a51b888e2",
        "colab": {
          "base_uri": "https://localhost:8080/",
          "height": 225
        }
      },
      "source": [
        "print('10 most frequent trips by Taxi')\n",
        "df_taxi_2016.zone_from_to.value_counts()[0:10]"
      ],
      "execution_count": 31,
      "outputs": [
        {
          "output_type": "stream",
          "text": [
            "10 most frequent trips by Taxi\n"
          ],
          "name": "stdout"
        },
        {
          "output_type": "execute_result",
          "data": {
            "text/plain": [
              "Central Park to Central Park           233726\n",
              "Central Park to Midtown Center          40256\n",
              "Midtown Center to Central Park          38315\n",
              "East Chelsea to East Chelsea            31784\n",
              "Clinton East to Central Park            31024\n",
              "Central Park to Clinton East            27010\n",
              "East Chelsea to Clinton East            24702\n",
              "Clinton East to Clinton East            24084\n",
              "Lincoln Square East to Central Park     20623\n",
              "Clinton East to East Chelsea            20514\n",
              "Name: zone_from_to, dtype: int64"
            ]
          },
          "metadata": {
            "tags": []
          },
          "execution_count": 31
        }
      ]
    },
    {
      "cell_type": "code",
      "metadata": {
        "colab_type": "code",
        "id": "9S-7XCjKVGcH",
        "outputId": "07697631-ac48-403b-b791-fdc53cf00617",
        "colab": {
          "base_uri": "https://localhost:8080/",
          "height": 225
        }
      },
      "source": [
        "print('Most common trips to Manhattanville (City College) Zone by Taxi 2016\\n')\n",
        "\n",
        "zone_from = df_taxi_2016[df_taxi_2016.zone_to == 152.0].zone_from.value_counts().index[0:10]\n",
        "for zone_id in zone_from:\n",
        "    z = constants.ZONES_DIC[str(zone_id)]\n",
        "    print(z.name,'to Manhattanville')"
      ],
      "execution_count": 32,
      "outputs": [
        {
          "output_type": "stream",
          "text": [
            "Most common trips to Manhattanville (City College) Zone by Taxi 2016\n",
            "\n",
            "Central Park to Manhattanville\n",
            "Bloomingdale to Manhattanville\n",
            "Clinton East to Manhattanville\n",
            "Central Harlem North to Manhattanville\n",
            "Central Harlem to Manhattanville\n",
            "East Chelsea to Manhattanville\n",
            "Manhattanville to Manhattanville\n",
            "Lincoln Square East to Manhattanville\n",
            "East Harlem North to Manhattanville\n",
            "Midtown Center to Manhattanville\n"
          ],
          "name": "stdout"
        }
      ]
    },
    {
      "cell_type": "markdown",
      "metadata": {
        "id": "2CtgQaPL8HFs",
        "colab_type": "text"
      },
      "source": [
        "## REGRESSION CLEANING"
      ]
    },
    {
      "cell_type": "code",
      "metadata": {
        "id": "fXYuKnrJ8HFt",
        "colab_type": "code",
        "colab": {}
      },
      "source": [
        "#create df copies so if I fuck up I can just re-run this cell\n",
        "\n",
        "df_b16 = df_bike_2016.copy()\n",
        "df_t16 = df_taxi_2016.copy()"
      ],
      "execution_count": 0,
      "outputs": []
    },
    {
      "cell_type": "code",
      "metadata": {
        "id": "vf7znmwV8HFz",
        "colab_type": "code",
        "colab": {}
      },
      "source": [
        "#extract time from datetime\n",
        "\n",
        "df_b16.starttime = df_b16.starttime.apply(lambda x: x.time())\n",
        "df_b16.stoptime = df_b16.stoptime.apply(lambda x: x.time())\n",
        "\n",
        "df_t16['starttime'] = df_t16.pickup_datetime.apply(lambda x: x.time())\n",
        "df_t16['stoptime'] = df_t16.dropoff_datetime.apply(lambda x: x.time())"
      ],
      "execution_count": 0,
      "outputs": []
    },
    {
      "cell_type": "code",
      "metadata": {
        "id": "WO5hTrey8HF1",
        "colab_type": "code",
        "colab": {}
      },
      "source": [
        "def make_times():\n",
        "    times = []\n",
        "    for i in range(0, 24):\n",
        "        times.append(time(i, 0, 0))\n",
        "        times.append(time(i, 30, 0))\n",
        "    return times\n",
        "\n",
        "times = make_times()"
      ],
      "execution_count": 0,
      "outputs": []
    },
    {
      "cell_type": "code",
      "metadata": {
        "id": "h_AqruJZ8HF2",
        "colab_type": "code",
        "colab": {}
      },
      "source": [
        "def time_to_val(t, times):\n",
        "    for index, time in enumerate(times):\n",
        "        if (t < time):\n",
        "            return (index - 1)\n",
        "    return 47"
      ],
      "execution_count": 0,
      "outputs": []
    },
    {
      "cell_type": "code",
      "metadata": {
        "id": "I5tkgGVs8HF5",
        "colab_type": "code",
        "colab": {}
      },
      "source": [
        "#bin times in 30 minutes intervals to int vals\n",
        "\n",
        "df_b16.starttime = df_b16.starttime.apply(time_to_val, times=times)\n",
        "df_t16.starttime = df_t16.starttime.apply(time_to_val, times=times)\n",
        "\n",
        "df_b16.stoptime = df_b16.stoptime.apply(time_to_val, times=times)\n",
        "df_t16.stoptime = df_t16.stoptime.apply(time_to_val, times=times)"
      ],
      "execution_count": 0,
      "outputs": []
    },
    {
      "cell_type": "code",
      "metadata": {
        "id": "tue_r01AK5qY",
        "colab_type": "code",
        "colab": {}
      },
      "source": [
        "df_t16 = df_t16[['tripduration', 'trip_distance', 'day', 'starttime', 'stoptime']]\n",
        "df_t16['is_bike'] = 0"
      ],
      "execution_count": 0,
      "outputs": []
    },
    {
      "cell_type": "code",
      "metadata": {
        "id": "NBalg07zLMae",
        "colab_type": "code",
        "colab": {}
      },
      "source": [
        "df_b16 = df_b16[['tripduration', 'trip_distance', 'day', 'starttime', 'stoptime']]\n",
        "df_b16['is_bike'] = 1"
      ],
      "execution_count": 0,
      "outputs": []
    },
    {
      "cell_type": "code",
      "metadata": {
        "id": "ytRodK_e8HGL",
        "colab_type": "code",
        "colab": {}
      },
      "source": [
        "# concat the two dataframes\n",
        "frames = [df_b16, df_t16]\n",
        "df_bt16 = pd.concat(frames)\n",
        "df_bt16 = df_bt16.loc[(df_bt16['tripduration'] < 60 * 60) & (df_bt16['trip_distance'] > 0) & (df_bt16['tripduration'] > 0)]"
      ],
      "execution_count": 0,
      "outputs": []
    },
    {
      "cell_type": "code",
      "metadata": {
        "id": "EI3YlSgkGqAs",
        "colab_type": "code",
        "colab": {}
      },
      "source": [
        "features=['trip_distance', 'day', 'starttime', 'stoptime', 'is_bike']\n",
        "X = df_bt16[features]\n",
        "y = df_bt16['tripduration']\n",
        "\n",
        "X_train, X_test, y_train, y_test = train_test_split(X, y, test_size=0.2, random_state=42)\n"
      ],
      "execution_count": 0,
      "outputs": []
    },
    {
      "cell_type": "code",
      "metadata": {
        "id": "rsFsQAMjGzN9",
        "colab_type": "code",
        "outputId": "dbf2ef29-1e6f-4847-a34a-16e5f7803416",
        "colab": {
          "base_uri": "https://localhost:8080/",
          "height": 34
        }
      },
      "source": [
        "# with sklearn\n",
        "regr = linear_model.LinearRegression()\n",
        "regr.fit(X_train, y_train)\n",
        "\n",
        "#print('Intercept: \\n', regr.intercept_)\n",
        "#print('Coefficients: \\n', regr.coef_)\n",
        "print(\"R^2: \" + str(regr.score(X_test, y_test)))"
      ],
      "execution_count": 43,
      "outputs": [
        {
          "output_type": "stream",
          "text": [
            "R^2: 0.5115271624412094\n"
          ],
          "name": "stdout"
        }
      ]
    },
    {
      "cell_type": "code",
      "metadata": {
        "id": "qRqAcQqaG8Dw",
        "colab_type": "code",
        "outputId": "80822b5b-d78e-4651-9a7e-a999d38ba738",
        "colab": {
          "base_uri": "https://localhost:8080/",
          "height": 555
        }
      },
      "source": [
        "# with statsmodels\n",
        "est = sm.OLS(y_train, sm.add_constant(X_train)).fit()\n",
        "\n",
        "print_model = est.summary()\n",
        "print(print_model)"
      ],
      "execution_count": 44,
      "outputs": [
        {
          "output_type": "stream",
          "text": [
            "/home/madmin/.local/lib/python3.6/site-packages/numpy/core/fromnumeric.py:2389: FutureWarning: Method .ptp is deprecated and will be removed in a future version. Use numpy.ptp instead.\n",
            "  return ptp(axis=axis, out=out, **kwargs)\n"
          ],
          "name": "stderr"
        },
        {
          "output_type": "stream",
          "text": [
            "                            OLS Regression Results                            \n",
            "==============================================================================\n",
            "Dep. Variable:           tripduration   R-squared:                       0.525\n",
            "Model:                            OLS   Adj. R-squared:                  0.525\n",
            "Method:                 Least Squares   F-statistic:                 5.120e+05\n",
            "Date:                Sun, 12 May 2019   Prob (F-statistic):               0.00\n",
            "Time:                        17:20:04   Log-Likelihood:            -1.7281e+07\n",
            "No. Observations:             2316722   AIC:                         3.456e+07\n",
            "Df Residuals:                 2316716   BIC:                         3.456e+07\n",
            "Df Model:                           5                                         \n",
            "Covariance Type:            nonrobust                                         \n",
            "=================================================================================\n",
            "                    coef    std err          t      P>|t|      [0.025      0.975]\n",
            "---------------------------------------------------------------------------------\n",
            "const           437.6926      0.916    478.087      0.000     435.898     439.487\n",
            "trip_distance   136.4505      0.086   1595.230      0.000     136.283     136.618\n",
            "day             -11.9417      0.138    -86.324      0.000     -12.213     -11.671\n",
            "starttime        -2.6283      0.060    -44.020      0.000      -2.745      -2.511\n",
            "stoptime          5.6343      0.059     95.633      0.000       5.519       5.750\n",
            "is_bike         179.2969      0.909    197.255      0.000     177.515     181.078\n",
            "==============================================================================\n",
            "Omnibus:                  2024371.274   Durbin-Watson:                   2.001\n",
            "Prob(Omnibus):                  0.000   Jarque-Bera (JB):      31963752199.811\n",
            "Skew:                          -2.477   Prob(JB):                         0.00\n",
            "Kurtosis:                     578.415   Cond. No.                         153.\n",
            "==============================================================================\n",
            "\n",
            "Warnings:\n",
            "[1] Standard Errors assume that the covariance matrix of the errors is correctly specified.\n"
          ],
          "name": "stdout"
        }
      ]
    },
    {
      "cell_type": "code",
      "metadata": {
        "id": "HsYJ2nAkHpo1",
        "colab_type": "code",
        "colab": {}
      },
      "source": [
        ""
      ],
      "execution_count": 0,
      "outputs": []
    }
  ]
}