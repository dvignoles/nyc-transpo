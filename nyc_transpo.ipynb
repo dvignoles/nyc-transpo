{
  "nbformat": 4,
  "nbformat_minor": 0,
  "metadata": {
    "colab": {
      "name": "nyc-transpo.ipynb",
      "version": "0.3.2",
      "provenance": [],
      "toc_visible": true,
      "include_colab_link": true
    },
    "language_info": {
      "codemirror_mode": {
        "name": "ipython",
        "version": 3
      },
      "file_extension": ".py",
      "mimetype": "text/x-python",
      "name": "python",
      "nbconvert_exporter": "python",
      "pygments_lexer": "ipython3",
      "version": "3.7.3"
    },
    "kernelspec": {
      "display_name": "Python 3",
      "language": "python",
      "name": "python3"
    },
    "accelerator": "GPU"
  },
  "cells": [
    {
      "cell_type": "markdown",
      "metadata": {
        "id": "view-in-github",
        "colab_type": "text"
      },
      "source": [
        "<a href=\"https://colab.research.google.com/github/dvignoles/nyc-transpo/blob/master/nyc_transpo.ipynb\" target=\"_parent\"><img src=\"https://colab.research.google.com/assets/colab-badge.svg\" alt=\"Open In Colab\"/></a>"
      ]
    },
    {
      "metadata": {
        "colab_type": "code",
        "id": "mcFKx7BCp9he",
        "colab": {}
      },
      "cell_type": "code",
      "source": [
        "import pandas as pd\n",
        "from datetime import datetime\n",
        "import numpy as np\n",
        "import requests, zipfile, io, os, re, csv\n",
        "import matplotlib.pyplot as plt\n",
        "\n",
        "TAXI_CSV_PATH = \"./taxi_data\"\n",
        "BIKE_CSV_PATH = \"./bike_data\"\n",
        "\n",
        "# We will use with 2013-2018 June data since June 2013 is when Citi Bike was started, and 2013-2018 data is available for both taxi and bikes.\n",
        "# We will also filter down to the first week of the month, because the data is an absolute unit\n",
        "YEARS = [\"2013\", \"2014\", \"2015\", \"2016\", \"2017\", \"2018\"]"
      ],
      "execution_count": 0,
      "outputs": []
    },
    {
      "metadata": {
        "colab_type": "code",
        "id": "pSmOmhdUHW3g",
        "colab": {}
      },
      "cell_type": "code",
      "source": [
        "# Set up directories and util functions to store the downloaded csv files\n",
        "\n",
        "if os.path.isdir(TAXI_CSV_PATH) is False:\n",
        "  os.mkdir(TAXI_CSV_PATH)\n",
        "if os.path.isdir(BIKE_CSV_PATH) is False:\n",
        "  os.mkdir(BIKE_CSV_PATH)\n",
        "\n",
        "  \n",
        "def save_csv(file_path, http_data):\n",
        "    with open(file_path, \"w\") as f:\n",
        "      writer = csv.writer(f)\n",
        "      reader = csv.reader(http_data.text.splitlines())\n",
        "      for row in reader:\n",
        "        writer.writerow(row)\n",
        "        \n",
        "def get_csv_name(data_type, year, two_weeks_only=False):\n",
        "  if data_type is \"taxi\":\n",
        "    return TAXI_CSV_PATH + \"/\" + year + \"-06\" + (\"_parsed\" if two_weeks_only is True else \"\") +  \".csv\"\n",
        "  elif data_type is \"bike\":\n",
        "    return BIKE_CSV_PATH + \"/\" + year + \"-06\" + (\"_parsed\" if two_weeks_only is True else \"\") + \".csv\"\n",
        "  else:\n",
        "    raise Exception(\"Data type must be taxi or bike\")"
      ],
      "execution_count": 0,
      "outputs": []
    },
    {
      "metadata": {
        "colab_type": "text",
        "id": "B4ttmHZI_vQj"
      },
      "cell_type": "markdown",
      "source": [
        "# Taxi Dataframes\n",
        "Since these downloads take a long time, do NOT reset all run times when it asks you to! It will wipe all downloaded files, and you'll have to download them again!"
      ]
    },
    {
      "metadata": {
        "colab_type": "code",
        "id": "NDqsFhLGqqhi",
        "colab": {}
      },
      "cell_type": "code",
      "source": [
        "# Download and save the files first so they don't have to be redownloaded every time\n",
        "\n",
        "for n in YEARS:\n",
        "  file_path = get_csv_name(\"taxi\", n, False)\n",
        "  if os.path.isfile(file_path) is False:\n",
        "    data = requests.get(\"https://s3.amazonaws.com/nyc-tlc/trip+data/yellow_tripdata_\" + n + \"-06.csv\")\n",
        "    save_csv(file_path, data)\n",
        "\n",
        "# Load the actual data\n",
        "\n",
        "dtypes = {\n",
        "    \"vendor_id\": \"str\",\n",
        "    \"VendorID\": \"str\",\n",
        "    \"pickup_datetime\": \"str\",\n",
        "    \"dropoff_datetime\": \"str\",\n",
        "    \"tpep_pickup_datetime\": \"str\",\n",
        "    \"tpep_dropoff_datetime\": \"str\",\n",
        "    \"passenger_count\": np.int32,\n",
        "    \"trip_distance\": np.float32,\n",
        "    \"pickup_longitude\": np.float32,\n",
        "    \"pickup_latitude\": np.float32,\n",
        "    \"PULocationID\": np.int32,\n",
        "    \"DOLocationID\": np.int32,\n",
        "    \"rate_code\": np.int32,\n",
        "    \"RateCodeID\": np.int32,\n",
        "    \"store_and_fwd_flag\": \"str\",\n",
        "    \"dropoff_longitude\": np.float32,\n",
        "    \"dropoff_latitude\": np.float32,\n",
        "    \"payment_type\": \"str\",\n",
        "    \"fare_amount\": np.float32,\n",
        "    \"surcharge\": np.float32,\n",
        "    \"mta_tax\": np.float32,\n",
        "    \"tip_amount\": np.float32,\n",
        "    \"tolls_amount\": np.float32,\n",
        "    \"total_amount\": np.float32\n",
        "}\n",
        "\n",
        "def get_parsed_taxi_df(year):\n",
        "  # See if the sorted data was saved before, if so use it\n",
        "  sorted_file_path = get_csv_name(\"taxi\", year, True)\n",
        "  if os.path.isfile(sorted_file_path) is True:\n",
        "    df_toreturn = pd.read_csv(sorted_file_path, dtype=dtypes)\n",
        "    df_toreturn['pickup_datetime_parsed'] = pd.to_datetime(df_toreturn['pickup_datetime_parsed'])\n",
        "    return df_toreturn\n",
        "  \n",
        "  # Otherwise, load the full file, sort it, and save it for future reference\n",
        "  df_temp = pd.read_csv(get_csv_name(\"taxi\", year, False), dtype=dtypes)\n",
        "  \n",
        "  # Sort by date\n",
        "  df_temp.sort_values(by=df_temp.columns[1], inplace=True, kind='mergesort')\n",
        "  df_temp['pickup_datetime_parsed'] = pd.to_datetime(df_temp.iloc[:,1])\n",
        "  \n",
        "  # Get only the first week of the month\n",
        "  df_temp = df_temp[(df_temp['pickup_datetime_parsed'] > (year + '-06-01')) & (df_temp['pickup_datetime_parsed'] < (year + '-06-08'))]\n",
        "  df_temp.to_csv(sorted_file_path)\n",
        "  return df_temp\n",
        "  \n",
        "# The util function MUST be used to save memory while loading in the entire dataframes for each year.\n",
        "# IGNORE MEMORY LIMIT WARNINGS! The data is garbage collected every time the function exits for each year.\n",
        "\n",
        "df_taxi_2013 = get_parsed_taxi_df(\"2013\")\n",
        "df_taxi_2014 = get_parsed_taxi_df(\"2014\")\n",
        "df_taxi_2015 = get_parsed_taxi_df(\"2015\")\n",
        "df_taxi_2016 = get_parsed_taxi_df(\"2016\")\n",
        "df_taxi_2017 = get_parsed_taxi_df(\"2017\")\n",
        "df_taxi_2018 = get_parsed_taxi_df(\"2018\")"
      ],
      "execution_count": 0,
      "outputs": []
    },
    {
      "metadata": {
        "colab_type": "code",
        "id": "Z4MVtZFVRpx9",
        "outputId": "2597c2d1-e416-421e-f776-e9fab4c905f9",
        "colab": {
          "base_uri": "https://localhost:8080/",
          "height": 273
        }
      },
      "cell_type": "code",
      "source": [
        "df_taxi_2018.tail()"
      ],
      "execution_count": 0,
      "outputs": [
        {
          "output_type": "execute_result",
          "data": {
            "text/html": [
              "<div>\n",
              "<style scoped>\n",
              "    .dataframe tbody tr th:only-of-type {\n",
              "        vertical-align: middle;\n",
              "    }\n",
              "\n",
              "    .dataframe tbody tr th {\n",
              "        vertical-align: top;\n",
              "    }\n",
              "\n",
              "    .dataframe thead th {\n",
              "        text-align: right;\n",
              "    }\n",
              "</style>\n",
              "<table border=\"1\" class=\"dataframe\">\n",
              "  <thead>\n",
              "    <tr style=\"text-align: right;\">\n",
              "      <th></th>\n",
              "      <th>VendorID</th>\n",
              "      <th>tpep_pickup_datetime</th>\n",
              "      <th>tpep_dropoff_datetime</th>\n",
              "      <th>passenger_count</th>\n",
              "      <th>trip_distance</th>\n",
              "      <th>RatecodeID</th>\n",
              "      <th>store_and_fwd_flag</th>\n",
              "      <th>PULocationID</th>\n",
              "      <th>DOLocationID</th>\n",
              "      <th>payment_type</th>\n",
              "      <th>fare_amount</th>\n",
              "      <th>extra</th>\n",
              "      <th>mta_tax</th>\n",
              "      <th>tip_amount</th>\n",
              "      <th>tolls_amount</th>\n",
              "      <th>improvement_surcharge</th>\n",
              "      <th>total_amount</th>\n",
              "      <th>pickup_datetime_parsed</th>\n",
              "    </tr>\n",
              "  </thead>\n",
              "  <tbody>\n",
              "    <tr>\n",
              "      <th>2103666</th>\n",
              "      <td>2</td>\n",
              "      <td>2018-06-07 23:59:58</td>\n",
              "      <td>2018-06-08 00:07:43</td>\n",
              "      <td>1</td>\n",
              "      <td>1.19</td>\n",
              "      <td>1</td>\n",
              "      <td>N</td>\n",
              "      <td>164</td>\n",
              "      <td>43</td>\n",
              "      <td>2</td>\n",
              "      <td>7.0</td>\n",
              "      <td>0.5</td>\n",
              "      <td>0.5</td>\n",
              "      <td>0.00</td>\n",
              "      <td>0.0</td>\n",
              "      <td>0.3</td>\n",
              "      <td>8.300000</td>\n",
              "      <td>2018-06-07 23:59:58</td>\n",
              "    </tr>\n",
              "    <tr>\n",
              "      <th>2094722</th>\n",
              "      <td>2</td>\n",
              "      <td>2018-06-07 23:59:59</td>\n",
              "      <td>2018-06-08 00:19:05</td>\n",
              "      <td>2</td>\n",
              "      <td>4.78</td>\n",
              "      <td>1</td>\n",
              "      <td>N</td>\n",
              "      <td>231</td>\n",
              "      <td>17</td>\n",
              "      <td>1</td>\n",
              "      <td>17.5</td>\n",
              "      <td>0.5</td>\n",
              "      <td>0.5</td>\n",
              "      <td>3.76</td>\n",
              "      <td>0.0</td>\n",
              "      <td>0.3</td>\n",
              "      <td>22.559999</td>\n",
              "      <td>2018-06-07 23:59:59</td>\n",
              "    </tr>\n",
              "    <tr>\n",
              "      <th>2103590</th>\n",
              "      <td>1</td>\n",
              "      <td>2018-06-07 23:59:59</td>\n",
              "      <td>2018-06-08 00:01:56</td>\n",
              "      <td>1</td>\n",
              "      <td>0.70</td>\n",
              "      <td>1</td>\n",
              "      <td>N</td>\n",
              "      <td>141</td>\n",
              "      <td>236</td>\n",
              "      <td>1</td>\n",
              "      <td>4.0</td>\n",
              "      <td>0.5</td>\n",
              "      <td>0.5</td>\n",
              "      <td>1.05</td>\n",
              "      <td>0.0</td>\n",
              "      <td>0.3</td>\n",
              "      <td>6.350000</td>\n",
              "      <td>2018-06-07 23:59:59</td>\n",
              "    </tr>\n",
              "    <tr>\n",
              "      <th>2113411</th>\n",
              "      <td>2</td>\n",
              "      <td>2018-06-07 23:59:59</td>\n",
              "      <td>2018-06-08 00:10:43</td>\n",
              "      <td>5</td>\n",
              "      <td>5.68</td>\n",
              "      <td>1</td>\n",
              "      <td>N</td>\n",
              "      <td>13</td>\n",
              "      <td>137</td>\n",
              "      <td>1</td>\n",
              "      <td>17.5</td>\n",
              "      <td>0.5</td>\n",
              "      <td>0.5</td>\n",
              "      <td>3.76</td>\n",
              "      <td>0.0</td>\n",
              "      <td>0.3</td>\n",
              "      <td>22.559999</td>\n",
              "      <td>2018-06-07 23:59:59</td>\n",
              "    </tr>\n",
              "    <tr>\n",
              "      <th>2116846</th>\n",
              "      <td>2</td>\n",
              "      <td>2018-06-07 23:59:59</td>\n",
              "      <td>2018-06-08 00:14:38</td>\n",
              "      <td>1</td>\n",
              "      <td>2.53</td>\n",
              "      <td>1</td>\n",
              "      <td>N</td>\n",
              "      <td>231</td>\n",
              "      <td>79</td>\n",
              "      <td>1</td>\n",
              "      <td>12.0</td>\n",
              "      <td>0.5</td>\n",
              "      <td>0.5</td>\n",
              "      <td>2.00</td>\n",
              "      <td>0.0</td>\n",
              "      <td>0.3</td>\n",
              "      <td>15.300000</td>\n",
              "      <td>2018-06-07 23:59:59</td>\n",
              "    </tr>\n",
              "  </tbody>\n",
              "</table>\n",
              "</div>"
            ],
            "text/plain": [
              "        VendorID tpep_pickup_datetime tpep_dropoff_datetime  passenger_count  \\\n",
              "2103666        2  2018-06-07 23:59:58   2018-06-08 00:07:43                1   \n",
              "2094722        2  2018-06-07 23:59:59   2018-06-08 00:19:05                2   \n",
              "2103590        1  2018-06-07 23:59:59   2018-06-08 00:01:56                1   \n",
              "2113411        2  2018-06-07 23:59:59   2018-06-08 00:10:43                5   \n",
              "2116846        2  2018-06-07 23:59:59   2018-06-08 00:14:38                1   \n",
              "\n",
              "         trip_distance  RatecodeID store_and_fwd_flag  PULocationID  \\\n",
              "2103666           1.19           1                  N           164   \n",
              "2094722           4.78           1                  N           231   \n",
              "2103590           0.70           1                  N           141   \n",
              "2113411           5.68           1                  N            13   \n",
              "2116846           2.53           1                  N           231   \n",
              "\n",
              "         DOLocationID payment_type  fare_amount  extra  mta_tax  tip_amount  \\\n",
              "2103666            43            2          7.0    0.5      0.5        0.00   \n",
              "2094722            17            1         17.5    0.5      0.5        3.76   \n",
              "2103590           236            1          4.0    0.5      0.5        1.05   \n",
              "2113411           137            1         17.5    0.5      0.5        3.76   \n",
              "2116846            79            1         12.0    0.5      0.5        2.00   \n",
              "\n",
              "         tolls_amount  improvement_surcharge  total_amount  \\\n",
              "2103666           0.0                    0.3      8.300000   \n",
              "2094722           0.0                    0.3     22.559999   \n",
              "2103590           0.0                    0.3      6.350000   \n",
              "2113411           0.0                    0.3     22.559999   \n",
              "2116846           0.0                    0.3     15.300000   \n",
              "\n",
              "        pickup_datetime_parsed  \n",
              "2103666    2018-06-07 23:59:58  \n",
              "2094722    2018-06-07 23:59:59  \n",
              "2103590    2018-06-07 23:59:59  \n",
              "2113411    2018-06-07 23:59:59  \n",
              "2116846    2018-06-07 23:59:59  "
            ]
          },
          "metadata": {
            "tags": []
          },
          "execution_count": 10
        }
      ]
    },
    {
      "metadata": {
        "colab_type": "text",
        "id": "G8tvoelD_zZ6"
      },
      "cell_type": "markdown",
      "source": [
        "# Citi Bike Dataframes\n",
        "Since Citi Bike does not directly provide csv files, we must handle the zip files, extract, and load them accordingly."
      ]
    },
    {
      "metadata": {
        "colab_type": "code",
        "id": "j7Qey2ah65QT",
        "colab": {}
      },
      "cell_type": "code",
      "source": [
        "reg_pattern = re.compile(\"^\\d+.*\\.csv$\")\n",
        "\n",
        "for n in YEARS:\n",
        "  # See if the file exists\n",
        "  file_path = get_csv_name(\"bike\", n)\n",
        "  if os.path.isfile(file_path) is True:\n",
        "    continue\n",
        "\n",
        "  # If not, request and save it\n",
        "  req_url = \"\"\n",
        "  if n != \"2017\" and n != \"2018\":\n",
        "    req_url = \"https://s3.amazonaws.com/tripdata/\" + n + \"06-citibike-tripdata.zip\"\n",
        "  else:\n",
        "    req_url = \"https://s3.amazonaws.com/tripdata/\" + n + \"06-citibike-tripdata.csv.zip\"\n",
        "    \n",
        "  # Handle the ZIP\n",
        "  z = zipfile.ZipFile(io.BytesIO(requests.get(req_url).content))\n",
        "  orig_file_name = list(filter(reg_pattern.match, z.namelist()))[0]\n",
        "  z.extract(orig_file_name)\n",
        "  os.rename(orig_file_name, get_csv_name(\"bike\", n)) # Renaming the file will automatically remove the original, extracted file"
      ],
      "execution_count": 0,
      "outputs": []
    },
    {
      "metadata": {
        "colab_type": "code",
        "id": "vCP7pOzX-ghZ",
        "colab": {}
      },
      "cell_type": "code",
      "source": [
        "# The dtypes can't be passed in atm because some columns that should be integers have non-number strings in them\n",
        "# Some columns that should be integers are floats instead because pandas can't put NaN values in integer columns\n",
        "\"\"\"\n",
        "dtypes = {\n",
        "    \"tripduration\": np.int32,\n",
        "    \"starttime\": \"str\",\n",
        "    \"stoptime\": \"str\",\n",
        "    \"start station id\": np.float32,\n",
        "    \"start station name\": \"str\",\n",
        "    \"start station latitude\": np.float32,\n",
        "    \"start station longitude\": np.float32,\n",
        "    \"end station id\": np.float32,\n",
        "    \"end station name\": \"str\",\n",
        "    \"end station latitude\": np.float32,\n",
        "    \"end station longitude\": np.float32,\n",
        "    \"bikeid\": np.int32,\n",
        "    \"usertype\": \"str\",\n",
        "    \"birth year\": np.float32,\n",
        "    \"gender\": np.int32\n",
        "}\n",
        "\"\"\"\n",
        "\n",
        "\n",
        "df_bike_2013_orig = pd.read_csv(get_csv_name(\"bike\", \"2013\"))\n",
        "df_bike_2014_orig = pd.read_csv(get_csv_name(\"bike\", \"2014\"))\n",
        "df_bike_2015_orig = pd.read_csv(get_csv_name(\"bike\", \"2015\"))\n",
        "df_bike_2016_orig = pd.read_csv(get_csv_name(\"bike\", \"2016\"))\n",
        "df_bike_2017_orig = pd.read_csv(get_csv_name(\"bike\", \"2017\"))\n",
        "df_bike_2018_orig = pd.read_csv(get_csv_name(\"bike\", \"2018\"))"
      ],
      "execution_count": 0,
      "outputs": []
    },
    {
      "metadata": {
        "colab_type": "code",
        "id": "_yJDOlhI-3gB",
        "colab": {}
      },
      "cell_type": "code",
      "source": [
        "# Convert to datetime. This was really annoying with the different formats - if the format is unspecified, the functions never stop running.\n",
        "# Also must assert that the last row of data has a start time greater than the second week, to make sure we have the full first 2 weeks of data\n",
        "\n",
        "# 2013\n",
        "df_bike_2013_orig['starttime_parsed'] = pd.to_datetime(df_bike_2013_orig['starttime'])\n",
        "df_bike_2013_orig['stoptime_parsed'] = pd.to_datetime(df_bike_2013_orig['stoptime'])\n",
        "assert df_bike_2013_orig.iloc[-1].starttime_parsed > datetime.strptime('2013-06-07', '%Y-%m-%d'), \"Missing full 1 week of data for 2013\"\n",
        "\n",
        "# 2014\n",
        "df_bike_2014_orig['starttime_parsed'] = pd.to_datetime(df_bike_2014_orig['starttime'])\n",
        "df_bike_2014_orig['stoptime_parsed'] = pd.to_datetime(df_bike_2014_orig['stoptime'])\n",
        "assert df_bike_2014_orig.iloc[-1].starttime_parsed > datetime.strptime('2014-06-07', '%Y-%m-%d'), \"Missing full 1 week of data for 2014\"\n",
        "\n",
        "# 2015\n",
        "df_bike_2015_orig['starttime_parsed'] = pd.to_datetime(df_bike_2015_orig[\"starttime\"], format=\"%m/%d/%Y %H:%M\")\n",
        "df_bike_2015_orig['stoptime_parsed'] = pd.to_datetime(df_bike_2015_orig['stoptime'], format=\"%m/%d/%Y %H:%M\")\n",
        "assert df_bike_2015_orig.iloc[-1].starttime_parsed > datetime.strptime('2015-06-07', '%Y-%m-%d'), \"Missing full 1 week of data for 2015\"\n",
        "\n",
        "# 2016\n",
        "df_bike_2016_orig['starttime_parsed'] = pd.to_datetime(df_bike_2016_orig['starttime'], format=\"%m/%d/%Y %H:%M:%S\")\n",
        "df_bike_2016_orig['stoptime_parsed'] = pd.to_datetime(df_bike_2016_orig['stoptime'], format=\"%m/%d/%Y %H:%M:%S\")\n",
        "assert df_bike_2016_orig.iloc[-1].starttime_parsed > datetime.strptime('2016-06-07', '%Y-%m-%d'), \"Missing full 1 week of data for 2016\"\n",
        "\n",
        "# 2017\n",
        "df_bike_2017_orig['starttime_parsed'] = pd.to_datetime(df_bike_2017_orig['starttime'], format=\"%Y-%m-%d %H:%M:%S\")\n",
        "df_bike_2017_orig['stoptime_parsed'] = pd.to_datetime(df_bike_2017_orig['stoptime'], format=\"%Y-%m-%d %H:%M:%S\")\n",
        "assert df_bike_2017_orig.iloc[-1].starttime_parsed > datetime.strptime('2017-06-07', '%Y-%m-%d'), \"Missing full 1 week of data for 2017\"\n",
        "\n",
        "# 2018\n",
        "df_bike_2018_orig['starttime_parsed'] = pd.to_datetime(df_bike_2018_orig['starttime'], format=\"%Y-%m-%d %H:%M:%S\")\n",
        "df_bike_2018_orig['stoptime_parsed'] = pd.to_datetime(df_bike_2018_orig['stoptime'], format=\"%Y-%m-%d %H:%M:%S\")\n",
        "assert df_bike_2018_orig.iloc[-1].starttime_parsed > datetime.strptime('2018-06-07', '%Y-%m-%d'), \"Missing full 1 week of data for 2018\""
      ],
      "execution_count": 0,
      "outputs": []
    },
    {
      "metadata": {
        "colab_type": "code",
        "id": "64XM7FHicQYF",
        "colab": {}
      },
      "cell_type": "code",
      "source": [
        "# Our main Citi Bike dataframes we'll be using, with a full week of data for each year\n",
        "\n",
        "df_bike_2013 = df_bike_2013_orig[(df_bike_2013_orig['starttime_parsed'] > '2013-06-01') & (df_bike_2013_orig['starttime_parsed'] < '2013-06-08')]\n",
        "df_bike_2014 = df_bike_2014_orig[(df_bike_2014_orig['starttime_parsed'] > '2014-06-01') & (df_bike_2014_orig['starttime_parsed'] < '2014-06-08')]\n",
        "df_bike_2015 = df_bike_2015_orig[(df_bike_2015_orig['starttime_parsed'] > '2015-06-01') & (df_bike_2015_orig['starttime_parsed'] < '2015-06-08')]\n",
        "df_bike_2016 = df_bike_2016_orig[(df_bike_2016_orig['starttime_parsed'] > '2016-06-01') & (df_bike_2016_orig['starttime_parsed'] < '2016-06-08')]\n",
        "df_bike_2017 = df_bike_2017_orig[(df_bike_2017_orig['starttime_parsed'] > '2017-06-01') & (df_bike_2017_orig['starttime_parsed'] < '2017-06-08')]\n",
        "df_bike_2018 = df_bike_2018_orig[(df_bike_2018_orig['starttime_parsed'] > '2018-06-01') & (df_bike_2018_orig['starttime_parsed'] < '2018-06-08')]\n"
      ],
      "execution_count": 0,
      "outputs": []
    },
    {
      "metadata": {
        "colab_type": "code",
        "id": "yAGu3yR1jh3w",
        "outputId": "02f46a25-06bd-4367-8914-fdbf0b6f7256",
        "colab": {
          "base_uri": "https://localhost:8080/",
          "height": 310
        }
      },
      "cell_type": "code",
      "source": [
        "df_bike_2014.head()"
      ],
      "execution_count": 110,
      "outputs": [
        {
          "output_type": "execute_result",
          "data": {
            "text/html": [
              "<div>\n",
              "<style scoped>\n",
              "    .dataframe tbody tr th:only-of-type {\n",
              "        vertical-align: middle;\n",
              "    }\n",
              "\n",
              "    .dataframe tbody tr th {\n",
              "        vertical-align: top;\n",
              "    }\n",
              "\n",
              "    .dataframe thead th {\n",
              "        text-align: right;\n",
              "    }\n",
              "</style>\n",
              "<table border=\"1\" class=\"dataframe\">\n",
              "  <thead>\n",
              "    <tr style=\"text-align: right;\">\n",
              "      <th></th>\n",
              "      <th>tripduration</th>\n",
              "      <th>starttime</th>\n",
              "      <th>stoptime</th>\n",
              "      <th>start station id</th>\n",
              "      <th>start station name</th>\n",
              "      <th>start station latitude</th>\n",
              "      <th>start station longitude</th>\n",
              "      <th>end station id</th>\n",
              "      <th>end station name</th>\n",
              "      <th>end station latitude</th>\n",
              "      <th>end station longitude</th>\n",
              "      <th>bikeid</th>\n",
              "      <th>usertype</th>\n",
              "      <th>birth year</th>\n",
              "      <th>gender</th>\n",
              "      <th>starttime_parsed</th>\n",
              "      <th>stoptime_parsed</th>\n",
              "      <th>day</th>\n",
              "    </tr>\n",
              "  </thead>\n",
              "  <tbody>\n",
              "    <tr>\n",
              "      <th>0</th>\n",
              "      <td>520</td>\n",
              "      <td>2014-06-01 00:00:02</td>\n",
              "      <td>2014-06-01 00:08:42</td>\n",
              "      <td>358</td>\n",
              "      <td>Christopher St &amp; Greenwich St</td>\n",
              "      <td>40.732916</td>\n",
              "      <td>-74.007114</td>\n",
              "      <td>426</td>\n",
              "      <td>West St &amp; Chambers St</td>\n",
              "      <td>40.717548</td>\n",
              "      <td>-74.013221</td>\n",
              "      <td>18840</td>\n",
              "      <td>Subscriber</td>\n",
              "      <td>1979</td>\n",
              "      <td>1</td>\n",
              "      <td>2014-06-01 00:00:02</td>\n",
              "      <td>2014-06-01 00:08:42</td>\n",
              "      <td>01 (Sun)</td>\n",
              "    </tr>\n",
              "    <tr>\n",
              "      <th>1</th>\n",
              "      <td>520</td>\n",
              "      <td>2014-06-01 00:00:27</td>\n",
              "      <td>2014-06-01 00:09:07</td>\n",
              "      <td>335</td>\n",
              "      <td>Washington Pl &amp; Broadway</td>\n",
              "      <td>40.729039</td>\n",
              "      <td>-73.994046</td>\n",
              "      <td>265</td>\n",
              "      <td>Stanton St &amp; Chrystie St</td>\n",
              "      <td>40.722293</td>\n",
              "      <td>-73.991475</td>\n",
              "      <td>17442</td>\n",
              "      <td>Customer</td>\n",
              "      <td>\\N</td>\n",
              "      <td>0</td>\n",
              "      <td>2014-06-01 00:00:27</td>\n",
              "      <td>2014-06-01 00:09:07</td>\n",
              "      <td>01 (Sun)</td>\n",
              "    </tr>\n",
              "    <tr>\n",
              "      <th>2</th>\n",
              "      <td>414</td>\n",
              "      <td>2014-06-01 00:00:32</td>\n",
              "      <td>2014-06-01 00:07:26</td>\n",
              "      <td>439</td>\n",
              "      <td>E 4 St &amp; 2 Ave</td>\n",
              "      <td>40.726281</td>\n",
              "      <td>-73.989780</td>\n",
              "      <td>368</td>\n",
              "      <td>Carmine St &amp; 6 Ave</td>\n",
              "      <td>40.730386</td>\n",
              "      <td>-74.002150</td>\n",
              "      <td>16447</td>\n",
              "      <td>Subscriber</td>\n",
              "      <td>1980</td>\n",
              "      <td>1</td>\n",
              "      <td>2014-06-01 00:00:32</td>\n",
              "      <td>2014-06-01 00:07:26</td>\n",
              "      <td>01 (Sun)</td>\n",
              "    </tr>\n",
              "    <tr>\n",
              "      <th>3</th>\n",
              "      <td>310</td>\n",
              "      <td>2014-06-01 00:00:34</td>\n",
              "      <td>2014-06-01 00:05:44</td>\n",
              "      <td>463</td>\n",
              "      <td>9 Ave &amp; W 16 St</td>\n",
              "      <td>40.742065</td>\n",
              "      <td>-74.004432</td>\n",
              "      <td>380</td>\n",
              "      <td>W 4 St &amp; 7 Ave S</td>\n",
              "      <td>40.734011</td>\n",
              "      <td>-74.002939</td>\n",
              "      <td>18218</td>\n",
              "      <td>Subscriber</td>\n",
              "      <td>1984</td>\n",
              "      <td>1</td>\n",
              "      <td>2014-06-01 00:00:34</td>\n",
              "      <td>2014-06-01 00:05:44</td>\n",
              "      <td>01 (Sun)</td>\n",
              "    </tr>\n",
              "    <tr>\n",
              "      <th>4</th>\n",
              "      <td>457</td>\n",
              "      <td>2014-06-01 00:00:35</td>\n",
              "      <td>2014-06-01 00:08:12</td>\n",
              "      <td>352</td>\n",
              "      <td>W 56 St &amp; 6 Ave</td>\n",
              "      <td>40.763406</td>\n",
              "      <td>-73.977225</td>\n",
              "      <td>305</td>\n",
              "      <td>E 58 St &amp; 3 Ave</td>\n",
              "      <td>40.760958</td>\n",
              "      <td>-73.967245</td>\n",
              "      <td>18115</td>\n",
              "      <td>Subscriber</td>\n",
              "      <td>1969</td>\n",
              "      <td>1</td>\n",
              "      <td>2014-06-01 00:00:35</td>\n",
              "      <td>2014-06-01 00:08:12</td>\n",
              "      <td>01 (Sun)</td>\n",
              "    </tr>\n",
              "  </tbody>\n",
              "</table>\n",
              "</div>"
            ],
            "text/plain": [
              "   tripduration            starttime             stoptime  start station id  \\\n",
              "0           520  2014-06-01 00:00:02  2014-06-01 00:08:42               358   \n",
              "1           520  2014-06-01 00:00:27  2014-06-01 00:09:07               335   \n",
              "2           414  2014-06-01 00:00:32  2014-06-01 00:07:26               439   \n",
              "3           310  2014-06-01 00:00:34  2014-06-01 00:05:44               463   \n",
              "4           457  2014-06-01 00:00:35  2014-06-01 00:08:12               352   \n",
              "\n",
              "              start station name  start station latitude  \\\n",
              "0  Christopher St & Greenwich St               40.732916   \n",
              "1       Washington Pl & Broadway               40.729039   \n",
              "2                 E 4 St & 2 Ave               40.726281   \n",
              "3                9 Ave & W 16 St               40.742065   \n",
              "4                W 56 St & 6 Ave               40.763406   \n",
              "\n",
              "   start station longitude  end station id          end station name  \\\n",
              "0               -74.007114             426     West St & Chambers St   \n",
              "1               -73.994046             265  Stanton St & Chrystie St   \n",
              "2               -73.989780             368        Carmine St & 6 Ave   \n",
              "3               -74.004432             380          W 4 St & 7 Ave S   \n",
              "4               -73.977225             305           E 58 St & 3 Ave   \n",
              "\n",
              "   end station latitude  end station longitude  bikeid    usertype birth year  \\\n",
              "0             40.717548             -74.013221   18840  Subscriber       1979   \n",
              "1             40.722293             -73.991475   17442    Customer         \\N   \n",
              "2             40.730386             -74.002150   16447  Subscriber       1980   \n",
              "3             40.734011             -74.002939   18218  Subscriber       1984   \n",
              "4             40.760958             -73.967245   18115  Subscriber       1969   \n",
              "\n",
              "   gender    starttime_parsed     stoptime_parsed       day  \n",
              "0       1 2014-06-01 00:00:02 2014-06-01 00:08:42  01 (Sun)  \n",
              "1       0 2014-06-01 00:00:27 2014-06-01 00:09:07  01 (Sun)  \n",
              "2       1 2014-06-01 00:00:32 2014-06-01 00:07:26  01 (Sun)  \n",
              "3       1 2014-06-01 00:00:34 2014-06-01 00:05:44  01 (Sun)  \n",
              "4       1 2014-06-01 00:00:35 2014-06-01 00:08:12  01 (Sun)  "
            ]
          },
          "metadata": {
            "tags": []
          },
          "execution_count": 110
        }
      ]
    },
    {
      "metadata": {
        "id": "PeEbff7BkUD8",
        "colab_type": "text"
      },
      "cell_type": "markdown",
      "source": [
        "# Analysis"
      ]
    },
    {
      "metadata": {
        "id": "sgWxCTIIkg1N",
        "colab_type": "text"
      },
      "cell_type": "markdown",
      "source": [
        "## Exploratory Data Analysis"
      ]
    },
    {
      "metadata": {
        "id": "xFZw3J33bTb0",
        "colab_type": "code",
        "colab": {},
        "outputId": "fc251266-e258-4388-d0fd-90908e9007fe"
      },
      "cell_type": "code",
      "source": [
        "citi_avg_trip_durations = []\n",
        "\n",
        "citi_avg_trip_durations.append(df_bike_2013.tripduration.mean())\n",
        "citi_avg_trip_durations.append(df_bike_2014.tripduration.mean())\n",
        "citi_avg_trip_durations.append(df_bike_2015.tripduration.mean())\n",
        "citi_avg_trip_durations.append(df_bike_2016.tripduration.mean())\n",
        "citi_avg_trip_durations.append(df_bike_2017.tripduration.mean())\n",
        "citi_avg_trip_durations.append(df_bike_2018.tripduration.mean())\n",
        "\n",
        "print(citi_avg_trip_durations)"
      ],
      "execution_count": 0,
      "outputs": [
        {
          "output_type": "stream",
          "text": [
            "[2334.452260073118, 907.9234496339398, 889.1972157265556, 1023.7191479376997, 973.301784785734, 1161.3499848084173]\n"
          ],
          "name": "stdout"
        }
      ]
    },
    {
      "metadata": {
        "id": "YL_3HdLtbTb6",
        "colab_type": "code",
        "colab": {},
        "outputId": "540a97d5-3764-41f9-ddc6-690c850a4d6f"
      },
      "cell_type": "code",
      "source": [
        "# had to avoid 2014 here, as there are some issues with the birthdate field in that dataframe. Will clean.\n",
        "# yo people in their 40s love citibikes\n",
        "\n",
        "citi_avg_age = []\n",
        "\n",
        "citi_avg_age.append(df_bike_2013[\"birth year\"].mean())\n",
        "citi_avg_age.append(\"NaN\")\n",
        "citi_avg_age.append(df_bike_2015[\"birth year\"].mean())\n",
        "citi_avg_age.append(df_bike_2016[\"birth year\"].mean())\n",
        "citi_avg_age.append(df_bike_2017[\"birth year\"].mean())\n",
        "citi_avg_age.append(df_bike_2018[\"birth year\"].mean())\n",
        "\n",
        "print(citi_avg_age)"
      ],
      "execution_count": 0,
      "outputs": [
        {
          "output_type": "stream",
          "text": [
            "[1973.7418080639952, 'NaN', 1976.2964147385587, 1977.4734717561873, 1978.7014382409977, 1978.7112451471332]\n"
          ],
          "name": "stdout"
        }
      ]
    },
    {
      "metadata": {
        "id": "KlPWbRdhkdMP",
        "colab_type": "text"
      },
      "cell_type": "markdown",
      "source": [
        "### Number of Trips"
      ]
    },
    {
      "metadata": {
        "id": "ZR_w6xm-ea2D",
        "colab_type": "code",
        "colab": {
          "base_uri": "https://localhost:8080/",
          "height": 127
        },
        "outputId": "7b035d44-4786-4055-be1d-6f49513d6428"
      },
      "cell_type": "code",
      "source": [
        "# Using .loc everywhere here to try to remove the SettingsWithCopyWarning, but still happens unfortunately. No idea how to fix\n",
        "df_taxi_2013.loc[:,'day'] = df_taxi_2013.loc[:,'pickup_datetime_parsed'].map(lambda date: date.strftime('%d (%a)'))\n",
        "df_taxi_2014.loc[:,'day'] = df_taxi_2014.loc[:,'pickup_datetime_parsed'].map(lambda date: date.strftime('%d (%a)'))\n",
        "df_taxi_2015.loc[:,'day'] = df_taxi_2015.loc[:,'pickup_datetime_parsed'].map(lambda date: date.strftime('%d (%a)'))\n",
        "df_taxi_2016.loc[:,'day'] = df_taxi_2016.loc[:,'pickup_datetime_parsed'].map(lambda date: date.strftime('%d (%a)'))\n",
        "df_taxi_2017.loc[:,'day'] = df_taxi_2017.loc[:,'pickup_datetime_parsed'].map(lambda date: date.strftime('%d (%a)'))\n",
        "df_taxi_2018.loc[:,'day'] = df_taxi_2018.loc[:,'pickup_datetime_parsed'].map(lambda date: date.strftime('%d (%a)'))\n",
        "\n",
        "df_bike_2013.loc[:,'day'] = df_bike_2013.loc[:,'starttime_parsed'].map(lambda date: date.strftime('%d (%a)'))\n",
        "df_bike_2014.loc[:,'day'] = df_bike_2014.loc[:,'starttime_parsed'].map(lambda date: date.strftime('%d (%a)'))\n",
        "df_bike_2015.loc[:,'day'] = df_bike_2015.loc[:,'starttime_parsed'].map(lambda date: date.strftime('%d (%a)'))\n",
        "df_bike_2016.loc[:,'day'] = df_bike_2016.loc[:,'starttime_parsed'].map(lambda date: date.strftime('%d (%a)'))\n",
        "df_bike_2017.loc[:,'day'] = df_bike_2017.loc[:,'starttime_parsed'].map(lambda date: date.strftime('%d (%a)'))\n",
        "df_bike_2018.loc[:,'day'] = df_bike_2018.loc[:,'starttime_parsed'].map(lambda date: date.strftime('%d (%a)'))"
      ],
      "execution_count": 112,
      "outputs": [
        {
          "output_type": "stream",
          "text": [
            "/usr/local/lib/python3.6/dist-packages/pandas/core/indexing.py:543: SettingWithCopyWarning: \n",
            "A value is trying to be set on a copy of a slice from a DataFrame.\n",
            "Try using .loc[row_indexer,col_indexer] = value instead\n",
            "\n",
            "See the caveats in the documentation: http://pandas.pydata.org/pandas-docs/stable/indexing.html#indexing-view-versus-copy\n",
            "  self.obj[item] = s\n"
          ],
          "name": "stderr"
        }
      ]
    },
    {
      "metadata": {
        "id": "RO6J8C_jkcfX",
        "colab_type": "code",
        "colab": {
          "base_uri": "https://localhost:8080/",
          "height": 869
        },
        "outputId": "efd0a138-ea1c-4ebf-d06b-78ff39742d79"
      },
      "cell_type": "code",
      "source": [
        "first_plot = df_taxi_2013.groupby(by='day').size().reset_index(name='counts').plot(kind='line', x='day', y='counts', title='2013 First Week of June Taxi Trip Counts', color='orange')\n",
        "df_bike_2013.groupby(by='day').size().reset_index(name='counts').plot(kind='line', x='day', y='counts', title='2013 First Week of June Citi Bike Trip Counts', ax=first_plot, color='lightblue')\n",
        "first_plot.legend(['Taxi trip count', 'Citi Bike trip counts'])\n",
        "\n",
        "first_plot = df_taxi_2015.groupby(by='day').size().reset_index(name='counts').plot(kind='line', x='day', y='counts', title='2015 First Week of June Taxi Trip Counts', color='orange')\n",
        "df_bike_2015.groupby(by='day').size().reset_index(name='counts').plot(kind='line', x='day', y='counts', title='2015 First Week of June Citi Bike Trip Counts', ax=first_plot, color='lightblue')\n",
        "first_plot.legend(['Taxi trip count', 'Citi Bike trip counts'])\n",
        "\n",
        "\n",
        "first_plot = df_taxi_2018.groupby(by='day').size().reset_index(name='counts').plot(kind='line', x='day', y='counts', title='2018 First Week of June Taxi Trip Counts', color='orange')\n",
        "df_bike_2018.groupby(by='day').size().reset_index(name='counts').plot(kind='line', x='day', y='counts', title='2018 First Week of June Citi Bike Trip Counts', ax=first_plot, color='lightblue')\n",
        "first_plot.legend(['Taxi trip count', 'Citi Bike trip counts'])"
      ],
      "execution_count": 113,
      "outputs": [
        {
          "output_type": "execute_result",
          "data": {
            "text/plain": [
              "<matplotlib.legend.Legend at 0x7f2a93c6d390>"
            ]
          },
          "metadata": {
            "tags": []
          },
          "execution_count": 113
        },
        {
          "output_type": "display_data",
          "data": {
            "image/png": "[encoded data removed]",
            "text/plain": [
              "<Figure size 432x288 with 1 Axes>"
            ]
          },
          "metadata": {
            "tags": []
          }
        },
        {
          "output_type": "display_data",
          "data": {
            "image/png": "[encoded data removed]",
            "text/plain": [
              "<Figure size 432x288 with 1 Axes>"
            ]
          },
          "metadata": {
            "tags": []
          }
        },
        {
          "output_type": "display_data",
          "data": {
            "image/png": "[encoded data removed]",
            "text/plain": [
              "<Figure size 432x288 with 1 Axes>"
            ]
          },
          "metadata": {
            "tags": []
          }
        }
      ]
    },
    {
      "metadata": {
        "id": "wLm81wbyknH5",
        "colab_type": "code",
        "colab": {}
      },
      "cell_type": "code",
      "source": [
        "# Make new data frames for yearly trip counts, and graph them\n",
        "\n",
        "df_taxi_trip_counts = pd.DataFrame({'Year': YEARS, 'Count': [\n",
        "    df_taxi_2013.groupby(by='day').size().sum(),\n",
        "    df_taxi_2014.groupby(by='day').size().sum(),\n",
        "    df_taxi_2015.groupby(by='day').size().sum(),\n",
        "    df_taxi_2016.groupby(by='day').size().sum(),\n",
        "    df_taxi_2017.groupby(by='day').size().sum(),\n",
        "    df_taxi_2018.groupby(by='day').size().sum(),\n",
        "]})\n",
        "\n",
        "df_bike_trip_counts = pd.DataFrame({'Year': YEARS, 'Count': [\n",
        "    df_bike_2013.groupby(by='day').size().sum(),\n",
        "    df_bike_2014.groupby(by='day').size().sum(),\n",
        "    df_bike_2015.groupby(by='day').size().sum(),\n",
        "    df_bike_2016.groupby(by='day').size().sum(),\n",
        "    df_bike_2017.groupby(by='day').size().sum(),\n",
        "    df_bike_2018.groupby(by='day').size().sum(),\n",
        "]})"
      ],
      "execution_count": 0,
      "outputs": []
    },
    {
      "metadata": {
        "id": "Jw-tArubptfI",
        "colab_type": "code",
        "colab": {
          "base_uri": "https://localhost:8080/",
          "height": 869
        },
        "outputId": "13c6bdd8-c1b8-4257-c8b1-8c451bd14319"
      },
      "cell_type": "code",
      "source": [
        "df_taxi_trip_counts.plot(kind='line', x='Year', y='Count', title='First Week of June Yearly Taxi Trip Counts', color='orange')\n",
        "df_bike_trip_counts.plot(kind='line', x='Year', y='Count', title='First Week of June Yearly Trip Counts', color='lightblue') \n",
        "\n",
        "first_plot = df_taxi_trip_counts.plot(kind='line', x='Year', y='Count', title='First Week of June Yearly Taxi Trip Counts', color='orange')\n",
        "df_bike_trip_counts.plot(kind='line', x='Year', y='Count', title='First Week of June Yearly Trip Counts', ax=first_plot, color='lightblue')\n",
        "first_plot.legend(['Taxi trip count', 'Citi Bike trip count'])"
      ],
      "execution_count": 105,
      "outputs": [
        {
          "output_type": "execute_result",
          "data": {
            "text/plain": [
              "<matplotlib.legend.Legend at 0x7f2ac1506e80>"
            ]
          },
          "metadata": {
            "tags": []
          },
          "execution_count": 105
        },
        {
          "output_type": "display_data",
          "data": {
            "image/png": "[encoded data removed]",
            "text/plain": [
              "<Figure size 432x288 with 1 Axes>"
            ]
          },
          "metadata": {
            "tags": []
          }
        },
        {
          "output_type": "display_data",
          "data": {
            "image/png": "[encoded data removed]",
            "text/plain": [
              "<Figure size 432x288 with 1 Axes>"
            ]
          },
          "metadata": {
            "tags": []
          }
        },
        {
          "output_type": "display_data",
          "data": {
            "image/png": "[encoded data removed]",
            "text/plain": [
              "<Figure size 432x288 with 1 Axes>"
            ]
          },
          "metadata": {
            "tags": []
          }
        }
      ]
    },
    {
      "metadata": {
        "id": "BC80htSVrtpN",
        "colab_type": "code",
        "colab": {}
      },
      "cell_type": "code",
      "source": [
        ""
      ],
      "execution_count": 0,
      "outputs": []
    }
  ]
}